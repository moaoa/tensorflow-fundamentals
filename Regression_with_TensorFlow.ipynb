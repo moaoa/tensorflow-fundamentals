{
  "nbformat": 4,
  "nbformat_minor": 0,
  "metadata": {
    "colab": {
      "provenance": [],
      "authorship_tag": "ABX9TyNYALHK7zukai16Om5ulzuW",
      "include_colab_link": true
    },
    "kernelspec": {
      "name": "python3",
      "display_name": "Python 3"
    },
    "language_info": {
      "name": "python"
    }
  },
  "cells": [
    {
      "cell_type": "markdown",
      "metadata": {
        "id": "view-in-github",
        "colab_type": "text"
      },
      "source": [
        "<a href=\"https://colab.research.google.com/github/moaoa/tensorflow-fundamentals/blob/main/Regression_with_TensorFlow.ipynb\" target=\"_parent\"><img src=\"https://colab.research.google.com/assets/colab-badge.svg\" alt=\"Open In Colab\"/></a>"
      ]
    },
    {
      "cell_type": "code",
      "execution_count": 1,
      "metadata": {
        "colab": {
          "base_uri": "https://localhost:8080/"
        },
        "id": "3us573ljLIi-",
        "outputId": "f10f9883-8b4c-4f82-c102-740fe77550e0"
      },
      "outputs": [
        {
          "output_type": "stream",
          "name": "stdout",
          "text": [
            "2.15.0\n"
          ]
        }
      ],
      "source": [
        "import tensorflow as tf\n",
        "print(tf.__version__)"
      ]
    },
    {
      "cell_type": "code",
      "source": [
        "import numpy as np\n",
        "import matplotlib.pyplot as plt\n",
        "\n",
        "# Create features\n",
        "X = np.array([-7.0, -4.0, -1.0, 2.0, 5.0, 8.0, 11.0, 14.0])\n",
        "\n",
        "# Create labels\n",
        "Y = np.array([3.0, 6.0, 9.0, 12.0, 15.0, 18.0, 21.0, 24.0])\n",
        "\n",
        "plt.scatter(X, Y)"
      ],
      "metadata": {
        "colab": {
          "base_uri": "https://localhost:8080/",
          "height": 452
        },
        "id": "nRvH_2lPLyza",
        "outputId": "eaa5a3f7-a02b-485a-bed0-79eec90f7d7b"
      },
      "execution_count": 2,
      "outputs": [
        {
          "output_type": "execute_result",
          "data": {
            "text/plain": [
              "<matplotlib.collections.PathCollection at 0x7bbd217e8d90>"
            ]
          },
          "metadata": {},
          "execution_count": 2
        },
        {
          "output_type": "display_data",
          "data": {
            "text/plain": [
              "<Figure size 640x480 with 1 Axes>"
            ],
            "image/png": "[encoded data removed]"
          },
          "metadata": {}
        }
      ]
    },
    {
      "cell_type": "code",
      "source": [
        "# Example input and output shapes of a regression model\n",
        "house_info = tf.constant([\"bedroom\", \"bathroom\", \"garage\"])\n",
        "house_price = tf.constant([939700])\n",
        "house_info, house_price"
      ],
      "metadata": {
        "colab": {
          "base_uri": "https://localhost:8080/"
        },
        "id": "J45prqdLMnYN",
        "outputId": "5e91aaf8-04af-446f-b3b4-511e9397ec27"
      },
      "execution_count": 3,
      "outputs": [
        {
          "output_type": "execute_result",
          "data": {
            "text/plain": [
              "(<tf.Tensor: shape=(3,), dtype=string, numpy=array([b'bedroom', b'bathroom', b'garage'], dtype=object)>,\n",
              " <tf.Tensor: shape=(1,), dtype=int32, numpy=array([939700], dtype=int32)>)"
            ]
          },
          "metadata": {},
          "execution_count": 3
        }
      ]
    },
    {
      "cell_type": "code",
      "source": [
        "house_info.shape"
      ],
      "metadata": {
        "colab": {
          "base_uri": "https://localhost:8080/"
        },
        "id": "0ebWKYBgMq_S",
        "outputId": "316ca9f0-d702-4a44-b675-80c78aca5039"
      },
      "execution_count": 4,
      "outputs": [
        {
          "output_type": "execute_result",
          "data": {
            "text/plain": [
              "TensorShape([3])"
            ]
          },
          "metadata": {},
          "execution_count": 4
        }
      ]
    },
    {
      "cell_type": "code",
      "source": [
        "X = tf.constant([-7.0, -4.0, -1.0, 2.0, 5.0, 8.0, 11.0, 14.0])\n",
        "\n",
        "Y = tf.constant([3.0, 6.0, 9.0, 12.0, 15.0, 18.0, 21.0, 24.0])\n",
        "\n",
        "plt.scatter(X, Y)"
      ],
      "metadata": {
        "colab": {
          "base_uri": "https://localhost:8080/",
          "height": 452
        },
        "id": "yv9ChJ7RMswg",
        "outputId": "a8f9a6c6-71b5-4cda-968c-bb56d3fb6baf"
      },
      "execution_count": 5,
      "outputs": [
        {
          "output_type": "execute_result",
          "data": {
            "text/plain": [
              "<matplotlib.collections.PathCollection at 0x7bbd21767430>"
            ]
          },
          "metadata": {},
          "execution_count": 5
        },
        {
          "output_type": "display_data",
          "data": {
            "text/plain": [
              "<Figure size 640x480 with 1 Axes>"
            ],
            "image/png": "[encoded data removed]"
          },
          "metadata": {}
        }
      ]
    },
    {
      "cell_type": "code",
      "source": [
        "input_shape = X[0].shape\n",
        "\n",
        "output_shape = Y[0].shape\n",
        "\n",
        "input_shape, output_shape"
      ],
      "metadata": {
        "colab": {
          "base_uri": "https://localhost:8080/"
        },
        "id": "dgguzEVlM8RT",
        "outputId": "00fd7def-94f0-43fc-9da5-83cb13c644f0"
      },
      "execution_count": 6,
      "outputs": [
        {
          "output_type": "execute_result",
          "data": {
            "text/plain": [
              "(TensorShape([]), TensorShape([]))"
            ]
          },
          "metadata": {},
          "execution_count": 6
        }
      ]
    },
    {
      "cell_type": "markdown",
      "source": [
        "**Creating a model** - piece together the layers of a neural network yourself (using the Functional or Sequential API) or import a previously built model (known as transfer learning).\n",
        "\n",
        "**Compiling a model** - defining how a models performance should be measured (loss/metrics) as well as defining how it should improve (optimizer).\n",
        "\n",
        "**Fitting a model** - letting the model try to find patterns in the data (how does X get to y)."
      ],
      "metadata": {
        "id": "vsfE-0ezNZts"
      }
    },
    {
      "cell_type": "code",
      "source": [
        "tf.random.set_seed(42)\n",
        "\n",
        "model = tf.keras.Sequential([\n",
        "    tf.keras.layers.Dense(1)\n",
        "])\n",
        "\n",
        "model.compile(\n",
        "    loss=tf.keras.losses.mae, # mean absolute error\n",
        "    optimizer=tf.keras.optimizers.SGD(), # Stochastic Gradient Descent\n",
        "    metrics=[\"mae\"]\n",
        ")\n",
        "\n",
        "# Fit the model\n",
        "\n",
        "model.fit(tf.expand_dims(X, axis=-1), Y, epochs=5)"
      ],
      "metadata": {
        "colab": {
          "base_uri": "https://localhost:8080/"
        },
        "id": "fqAoJi9-NpPx",
        "outputId": "79038b05-0098-4235-a582-68c9f79bdf71"
      },
      "execution_count": 7,
      "outputs": [
        {
          "output_type": "stream",
          "name": "stdout",
          "text": [
            "Epoch 1/5\n",
            "1/1 [==============================] - 0s 328ms/step - loss: 10.6751 - mae: 10.6751\n",
            "Epoch 2/5\n",
            "1/1 [==============================] - 0s 8ms/step - loss: 10.5426 - mae: 10.5426\n",
            "Epoch 3/5\n",
            "1/1 [==============================] - 0s 7ms/step - loss: 10.4101 - mae: 10.4101\n",
            "Epoch 4/5\n",
            "1/1 [==============================] - 0s 7ms/step - loss: 10.2776 - mae: 10.2776\n",
            "Epoch 5/5\n",
            "1/1 [==============================] - 0s 7ms/step - loss: 10.1451 - mae: 10.1451\n"
          ]
        },
        {
          "output_type": "execute_result",
          "data": {
            "text/plain": [
              "<keras.src.callbacks.History at 0x7bbd1c62bd30>"
            ]
          },
          "metadata": {},
          "execution_count": 7
        }
      ]
    },
    {
      "cell_type": "code",
      "source": [
        "model.predict([17.0])"
      ],
      "metadata": {
        "colab": {
          "base_uri": "https://localhost:8080/"
        },
        "id": "JxtAvWUlOkUN",
        "outputId": "0edd549f-0dff-4329-ede2-ee1ff45ea4df"
      },
      "execution_count": 8,
      "outputs": [
        {
          "output_type": "stream",
          "name": "stdout",
          "text": [
            "1/1 [==============================] - 0s 94ms/step\n"
          ]
        },
        {
          "output_type": "execute_result",
          "data": {
            "text/plain": [
              "array([[16.74596]], dtype=float32)"
            ]
          },
          "metadata": {},
          "execution_count": 8
        }
      ]
    },
    {
      "cell_type": "markdown",
      "source": [
        "### Improving our model\n",
        "\n",
        "We can improve our model, by altering the steps we took to create a model.\n",
        "\n",
        "1. **Creating a model** - here we might add more layers, increase the number of hidden units (all called neurons) within each of the hidden layers, change the activation function of each layer.\n",
        "\n",
        "2. **Compiling a model** - here we might change the optimization function or perhaps the **learning rate** of the optimization function.\n",
        "\n",
        "3. **Fitting a model** - here we might fit a model for more **epochs** (leave it training for longer) or no more data (give the model more examples to learn from).\n"
      ],
      "metadata": {
        "id": "f4vrul_dPoxV"
      }
    },
    {
      "cell_type": "code",
      "source": [
        "tf.random.set_seed(42)\n",
        "\n",
        "\n",
        "model = tf.keras.Sequential([\n",
        "    tf.keras.layers.Dense(100, activation=\"relu\"),\n",
        "    tf.keras.layers.Dense(1),\n",
        "])\n",
        "\n",
        "model.compile(\n",
        "    loss=tf.keras.losses.mae,\n",
        "    optimizer=tf.keras.optimizers.SGD(),\n",
        "    metrics=[\"mae\"]\n",
        ")\n",
        "\n",
        "model.fit(tf.expand_dims(X, axis=-1), Y, epochs=10)"
      ],
      "metadata": {
        "colab": {
          "base_uri": "https://localhost:8080/"
        },
        "id": "3HI5WvAP0TNl",
        "outputId": "c398f0c8-7b7b-4d3b-c388-9d3a5fe6019d"
      },
      "execution_count": 9,
      "outputs": [
        {
          "output_type": "stream",
          "name": "stdout",
          "text": [
            "Epoch 1/10\n",
            "1/1 [==============================] - 0s 383ms/step - loss: 13.6524 - mae: 13.6524\n",
            "Epoch 2/10\n",
            "1/1 [==============================] - 0s 10ms/step - loss: 13.1254 - mae: 13.1254\n",
            "Epoch 3/10\n",
            "1/1 [==============================] - 0s 9ms/step - loss: 12.6160 - mae: 12.6160\n",
            "Epoch 4/10\n",
            "1/1 [==============================] - 0s 8ms/step - loss: 12.1046 - mae: 12.1046\n",
            "Epoch 5/10\n",
            "1/1 [==============================] - 0s 8ms/step - loss: 11.5879 - mae: 11.5879\n",
            "Epoch 6/10\n",
            "1/1 [==============================] - 0s 7ms/step - loss: 11.0617 - mae: 11.0617\n",
            "Epoch 7/10\n",
            "1/1 [==============================] - 0s 8ms/step - loss: 10.5280 - mae: 10.5280\n",
            "Epoch 8/10\n",
            "1/1 [==============================] - 0s 6ms/step - loss: 10.0216 - mae: 10.0216\n",
            "Epoch 9/10\n",
            "1/1 [==============================] - 0s 8ms/step - loss: 9.4962 - mae: 9.4962\n",
            "Epoch 10/10\n",
            "1/1 [==============================] - 0s 7ms/step - loss: 8.9385 - mae: 8.9385\n"
          ]
        },
        {
          "output_type": "execute_result",
          "data": {
            "text/plain": [
              "<keras.src.callbacks.History at 0x7bbd1c301d20>"
            ]
          },
          "metadata": {},
          "execution_count": 9
        }
      ]
    },
    {
      "cell_type": "code",
      "source": [
        "X, Y"
      ],
      "metadata": {
        "colab": {
          "base_uri": "https://localhost:8080/"
        },
        "id": "BPJWo17W1YWY",
        "outputId": "46413503-c72c-4bc2-a18e-936d54729ad0"
      },
      "execution_count": 10,
      "outputs": [
        {
          "output_type": "execute_result",
          "data": {
            "text/plain": [
              "(<tf.Tensor: shape=(8,), dtype=float32, numpy=array([-7., -4., -1.,  2.,  5.,  8., 11., 14.], dtype=float32)>,\n",
              " <tf.Tensor: shape=(8,), dtype=float32, numpy=array([ 3.,  6.,  9., 12., 15., 18., 21., 24.], dtype=float32)>)"
            ]
          },
          "metadata": {},
          "execution_count": 10
        }
      ]
    },
    {
      "cell_type": "code",
      "source": [
        "model.predict([17.0])"
      ],
      "metadata": {
        "colab": {
          "base_uri": "https://localhost:8080/"
        },
        "id": "bAGucEYm1Z16",
        "outputId": "2c2337e4-2996-4c8b-b012-ae91a6cbae54"
      },
      "execution_count": 11,
      "outputs": [
        {
          "output_type": "stream",
          "name": "stdout",
          "text": [
            "1/1 [==============================] - 0s 65ms/step\n"
          ]
        },
        {
          "output_type": "execute_result",
          "data": {
            "text/plain": [
              "array([[15.087794]], dtype=float32)"
            ]
          },
          "metadata": {},
          "execution_count": 11
        }
      ]
    },
    {
      "cell_type": "code",
      "source": [
        "tf.random.set_seed(42)\n",
        "\n",
        "\n",
        "model = tf.keras.Sequential([\n",
        "    tf.keras.layers.Dense(50),\n",
        "    tf.keras.layers.Dense(1),\n",
        "])\n",
        "\n",
        "model.compile(\n",
        "    loss=tf.keras.losses.mae,\n",
        "    # optimizer=tf.keras.optimizers.SGD(),\n",
        "    optimizer=tf.keras.optimizers.Adam(learning_rate=0.01),\n",
        "    metrics=[\"mae\"]\n",
        ")\n",
        "\n",
        "model.fit(tf.expand_dims(X, axis=-1), Y, epochs=100)"
      ],
      "metadata": {
        "colab": {
          "base_uri": "https://localhost:8080/"
        },
        "id": "HXJk_4km1h__",
        "outputId": "9c9542e0-d7bb-405e-8c8a-fecbeb0dcdd2"
      },
      "execution_count": 12,
      "outputs": [
        {
          "output_type": "stream",
          "name": "stdout",
          "text": [
            "Epoch 1/100\n",
            "1/1 [==============================] - 1s 520ms/step - loss: 12.4795 - mae: 12.4795\n",
            "Epoch 2/100\n",
            "1/1 [==============================] - 0s 7ms/step - loss: 11.7650 - mae: 11.7650\n",
            "Epoch 3/100\n",
            "1/1 [==============================] - 0s 7ms/step - loss: 11.0442 - mae: 11.0442\n",
            "Epoch 4/100\n",
            "1/1 [==============================] - 0s 8ms/step - loss: 10.3155 - mae: 10.3155\n",
            "Epoch 5/100\n",
            "1/1 [==============================] - 0s 7ms/step - loss: 9.5763 - mae: 9.5763\n",
            "Epoch 6/100\n",
            "1/1 [==============================] - 0s 7ms/step - loss: 8.8231 - mae: 8.8231\n",
            "Epoch 7/100\n",
            "1/1 [==============================] - 0s 9ms/step - loss: 8.0531 - mae: 8.0531\n",
            "Epoch 8/100\n",
            "1/1 [==============================] - 0s 7ms/step - loss: 7.2636 - mae: 7.2636\n",
            "Epoch 9/100\n",
            "1/1 [==============================] - 0s 7ms/step - loss: 6.8545 - mae: 6.8545\n",
            "Epoch 10/100\n",
            "1/1 [==============================] - 0s 7ms/step - loss: 7.1120 - mae: 7.1120\n",
            "Epoch 11/100\n",
            "1/1 [==============================] - 0s 6ms/step - loss: 7.3978 - mae: 7.3978\n",
            "Epoch 12/100\n",
            "1/1 [==============================] - 0s 6ms/step - loss: 7.6682 - mae: 7.6682\n",
            "Epoch 13/100\n",
            "1/1 [==============================] - 0s 6ms/step - loss: 7.7301 - mae: 7.7301\n",
            "Epoch 14/100\n",
            "1/1 [==============================] - 0s 6ms/step - loss: 7.5855 - mae: 7.5855\n",
            "Epoch 15/100\n",
            "1/1 [==============================] - 0s 7ms/step - loss: 7.2892 - mae: 7.2892\n",
            "Epoch 16/100\n",
            "1/1 [==============================] - 0s 6ms/step - loss: 6.9904 - mae: 6.9904\n",
            "Epoch 17/100\n",
            "1/1 [==============================] - 0s 6ms/step - loss: 6.7110 - mae: 6.7110\n",
            "Epoch 18/100\n",
            "1/1 [==============================] - 0s 6ms/step - loss: 6.4162 - mae: 6.4162\n",
            "Epoch 19/100\n",
            "1/1 [==============================] - 0s 7ms/step - loss: 6.2179 - mae: 6.2179\n",
            "Epoch 20/100\n",
            "1/1 [==============================] - 0s 6ms/step - loss: 6.1724 - mae: 6.1724\n",
            "Epoch 21/100\n",
            "1/1 [==============================] - 0s 6ms/step - loss: 6.2497 - mae: 6.2497\n",
            "Epoch 22/100\n",
            "1/1 [==============================] - 0s 7ms/step - loss: 6.3308 - mae: 6.3308\n",
            "Epoch 23/100\n",
            "1/1 [==============================] - 0s 6ms/step - loss: 6.3037 - mae: 6.3037\n",
            "Epoch 24/100\n",
            "1/1 [==============================] - 0s 7ms/step - loss: 6.1822 - mae: 6.1822\n",
            "Epoch 25/100\n",
            "1/1 [==============================] - 0s 7ms/step - loss: 5.9766 - mae: 5.9766\n",
            "Epoch 26/100\n",
            "1/1 [==============================] - 0s 7ms/step - loss: 5.7178 - mae: 5.7178\n",
            "Epoch 27/100\n",
            "1/1 [==============================] - 0s 8ms/step - loss: 5.6151 - mae: 5.6151\n",
            "Epoch 28/100\n",
            "1/1 [==============================] - 0s 7ms/step - loss: 5.5095 - mae: 5.5095\n",
            "Epoch 29/100\n",
            "1/1 [==============================] - 0s 7ms/step - loss: 5.4365 - mae: 5.4365\n",
            "Epoch 30/100\n",
            "1/1 [==============================] - 0s 7ms/step - loss: 5.4168 - mae: 5.4168\n",
            "Epoch 31/100\n",
            "1/1 [==============================] - 0s 7ms/step - loss: 5.3516 - mae: 5.3516\n",
            "Epoch 32/100\n",
            "1/1 [==============================] - 0s 7ms/step - loss: 5.2445 - mae: 5.2445\n",
            "Epoch 33/100\n",
            "1/1 [==============================] - 0s 7ms/step - loss: 5.0994 - mae: 5.0994\n",
            "Epoch 34/100\n",
            "1/1 [==============================] - 0s 6ms/step - loss: 4.9242 - mae: 4.9242\n",
            "Epoch 35/100\n",
            "1/1 [==============================] - 0s 7ms/step - loss: 4.8301 - mae: 4.8301\n",
            "Epoch 36/100\n",
            "1/1 [==============================] - 0s 6ms/step - loss: 4.7293 - mae: 4.7293\n",
            "Epoch 37/100\n",
            "1/1 [==============================] - 0s 8ms/step - loss: 4.6218 - mae: 4.6218\n",
            "Epoch 38/100\n",
            "1/1 [==============================] - 0s 7ms/step - loss: 4.5074 - mae: 4.5074\n",
            "Epoch 39/100\n",
            "1/1 [==============================] - 0s 8ms/step - loss: 4.3859 - mae: 4.3859\n",
            "Epoch 40/100\n",
            "1/1 [==============================] - 0s 6ms/step - loss: 4.2573 - mae: 4.2573\n",
            "Epoch 41/100\n",
            "1/1 [==============================] - 0s 6ms/step - loss: 4.1211 - mae: 4.1211\n",
            "Epoch 42/100\n",
            "1/1 [==============================] - 0s 7ms/step - loss: 3.9773 - mae: 3.9773\n",
            "Epoch 43/100\n",
            "1/1 [==============================] - 0s 6ms/step - loss: 3.8255 - mae: 3.8255\n",
            "Epoch 44/100\n",
            "1/1 [==============================] - 0s 7ms/step - loss: 3.6656 - mae: 3.6656\n",
            "Epoch 45/100\n",
            "1/1 [==============================] - 0s 6ms/step - loss: 3.4972 - mae: 3.4972\n",
            "Epoch 46/100\n",
            "1/1 [==============================] - 0s 6ms/step - loss: 3.3201 - mae: 3.3201\n",
            "Epoch 47/100\n",
            "1/1 [==============================] - 0s 6ms/step - loss: 3.1340 - mae: 3.1340\n",
            "Epoch 48/100\n",
            "1/1 [==============================] - 0s 6ms/step - loss: 2.9717 - mae: 2.9717\n",
            "Epoch 49/100\n",
            "1/1 [==============================] - 0s 6ms/step - loss: 2.7721 - mae: 2.7721\n",
            "Epoch 50/100\n",
            "1/1 [==============================] - 0s 6ms/step - loss: 2.5585 - mae: 2.5585\n",
            "Epoch 51/100\n",
            "1/1 [==============================] - 0s 6ms/step - loss: 2.3581 - mae: 2.3581\n",
            "Epoch 52/100\n",
            "1/1 [==============================] - 0s 7ms/step - loss: 2.1458 - mae: 2.1458\n",
            "Epoch 53/100\n",
            "1/1 [==============================] - 0s 7ms/step - loss: 1.9748 - mae: 1.9748\n",
            "Epoch 54/100\n",
            "1/1 [==============================] - 0s 7ms/step - loss: 1.6716 - mae: 1.6716\n",
            "Epoch 55/100\n",
            "1/1 [==============================] - 0s 7ms/step - loss: 1.4509 - mae: 1.4509\n",
            "Epoch 56/100\n",
            "1/1 [==============================] - 0s 8ms/step - loss: 1.2145 - mae: 1.2145\n",
            "Epoch 57/100\n",
            "1/1 [==============================] - 0s 8ms/step - loss: 0.8970 - mae: 0.8970\n",
            "Epoch 58/100\n",
            "1/1 [==============================] - 0s 7ms/step - loss: 0.6301 - mae: 0.6301\n",
            "Epoch 59/100\n",
            "1/1 [==============================] - 0s 7ms/step - loss: 0.3996 - mae: 0.3996\n",
            "Epoch 60/100\n",
            "1/1 [==============================] - 0s 7ms/step - loss: 0.0492 - mae: 0.0492\n",
            "Epoch 61/100\n",
            "1/1 [==============================] - 0s 8ms/step - loss: 0.3007 - mae: 0.3007\n",
            "Epoch 62/100\n",
            "1/1 [==============================] - 0s 7ms/step - loss: 0.5681 - mae: 0.5681\n",
            "Epoch 63/100\n",
            "1/1 [==============================] - 0s 8ms/step - loss: 0.6841 - mae: 0.6841\n",
            "Epoch 64/100\n",
            "1/1 [==============================] - 0s 6ms/step - loss: 0.9073 - mae: 0.9073\n",
            "Epoch 65/100\n",
            "1/1 [==============================] - 0s 6ms/step - loss: 0.9673 - mae: 0.9673\n",
            "Epoch 66/100\n",
            "1/1 [==============================] - 0s 6ms/step - loss: 0.8998 - mae: 0.8998\n",
            "Epoch 67/100\n",
            "1/1 [==============================] - 0s 6ms/step - loss: 1.0156 - mae: 1.0156\n",
            "Epoch 68/100\n",
            "1/1 [==============================] - 0s 7ms/step - loss: 0.9283 - mae: 0.9283\n",
            "Epoch 69/100\n",
            "1/1 [==============================] - 0s 6ms/step - loss: 0.7803 - mae: 0.7803\n",
            "Epoch 70/100\n",
            "1/1 [==============================] - 0s 6ms/step - loss: 0.7449 - mae: 0.7449\n",
            "Epoch 71/100\n",
            "1/1 [==============================] - 0s 6ms/step - loss: 0.5427 - mae: 0.5427\n",
            "Epoch 72/100\n",
            "1/1 [==============================] - 0s 8ms/step - loss: 0.4806 - mae: 0.4806\n",
            "Epoch 73/100\n",
            "1/1 [==============================] - 0s 6ms/step - loss: 0.3255 - mae: 0.3255\n",
            "Epoch 74/100\n",
            "1/1 [==============================] - 0s 6ms/step - loss: 0.0765 - mae: 0.0765\n",
            "Epoch 75/100\n",
            "1/1 [==============================] - 0s 6ms/step - loss: 0.1609 - mae: 0.1609\n",
            "Epoch 76/100\n",
            "1/1 [==============================] - 0s 6ms/step - loss: 0.3197 - mae: 0.3197\n",
            "Epoch 77/100\n",
            "1/1 [==============================] - 0s 5ms/step - loss: 0.3565 - mae: 0.3565\n",
            "Epoch 78/100\n",
            "1/1 [==============================] - 0s 5ms/step - loss: 0.4314 - mae: 0.4314\n",
            "Epoch 79/100\n",
            "1/1 [==============================] - 0s 10ms/step - loss: 0.4355 - mae: 0.4355\n",
            "Epoch 80/100\n",
            "1/1 [==============================] - 0s 5ms/step - loss: 0.4108 - mae: 0.4108\n",
            "Epoch 81/100\n",
            "1/1 [==============================] - 0s 7ms/step - loss: 0.3586 - mae: 0.3586\n",
            "Epoch 82/100\n",
            "1/1 [==============================] - 0s 5ms/step - loss: 0.2838 - mae: 0.2838\n",
            "Epoch 83/100\n",
            "1/1 [==============================] - 0s 8ms/step - loss: 0.1917 - mae: 0.1917\n",
            "Epoch 84/100\n",
            "1/1 [==============================] - 0s 5ms/step - loss: 0.0897 - mae: 0.0897\n",
            "Epoch 85/100\n",
            "1/1 [==============================] - 0s 13ms/step - loss: 0.2147 - mae: 0.2147\n",
            "Epoch 86/100\n",
            "1/1 [==============================] - 0s 7ms/step - loss: 0.1625 - mae: 0.1625\n",
            "Epoch 87/100\n",
            "1/1 [==============================] - 0s 7ms/step - loss: 0.3767 - mae: 0.3767\n",
            "Epoch 88/100\n",
            "1/1 [==============================] - 0s 7ms/step - loss: 0.4118 - mae: 0.4118\n",
            "Epoch 89/100\n",
            "1/1 [==============================] - 0s 7ms/step - loss: 0.2614 - mae: 0.2614\n",
            "Epoch 90/100\n",
            "1/1 [==============================] - 0s 7ms/step - loss: 0.4847 - mae: 0.4847\n",
            "Epoch 91/100\n",
            "1/1 [==============================] - 0s 10ms/step - loss: 0.5105 - mae: 0.5105\n",
            "Epoch 92/100\n",
            "1/1 [==============================] - 0s 8ms/step - loss: 0.2097 - mae: 0.2097\n",
            "Epoch 93/100\n",
            "1/1 [==============================] - 0s 9ms/step - loss: 0.3893 - mae: 0.3893\n",
            "Epoch 94/100\n",
            "1/1 [==============================] - 0s 10ms/step - loss: 0.5656 - mae: 0.5656\n",
            "Epoch 95/100\n",
            "1/1 [==============================] - 0s 7ms/step - loss: 0.3965 - mae: 0.3965\n",
            "Epoch 96/100\n",
            "1/1 [==============================] - 0s 8ms/step - loss: 0.1990 - mae: 0.1990\n",
            "Epoch 97/100\n",
            "1/1 [==============================] - 0s 7ms/step - loss: 0.3587 - mae: 0.3587\n",
            "Epoch 98/100\n",
            "1/1 [==============================] - 0s 8ms/step - loss: 0.2942 - mae: 0.2942\n",
            "Epoch 99/100\n",
            "1/1 [==============================] - 0s 7ms/step - loss: 0.1172 - mae: 0.1172\n",
            "Epoch 100/100\n",
            "1/1 [==============================] - 0s 7ms/step - loss: 0.1612 - mae: 0.1612\n"
          ]
        },
        {
          "output_type": "execute_result",
          "data": {
            "text/plain": [
              "<keras.src.callbacks.History at 0x7bbd1cddb670>"
            ]
          },
          "metadata": {},
          "execution_count": 12
        }
      ]
    },
    {
      "cell_type": "code",
      "source": [
        "model.predict([17.0])"
      ],
      "metadata": {
        "colab": {
          "base_uri": "https://localhost:8080/"
        },
        "id": "mRbnTBV11lOb",
        "outputId": "0e4b4dd2-0f2b-4a85-bd74-0533ea052fa5"
      },
      "execution_count": 13,
      "outputs": [
        {
          "output_type": "stream",
          "name": "stdout",
          "text": [
            "1/1 [==============================] - 0s 49ms/step\n"
          ]
        },
        {
          "output_type": "execute_result",
          "data": {
            "text/plain": [
              "array([[26.786226]], dtype=float32)"
            ]
          },
          "metadata": {},
          "execution_count": 13
        }
      ]
    },
    {
      "cell_type": "markdown",
      "source": [
        "### **The learning rate is very important**"
      ],
      "metadata": {
        "id": "miU5YRCP1oYu"
      }
    },
    {
      "cell_type": "markdown",
      "source": [
        "### **Evaluating a model**\n",
        "> Visualize\n",
        "\n",
        "It's a good idea to visualize:\n",
        "\n",
        "\n",
        "*   The  data - what data are we workign\n",
        "  with?\n",
        "*   The model itself - what does our model look like?\n",
        "*   The training of a model - how does a model perform while it learns?\n",
        "*   The predictions of the model - how do the predictios of a model line up against what is should be"
      ],
      "metadata": {
        "id": "wIIO7rnN2jgI"
      }
    },
    {
      "cell_type": "code",
      "source": [
        "# Make a bigger dataset\n",
        "X = tf.range(-100, 100, 4)\n",
        "X"
      ],
      "metadata": {
        "colab": {
          "base_uri": "https://localhost:8080/"
        },
        "id": "Sej1NfpP3S1d",
        "outputId": "b249a4a7-7ed8-445a-df75-997db586126e"
      },
      "execution_count": 14,
      "outputs": [
        {
          "output_type": "execute_result",
          "data": {
            "text/plain": [
              "<tf.Tensor: shape=(50,), dtype=int32, numpy=\n",
              "array([-100,  -96,  -92,  -88,  -84,  -80,  -76,  -72,  -68,  -64,  -60,\n",
              "        -56,  -52,  -48,  -44,  -40,  -36,  -32,  -28,  -24,  -20,  -16,\n",
              "        -12,   -8,   -4,    0,    4,    8,   12,   16,   20,   24,   28,\n",
              "         32,   36,   40,   44,   48,   52,   56,   60,   64,   68,   72,\n",
              "         76,   80,   84,   88,   92,   96], dtype=int32)>"
            ]
          },
          "metadata": {},
          "execution_count": 14
        }
      ]
    },
    {
      "cell_type": "code",
      "source": [
        "# Make labesl for the dataset\n",
        "Y = X + 10\n",
        "Y"
      ],
      "metadata": {
        "colab": {
          "base_uri": "https://localhost:8080/"
        },
        "id": "JceH03wL4p4v",
        "outputId": "eafc1177-32aa-4386-e74b-f9681010ed65"
      },
      "execution_count": 15,
      "outputs": [
        {
          "output_type": "execute_result",
          "data": {
            "text/plain": [
              "<tf.Tensor: shape=(50,), dtype=int32, numpy=\n",
              "array([-90, -86, -82, -78, -74, -70, -66, -62, -58, -54, -50, -46, -42,\n",
              "       -38, -34, -30, -26, -22, -18, -14, -10,  -6,  -2,   2,   6,  10,\n",
              "        14,  18,  22,  26,  30,  34,  38,  42,  46,  50,  54,  58,  62,\n",
              "        66,  70,  74,  78,  82,  86,  90,  94,  98, 102, 106], dtype=int32)>"
            ]
          },
          "metadata": {},
          "execution_count": 15
        }
      ]
    },
    {
      "cell_type": "code",
      "source": [
        "# Visualize the data\n",
        "import matplotlib.pyplot as plt\n",
        "plt.scatter(X, Y)"
      ],
      "metadata": {
        "colab": {
          "base_uri": "https://localhost:8080/",
          "height": 447
        },
        "id": "TgDwjlVJ4uN-",
        "outputId": "b8c064d4-5dba-44e1-8b5f-dd50151a6b1f"
      },
      "execution_count": 16,
      "outputs": [
        {
          "output_type": "execute_result",
          "data": {
            "text/plain": [
              "<matplotlib.collections.PathCollection at 0x7bbd1cdcb910>"
            ]
          },
          "metadata": {},
          "execution_count": 16
        },
        {
          "output_type": "display_data",
          "data": {
            "text/plain": [
              "<Figure size 640x480 with 1 Axes>"
            ],
            "image/png": "[encoded data removed]"
          },
          "metadata": {}
        }
      ]
    },
    {
      "cell_type": "markdown",
      "source": [
        "### The 3 sets...\n",
        "*   Trainnig set 70-80%\n",
        "*   Validatio set (10-15%) - the model gets tuned on this data\n",
        "*   Test set - the model gets evaluated on this data to test what is has learned, this set is typically 10-15% ot total data."
      ],
      "metadata": {
        "id": "HV8I2B0L5E9E"
      }
    },
    {
      "cell_type": "code",
      "source": [
        "# Check the length of how many samples we have\n",
        "len(X)"
      ],
      "metadata": {
        "colab": {
          "base_uri": "https://localhost:8080/"
        },
        "id": "_3yZ4kEU6C7x",
        "outputId": "2a395298-6ca3-4eb8-8230-9b38fa723c5f"
      },
      "execution_count": 17,
      "outputs": [
        {
          "output_type": "execute_result",
          "data": {
            "text/plain": [
              "50"
            ]
          },
          "metadata": {},
          "execution_count": 17
        }
      ]
    },
    {
      "cell_type": "code",
      "source": [
        "# Split the data into train and test sets\n",
        "X_train = X[:40] # first 40 (80%)\n",
        "Y_train = Y[:40]\n",
        "\n",
        "Y_test = Y[40:]\n",
        "X_test = X[40:] # first 40 (20%)"
      ],
      "metadata": {
        "id": "3rFQtobv6KQP"
      },
      "execution_count": 18,
      "outputs": []
    },
    {
      "cell_type": "code",
      "source": [
        "plt.figure(figsize=(10, 7))\n",
        "\n",
        "# plot training data in blue\n",
        "plt.scatter(X_train, Y_train, c=\"b\", label=\"Training data\")\n",
        "\n",
        "# plot test data in green\n",
        "plt.scatter(X_test, Y_test, c=\"g\", label=\"Testing data\")\n",
        "# Show  a legend\n",
        "plt.legend()\n"
      ],
      "metadata": {
        "colab": {
          "base_uri": "https://localhost:8080/",
          "height": 616
        },
        "id": "ZezyYjnR7ANm",
        "outputId": "118e8c23-7183-456a-fb25-ff6d93f5d824"
      },
      "execution_count": 19,
      "outputs": [
        {
          "output_type": "execute_result",
          "data": {
            "text/plain": [
              "<matplotlib.legend.Legend at 0x7bbd1c655570>"
            ]
          },
          "metadata": {},
          "execution_count": 19
        },
        {
          "output_type": "display_data",
          "data": {
            "text/plain": [
              "<Figure size 1000x700 with 1 Axes>"
            ],
            "image/png": "[encoded data removed]"
          },
          "metadata": {}
        }
      ]
    },
    {
      "cell_type": "code",
      "source": [
        "# Create a model\n",
        "model = tf.keras.Sequential([\n",
        "    tf.keras.layers.Dense(1)\n",
        "])\n",
        "\n",
        "# Compile the model\n",
        "model.compile(\n",
        "    loss=tf.keras.losses.mae,\n",
        "    optimizer=tf.keras.optimizers.SGD(),\n",
        "    metrics=[\"mae\"]\n",
        ")\n",
        "\n",
        "# Fit the model\n",
        "model.fit(tf.expand_dims(X_train, axis=-1), Y_train, epochs=100)"
      ],
      "metadata": {
        "id": "9npgONv6YrrO",
        "outputId": "ad4c1208-8177-444a-d740-9987146a29cb",
        "colab": {
          "base_uri": "https://localhost:8080/"
        }
      },
      "execution_count": 20,
      "outputs": [
        {
          "output_type": "stream",
          "name": "stdout",
          "text": [
            "Epoch 1/100\n",
            "2/2 [==============================] - 0s 5ms/step - loss: 15.2626 - mae: 15.2626\n",
            "Epoch 2/100\n",
            "2/2 [==============================] - 0s 5ms/step - loss: 13.4067 - mae: 13.4067\n",
            "Epoch 3/100\n",
            "2/2 [==============================] - 0s 4ms/step - loss: 12.1672 - mae: 12.1672\n",
            "Epoch 4/100\n",
            "2/2 [==============================] - 0s 4ms/step - loss: 9.3835 - mae: 9.3835\n",
            "Epoch 5/100\n",
            "2/2 [==============================] - 0s 4ms/step - loss: 10.2657 - mae: 10.2657\n",
            "Epoch 6/100\n",
            "2/2 [==============================] - 0s 4ms/step - loss: 9.5160 - mae: 9.5160\n",
            "Epoch 7/100\n",
            "2/2 [==============================] - 0s 4ms/step - loss: 8.6415 - mae: 8.6415\n",
            "Epoch 8/100\n",
            "2/2 [==============================] - 0s 4ms/step - loss: 9.0466 - mae: 9.0466\n",
            "Epoch 9/100\n",
            "2/2 [==============================] - 0s 4ms/step - loss: 18.9367 - mae: 18.9367\n",
            "Epoch 10/100\n",
            "2/2 [==============================] - 0s 4ms/step - loss: 10.2145 - mae: 10.2145\n",
            "Epoch 11/100\n",
            "2/2 [==============================] - 0s 4ms/step - loss: 8.4348 - mae: 8.4348\n",
            "Epoch 12/100\n",
            "2/2 [==============================] - 0s 4ms/step - loss: 10.7434 - mae: 10.7434\n",
            "Epoch 13/100\n",
            "2/2 [==============================] - 0s 4ms/step - loss: 9.8270 - mae: 9.8270\n",
            "Epoch 14/100\n",
            "2/2 [==============================] - 0s 4ms/step - loss: 16.2079 - mae: 16.2079\n",
            "Epoch 15/100\n",
            "2/2 [==============================] - 0s 4ms/step - loss: 11.2472 - mae: 11.2472\n",
            "Epoch 16/100\n",
            "2/2 [==============================] - 0s 6ms/step - loss: 8.5825 - mae: 8.5825\n",
            "Epoch 17/100\n",
            "2/2 [==============================] - 0s 6ms/step - loss: 13.7388 - mae: 13.7388\n",
            "Epoch 18/100\n",
            "2/2 [==============================] - 0s 5ms/step - loss: 11.5938 - mae: 11.5938\n",
            "Epoch 19/100\n",
            "2/2 [==============================] - 0s 4ms/step - loss: 17.7495 - mae: 17.7495\n",
            "Epoch 20/100\n",
            "2/2 [==============================] - 0s 4ms/step - loss: 14.8854 - mae: 14.8854\n",
            "Epoch 21/100\n",
            "2/2 [==============================] - 0s 4ms/step - loss: 10.7832 - mae: 10.7832\n",
            "Epoch 22/100\n",
            "2/2 [==============================] - 0s 5ms/step - loss: 8.5269 - mae: 8.5269\n",
            "Epoch 23/100\n",
            "2/2 [==============================] - 0s 5ms/step - loss: 9.7577 - mae: 9.7577\n",
            "Epoch 24/100\n",
            "2/2 [==============================] - 0s 5ms/step - loss: 10.8882 - mae: 10.8882\n",
            "Epoch 25/100\n",
            "2/2 [==============================] - 0s 5ms/step - loss: 9.1293 - mae: 9.1293\n",
            "Epoch 26/100\n",
            "2/2 [==============================] - 0s 4ms/step - loss: 13.1213 - mae: 13.1213\n",
            "Epoch 27/100\n",
            "2/2 [==============================] - 0s 4ms/step - loss: 10.4315 - mae: 10.4315\n",
            "Epoch 28/100\n",
            "2/2 [==============================] - 0s 7ms/step - loss: 13.4634 - mae: 13.4634\n",
            "Epoch 29/100\n",
            "2/2 [==============================] - 0s 4ms/step - loss: 9.6199 - mae: 9.6199\n",
            "Epoch 30/100\n",
            "2/2 [==============================] - 0s 4ms/step - loss: 17.3182 - mae: 17.3182\n",
            "Epoch 31/100\n",
            "2/2 [==============================] - 0s 5ms/step - loss: 22.7517 - mae: 22.7517\n",
            "Epoch 32/100\n",
            "2/2 [==============================] - 0s 5ms/step - loss: 7.9108 - mae: 7.9108\n",
            "Epoch 33/100\n",
            "2/2 [==============================] - 0s 5ms/step - loss: 14.2101 - mae: 14.2101\n",
            "Epoch 34/100\n",
            "2/2 [==============================] - 0s 5ms/step - loss: 12.4730 - mae: 12.4730\n",
            "Epoch 35/100\n",
            "2/2 [==============================] - 0s 5ms/step - loss: 8.2276 - mae: 8.2276\n",
            "Epoch 36/100\n",
            "2/2 [==============================] - 0s 4ms/step - loss: 10.4259 - mae: 10.4259\n",
            "Epoch 37/100\n",
            "2/2 [==============================] - 0s 4ms/step - loss: 10.0819 - mae: 10.0819\n",
            "Epoch 38/100\n",
            "2/2 [==============================] - 0s 5ms/step - loss: 11.2419 - mae: 11.2419\n",
            "Epoch 39/100\n",
            "2/2 [==============================] - 0s 4ms/step - loss: 14.8315 - mae: 14.8315\n",
            "Epoch 40/100\n",
            "2/2 [==============================] - 0s 4ms/step - loss: 12.9611 - mae: 12.9611\n",
            "Epoch 41/100\n",
            "2/2 [==============================] - 0s 4ms/step - loss: 9.3607 - mae: 9.3607\n",
            "Epoch 42/100\n",
            "2/2 [==============================] - 0s 4ms/step - loss: 10.9380 - mae: 10.9380\n",
            "Epoch 43/100\n",
            "2/2 [==============================] - 0s 4ms/step - loss: 8.3171 - mae: 8.3171\n",
            "Epoch 44/100\n",
            "2/2 [==============================] - 0s 4ms/step - loss: 12.9433 - mae: 12.9433\n",
            "Epoch 45/100\n",
            "2/2 [==============================] - 0s 4ms/step - loss: 13.7632 - mae: 13.7632\n",
            "Epoch 46/100\n",
            "2/2 [==============================] - 0s 4ms/step - loss: 8.4434 - mae: 8.4434\n",
            "Epoch 47/100\n",
            "2/2 [==============================] - 0s 4ms/step - loss: 9.1423 - mae: 9.1423\n",
            "Epoch 48/100\n",
            "2/2 [==============================] - 0s 4ms/step - loss: 10.6349 - mae: 10.6349\n",
            "Epoch 49/100\n",
            "2/2 [==============================] - 0s 4ms/step - loss: 7.7580 - mae: 7.7580\n",
            "Epoch 50/100\n",
            "2/2 [==============================] - 0s 4ms/step - loss: 9.5551 - mae: 9.5551\n",
            "Epoch 51/100\n",
            "2/2 [==============================] - 0s 4ms/step - loss: 9.1580 - mae: 9.1580\n",
            "Epoch 52/100\n",
            "2/2 [==============================] - 0s 4ms/step - loss: 16.4030 - mae: 16.4030\n",
            "Epoch 53/100\n",
            "2/2 [==============================] - 0s 4ms/step - loss: 14.1082 - mae: 14.1082\n",
            "Epoch 54/100\n",
            "2/2 [==============================] - 0s 4ms/step - loss: 21.0761 - mae: 21.0761\n",
            "Epoch 55/100\n",
            "2/2 [==============================] - 0s 4ms/step - loss: 16.4312 - mae: 16.4312\n",
            "Epoch 56/100\n",
            "2/2 [==============================] - 0s 4ms/step - loss: 9.9041 - mae: 9.9041\n",
            "Epoch 57/100\n",
            "2/2 [==============================] - 0s 4ms/step - loss: 9.6260 - mae: 9.6260\n",
            "Epoch 58/100\n",
            "2/2 [==============================] - 0s 4ms/step - loss: 8.9540 - mae: 8.9540\n",
            "Epoch 59/100\n",
            "2/2 [==============================] - 0s 4ms/step - loss: 10.1483 - mae: 10.1483\n",
            "Epoch 60/100\n",
            "2/2 [==============================] - 0s 4ms/step - loss: 8.4356 - mae: 8.4356\n",
            "Epoch 61/100\n",
            "2/2 [==============================] - 0s 4ms/step - loss: 9.2846 - mae: 9.2846\n",
            "Epoch 62/100\n",
            "2/2 [==============================] - 0s 4ms/step - loss: 7.0682 - mae: 7.0682\n",
            "Epoch 63/100\n",
            "2/2 [==============================] - 0s 4ms/step - loss: 8.6299 - mae: 8.6299\n",
            "Epoch 64/100\n",
            "2/2 [==============================] - 0s 5ms/step - loss: 9.2081 - mae: 9.2081\n",
            "Epoch 65/100\n",
            "2/2 [==============================] - 0s 4ms/step - loss: 10.4528 - mae: 10.4528\n",
            "Epoch 66/100\n",
            "2/2 [==============================] - 0s 4ms/step - loss: 15.6720 - mae: 15.6720\n",
            "Epoch 67/100\n",
            "2/2 [==============================] - 0s 5ms/step - loss: 10.0575 - mae: 10.0575\n",
            "Epoch 68/100\n",
            "2/2 [==============================] - 0s 5ms/step - loss: 9.0245 - mae: 9.0245\n",
            "Epoch 69/100\n",
            "2/2 [==============================] - 0s 5ms/step - loss: 12.5423 - mae: 12.5423\n",
            "Epoch 70/100\n",
            "2/2 [==============================] - 0s 5ms/step - loss: 8.9594 - mae: 8.9594\n",
            "Epoch 71/100\n",
            "2/2 [==============================] - 0s 5ms/step - loss: 9.9355 - mae: 9.9355\n",
            "Epoch 72/100\n",
            "2/2 [==============================] - 0s 5ms/step - loss: 9.9726 - mae: 9.9726\n",
            "Epoch 73/100\n",
            "2/2 [==============================] - 0s 5ms/step - loss: 12.4476 - mae: 12.4476\n",
            "Epoch 74/100\n",
            "2/2 [==============================] - 0s 4ms/step - loss: 10.5565 - mae: 10.5565\n",
            "Epoch 75/100\n",
            "2/2 [==============================] - 0s 4ms/step - loss: 9.6326 - mae: 9.6326\n",
            "Epoch 76/100\n",
            "2/2 [==============================] - 0s 4ms/step - loss: 11.1008 - mae: 11.1008\n",
            "Epoch 77/100\n",
            "2/2 [==============================] - 0s 5ms/step - loss: 8.2808 - mae: 8.2808\n",
            "Epoch 78/100\n",
            "2/2 [==============================] - 0s 5ms/step - loss: 8.9758 - mae: 8.9758\n",
            "Epoch 79/100\n",
            "2/2 [==============================] - 0s 5ms/step - loss: 19.7646 - mae: 19.7646\n",
            "Epoch 80/100\n",
            "2/2 [==============================] - 0s 5ms/step - loss: 17.8324 - mae: 17.8324\n",
            "Epoch 81/100\n",
            "2/2 [==============================] - 0s 5ms/step - loss: 7.0667 - mae: 7.0667\n",
            "Epoch 82/100\n",
            "2/2 [==============================] - 0s 4ms/step - loss: 10.4114 - mae: 10.4114\n",
            "Epoch 83/100\n",
            "2/2 [==============================] - 0s 5ms/step - loss: 9.8369 - mae: 9.8369\n",
            "Epoch 84/100\n",
            "2/2 [==============================] - 0s 10ms/step - loss: 7.9273 - mae: 7.9273\n",
            "Epoch 85/100\n",
            "2/2 [==============================] - 0s 4ms/step - loss: 9.4333 - mae: 9.4333\n",
            "Epoch 86/100\n",
            "2/2 [==============================] - 0s 4ms/step - loss: 9.4794 - mae: 9.4794\n",
            "Epoch 87/100\n",
            "2/2 [==============================] - 0s 4ms/step - loss: 11.4205 - mae: 11.4205\n",
            "Epoch 88/100\n",
            "2/2 [==============================] - 0s 5ms/step - loss: 9.9188 - mae: 9.9188\n",
            "Epoch 89/100\n",
            "2/2 [==============================] - 0s 5ms/step - loss: 7.2466 - mae: 7.2466\n",
            "Epoch 90/100\n",
            "2/2 [==============================] - 0s 5ms/step - loss: 12.6763 - mae: 12.6763\n",
            "Epoch 91/100\n",
            "2/2 [==============================] - 0s 5ms/step - loss: 7.3016 - mae: 7.3016\n",
            "Epoch 92/100\n",
            "2/2 [==============================] - 0s 6ms/step - loss: 7.6637 - mae: 7.6637\n",
            "Epoch 93/100\n",
            "2/2 [==============================] - 0s 4ms/step - loss: 7.1136 - mae: 7.1136\n",
            "Epoch 94/100\n",
            "2/2 [==============================] - 0s 4ms/step - loss: 12.5255 - mae: 12.5255\n",
            "Epoch 95/100\n",
            "2/2 [==============================] - 0s 4ms/step - loss: 9.9012 - mae: 9.9012\n",
            "Epoch 96/100\n",
            "2/2 [==============================] - 0s 5ms/step - loss: 9.1420 - mae: 9.1420\n",
            "Epoch 97/100\n",
            "2/2 [==============================] - 0s 5ms/step - loss: 12.0978 - mae: 12.0978\n",
            "Epoch 98/100\n",
            "2/2 [==============================] - 0s 5ms/step - loss: 9.0476 - mae: 9.0476\n",
            "Epoch 99/100\n",
            "2/2 [==============================] - 0s 4ms/step - loss: 8.4975 - mae: 8.4975\n",
            "Epoch 100/100\n",
            "2/2 [==============================] - 0s 4ms/step - loss: 14.4802 - mae: 14.4802\n"
          ]
        },
        {
          "output_type": "execute_result",
          "data": {
            "text/plain": [
              "<keras.src.callbacks.History at 0x7bbd1c0fa440>"
            ]
          },
          "metadata": {},
          "execution_count": 20
        }
      ]
    },
    {
      "cell_type": "code",
      "source": [
        "# Visualize the model\n",
        "model.summary()\n",
        "# video: 05:38"
      ],
      "metadata": {
        "id": "BP1NAUWaZqv-",
        "outputId": "eec4aa7f-75fa-4f42-c9a8-3ca34caa3110",
        "colab": {
          "base_uri": "https://localhost:8080/"
        }
      },
      "execution_count": 21,
      "outputs": [
        {
          "output_type": "stream",
          "name": "stdout",
          "text": [
            "Model: \"sequential_3\"\n",
            "_________________________________________________________________\n",
            " Layer (type)                Output Shape              Param #   \n",
            "=================================================================\n",
            " dense_5 (Dense)             (None, 1)                 2         \n",
            "                                                                 \n",
            "=================================================================\n",
            "Total params: 2 (8.00 Byte)\n",
            "Trainable params: 2 (8.00 Byte)\n",
            "Non-trainable params: 0 (0.00 Byte)\n",
            "_________________________________________________________________\n"
          ]
        }
      ]
    },
    {
      "cell_type": "code",
      "source": [
        "# Create a model\n",
        "model = tf.keras.Sequential([\n",
        "    # (let's try and play with the dense units)\n",
        "    tf.keras.layers.Dense(10),\n",
        "    tf.keras.layers.Dense(1, name=\"output_layer\")\n",
        "\n",
        "], name=\"model-1\")\n",
        "\n",
        "# Compile the model\n",
        "model.compile(\n",
        "    loss=tf.keras.losses.mae,\n",
        "    optimizer=tf.keras.optimizers.Adam(learning_rate=0.01),\n",
        "    metrics=[\"mae\"]\n",
        ")\n",
        "\n",
        "# Fit the model\n",
        "model.fit(tf.expand_dims(X_train, axis=-1), Y_train, epochs=200, verbose=0)"
      ],
      "metadata": {
        "colab": {
          "base_uri": "https://localhost:8080/"
        },
        "id": "Grdtv5LTzCC0",
        "outputId": "5fe727fa-492e-4f16-d0fb-8c73db62fb6e"
      },
      "execution_count": 22,
      "outputs": [
        {
          "output_type": "execute_result",
          "data": {
            "text/plain": [
              "<keras.src.callbacks.History at 0x7bbd1c1c4220>"
            ]
          },
          "metadata": {},
          "execution_count": 22
        }
      ]
    },
    {
      "cell_type": "code",
      "source": [
        "#5:50"
      ],
      "metadata": {
        "id": "1ScoET_N6dGQ"
      },
      "execution_count": 23,
      "outputs": []
    },
    {
      "cell_type": "code",
      "source": [
        "model.summary()"
      ],
      "metadata": {
        "id": "KxpP-Lpit0mS",
        "outputId": "c3da38ea-2e21-430b-9e90-6e5947df32a2",
        "colab": {
          "base_uri": "https://localhost:8080/"
        }
      },
      "execution_count": 24,
      "outputs": [
        {
          "output_type": "stream",
          "name": "stdout",
          "text": [
            "Model: \"model-1\"\n",
            "_________________________________________________________________\n",
            " Layer (type)                Output Shape              Param #   \n",
            "=================================================================\n",
            " dense_6 (Dense)             (None, 10)                20        \n",
            "                                                                 \n",
            " output_layer (Dense)        (None, 1)                 11        \n",
            "                                                                 \n",
            "=================================================================\n",
            "Total params: 31 (124.00 Byte)\n",
            "Trainable params: 31 (124.00 Byte)\n",
            "Non-trainable params: 0 (0.00 Byte)\n",
            "_________________________________________________________________\n"
          ]
        }
      ]
    },
    {
      "cell_type": "code",
      "source": [
        "from tensorflow.keras.utils import plot_model\n",
        "plot_model(model=model, show_shapes=True)"
      ],
      "metadata": {
        "id": "ZsNX4XIov0C-",
        "outputId": "9af101d0-3ec2-43e7-9a9e-1b57dfce0011",
        "colab": {
          "base_uri": "https://localhost:8080/",
          "height": 312
        }
      },
      "execution_count": 25,
      "outputs": [
        {
          "output_type": "execute_result",
          "data": {
            "image/png": "[encoded data removed]",
            "text/plain": [
              "<IPython.core.display.Image object>"
            ]
          },
          "metadata": {},
          "execution_count": 25
        }
      ]
    },
    {
      "cell_type": "markdown",
      "source": [
        "### Visualizing our model predictions\n",
        "\n",
        "To visualize predictiosn, it's a good idea to plot them against the gorund truth labels.\n",
        "\n",
        "Often you'ill see this in the form of y_test or y_true versus y_pred (ground truth versus  your model's predicitons)\n"
      ],
      "metadata": {
        "id": "_GjBvdG0v3M9"
      }
    },
    {
      "cell_type": "code",
      "source": [
        "# Make somoe predictions\n",
        "y_pred = model.predict(X_test)\n",
        "y_pred"
      ],
      "metadata": {
        "id": "WhCjICch0qdw",
        "outputId": "a1f70ccd-ae02-4ee0-f738-664f3460fb23",
        "colab": {
          "base_uri": "https://localhost:8080/"
        }
      },
      "execution_count": 26,
      "outputs": [
        {
          "output_type": "stream",
          "name": "stdout",
          "text": [
            "1/1 [==============================] - 0s 60ms/step\n"
          ]
        },
        {
          "output_type": "execute_result",
          "data": {
            "text/plain": [
              "array([[ 70.2073  ],\n",
              "       [ 74.230194],\n",
              "       [ 78.25308 ],\n",
              "       [ 82.27597 ],\n",
              "       [ 86.29886 ],\n",
              "       [ 90.32176 ],\n",
              "       [ 94.34465 ],\n",
              "       [ 98.36755 ],\n",
              "       [102.39044 ],\n",
              "       [106.413315]], dtype=float32)"
            ]
          },
          "metadata": {},
          "execution_count": 26
        }
      ]
    },
    {
      "cell_type": "code",
      "source": [
        "Y_test"
      ],
      "metadata": {
        "id": "ibtgBDhl-iSv",
        "outputId": "058bf561-5338-4f37-c377-95daaf5fc7f3",
        "colab": {
          "base_uri": "https://localhost:8080/"
        }
      },
      "execution_count": 27,
      "outputs": [
        {
          "output_type": "execute_result",
          "data": {
            "text/plain": [
              "<tf.Tensor: shape=(10,), dtype=int32, numpy=array([ 70,  74,  78,  82,  86,  90,  94,  98, 102, 106], dtype=int32)>"
            ]
          },
          "metadata": {},
          "execution_count": 27
        }
      ]
    },
    {
      "cell_type": "code",
      "source": [
        "# Let's create a plotting function\n",
        "def plot_predictions(\n",
        "                     train_data=X_train,\n",
        "                     train_labels=Y_train,\n",
        "                     test_data=X_test,\n",
        "                     test_labels=Y_test,\n",
        "                     predictions=y_pred\n",
        "                     ):\n",
        "  plt.figure(figsize=(10, 7))\n",
        "  # plot training data in blue\n",
        "  plt.scatter(train_data, train_labels, c=\"b\", label=\"Training data\")\n",
        "  plt.scatter(test_data, test_labels, c=\"g\", label=\"Testing data\")\n",
        "  plt.scatter(test_data, predictions, c=\"r\", label=\"Predictions\")\n",
        "  plt.legend()"
      ],
      "metadata": {
        "id": "JXK24Nm0-lcO"
      },
      "execution_count": 28,
      "outputs": []
    },
    {
      "cell_type": "code",
      "source": [
        "plot_predictions()"
      ],
      "metadata": {
        "id": "a7QWfoXrJBVi",
        "outputId": "07056301-aff7-4f99-ca66-f1eb9ace0b6d",
        "colab": {
          "base_uri": "https://localhost:8080/",
          "height": 599
        }
      },
      "execution_count": 29,
      "outputs": [
        {
          "output_type": "display_data",
          "data": {
            "text/plain": [
              "<Figure size 1000x700 with 1 Axes>"
            ],
            "image/png": "[encoded data removed]"
          },
          "metadata": {}
        }
      ]
    },
    {
      "cell_type": "markdown",
      "source": [
        "### Evaluating our model's predictions with regression evaluation metrics"
      ],
      "metadata": {
        "id": "VKSmpfMXJxoc"
      }
    },
    {
      "cell_type": "markdown",
      "source": [
        "Depending on the problem you're working on, there will be different evaluation metrics to evaluate your model's performance.\n",
        "\n",
        "Since we're working on a regression, two of the main metrics:\n",
        "* MAE - MEAN ABSOLUTE ERROR, \"on average, how wrong is each of my model's predictions\"\n",
        "* MSE - mean square root: square the average error"
      ],
      "metadata": {
        "id": "BZTVY3PVJ4Wm"
      }
    },
    {
      "cell_type": "code",
      "source": [
        "# Evaluate the model on the test\n",
        "model.evaluate(X_test, Y_test)"
      ],
      "metadata": {
        "id": "bRJec61vMggA",
        "outputId": "af3cc07c-ce17-46f5-8a49-d821b7657063",
        "colab": {
          "base_uri": "https://localhost:8080/"
        }
      },
      "execution_count": 30,
      "outputs": [
        {
          "output_type": "stream",
          "name": "stdout",
          "text": [
            "1/1 [==============================] - 0s 140ms/step - loss: 0.3103 - mae: 0.3103\n"
          ]
        },
        {
          "output_type": "execute_result",
          "data": {
            "text/plain": [
              "[0.31031036376953125, 0.31031036376953125]"
            ]
          },
          "metadata": {},
          "execution_count": 30
        }
      ]
    },
    {
      "cell_type": "code",
      "source": [
        "# Calculate the mean absolute error\n",
        "tf.metrics.mean_absolute_error(y_pred=tf.constant(y_pred), y_true=Y_test)"
      ],
      "metadata": {
        "id": "E2J2YuYIM_Pg",
        "outputId": "14836979-6623-494c-b04a-bb1846f32ef6",
        "colab": {
          "base_uri": "https://localhost:8080/"
        }
      },
      "execution_count": 31,
      "outputs": [
        {
          "output_type": "execute_result",
          "data": {
            "text/plain": [
              "<tf.Tensor: shape=(10,), dtype=float32, numpy=\n",
              "array([17.834162 , 14.661883 , 12.298767 , 10.744806 , 10.       ,\n",
              "       10.064352 , 10.9378605, 12.620532 , 15.112353 , 18.413315 ],\n",
              "      dtype=float32)>"
            ]
          },
          "metadata": {},
          "execution_count": 31
        }
      ]
    },
    {
      "cell_type": "code",
      "source": [
        "# they don't have the same shape\n",
        "tf.constant(y_pred), Y_test"
      ],
      "metadata": {
        "id": "tbv13OIoO4ni",
        "outputId": "bcd93fd6-2ba9-4d54-f774-d14d311f46a4",
        "colab": {
          "base_uri": "https://localhost:8080/"
        }
      },
      "execution_count": 32,
      "outputs": [
        {
          "output_type": "execute_result",
          "data": {
            "text/plain": [
              "(<tf.Tensor: shape=(10, 1), dtype=float32, numpy=\n",
              " array([[ 70.2073  ],\n",
              "        [ 74.230194],\n",
              "        [ 78.25308 ],\n",
              "        [ 82.27597 ],\n",
              "        [ 86.29886 ],\n",
              "        [ 90.32176 ],\n",
              "        [ 94.34465 ],\n",
              "        [ 98.36755 ],\n",
              "        [102.39044 ],\n",
              "        [106.413315]], dtype=float32)>,\n",
              " <tf.Tensor: shape=(10,), dtype=int32, numpy=array([ 70,  74,  78,  82,  86,  90,  94,  98, 102, 106], dtype=int32)>)"
            ]
          },
          "metadata": {},
          "execution_count": 32
        }
      ]
    },
    {
      "cell_type": "code",
      "source": [
        "tf.squeeze(y_pred)"
      ],
      "metadata": {
        "id": "ScoC52RlPO7I",
        "outputId": "c5704277-c4c5-4c95-d755-9d94ea39f1b8",
        "colab": {
          "base_uri": "https://localhost:8080/"
        }
      },
      "execution_count": 33,
      "outputs": [
        {
          "output_type": "execute_result",
          "data": {
            "text/plain": [
              "<tf.Tensor: shape=(10,), dtype=float32, numpy=\n",
              "array([ 70.2073  ,  74.230194,  78.25308 ,  82.27597 ,  86.29886 ,\n",
              "        90.32176 ,  94.34465 ,  98.36755 , 102.39044 , 106.413315],\n",
              "      dtype=float32)>"
            ]
          },
          "metadata": {},
          "execution_count": 33
        }
      ]
    },
    {
      "cell_type": "code",
      "source": [
        "# Calculate the mean absolute error\n",
        "mae = tf.metrics.mean_absolute_error(\n",
        "    y_true=Y_test,\n",
        "    y_pred=tf.squeeze(y_pred) # we have to squeeze the y_pred to remove the last dim\n",
        "  )\n",
        "mae"
      ],
      "metadata": {
        "id": "XQE9WVa5PcJM",
        "outputId": "fad02811-6944-40c1-e5f6-a1be95b307db",
        "colab": {
          "base_uri": "https://localhost:8080/"
        }
      },
      "execution_count": 34,
      "outputs": [
        {
          "output_type": "execute_result",
          "data": {
            "text/plain": [
              "<tf.Tensor: shape=(), dtype=float32, numpy=0.31031266>"
            ]
          },
          "metadata": {},
          "execution_count": 34
        }
      ]
    },
    {
      "cell_type": "code",
      "source": [
        "# Calculate the mean square error\n",
        "mse = tf.metrics.mean_squared_error(\n",
        "      y_true=Y_test,\n",
        "      y_pred=tf.squeeze(y_pred)\n",
        "    )\n",
        "mse"
      ],
      "metadata": {
        "id": "GHq9R5hBQy27",
        "outputId": "6bdd943f-e3b0-4ed3-fa47-b855cc13e041",
        "colab": {
          "base_uri": "https://localhost:8080/"
        }
      },
      "execution_count": 35,
      "outputs": [
        {
          "output_type": "execute_result",
          "data": {
            "text/plain": [
              "<tf.Tensor: shape=(), dtype=float32, numpy=0.10061731>"
            ]
          },
          "metadata": {},
          "execution_count": 35
        }
      ]
    },
    {
      "cell_type": "code",
      "source": [
        "def mae(y_true, y_pred):\n",
        "  return tf.metrics.mean_absolute_error(y_true=y_true, y_pred=tf.squeeze(y_pred))\n",
        "\n",
        "def mse(y_true, y_pred):\n",
        "  return tf.metrics.mean_squared_error(y_true=y_true, y_pred=tf.squeeze(y_pred))"
      ],
      "metadata": {
        "id": "c33A2qCdRUJ6"
      },
      "execution_count": 36,
      "outputs": []
    },
    {
      "cell_type": "markdown",
      "source": [
        "### Running experiments to improve our model\n",
        "~~~\n",
        "Build a mdoel -> fit it -> evaluate it -> teak it -> fit it -> evaluate it -> tweak it ...\n"
      ],
      "metadata": {
        "id": "UonqQFk2SFZ1"
      }
    },
    {
      "cell_type": "markdown",
      "source": [
        "1. Get more data\n",
        "2. Make you rmodel larger (more layers, more hidden units for each layer)\n",
        "3. Train for longer give your model more of a chance to find patterens in the data"
      ],
      "metadata": {
        "id": "GXFegZC7SVYL"
      }
    },
    {
      "cell_type": "code",
      "source": [
        "# Set random seed\n",
        "tf.random.set_seed(42)\n",
        "\n",
        "# 1. Create the mdoel\n",
        "model_1 = tf.keras.Sequential([\n",
        "    tf.keras.layers.Dense(1)\n",
        "])\n",
        "\n",
        "# 2. Compile the model\n",
        "model_1.compile(loss=tf.keras.losses.mae,\n",
        "                optimizer=tf.keras.optimizers.SGD(),\n",
        "                metrics=[\"mae\"])\n",
        "# 3. Fit the model\n",
        "model_1.fit(tf.expand_dims(X_train, axis=-1), Y_train, epochs=100)"
      ],
      "metadata": {
        "id": "y02s-djgS70G",
        "outputId": "93462187-31e4-43c2-8819-ec36d3b487d4",
        "colab": {
          "base_uri": "https://localhost:8080/"
        }
      },
      "execution_count": 37,
      "outputs": [
        {
          "output_type": "stream",
          "name": "stdout",
          "text": [
            "Epoch 1/100\n",
            "2/2 [==============================] - 0s 12ms/step - loss: 18.0682 - mae: 18.0682\n",
            "Epoch 2/100\n",
            "2/2 [==============================] - 0s 6ms/step - loss: 13.1912 - mae: 13.1912\n",
            "Epoch 3/100\n",
            "2/2 [==============================] - 0s 5ms/step - loss: 11.8588 - mae: 11.8588\n",
            "Epoch 4/100\n",
            "2/2 [==============================] - 0s 6ms/step - loss: 9.2407 - mae: 9.2407\n",
            "Epoch 5/100\n",
            "2/2 [==============================] - 0s 8ms/step - loss: 10.1001 - mae: 10.1001\n",
            "Epoch 6/100\n",
            "2/2 [==============================] - 0s 11ms/step - loss: 9.3711 - mae: 9.3711\n",
            "Epoch 7/100\n",
            "2/2 [==============================] - 0s 9ms/step - loss: 8.5211 - mae: 8.5211\n",
            "Epoch 8/100\n",
            "2/2 [==============================] - 0s 7ms/step - loss: 9.0414 - mae: 9.0414\n",
            "Epoch 9/100\n",
            "2/2 [==============================] - 0s 12ms/step - loss: 18.6255 - mae: 18.6255\n",
            "Epoch 10/100\n",
            "2/2 [==============================] - 0s 5ms/step - loss: 10.0451 - mae: 10.0451\n",
            "Epoch 11/100\n",
            "2/2 [==============================] - 0s 10ms/step - loss: 8.3720 - mae: 8.3720\n",
            "Epoch 12/100\n",
            "2/2 [==============================] - 0s 6ms/step - loss: 10.6088 - mae: 10.6088\n",
            "Epoch 13/100\n",
            "2/2 [==============================] - 0s 6ms/step - loss: 9.7767 - mae: 9.7767\n",
            "Epoch 14/100\n",
            "2/2 [==============================] - 0s 18ms/step - loss: 15.8757 - mae: 15.8757\n",
            "Epoch 15/100\n",
            "2/2 [==============================] - 0s 9ms/step - loss: 11.5142 - mae: 11.5142\n",
            "Epoch 16/100\n",
            "2/2 [==============================] - 0s 10ms/step - loss: 8.5090 - mae: 8.5090\n",
            "Epoch 17/100\n",
            "2/2 [==============================] - 0s 5ms/step - loss: 13.5632 - mae: 13.5632\n",
            "Epoch 18/100\n",
            "2/2 [==============================] - 0s 19ms/step - loss: 11.3730 - mae: 11.3730\n",
            "Epoch 19/100\n",
            "2/2 [==============================] - 0s 15ms/step - loss: 18.0261 - mae: 18.0261\n",
            "Epoch 20/100\n",
            "2/2 [==============================] - 0s 9ms/step - loss: 15.1599 - mae: 15.1599\n",
            "Epoch 21/100\n",
            "2/2 [==============================] - 0s 14ms/step - loss: 11.1140 - mae: 11.1140\n",
            "Epoch 22/100\n",
            "2/2 [==============================] - 0s 8ms/step - loss: 8.2401 - mae: 8.2401\n",
            "Epoch 23/100\n",
            "2/2 [==============================] - 0s 12ms/step - loss: 9.4545 - mae: 9.4545\n",
            "Epoch 24/100\n",
            "2/2 [==============================] - 0s 6ms/step - loss: 7.6830 - mae: 7.6830\n",
            "Epoch 25/100\n",
            "2/2 [==============================] - 0s 7ms/step - loss: 13.0455 - mae: 13.0455\n",
            "Epoch 26/100\n",
            "2/2 [==============================] - 0s 15ms/step - loss: 16.5299 - mae: 16.5299\n",
            "Epoch 27/100\n",
            "2/2 [==============================] - 0s 8ms/step - loss: 13.2566 - mae: 13.2566\n",
            "Epoch 28/100\n",
            "2/2 [==============================] - 0s 15ms/step - loss: 14.3715 - mae: 14.3715\n",
            "Epoch 29/100\n",
            "2/2 [==============================] - 0s 11ms/step - loss: 10.1007 - mae: 10.1007\n",
            "Epoch 30/100\n",
            "2/2 [==============================] - 0s 9ms/step - loss: 16.5119 - mae: 16.5119\n",
            "Epoch 31/100\n",
            "2/2 [==============================] - 0s 15ms/step - loss: 23.4903 - mae: 23.4903\n",
            "Epoch 32/100\n",
            "2/2 [==============================] - 0s 9ms/step - loss: 7.3678 - mae: 7.3678\n",
            "Epoch 33/100\n",
            "2/2 [==============================] - 0s 7ms/step - loss: 9.8063 - mae: 9.8063\n",
            "Epoch 34/100\n",
            "2/2 [==============================] - 0s 9ms/step - loss: 12.2612 - mae: 12.2612\n",
            "Epoch 35/100\n",
            "2/2 [==============================] - 0s 11ms/step - loss: 11.1544 - mae: 11.1544\n",
            "Epoch 36/100\n",
            "2/2 [==============================] - 0s 6ms/step - loss: 13.3755 - mae: 13.3755\n",
            "Epoch 37/100\n",
            "2/2 [==============================] - 0s 10ms/step - loss: 9.4551 - mae: 9.4551\n",
            "Epoch 38/100\n",
            "2/2 [==============================] - 0s 15ms/step - loss: 10.1079 - mae: 10.1079\n",
            "Epoch 39/100\n",
            "2/2 [==============================] - 0s 7ms/step - loss: 10.2065 - mae: 10.2065\n",
            "Epoch 40/100\n",
            "2/2 [==============================] - 0s 7ms/step - loss: 10.9507 - mae: 10.9507\n",
            "Epoch 41/100\n",
            "2/2 [==============================] - 0s 8ms/step - loss: 7.9266 - mae: 7.9266\n",
            "Epoch 42/100\n",
            "2/2 [==============================] - 0s 15ms/step - loss: 10.5858 - mae: 10.5858\n",
            "Epoch 43/100\n",
            "2/2 [==============================] - 0s 7ms/step - loss: 7.2114 - mae: 7.2114\n",
            "Epoch 44/100\n",
            "2/2 [==============================] - 0s 9ms/step - loss: 7.9988 - mae: 7.9988\n",
            "Epoch 45/100\n",
            "2/2 [==============================] - 0s 8ms/step - loss: 9.7923 - mae: 9.7923\n",
            "Epoch 46/100\n",
            "2/2 [==============================] - 0s 8ms/step - loss: 8.8685 - mae: 8.8685\n",
            "Epoch 47/100\n",
            "2/2 [==============================] - 0s 10ms/step - loss: 7.5737 - mae: 7.5737\n",
            "Epoch 48/100\n",
            "2/2 [==============================] - 0s 14ms/step - loss: 8.5737 - mae: 8.5737\n",
            "Epoch 49/100\n",
            "2/2 [==============================] - 0s 9ms/step - loss: 9.9978 - mae: 9.9978\n",
            "Epoch 50/100\n",
            "2/2 [==============================] - 0s 11ms/step - loss: 9.0253 - mae: 9.0253\n",
            "Epoch 51/100\n",
            "2/2 [==============================] - 0s 8ms/step - loss: 10.6675 - mae: 10.6675\n",
            "Epoch 52/100\n",
            "2/2 [==============================] - 0s 9ms/step - loss: 15.2976 - mae: 15.2976\n",
            "Epoch 53/100\n",
            "2/2 [==============================] - 0s 9ms/step - loss: 14.3184 - mae: 14.3184\n",
            "Epoch 54/100\n",
            "2/2 [==============================] - 0s 6ms/step - loss: 21.6141 - mae: 21.6141\n",
            "Epoch 55/100\n",
            "2/2 [==============================] - 0s 4ms/step - loss: 15.9903 - mae: 15.9903\n",
            "Epoch 56/100\n",
            "2/2 [==============================] - 0s 5ms/step - loss: 10.2896 - mae: 10.2896\n",
            "Epoch 57/100\n",
            "2/2 [==============================] - 0s 4ms/step - loss: 9.7674 - mae: 9.7674\n",
            "Epoch 58/100\n",
            "2/2 [==============================] - 0s 4ms/step - loss: 9.0533 - mae: 9.0533\n",
            "Epoch 59/100\n",
            "2/2 [==============================] - 0s 4ms/step - loss: 8.2578 - mae: 8.2578\n",
            "Epoch 60/100\n",
            "2/2 [==============================] - 0s 5ms/step - loss: 9.3551 - mae: 9.3551\n",
            "Epoch 61/100\n",
            "2/2 [==============================] - 0s 4ms/step - loss: 11.1637 - mae: 11.1637\n",
            "Epoch 62/100\n",
            "2/2 [==============================] - 0s 4ms/step - loss: 12.0784 - mae: 12.0784\n",
            "Epoch 63/100\n",
            "2/2 [==============================] - 0s 4ms/step - loss: 7.2695 - mae: 7.2695\n",
            "Epoch 64/100\n",
            "2/2 [==============================] - 0s 6ms/step - loss: 12.4295 - mae: 12.4295\n",
            "Epoch 65/100\n",
            "2/2 [==============================] - 0s 4ms/step - loss: 10.4995 - mae: 10.4995\n",
            "Epoch 66/100\n",
            "2/2 [==============================] - 0s 8ms/step - loss: 15.6112 - mae: 15.6112\n",
            "Epoch 67/100\n",
            "2/2 [==============================] - 0s 5ms/step - loss: 10.0125 - mae: 10.0125\n",
            "Epoch 68/100\n",
            "2/2 [==============================] - 0s 6ms/step - loss: 8.7223 - mae: 8.7223\n",
            "Epoch 69/100\n",
            "2/2 [==============================] - 0s 9ms/step - loss: 13.4881 - mae: 13.4881\n",
            "Epoch 70/100\n",
            "2/2 [==============================] - 0s 7ms/step - loss: 7.4691 - mae: 7.4691\n",
            "Epoch 71/100\n",
            "2/2 [==============================] - 0s 9ms/step - loss: 12.2264 - mae: 12.2264\n",
            "Epoch 72/100\n",
            "2/2 [==============================] - 0s 8ms/step - loss: 8.5332 - mae: 8.5332\n",
            "Epoch 73/100\n",
            "2/2 [==============================] - 0s 7ms/step - loss: 7.0395 - mae: 7.0395\n",
            "Epoch 74/100\n",
            "2/2 [==============================] - 0s 7ms/step - loss: 9.9311 - mae: 9.9311\n",
            "Epoch 75/100\n",
            "2/2 [==============================] - 0s 7ms/step - loss: 9.9368 - mae: 9.9368\n",
            "Epoch 76/100\n",
            "2/2 [==============================] - 0s 7ms/step - loss: 10.1033 - mae: 10.1033\n",
            "Epoch 77/100\n",
            "2/2 [==============================] - 0s 5ms/step - loss: 12.9518 - mae: 12.9518\n",
            "Epoch 78/100\n",
            "2/2 [==============================] - 0s 27ms/step - loss: 11.1489 - mae: 11.1489\n",
            "Epoch 79/100\n",
            "2/2 [==============================] - 0s 6ms/step - loss: 14.7017 - mae: 14.7017\n",
            "Epoch 80/100\n",
            "2/2 [==============================] - 0s 5ms/step - loss: 8.9250 - mae: 8.9250\n",
            "Epoch 81/100\n",
            "2/2 [==============================] - 0s 4ms/step - loss: 10.7680 - mae: 10.7680\n",
            "Epoch 82/100\n",
            "2/2 [==============================] - 0s 4ms/step - loss: 8.3893 - mae: 8.3893\n",
            "Epoch 83/100\n",
            "2/2 [==============================] - 0s 4ms/step - loss: 9.2244 - mae: 9.2244\n",
            "Epoch 84/100\n",
            "2/2 [==============================] - 0s 5ms/step - loss: 8.9423 - mae: 8.9423\n",
            "Epoch 85/100\n",
            "2/2 [==============================] - 0s 6ms/step - loss: 13.1981 - mae: 13.1981\n",
            "Epoch 86/100\n",
            "2/2 [==============================] - 0s 5ms/step - loss: 13.7045 - mae: 13.7045\n",
            "Epoch 87/100\n",
            "2/2 [==============================] - 0s 4ms/step - loss: 13.1888 - mae: 13.1888\n",
            "Epoch 88/100\n",
            "2/2 [==============================] - 0s 5ms/step - loss: 11.5147 - mae: 11.5147\n",
            "Epoch 89/100\n",
            "2/2 [==============================] - 0s 4ms/step - loss: 7.8038 - mae: 7.8038\n",
            "Epoch 90/100\n",
            "2/2 [==============================] - 0s 4ms/step - loss: 10.9294 - mae: 10.9294\n",
            "Epoch 91/100\n",
            "2/2 [==============================] - 0s 6ms/step - loss: 6.7496 - mae: 6.7496\n",
            "Epoch 92/100\n",
            "2/2 [==============================] - 0s 4ms/step - loss: 10.1220 - mae: 10.1220\n",
            "Epoch 93/100\n",
            "2/2 [==============================] - 0s 4ms/step - loss: 7.6076 - mae: 7.6076\n",
            "Epoch 94/100\n",
            "2/2 [==============================] - 0s 5ms/step - loss: 9.2400 - mae: 9.2400\n",
            "Epoch 95/100\n",
            "2/2 [==============================] - 0s 4ms/step - loss: 10.8295 - mae: 10.8295\n",
            "Epoch 96/100\n",
            "2/2 [==============================] - 0s 4ms/step - loss: 10.2947 - mae: 10.2947\n",
            "Epoch 97/100\n",
            "2/2 [==============================] - 0s 5ms/step - loss: 7.6795 - mae: 7.6795\n",
            "Epoch 98/100\n",
            "2/2 [==============================] - 0s 4ms/step - loss: 8.6148 - mae: 8.6148\n",
            "Epoch 99/100\n",
            "2/2 [==============================] - 0s 4ms/step - loss: 9.3933 - mae: 9.3933\n",
            "Epoch 100/100\n",
            "2/2 [==============================] - 0s 4ms/step - loss: 8.8391 - mae: 8.8391\n"
          ]
        },
        {
          "output_type": "execute_result",
          "data": {
            "text/plain": [
              "<keras.src.callbacks.History at 0x7bbd15f62e90>"
            ]
          },
          "metadata": {},
          "execution_count": 37
        }
      ]
    },
    {
      "cell_type": "code",
      "source": [
        "# Make and plot predictions\n",
        "y_preds_1 = model_1.predict(X_test)\n",
        "plot_predictions(predictions=y_preds_1)"
      ],
      "metadata": {
        "id": "t2vtajMMUiDE",
        "outputId": "546bfd35-38d6-4121-d923-3a049ad8a094",
        "colab": {
          "base_uri": "https://localhost:8080/",
          "height": 648
        }
      },
      "execution_count": 38,
      "outputs": [
        {
          "output_type": "stream",
          "name": "stderr",
          "text": [
            "WARNING:tensorflow:5 out of the last 5 calls to <function Model.make_predict_function.<locals>.predict_function at 0x7bbd17f04670> triggered tf.function retracing. Tracing is expensive and the excessive number of tracings could be due to (1) creating @tf.function repeatedly in a loop, (2) passing tensors with different shapes, (3) passing Python objects instead of tensors. For (1), please define your @tf.function outside of the loop. For (2), @tf.function has reduce_retracing=True option that can avoid unnecessary retracing. For (3), please refer to https://www.tensorflow.org/guide/function#controlling_retracing and https://www.tensorflow.org/api_docs/python/tf/function for  more details.\n"
          ]
        },
        {
          "output_type": "stream",
          "name": "stdout",
          "text": [
            "1/1 [==============================] - 0s 74ms/step\n"
          ]
        },
        {
          "output_type": "display_data",
          "data": {
            "text/plain": [
              "<Figure size 1000x700 with 1 Axes>"
            ],
            "image/png": "[encoded data removed]"
          },
          "metadata": {}
        }
      ]
    },
    {
      "cell_type": "code",
      "source": [
        "mae_1 = mae(Y_test, y_preds_1)\n",
        "mse_1 = mse(Y_test, y_preds_1)\n",
        "mae_1, mse_1"
      ],
      "metadata": {
        "id": "eBmhUD1BU7Vl",
        "outputId": "0f23412b-87b7-4339-a2e1-5a5dca796233",
        "colab": {
          "base_uri": "https://localhost:8080/"
        }
      },
      "execution_count": 39,
      "outputs": [
        {
          "output_type": "execute_result",
          "data": {
            "text/plain": [
              "(<tf.Tensor: shape=(), dtype=float32, numpy=8.627986>,\n",
              " <tf.Tensor: shape=(), dtype=float32, numpy=80.95571>)"
            ]
          },
          "metadata": {},
          "execution_count": 39
        }
      ]
    },
    {
      "cell_type": "code",
      "source": [
        "# 6:39"
      ],
      "metadata": {
        "id": "_o-j6SKwXNhs"
      },
      "execution_count": 40,
      "outputs": []
    },
    {
      "cell_type": "markdown",
      "source": [
        "### Build `model_2`"
      ],
      "metadata": {
        "id": "_YapAYQkb7GU"
      }
    },
    {
      "cell_type": "code",
      "source": [
        "# Set the random seed\n",
        "tf.random.set_seed(42)\n",
        "\n",
        "# 1. Create the model\n",
        "model_2 = tf.keras.Sequential([\n",
        "    tf.keras.layers.Dense(1)\n",
        "])\n",
        "\n",
        "# 2. Compile the model\n",
        "model_2.compile(\n",
        "    loss=tf.keras.losses.mae,\n",
        "    optimizer=tf.keras.optimizers.SGD(),\n",
        "    metrics=[\"mae\"]\n",
        ")\n",
        "\n",
        "\n",
        "\n",
        "# 3. Fit the model\n",
        "model_2.fit(tf.expand_dims(X_train, axis=-1), Y_train, epochs=100)\n"
      ],
      "metadata": {
        "id": "XMm88tS4cAJs",
        "outputId": "e4d1953a-99f2-4396-b3f5-243dedd2dda9",
        "colab": {
          "base_uri": "https://localhost:8080/"
        }
      },
      "execution_count": 41,
      "outputs": [
        {
          "output_type": "stream",
          "name": "stdout",
          "text": [
            "Epoch 1/100\n",
            "2/2 [==============================] - 1s 10ms/step - loss: 17.0333 - mae: 17.0333\n",
            "Epoch 2/100\n",
            "2/2 [==============================] - 0s 9ms/step - loss: 12.2372 - mae: 12.2372\n",
            "Epoch 3/100\n",
            "2/2 [==============================] - 0s 6ms/step - loss: 11.5273 - mae: 11.5273\n",
            "Epoch 4/100\n",
            "2/2 [==============================] - 0s 5ms/step - loss: 9.4265 - mae: 9.4265\n",
            "Epoch 5/100\n",
            "2/2 [==============================] - 0s 3ms/step - loss: 10.3144 - mae: 10.3144\n",
            "Epoch 6/100\n",
            "2/2 [==============================] - 0s 5ms/step - loss: 9.5595 - mae: 9.5595\n",
            "Epoch 7/100\n",
            "2/2 [==============================] - 0s 4ms/step - loss: 8.6784 - mae: 8.6784\n",
            "Epoch 8/100\n",
            "2/2 [==============================] - 0s 5ms/step - loss: 9.0539 - mae: 9.0539\n",
            "Epoch 9/100\n",
            "2/2 [==============================] - 0s 5ms/step - loss: 19.0211 - mae: 19.0211\n",
            "Epoch 10/100\n",
            "2/2 [==============================] - 0s 5ms/step - loss: 10.2645 - mae: 10.2645\n",
            "Epoch 11/100\n",
            "2/2 [==============================] - 0s 4ms/step - loss: 8.4569 - mae: 8.4569\n",
            "Epoch 12/100\n",
            "2/2 [==============================] - 0s 5ms/step - loss: 10.7843 - mae: 10.7843\n",
            "Epoch 13/100\n",
            "2/2 [==============================] - 0s 4ms/step - loss: 9.8519 - mae: 9.8519\n",
            "Epoch 14/100\n",
            "2/2 [==============================] - 0s 4ms/step - loss: 12.0086 - mae: 12.0086\n",
            "Epoch 15/100\n",
            "2/2 [==============================] - 0s 4ms/step - loss: 12.4905 - mae: 12.4905\n",
            "Epoch 16/100\n",
            "2/2 [==============================] - 0s 4ms/step - loss: 7.9069 - mae: 7.9069\n",
            "Epoch 17/100\n",
            "2/2 [==============================] - 0s 4ms/step - loss: 12.8158 - mae: 12.8158\n",
            "Epoch 18/100\n",
            "2/2 [==============================] - 0s 4ms/step - loss: 10.4403 - mae: 10.4403\n",
            "Epoch 19/100\n",
            "2/2 [==============================] - 0s 4ms/step - loss: 19.2758 - mae: 19.2758\n",
            "Epoch 20/100\n",
            "2/2 [==============================] - 0s 4ms/step - loss: 15.9389 - mae: 15.9389\n",
            "Epoch 21/100\n",
            "2/2 [==============================] - 0s 5ms/step - loss: 11.8612 - mae: 11.8612\n",
            "Epoch 22/100\n",
            "2/2 [==============================] - 0s 21ms/step - loss: 8.4688 - mae: 8.4688\n",
            "Epoch 23/100\n",
            "2/2 [==============================] - 0s 8ms/step - loss: 9.8062 - mae: 9.8062\n",
            "Epoch 24/100\n",
            "2/2 [==============================] - 0s 4ms/step - loss: 10.8289 - mae: 10.8289\n",
            "Epoch 25/100\n",
            "2/2 [==============================] - 0s 6ms/step - loss: 9.1056 - mae: 9.1056\n",
            "Epoch 26/100\n",
            "2/2 [==============================] - 0s 6ms/step - loss: 13.0573 - mae: 13.0573\n",
            "Epoch 27/100\n",
            "2/2 [==============================] - 0s 7ms/step - loss: 10.3937 - mae: 10.3937\n",
            "Epoch 28/100\n",
            "2/2 [==============================] - 0s 21ms/step - loss: 13.3958 - mae: 13.3958\n",
            "Epoch 29/100\n",
            "2/2 [==============================] - 0s 12ms/step - loss: 9.6072 - mae: 9.6072\n",
            "Epoch 30/100\n",
            "2/2 [==============================] - 0s 21ms/step - loss: 17.2118 - mae: 17.2118\n",
            "Epoch 31/100\n",
            "2/2 [==============================] - 0s 12ms/step - loss: 22.8490 - mae: 22.8490\n",
            "Epoch 32/100\n",
            "2/2 [==============================] - 0s 10ms/step - loss: 7.9112 - mae: 7.9112\n",
            "Epoch 33/100\n",
            "2/2 [==============================] - 0s 8ms/step - loss: 14.1471 - mae: 14.1471\n",
            "Epoch 34/100\n",
            "2/2 [==============================] - 0s 10ms/step - loss: 12.3955 - mae: 12.3955\n",
            "Epoch 35/100\n",
            "2/2 [==============================] - 0s 7ms/step - loss: 8.2509 - mae: 8.2509\n",
            "Epoch 36/100\n",
            "2/2 [==============================] - 0s 6ms/step - loss: 10.4664 - mae: 10.4664\n",
            "Epoch 37/100\n",
            "2/2 [==============================] - 0s 11ms/step - loss: 10.1141 - mae: 10.1141\n",
            "Epoch 38/100\n",
            "2/2 [==============================] - 0s 7ms/step - loss: 11.3003 - mae: 11.3003\n",
            "Epoch 39/100\n",
            "2/2 [==============================] - 0s 17ms/step - loss: 14.7691 - mae: 14.7691\n",
            "Epoch 40/100\n",
            "2/2 [==============================] - 0s 9ms/step - loss: 12.8993 - mae: 12.8993\n",
            "Epoch 41/100\n",
            "2/2 [==============================] - 0s 9ms/step - loss: 9.2910 - mae: 9.2910\n",
            "Epoch 42/100\n",
            "2/2 [==============================] - 0s 9ms/step - loss: 10.9849 - mae: 10.9849\n",
            "Epoch 43/100\n",
            "2/2 [==============================] - 0s 8ms/step - loss: 8.3264 - mae: 8.3264\n",
            "Epoch 44/100\n",
            "2/2 [==============================] - 0s 6ms/step - loss: 13.0217 - mae: 13.0217\n",
            "Epoch 45/100\n",
            "2/2 [==============================] - 0s 4ms/step - loss: 13.6924 - mae: 13.6924\n",
            "Epoch 46/100\n",
            "2/2 [==============================] - 0s 14ms/step - loss: 8.3953 - mae: 8.3953\n",
            "Epoch 47/100\n",
            "2/2 [==============================] - 0s 6ms/step - loss: 9.1755 - mae: 9.1755\n",
            "Epoch 48/100\n",
            "2/2 [==============================] - 0s 6ms/step - loss: 10.6843 - mae: 10.6843\n",
            "Epoch 49/100\n",
            "2/2 [==============================] - 0s 5ms/step - loss: 7.7870 - mae: 7.7870\n",
            "Epoch 50/100\n",
            "2/2 [==============================] - 0s 4ms/step - loss: 9.6003 - mae: 9.6003\n",
            "Epoch 51/100\n",
            "2/2 [==============================] - 0s 7ms/step - loss: 9.1683 - mae: 9.1683\n",
            "Epoch 52/100\n",
            "2/2 [==============================] - 0s 5ms/step - loss: 16.5008 - mae: 16.5008\n",
            "Epoch 53/100\n",
            "2/2 [==============================] - 0s 8ms/step - loss: 14.0655 - mae: 14.0655\n",
            "Epoch 54/100\n",
            "2/2 [==============================] - 0s 6ms/step - loss: 20.9676 - mae: 20.9676\n",
            "Epoch 55/100\n",
            "2/2 [==============================] - 0s 5ms/step - loss: 16.5198 - mae: 16.5198\n",
            "Epoch 56/100\n",
            "2/2 [==============================] - 0s 5ms/step - loss: 9.8396 - mae: 9.8396\n",
            "Epoch 57/100\n",
            "2/2 [==============================] - 0s 4ms/step - loss: 9.6671 - mae: 9.6671\n",
            "Epoch 58/100\n",
            "2/2 [==============================] - 0s 9ms/step - loss: 8.9826 - mae: 8.9826\n",
            "Epoch 59/100\n",
            "2/2 [==============================] - 0s 7ms/step - loss: 10.1993 - mae: 10.1993\n",
            "Epoch 60/100\n",
            "2/2 [==============================] - 0s 7ms/step - loss: 8.4026 - mae: 8.4026\n",
            "Epoch 61/100\n",
            "2/2 [==============================] - 0s 6ms/step - loss: 9.2343 - mae: 9.2343\n",
            "Epoch 62/100\n",
            "2/2 [==============================] - 0s 6ms/step - loss: 7.2719 - mae: 7.2719\n",
            "Epoch 63/100\n",
            "2/2 [==============================] - 0s 4ms/step - loss: 8.1777 - mae: 8.1777\n",
            "Epoch 64/100\n",
            "2/2 [==============================] - 0s 4ms/step - loss: 12.5448 - mae: 12.5448\n",
            "Epoch 65/100\n",
            "2/2 [==============================] - 0s 4ms/step - loss: 10.6249 - mae: 10.6249\n",
            "Epoch 66/100\n",
            "2/2 [==============================] - 0s 4ms/step - loss: 15.4588 - mae: 15.4588\n",
            "Epoch 67/100\n",
            "2/2 [==============================] - 0s 4ms/step - loss: 9.9016 - mae: 9.9016\n",
            "Epoch 68/100\n",
            "2/2 [==============================] - 0s 5ms/step - loss: 8.6745 - mae: 8.6745\n",
            "Epoch 69/100\n",
            "2/2 [==============================] - 0s 4ms/step - loss: 13.3327 - mae: 13.3327\n",
            "Epoch 70/100\n",
            "2/2 [==============================] - 0s 7ms/step - loss: 7.4679 - mae: 7.4679\n",
            "Epoch 71/100\n",
            "2/2 [==============================] - 0s 16ms/step - loss: 12.3518 - mae: 12.3518\n",
            "Epoch 72/100\n",
            "2/2 [==============================] - 0s 7ms/step - loss: 8.4479 - mae: 8.4479\n",
            "Epoch 73/100\n",
            "2/2 [==============================] - 0s 8ms/step - loss: 6.8734 - mae: 6.8734\n",
            "Epoch 74/100\n",
            "2/2 [==============================] - 0s 8ms/step - loss: 11.0481 - mae: 11.0481\n",
            "Epoch 75/100\n",
            "2/2 [==============================] - 0s 29ms/step - loss: 9.4154 - mae: 9.4154\n",
            "Epoch 76/100\n",
            "2/2 [==============================] - 0s 16ms/step - loss: 10.8705 - mae: 10.8705\n",
            "Epoch 77/100\n",
            "2/2 [==============================] - 0s 16ms/step - loss: 14.8172 - mae: 14.8172\n",
            "Epoch 78/100\n",
            "2/2 [==============================] - 0s 16ms/step - loss: 10.8774 - mae: 10.8774\n",
            "Epoch 79/100\n",
            "2/2 [==============================] - 0s 9ms/step - loss: 15.3216 - mae: 15.3216\n",
            "Epoch 80/100\n",
            "2/2 [==============================] - 0s 5ms/step - loss: 11.7722 - mae: 11.7722\n",
            "Epoch 81/100\n",
            "2/2 [==============================] - 0s 4ms/step - loss: 9.1994 - mae: 9.1994\n",
            "Epoch 82/100\n",
            "2/2 [==============================] - 0s 5ms/step - loss: 12.8633 - mae: 12.8633\n",
            "Epoch 83/100\n",
            "2/2 [==============================] - 0s 5ms/step - loss: 10.3198 - mae: 10.3198\n",
            "Epoch 84/100\n",
            "2/2 [==============================] - 0s 5ms/step - loss: 10.5843 - mae: 10.5843\n",
            "Epoch 85/100\n",
            "2/2 [==============================] - 0s 4ms/step - loss: 9.3005 - mae: 9.3005\n",
            "Epoch 86/100\n",
            "2/2 [==============================] - 0s 4ms/step - loss: 9.1553 - mae: 9.1553\n",
            "Epoch 87/100\n",
            "2/2 [==============================] - 0s 4ms/step - loss: 11.8746 - mae: 11.8746\n",
            "Epoch 88/100\n",
            "2/2 [==============================] - 0s 4ms/step - loss: 10.4844 - mae: 10.4844\n",
            "Epoch 89/100\n",
            "2/2 [==============================] - 0s 5ms/step - loss: 6.9747 - mae: 6.9747\n",
            "Epoch 90/100\n",
            "2/2 [==============================] - 0s 5ms/step - loss: 13.8124 - mae: 13.8124\n",
            "Epoch 91/100\n",
            "2/2 [==============================] - 0s 4ms/step - loss: 7.8838 - mae: 7.8838\n",
            "Epoch 92/100\n",
            "2/2 [==============================] - 0s 5ms/step - loss: 7.4571 - mae: 7.4571\n",
            "Epoch 93/100\n",
            "2/2 [==============================] - 0s 5ms/step - loss: 9.1632 - mae: 9.1632\n",
            "Epoch 94/100\n",
            "2/2 [==============================] - 0s 5ms/step - loss: 8.5656 - mae: 8.5656\n",
            "Epoch 95/100\n",
            "2/2 [==============================] - 0s 6ms/step - loss: 11.5120 - mae: 11.5120\n",
            "Epoch 96/100\n",
            "2/2 [==============================] - 0s 5ms/step - loss: 10.2853 - mae: 10.2853\n",
            "Epoch 97/100\n",
            "2/2 [==============================] - 0s 49ms/step - loss: 7.6910 - mae: 7.6910\n",
            "Epoch 98/100\n",
            "2/2 [==============================] - 0s 19ms/step - loss: 8.6253 - mae: 8.6253\n",
            "Epoch 99/100\n",
            "2/2 [==============================] - 0s 7ms/step - loss: 9.4051 - mae: 9.4051\n",
            "Epoch 100/100\n",
            "2/2 [==============================] - 0s 11ms/step - loss: 8.8478 - mae: 8.8478\n"
          ]
        },
        {
          "output_type": "execute_result",
          "data": {
            "text/plain": [
              "<keras.src.callbacks.History at 0x7bbd17e04490>"
            ]
          },
          "metadata": {},
          "execution_count": 41
        }
      ]
    },
    {
      "cell_type": "code",
      "source": [
        "# Make and plot predictions of model_2\n",
        "y_preds_2 = model_2.predict(X_test)\n",
        "plot_predictions(predictions=y_preds_2)"
      ],
      "metadata": {
        "id": "kvhVti92r2zs",
        "outputId": "1d71405b-b573-40f2-dde7-29a391e9c32f",
        "colab": {
          "base_uri": "https://localhost:8080/",
          "height": 648
        }
      },
      "execution_count": 42,
      "outputs": [
        {
          "output_type": "stream",
          "name": "stderr",
          "text": [
            "WARNING:tensorflow:6 out of the last 6 calls to <function Model.make_predict_function.<locals>.predict_function at 0x7bbd17f079a0> triggered tf.function retracing. Tracing is expensive and the excessive number of tracings could be due to (1) creating @tf.function repeatedly in a loop, (2) passing tensors with different shapes, (3) passing Python objects instead of tensors. For (1), please define your @tf.function outside of the loop. For (2), @tf.function has reduce_retracing=True option that can avoid unnecessary retracing. For (3), please refer to https://www.tensorflow.org/guide/function#controlling_retracing and https://www.tensorflow.org/api_docs/python/tf/function for  more details.\n"
          ]
        },
        {
          "output_type": "stream",
          "name": "stdout",
          "text": [
            "1/1 [==============================] - 0s 110ms/step\n"
          ]
        },
        {
          "output_type": "display_data",
          "data": {
            "text/plain": [
              "<Figure size 1000x700 with 1 Axes>"
            ],
            "image/png": "[encoded data removed]"
          },
          "metadata": {}
        }
      ]
    },
    {
      "cell_type": "code",
      "source": [
        "# Calculate model_2 evaluation metrics\n",
        "mae_2 = mae(Y_test,  y_preds_2)\n",
        "mse_2 = mse(Y_test, y_preds_2)\n",
        "mae_2, mse_2"
      ],
      "metadata": {
        "id": "tRefS4k7tq0x",
        "outputId": "2a77281e-919f-4a2b-da0d-c1ac3b9f7323",
        "colab": {
          "base_uri": "https://localhost:8080/"
        }
      },
      "execution_count": 43,
      "outputs": [
        {
          "output_type": "execute_result",
          "data": {
            "text/plain": [
              "(<tf.Tensor: shape=(), dtype=float32, numpy=8.656291>,\n",
              " <tf.Tensor: shape=(), dtype=float32, numpy=81.47094>)"
            ]
          },
          "metadata": {},
          "execution_count": 43
        }
      ]
    },
    {
      "cell_type": "code",
      "source": [
        "### build `model_3`\n",
        "\n",
        "# seed\n",
        "tf.random.set_seed(42)\n",
        "\n",
        "# Create the model\n",
        "model_3 = tf.keras.Sequential([\n",
        "    tf.keras.layers.Dense(10),\n",
        "    tf.keras.layers.Dense(1)\n",
        "])\n",
        "\n",
        "model_3.compile(\n",
        "    loss=tf.keras.losses.mae,\n",
        "    optimizer=tf.keras.optimizers.SGD(),\n",
        "    metrics=[\"mae\"]\n",
        "  )\n",
        "\n",
        "model_3.fit(tf.expand_dims(X_train, axis=-1), Y_train, epochs=500)\n",
        "\n"
      ],
      "metadata": {
        "id": "ddip0IjPlkUt",
        "outputId": "dd1b286c-1beb-45a1-f789-b7c2c2500d1b",
        "colab": {
          "base_uri": "https://localhost:8080/"
        }
      },
      "execution_count": 48,
      "outputs": [
        {
          "output_type": "stream",
          "name": "stdout",
          "text": [
            "Epoch 1/500\n",
            "2/2 [==============================] - 0s 9ms/step - loss: 41.2639 - mae: 41.2639\n",
            "Epoch 2/500\n",
            "2/2 [==============================] - 0s 6ms/step - loss: 25.1908 - mae: 25.1908\n",
            "Epoch 3/500\n",
            "2/2 [==============================] - 0s 4ms/step - loss: 31.3836 - mae: 31.3836\n",
            "Epoch 4/500\n",
            "2/2 [==============================] - 0s 4ms/step - loss: 23.0615 - mae: 23.0615\n",
            "Epoch 5/500\n",
            "2/2 [==============================] - 0s 4ms/step - loss: 13.7907 - mae: 13.7907\n",
            "Epoch 6/500\n",
            "2/2 [==============================] - 0s 5ms/step - loss: 11.0659 - mae: 11.0659\n",
            "Epoch 7/500\n",
            "2/2 [==============================] - 0s 4ms/step - loss: 12.0553 - mae: 12.0553\n",
            "Epoch 8/500\n",
            "2/2 [==============================] - 0s 4ms/step - loss: 10.8494 - mae: 10.8494\n",
            "Epoch 9/500\n",
            "2/2 [==============================] - 0s 5ms/step - loss: 37.4946 - mae: 37.4946\n",
            "Epoch 10/500\n",
            "2/2 [==============================] - 0s 4ms/step - loss: 25.1614 - mae: 25.1614\n",
            "Epoch 11/500\n",
            "2/2 [==============================] - 0s 4ms/step - loss: 10.2415 - mae: 10.2415\n",
            "Epoch 12/500\n",
            "2/2 [==============================] - 0s 4ms/step - loss: 25.3990 - mae: 25.3990\n",
            "Epoch 13/500\n",
            "2/2 [==============================] - 0s 4ms/step - loss: 16.7965 - mae: 16.7965\n",
            "Epoch 14/500\n",
            "2/2 [==============================] - 0s 5ms/step - loss: 25.5733 - mae: 25.5733\n",
            "Epoch 15/500\n",
            "2/2 [==============================] - 0s 4ms/step - loss: 17.4668 - mae: 17.4668\n",
            "Epoch 16/500\n",
            "2/2 [==============================] - 0s 6ms/step - loss: 10.0103 - mae: 10.0103\n",
            "Epoch 17/500\n",
            "2/2 [==============================] - 0s 4ms/step - loss: 18.4937 - mae: 18.4937\n",
            "Epoch 18/500\n",
            "2/2 [==============================] - 0s 4ms/step - loss: 11.3391 - mae: 11.3391\n",
            "Epoch 19/500\n",
            "2/2 [==============================] - 0s 4ms/step - loss: 13.9175 - mae: 13.9175\n",
            "Epoch 20/500\n",
            "2/2 [==============================] - 0s 4ms/step - loss: 11.1843 - mae: 11.1843\n",
            "Epoch 21/500\n",
            "2/2 [==============================] - 0s 5ms/step - loss: 17.2371 - mae: 17.2371\n",
            "Epoch 22/500\n",
            "2/2 [==============================] - 0s 4ms/step - loss: 15.4733 - mae: 15.4733\n",
            "Epoch 23/500\n",
            "2/2 [==============================] - 0s 4ms/step - loss: 9.2339 - mae: 9.2339\n",
            "Epoch 24/500\n",
            "2/2 [==============================] - 0s 4ms/step - loss: 17.2752 - mae: 17.2752\n",
            "Epoch 25/500\n",
            "2/2 [==============================] - 0s 4ms/step - loss: 15.9432 - mae: 15.9432\n",
            "Epoch 26/500\n",
            "2/2 [==============================] - 0s 4ms/step - loss: 20.9492 - mae: 20.9492\n",
            "Epoch 27/500\n",
            "2/2 [==============================] - 0s 4ms/step - loss: 25.9204 - mae: 25.9204\n",
            "Epoch 28/500\n",
            "2/2 [==============================] - 0s 4ms/step - loss: 18.4228 - mae: 18.4228\n",
            "Epoch 29/500\n",
            "2/2 [==============================] - 0s 4ms/step - loss: 9.2338 - mae: 9.2338\n",
            "Epoch 30/500\n",
            "2/2 [==============================] - 0s 4ms/step - loss: 29.0408 - mae: 29.0408\n",
            "Epoch 31/500\n",
            "2/2 [==============================] - 0s 4ms/step - loss: 52.5923 - mae: 52.5923\n",
            "Epoch 32/500\n",
            "2/2 [==============================] - 0s 6ms/step - loss: 11.9004 - mae: 11.9004\n",
            "Epoch 33/500\n",
            "2/2 [==============================] - 0s 4ms/step - loss: 15.4848 - mae: 15.4848\n",
            "Epoch 34/500\n",
            "2/2 [==============================] - 0s 4ms/step - loss: 12.5834 - mae: 12.5834\n",
            "Epoch 35/500\n",
            "2/2 [==============================] - 0s 4ms/step - loss: 9.1868 - mae: 9.1868\n",
            "Epoch 36/500\n",
            "2/2 [==============================] - 0s 4ms/step - loss: 16.4672 - mae: 16.4672\n",
            "Epoch 37/500\n",
            "2/2 [==============================] - 0s 4ms/step - loss: 11.0816 - mae: 11.0816\n",
            "Epoch 38/500\n",
            "2/2 [==============================] - 0s 4ms/step - loss: 18.2118 - mae: 18.2118\n",
            "Epoch 39/500\n",
            "2/2 [==============================] - 0s 4ms/step - loss: 19.1435 - mae: 19.1435\n",
            "Epoch 40/500\n",
            "2/2 [==============================] - 0s 4ms/step - loss: 20.5117 - mae: 20.5117\n",
            "Epoch 41/500\n",
            "2/2 [==============================] - 0s 4ms/step - loss: 14.7986 - mae: 14.7986\n",
            "Epoch 42/500\n",
            "2/2 [==============================] - 0s 4ms/step - loss: 12.1957 - mae: 12.1957\n",
            "Epoch 43/500\n",
            "2/2 [==============================] - 0s 4ms/step - loss: 10.6871 - mae: 10.6871\n",
            "Epoch 44/500\n",
            "2/2 [==============================] - 0s 5ms/step - loss: 32.2856 - mae: 32.2856\n",
            "Epoch 45/500\n",
            "2/2 [==============================] - 0s 5ms/step - loss: 12.4642 - mae: 12.4642\n",
            "Epoch 46/500\n",
            "2/2 [==============================] - 0s 7ms/step - loss: 17.5290 - mae: 17.5290\n",
            "Epoch 47/500\n",
            "2/2 [==============================] - 0s 4ms/step - loss: 15.7464 - mae: 15.7464\n",
            "Epoch 48/500\n",
            "2/2 [==============================] - 0s 4ms/step - loss: 8.3658 - mae: 8.3658\n",
            "Epoch 49/500\n",
            "2/2 [==============================] - 0s 5ms/step - loss: 13.9741 - mae: 13.9741\n",
            "Epoch 50/500\n",
            "2/2 [==============================] - 0s 4ms/step - loss: 12.8188 - mae: 12.8188\n",
            "Epoch 51/500\n",
            "2/2 [==============================] - 0s 4ms/step - loss: 14.8291 - mae: 14.8291\n",
            "Epoch 52/500\n",
            "2/2 [==============================] - 0s 5ms/step - loss: 18.7149 - mae: 18.7149\n",
            "Epoch 53/500\n",
            "2/2 [==============================] - 0s 5ms/step - loss: 24.1612 - mae: 24.1612\n",
            "Epoch 54/500\n",
            "2/2 [==============================] - 0s 5ms/step - loss: 23.1951 - mae: 23.1951\n",
            "Epoch 55/500\n",
            "2/2 [==============================] - 0s 5ms/step - loss: 24.0488 - mae: 24.0488\n",
            "Epoch 56/500\n",
            "2/2 [==============================] - 0s 4ms/step - loss: 11.1577 - mae: 11.1577\n",
            "Epoch 57/500\n",
            "2/2 [==============================] - 0s 4ms/step - loss: 13.1153 - mae: 13.1153\n",
            "Epoch 58/500\n",
            "2/2 [==============================] - 0s 4ms/step - loss: 9.8073 - mae: 9.8073\n",
            "Epoch 59/500\n",
            "2/2 [==============================] - 0s 4ms/step - loss: 13.3068 - mae: 13.3068\n",
            "Epoch 60/500\n",
            "2/2 [==============================] - 0s 5ms/step - loss: 10.8670 - mae: 10.8670\n",
            "Epoch 61/500\n",
            "2/2 [==============================] - 0s 4ms/step - loss: 13.4730 - mae: 13.4730\n",
            "Epoch 62/500\n",
            "2/2 [==============================] - 0s 4ms/step - loss: 17.5143 - mae: 17.5143\n",
            "Epoch 63/500\n",
            "2/2 [==============================] - 0s 5ms/step - loss: 9.1553 - mae: 9.1553\n",
            "Epoch 64/500\n",
            "2/2 [==============================] - 0s 4ms/step - loss: 18.3865 - mae: 18.3865\n",
            "Epoch 65/500\n",
            "2/2 [==============================] - 0s 5ms/step - loss: 10.1112 - mae: 10.1112\n",
            "Epoch 66/500\n",
            "2/2 [==============================] - 0s 4ms/step - loss: 24.2558 - mae: 24.2558\n",
            "Epoch 67/500\n",
            "2/2 [==============================] - 0s 4ms/step - loss: 10.8814 - mae: 10.8814\n",
            "Epoch 68/500\n",
            "2/2 [==============================] - 0s 5ms/step - loss: 10.7636 - mae: 10.7636\n",
            "Epoch 69/500\n",
            "2/2 [==============================] - 0s 5ms/step - loss: 23.2479 - mae: 23.2479\n",
            "Epoch 70/500\n",
            "2/2 [==============================] - 0s 5ms/step - loss: 8.8107 - mae: 8.8107\n",
            "Epoch 71/500\n",
            "2/2 [==============================] - 0s 5ms/step - loss: 15.9773 - mae: 15.9773\n",
            "Epoch 72/500\n",
            "2/2 [==============================] - 0s 5ms/step - loss: 8.1348 - mae: 8.1348\n",
            "Epoch 73/500\n",
            "2/2 [==============================] - 0s 5ms/step - loss: 9.4614 - mae: 9.4614\n",
            "Epoch 74/500\n",
            "2/2 [==============================] - 0s 6ms/step - loss: 28.1558 - mae: 28.1558\n",
            "Epoch 75/500\n",
            "2/2 [==============================] - 0s 4ms/step - loss: 10.1901 - mae: 10.1901\n",
            "Epoch 76/500\n",
            "2/2 [==============================] - 0s 4ms/step - loss: 13.1403 - mae: 13.1403\n",
            "Epoch 77/500\n",
            "2/2 [==============================] - 0s 4ms/step - loss: 18.3893 - mae: 18.3893\n",
            "Epoch 78/500\n",
            "2/2 [==============================] - 0s 4ms/step - loss: 9.0081 - mae: 9.0081\n",
            "Epoch 79/500\n",
            "2/2 [==============================] - 0s 4ms/step - loss: 23.4429 - mae: 23.4429\n",
            "Epoch 80/500\n",
            "2/2 [==============================] - 0s 4ms/step - loss: 26.1136 - mae: 26.1136\n",
            "Epoch 81/500\n",
            "2/2 [==============================] - 0s 5ms/step - loss: 11.3824 - mae: 11.3824\n",
            "Epoch 82/500\n",
            "2/2 [==============================] - 0s 4ms/step - loss: 12.4915 - mae: 12.4915\n",
            "Epoch 83/500\n",
            "2/2 [==============================] - 0s 4ms/step - loss: 17.1769 - mae: 17.1769\n",
            "Epoch 84/500\n",
            "2/2 [==============================] - 0s 4ms/step - loss: 6.5852 - mae: 6.5852\n",
            "Epoch 85/500\n",
            "2/2 [==============================] - 0s 4ms/step - loss: 20.2997 - mae: 20.2997\n",
            "Epoch 86/500\n",
            "2/2 [==============================] - 0s 4ms/step - loss: 10.1609 - mae: 10.1609\n",
            "Epoch 87/500\n",
            "2/2 [==============================] - 0s 6ms/step - loss: 24.3459 - mae: 24.3459\n",
            "Epoch 88/500\n",
            "2/2 [==============================] - 0s 4ms/step - loss: 19.0100 - mae: 19.0100\n",
            "Epoch 89/500\n",
            "2/2 [==============================] - 0s 5ms/step - loss: 7.1560 - mae: 7.1560\n",
            "Epoch 90/500\n",
            "2/2 [==============================] - 0s 4ms/step - loss: 18.2519 - mae: 18.2519\n",
            "Epoch 91/500\n",
            "2/2 [==============================] - 0s 5ms/step - loss: 13.3013 - mae: 13.3013\n",
            "Epoch 92/500\n",
            "2/2 [==============================] - 0s 5ms/step - loss: 14.8493 - mae: 14.8493\n",
            "Epoch 93/500\n",
            "2/2 [==============================] - 0s 4ms/step - loss: 11.6419 - mae: 11.6419\n",
            "Epoch 94/500\n",
            "2/2 [==============================] - 0s 4ms/step - loss: 16.1994 - mae: 16.1994\n",
            "Epoch 95/500\n",
            "2/2 [==============================] - 0s 5ms/step - loss: 15.5416 - mae: 15.5416\n",
            "Epoch 96/500\n",
            "2/2 [==============================] - 0s 4ms/step - loss: 15.0759 - mae: 15.0759\n",
            "Epoch 97/500\n",
            "2/2 [==============================] - 0s 5ms/step - loss: 10.9040 - mae: 10.9040\n",
            "Epoch 98/500\n",
            "2/2 [==============================] - 0s 5ms/step - loss: 14.3650 - mae: 14.3650\n",
            "Epoch 99/500\n",
            "2/2 [==============================] - 0s 5ms/step - loss: 13.3814 - mae: 13.3814\n",
            "Epoch 100/500\n",
            "2/2 [==============================] - 0s 5ms/step - loss: 20.0043 - mae: 20.0043\n",
            "Epoch 101/500\n",
            "2/2 [==============================] - 0s 5ms/step - loss: 22.5009 - mae: 22.5009\n",
            "Epoch 102/500\n",
            "2/2 [==============================] - 0s 5ms/step - loss: 11.2639 - mae: 11.2639\n",
            "Epoch 103/500\n",
            "2/2 [==============================] - 0s 5ms/step - loss: 9.3515 - mae: 9.3515\n",
            "Epoch 104/500\n",
            "2/2 [==============================] - 0s 4ms/step - loss: 25.1295 - mae: 25.1295\n",
            "Epoch 105/500\n",
            "2/2 [==============================] - 0s 4ms/step - loss: 12.3980 - mae: 12.3980\n",
            "Epoch 106/500\n",
            "2/2 [==============================] - 0s 5ms/step - loss: 9.3872 - mae: 9.3872\n",
            "Epoch 107/500\n",
            "2/2 [==============================] - 0s 4ms/step - loss: 23.1428 - mae: 23.1428\n",
            "Epoch 108/500\n",
            "2/2 [==============================] - 0s 7ms/step - loss: 8.2621 - mae: 8.2621\n",
            "Epoch 109/500\n",
            "2/2 [==============================] - 0s 5ms/step - loss: 13.9871 - mae: 13.9871\n",
            "Epoch 110/500\n",
            "2/2 [==============================] - 0s 5ms/step - loss: 10.6415 - mae: 10.6415\n",
            "Epoch 111/500\n",
            "2/2 [==============================] - 0s 5ms/step - loss: 16.9673 - mae: 16.9673\n",
            "Epoch 112/500\n",
            "2/2 [==============================] - 0s 5ms/step - loss: 8.2580 - mae: 8.2580\n",
            "Epoch 113/500\n",
            "2/2 [==============================] - 0s 6ms/step - loss: 19.6282 - mae: 19.6282\n",
            "Epoch 114/500\n",
            "2/2 [==============================] - 0s 5ms/step - loss: 17.3383 - mae: 17.3383\n",
            "Epoch 115/500\n",
            "2/2 [==============================] - 0s 5ms/step - loss: 11.2093 - mae: 11.2093\n",
            "Epoch 116/500\n",
            "2/2 [==============================] - 0s 5ms/step - loss: 23.4886 - mae: 23.4886\n",
            "Epoch 117/500\n",
            "2/2 [==============================] - 0s 4ms/step - loss: 9.7046 - mae: 9.7046\n",
            "Epoch 118/500\n",
            "2/2 [==============================] - 0s 4ms/step - loss: 10.7808 - mae: 10.7808\n",
            "Epoch 119/500\n",
            "2/2 [==============================] - 0s 4ms/step - loss: 8.0841 - mae: 8.0841\n",
            "Epoch 120/500\n",
            "2/2 [==============================] - 0s 4ms/step - loss: 29.8146 - mae: 29.8146\n",
            "Epoch 121/500\n",
            "2/2 [==============================] - 0s 4ms/step - loss: 8.1149 - mae: 8.1149\n",
            "Epoch 122/500\n",
            "2/2 [==============================] - 0s 4ms/step - loss: 28.3938 - mae: 28.3938\n",
            "Epoch 123/500\n",
            "2/2 [==============================] - 0s 4ms/step - loss: 33.0033 - mae: 33.0033\n",
            "Epoch 124/500\n",
            "2/2 [==============================] - 0s 6ms/step - loss: 19.7157 - mae: 19.7157\n",
            "Epoch 125/500\n",
            "2/2 [==============================] - 0s 6ms/step - loss: 7.0476 - mae: 7.0476\n",
            "Epoch 126/500\n",
            "2/2 [==============================] - 0s 5ms/step - loss: 21.8693 - mae: 21.8693\n",
            "Epoch 127/500\n",
            "2/2 [==============================] - 0s 4ms/step - loss: 8.0239 - mae: 8.0239\n",
            "Epoch 128/500\n",
            "2/2 [==============================] - 0s 4ms/step - loss: 21.1011 - mae: 21.1011\n",
            "Epoch 129/500\n",
            "2/2 [==============================] - 0s 4ms/step - loss: 9.0547 - mae: 9.0547\n",
            "Epoch 130/500\n",
            "2/2 [==============================] - 0s 4ms/step - loss: 24.0743 - mae: 24.0743\n",
            "Epoch 131/500\n",
            "2/2 [==============================] - 0s 4ms/step - loss: 9.7963 - mae: 9.7963\n",
            "Epoch 132/500\n",
            "2/2 [==============================] - 0s 4ms/step - loss: 18.3157 - mae: 18.3157\n",
            "Epoch 133/500\n",
            "2/2 [==============================] - 0s 4ms/step - loss: 7.6167 - mae: 7.6167\n",
            "Epoch 134/500\n",
            "2/2 [==============================] - 0s 4ms/step - loss: 18.5736 - mae: 18.5736\n",
            "Epoch 135/500\n",
            "2/2 [==============================] - 0s 4ms/step - loss: 10.5654 - mae: 10.5654\n",
            "Epoch 136/500\n",
            "2/2 [==============================] - 0s 6ms/step - loss: 18.2530 - mae: 18.2530\n",
            "Epoch 137/500\n",
            "2/2 [==============================] - 0s 4ms/step - loss: 23.1309 - mae: 23.1309\n",
            "Epoch 138/500\n",
            "2/2 [==============================] - 0s 4ms/step - loss: 9.1470 - mae: 9.1470\n",
            "Epoch 139/500\n",
            "2/2 [==============================] - 0s 4ms/step - loss: 8.9324 - mae: 8.9324\n",
            "Epoch 140/500\n",
            "2/2 [==============================] - 0s 4ms/step - loss: 16.4204 - mae: 16.4204\n",
            "Epoch 141/500\n",
            "2/2 [==============================] - 0s 4ms/step - loss: 8.4533 - mae: 8.4533\n",
            "Epoch 142/500\n",
            "2/2 [==============================] - 0s 4ms/step - loss: 36.7803 - mae: 36.7803\n",
            "Epoch 143/500\n",
            "2/2 [==============================] - 0s 4ms/step - loss: 25.4640 - mae: 25.4640\n",
            "Epoch 144/500\n",
            "2/2 [==============================] - 0s 4ms/step - loss: 9.5720 - mae: 9.5720\n",
            "Epoch 145/500\n",
            "2/2 [==============================] - 0s 4ms/step - loss: 26.6562 - mae: 26.6562\n",
            "Epoch 146/500\n",
            "2/2 [==============================] - 0s 4ms/step - loss: 8.6917 - mae: 8.6917\n",
            "Epoch 147/500\n",
            "2/2 [==============================] - 0s 4ms/step - loss: 15.6837 - mae: 15.6837\n",
            "Epoch 148/500\n",
            "2/2 [==============================] - 0s 6ms/step - loss: 18.3883 - mae: 18.3883\n",
            "Epoch 149/500\n",
            "2/2 [==============================] - 0s 4ms/step - loss: 8.1674 - mae: 8.1674\n",
            "Epoch 150/500\n",
            "2/2 [==============================] - 0s 4ms/step - loss: 7.5049 - mae: 7.5049\n",
            "Epoch 151/500\n",
            "2/2 [==============================] - 0s 4ms/step - loss: 18.1620 - mae: 18.1620\n",
            "Epoch 152/500\n",
            "2/2 [==============================] - 0s 4ms/step - loss: 10.2744 - mae: 10.2744\n",
            "Epoch 153/500\n",
            "2/2 [==============================] - 0s 4ms/step - loss: 29.3388 - mae: 29.3388\n",
            "Epoch 154/500\n",
            "2/2 [==============================] - 0s 5ms/step - loss: 10.6338 - mae: 10.6338\n",
            "Epoch 155/500\n",
            "2/2 [==============================] - 0s 5ms/step - loss: 15.5247 - mae: 15.5247\n",
            "Epoch 156/500\n",
            "2/2 [==============================] - 0s 4ms/step - loss: 17.1643 - mae: 17.1643\n",
            "Epoch 157/500\n",
            "2/2 [==============================] - 0s 5ms/step - loss: 32.4466 - mae: 32.4466\n",
            "Epoch 158/500\n",
            "2/2 [==============================] - 0s 4ms/step - loss: 10.6275 - mae: 10.6275\n",
            "Epoch 159/500\n",
            "2/2 [==============================] - 0s 4ms/step - loss: 8.8840 - mae: 8.8840\n",
            "Epoch 160/500\n",
            "2/2 [==============================] - 0s 5ms/step - loss: 21.8419 - mae: 21.8419\n",
            "Epoch 161/500\n",
            "2/2 [==============================] - 0s 5ms/step - loss: 11.0943 - mae: 11.0943\n",
            "Epoch 162/500\n",
            "2/2 [==============================] - 0s 4ms/step - loss: 21.3697 - mae: 21.3697\n",
            "Epoch 163/500\n",
            "2/2 [==============================] - 0s 4ms/step - loss: 18.8530 - mae: 18.8530\n",
            "Epoch 164/500\n",
            "2/2 [==============================] - 0s 4ms/step - loss: 12.6942 - mae: 12.6942\n",
            "Epoch 165/500\n",
            "2/2 [==============================] - 0s 4ms/step - loss: 12.7379 - mae: 12.7379\n",
            "Epoch 166/500\n",
            "2/2 [==============================] - 0s 5ms/step - loss: 18.9206 - mae: 18.9206\n",
            "Epoch 167/500\n",
            "2/2 [==============================] - 0s 5ms/step - loss: 26.7836 - mae: 26.7836\n",
            "Epoch 168/500\n",
            "2/2 [==============================] - 0s 4ms/step - loss: 9.9877 - mae: 9.9877\n",
            "Epoch 169/500\n",
            "2/2 [==============================] - 0s 4ms/step - loss: 23.0267 - mae: 23.0267\n",
            "Epoch 170/500\n",
            "2/2 [==============================] - 0s 4ms/step - loss: 10.0962 - mae: 10.0962\n",
            "Epoch 171/500\n",
            "2/2 [==============================] - 0s 4ms/step - loss: 17.8611 - mae: 17.8611\n",
            "Epoch 172/500\n",
            "2/2 [==============================] - 0s 5ms/step - loss: 29.2913 - mae: 29.2913\n",
            "Epoch 173/500\n",
            "2/2 [==============================] - 0s 5ms/step - loss: 16.8993 - mae: 16.8993\n",
            "Epoch 174/500\n",
            "2/2 [==============================] - 0s 5ms/step - loss: 11.1906 - mae: 11.1906\n",
            "Epoch 175/500\n",
            "2/2 [==============================] - 0s 4ms/step - loss: 27.4722 - mae: 27.4722\n",
            "Epoch 176/500\n",
            "2/2 [==============================] - 0s 5ms/step - loss: 8.4288 - mae: 8.4288\n",
            "Epoch 177/500\n",
            "2/2 [==============================] - 0s 4ms/step - loss: 9.3898 - mae: 9.3898\n",
            "Epoch 178/500\n",
            "2/2 [==============================] - 0s 4ms/step - loss: 18.4939 - mae: 18.4939\n",
            "Epoch 179/500\n",
            "2/2 [==============================] - 0s 4ms/step - loss: 10.4539 - mae: 10.4539\n",
            "Epoch 180/500\n",
            "2/2 [==============================] - 0s 7ms/step - loss: 7.9943 - mae: 7.9943\n",
            "Epoch 181/500\n",
            "2/2 [==============================] - 0s 4ms/step - loss: 17.6760 - mae: 17.6760\n",
            "Epoch 182/500\n",
            "2/2 [==============================] - 0s 4ms/step - loss: 11.1682 - mae: 11.1682\n",
            "Epoch 183/500\n",
            "2/2 [==============================] - 0s 4ms/step - loss: 12.3460 - mae: 12.3460\n",
            "Epoch 184/500\n",
            "2/2 [==============================] - 0s 4ms/step - loss: 27.2132 - mae: 27.2132\n",
            "Epoch 185/500\n",
            "2/2 [==============================] - 0s 4ms/step - loss: 7.5926 - mae: 7.5926\n",
            "Epoch 186/500\n",
            "2/2 [==============================] - 0s 4ms/step - loss: 16.0098 - mae: 16.0098\n",
            "Epoch 187/500\n",
            "2/2 [==============================] - 0s 4ms/step - loss: 8.5936 - mae: 8.5936\n",
            "Epoch 188/500\n",
            "2/2 [==============================] - 0s 4ms/step - loss: 28.6772 - mae: 28.6772\n",
            "Epoch 189/500\n",
            "2/2 [==============================] - 0s 4ms/step - loss: 13.1948 - mae: 13.1948\n",
            "Epoch 190/500\n",
            "2/2 [==============================] - 0s 4ms/step - loss: 18.3408 - mae: 18.3408\n",
            "Epoch 191/500\n",
            "2/2 [==============================] - 0s 4ms/step - loss: 13.7751 - mae: 13.7751\n",
            "Epoch 192/500\n",
            "2/2 [==============================] - 0s 4ms/step - loss: 13.7392 - mae: 13.7392\n",
            "Epoch 193/500\n",
            "2/2 [==============================] - 0s 4ms/step - loss: 28.6129 - mae: 28.6129\n",
            "Epoch 194/500\n",
            "2/2 [==============================] - 0s 4ms/step - loss: 7.0704 - mae: 7.0704\n",
            "Epoch 195/500\n",
            "2/2 [==============================] - 0s 5ms/step - loss: 7.8034 - mae: 7.8034\n",
            "Epoch 196/500\n",
            "2/2 [==============================] - 0s 5ms/step - loss: 26.0419 - mae: 26.0419\n",
            "Epoch 197/500\n",
            "2/2 [==============================] - 0s 5ms/step - loss: 11.5896 - mae: 11.5896\n",
            "Epoch 198/500\n",
            "2/2 [==============================] - 0s 4ms/step - loss: 18.9018 - mae: 18.9018\n",
            "Epoch 199/500\n",
            "2/2 [==============================] - 0s 5ms/step - loss: 16.6993 - mae: 16.6993\n",
            "Epoch 200/500\n",
            "2/2 [==============================] - 0s 4ms/step - loss: 12.3894 - mae: 12.3894\n",
            "Epoch 201/500\n",
            "2/2 [==============================] - 0s 6ms/step - loss: 7.1233 - mae: 7.1233\n",
            "Epoch 202/500\n",
            "2/2 [==============================] - 0s 5ms/step - loss: 22.9253 - mae: 22.9253\n",
            "Epoch 203/500\n",
            "2/2 [==============================] - 0s 7ms/step - loss: 9.0066 - mae: 9.0066\n",
            "Epoch 204/500\n",
            "2/2 [==============================] - 0s 4ms/step - loss: 18.8732 - mae: 18.8732\n",
            "Epoch 205/500\n",
            "2/2 [==============================] - 0s 5ms/step - loss: 9.4087 - mae: 9.4087\n",
            "Epoch 206/500\n",
            "2/2 [==============================] - 0s 4ms/step - loss: 10.4698 - mae: 10.4698\n",
            "Epoch 207/500\n",
            "2/2 [==============================] - 0s 4ms/step - loss: 21.1011 - mae: 21.1011\n",
            "Epoch 208/500\n",
            "2/2 [==============================] - 0s 4ms/step - loss: 16.4891 - mae: 16.4891\n",
            "Epoch 209/500\n",
            "2/2 [==============================] - 0s 5ms/step - loss: 14.3694 - mae: 14.3694\n",
            "Epoch 210/500\n",
            "2/2 [==============================] - 0s 4ms/step - loss: 17.3407 - mae: 17.3407\n",
            "Epoch 211/500\n",
            "2/2 [==============================] - 0s 5ms/step - loss: 10.2828 - mae: 10.2828\n",
            "Epoch 212/500\n",
            "2/2 [==============================] - 0s 6ms/step - loss: 19.8436 - mae: 19.8436\n",
            "Epoch 213/500\n",
            "2/2 [==============================] - 0s 4ms/step - loss: 14.6479 - mae: 14.6479\n",
            "Epoch 214/500\n",
            "2/2 [==============================] - 0s 4ms/step - loss: 14.3401 - mae: 14.3401\n",
            "Epoch 215/500\n",
            "2/2 [==============================] - 0s 4ms/step - loss: 22.7862 - mae: 22.7862\n",
            "Epoch 216/500\n",
            "2/2 [==============================] - 0s 5ms/step - loss: 14.5503 - mae: 14.5503\n",
            "Epoch 217/500\n",
            "2/2 [==============================] - 0s 5ms/step - loss: 9.2713 - mae: 9.2713\n",
            "Epoch 218/500\n",
            "2/2 [==============================] - 0s 5ms/step - loss: 11.8256 - mae: 11.8256\n",
            "Epoch 219/500\n",
            "2/2 [==============================] - 0s 5ms/step - loss: 6.8378 - mae: 6.8378\n",
            "Epoch 220/500\n",
            "2/2 [==============================] - 0s 5ms/step - loss: 7.1227 - mae: 7.1227\n",
            "Epoch 221/500\n",
            "2/2 [==============================] - 0s 5ms/step - loss: 38.6810 - mae: 38.6810\n",
            "Epoch 222/500\n",
            "2/2 [==============================] - 0s 7ms/step - loss: 38.7456 - mae: 38.7456\n",
            "Epoch 223/500\n",
            "2/2 [==============================] - 0s 5ms/step - loss: 5.0708 - mae: 5.0708\n",
            "Epoch 224/500\n",
            "2/2 [==============================] - 0s 5ms/step - loss: 11.2472 - mae: 11.2472\n",
            "Epoch 225/500\n",
            "2/2 [==============================] - 0s 5ms/step - loss: 31.0850 - mae: 31.0850\n",
            "Epoch 226/500\n",
            "2/2 [==============================] - 0s 5ms/step - loss: 12.2659 - mae: 12.2659\n",
            "Epoch 227/500\n",
            "2/2 [==============================] - 0s 5ms/step - loss: 19.2201 - mae: 19.2201\n",
            "Epoch 228/500\n",
            "2/2 [==============================] - 0s 5ms/step - loss: 11.3145 - mae: 11.3145\n",
            "Epoch 229/500\n",
            "2/2 [==============================] - 0s 5ms/step - loss: 13.7654 - mae: 13.7654\n",
            "Epoch 230/500\n",
            "2/2 [==============================] - 0s 5ms/step - loss: 8.7708 - mae: 8.7708\n",
            "Epoch 231/500\n",
            "2/2 [==============================] - 0s 8ms/step - loss: 20.5301 - mae: 20.5301\n",
            "Epoch 232/500\n",
            "2/2 [==============================] - 0s 7ms/step - loss: 20.9366 - mae: 20.9366\n",
            "Epoch 233/500\n",
            "2/2 [==============================] - 0s 7ms/step - loss: 15.5354 - mae: 15.5354\n",
            "Epoch 234/500\n",
            "2/2 [==============================] - 0s 8ms/step - loss: 7.1189 - mae: 7.1189\n",
            "Epoch 235/500\n",
            "2/2 [==============================] - 0s 6ms/step - loss: 16.1732 - mae: 16.1732\n",
            "Epoch 236/500\n",
            "2/2 [==============================] - 0s 5ms/step - loss: 6.8780 - mae: 6.8780\n",
            "Epoch 237/500\n",
            "2/2 [==============================] - 0s 6ms/step - loss: 8.8413 - mae: 8.8413\n",
            "Epoch 238/500\n",
            "2/2 [==============================] - 0s 5ms/step - loss: 7.9148 - mae: 7.9148\n",
            "Epoch 239/500\n",
            "2/2 [==============================] - 0s 6ms/step - loss: 16.0121 - mae: 16.0121\n",
            "Epoch 240/500\n",
            "2/2 [==============================] - 0s 5ms/step - loss: 9.1998 - mae: 9.1998\n",
            "Epoch 241/500\n",
            "2/2 [==============================] - 0s 5ms/step - loss: 13.7099 - mae: 13.7099\n",
            "Epoch 242/500\n",
            "2/2 [==============================] - 0s 5ms/step - loss: 9.0457 - mae: 9.0457\n",
            "Epoch 243/500\n",
            "2/2 [==============================] - 0s 8ms/step - loss: 19.7050 - mae: 19.7050\n",
            "Epoch 244/500\n",
            "2/2 [==============================] - 0s 6ms/step - loss: 14.3618 - mae: 14.3618\n",
            "Epoch 245/500\n",
            "2/2 [==============================] - 0s 5ms/step - loss: 14.9523 - mae: 14.9523\n",
            "Epoch 246/500\n",
            "2/2 [==============================] - 0s 5ms/step - loss: 16.0628 - mae: 16.0628\n",
            "Epoch 247/500\n",
            "2/2 [==============================] - 0s 5ms/step - loss: 18.0220 - mae: 18.0220\n",
            "Epoch 248/500\n",
            "2/2 [==============================] - 0s 7ms/step - loss: 13.5603 - mae: 13.5603\n",
            "Epoch 249/500\n",
            "2/2 [==============================] - 0s 7ms/step - loss: 14.7140 - mae: 14.7140\n",
            "Epoch 250/500\n",
            "2/2 [==============================] - 0s 5ms/step - loss: 23.6147 - mae: 23.6147\n",
            "Epoch 251/500\n",
            "2/2 [==============================] - 0s 6ms/step - loss: 13.8498 - mae: 13.8498\n",
            "Epoch 252/500\n",
            "2/2 [==============================] - 0s 6ms/step - loss: 23.0186 - mae: 23.0186\n",
            "Epoch 253/500\n",
            "2/2 [==============================] - 0s 6ms/step - loss: 10.4488 - mae: 10.4488\n",
            "Epoch 254/500\n",
            "2/2 [==============================] - 0s 4ms/step - loss: 12.3951 - mae: 12.3951\n",
            "Epoch 255/500\n",
            "2/2 [==============================] - 0s 6ms/step - loss: 16.8201 - mae: 16.8201\n",
            "Epoch 256/500\n",
            "2/2 [==============================] - 0s 6ms/step - loss: 9.4359 - mae: 9.4359\n",
            "Epoch 257/500\n",
            "2/2 [==============================] - 0s 5ms/step - loss: 13.3168 - mae: 13.3168\n",
            "Epoch 258/500\n",
            "2/2 [==============================] - 0s 9ms/step - loss: 7.5023 - mae: 7.5023\n",
            "Epoch 259/500\n",
            "2/2 [==============================] - 0s 7ms/step - loss: 18.4606 - mae: 18.4606\n",
            "Epoch 260/500\n",
            "2/2 [==============================] - 0s 5ms/step - loss: 26.0334 - mae: 26.0334\n",
            "Epoch 261/500\n",
            "2/2 [==============================] - 0s 6ms/step - loss: 9.5377 - mae: 9.5377\n",
            "Epoch 262/500\n",
            "2/2 [==============================] - 0s 6ms/step - loss: 8.6215 - mae: 8.6215\n",
            "Epoch 263/500\n",
            "2/2 [==============================] - 0s 6ms/step - loss: 8.1056 - mae: 8.1056\n",
            "Epoch 264/500\n",
            "2/2 [==============================] - 0s 5ms/step - loss: 18.0053 - mae: 18.0053\n",
            "Epoch 265/500\n",
            "2/2 [==============================] - 0s 6ms/step - loss: 12.2067 - mae: 12.2067\n",
            "Epoch 266/500\n",
            "2/2 [==============================] - 0s 5ms/step - loss: 13.5811 - mae: 13.5811\n",
            "Epoch 267/500\n",
            "2/2 [==============================] - 0s 5ms/step - loss: 11.2389 - mae: 11.2389\n",
            "Epoch 268/500\n",
            "2/2 [==============================] - 0s 4ms/step - loss: 19.5254 - mae: 19.5254\n",
            "Epoch 269/500\n",
            "2/2 [==============================] - 0s 4ms/step - loss: 39.5705 - mae: 39.5705\n",
            "Epoch 270/500\n",
            "2/2 [==============================] - 0s 6ms/step - loss: 12.1656 - mae: 12.1656\n",
            "Epoch 271/500\n",
            "2/2 [==============================] - 0s 7ms/step - loss: 14.1300 - mae: 14.1300\n",
            "Epoch 272/500\n",
            "2/2 [==============================] - 0s 7ms/step - loss: 27.9740 - mae: 27.9740\n",
            "Epoch 273/500\n",
            "2/2 [==============================] - 0s 5ms/step - loss: 8.0238 - mae: 8.0238\n",
            "Epoch 274/500\n",
            "2/2 [==============================] - 0s 6ms/step - loss: 6.4502 - mae: 6.4502\n",
            "Epoch 275/500\n",
            "2/2 [==============================] - 0s 5ms/step - loss: 33.9122 - mae: 33.9122\n",
            "Epoch 276/500\n",
            "2/2 [==============================] - 0s 5ms/step - loss: 7.9777 - mae: 7.9777\n",
            "Epoch 277/500\n",
            "2/2 [==============================] - 0s 5ms/step - loss: 25.2398 - mae: 25.2398\n",
            "Epoch 278/500\n",
            "2/2 [==============================] - 0s 5ms/step - loss: 11.5353 - mae: 11.5353\n",
            "Epoch 279/500\n",
            "2/2 [==============================] - 0s 5ms/step - loss: 16.2703 - mae: 16.2703\n",
            "Epoch 280/500\n",
            "2/2 [==============================] - 0s 6ms/step - loss: 21.5823 - mae: 21.5823\n",
            "Epoch 281/500\n",
            "2/2 [==============================] - 0s 5ms/step - loss: 22.9702 - mae: 22.9702\n",
            "Epoch 282/500\n",
            "2/2 [==============================] - 0s 6ms/step - loss: 8.0317 - mae: 8.0317\n",
            "Epoch 283/500\n",
            "2/2 [==============================] - 0s 4ms/step - loss: 8.3195 - mae: 8.3195\n",
            "Epoch 284/500\n",
            "2/2 [==============================] - 0s 5ms/step - loss: 25.7104 - mae: 25.7104\n",
            "Epoch 285/500\n",
            "2/2 [==============================] - 0s 5ms/step - loss: 14.2852 - mae: 14.2852\n",
            "Epoch 286/500\n",
            "2/2 [==============================] - 0s 6ms/step - loss: 5.2847 - mae: 5.2847\n",
            "Epoch 287/500\n",
            "2/2 [==============================] - 0s 5ms/step - loss: 20.7973 - mae: 20.7973\n",
            "Epoch 288/500\n",
            "2/2 [==============================] - 0s 4ms/step - loss: 27.6804 - mae: 27.6804\n",
            "Epoch 289/500\n",
            "2/2 [==============================] - 0s 4ms/step - loss: 10.4264 - mae: 10.4264\n",
            "Epoch 290/500\n",
            "2/2 [==============================] - 0s 4ms/step - loss: 16.2989 - mae: 16.2989\n",
            "Epoch 291/500\n",
            "2/2 [==============================] - 0s 4ms/step - loss: 16.4840 - mae: 16.4840\n",
            "Epoch 292/500\n",
            "2/2 [==============================] - 0s 4ms/step - loss: 7.4406 - mae: 7.4406\n",
            "Epoch 293/500\n",
            "2/2 [==============================] - 0s 4ms/step - loss: 16.5471 - mae: 16.5471\n",
            "Epoch 294/500\n",
            "2/2 [==============================] - 0s 5ms/step - loss: 25.3260 - mae: 25.3260\n",
            "Epoch 295/500\n",
            "2/2 [==============================] - 0s 5ms/step - loss: 14.6028 - mae: 14.6028\n",
            "Epoch 296/500\n",
            "2/2 [==============================] - 0s 6ms/step - loss: 4.6838 - mae: 4.6838\n",
            "Epoch 297/500\n",
            "2/2 [==============================] - 0s 5ms/step - loss: 7.3017 - mae: 7.3017\n",
            "Epoch 298/500\n",
            "2/2 [==============================] - 0s 5ms/step - loss: 19.6235 - mae: 19.6235\n",
            "Epoch 299/500\n",
            "2/2 [==============================] - 0s 5ms/step - loss: 6.6350 - mae: 6.6350\n",
            "Epoch 300/500\n",
            "2/2 [==============================] - 0s 5ms/step - loss: 22.0647 - mae: 22.0647\n",
            "Epoch 301/500\n",
            "2/2 [==============================] - 0s 6ms/step - loss: 9.1543 - mae: 9.1543\n",
            "Epoch 302/500\n",
            "2/2 [==============================] - 0s 5ms/step - loss: 11.2022 - mae: 11.2022\n",
            "Epoch 303/500\n",
            "2/2 [==============================] - 0s 5ms/step - loss: 9.3532 - mae: 9.3532\n",
            "Epoch 304/500\n",
            "2/2 [==============================] - 0s 5ms/step - loss: 23.7091 - mae: 23.7091\n",
            "Epoch 305/500\n",
            "2/2 [==============================] - 0s 4ms/step - loss: 7.9349 - mae: 7.9349\n",
            "Epoch 306/500\n",
            "2/2 [==============================] - 0s 6ms/step - loss: 23.7454 - mae: 23.7454\n",
            "Epoch 307/500\n",
            "2/2 [==============================] - 0s 5ms/step - loss: 5.8938 - mae: 5.8938\n",
            "Epoch 308/500\n",
            "2/2 [==============================] - 0s 5ms/step - loss: 21.3328 - mae: 21.3328\n",
            "Epoch 309/500\n",
            "2/2 [==============================] - 0s 5ms/step - loss: 18.3939 - mae: 18.3939\n",
            "Epoch 310/500\n",
            "2/2 [==============================] - 0s 6ms/step - loss: 4.5098 - mae: 4.5098\n",
            "Epoch 311/500\n",
            "2/2 [==============================] - 0s 5ms/step - loss: 6.5204 - mae: 6.5204\n",
            "Epoch 312/500\n",
            "2/2 [==============================] - 0s 6ms/step - loss: 35.4123 - mae: 35.4123\n",
            "Epoch 313/500\n",
            "2/2 [==============================] - 0s 5ms/step - loss: 28.8889 - mae: 28.8889\n",
            "Epoch 314/500\n",
            "2/2 [==============================] - 0s 4ms/step - loss: 11.2032 - mae: 11.2032\n",
            "Epoch 315/500\n",
            "2/2 [==============================] - 0s 4ms/step - loss: 23.5678 - mae: 23.5678\n",
            "Epoch 316/500\n",
            "2/2 [==============================] - 0s 4ms/step - loss: 14.4010 - mae: 14.4010\n",
            "Epoch 317/500\n",
            "2/2 [==============================] - 0s 4ms/step - loss: 19.9408 - mae: 19.9408\n",
            "Epoch 318/500\n",
            "2/2 [==============================] - 0s 4ms/step - loss: 7.9974 - mae: 7.9974\n",
            "Epoch 319/500\n",
            "2/2 [==============================] - 0s 4ms/step - loss: 18.0718 - mae: 18.0718\n",
            "Epoch 320/500\n",
            "2/2 [==============================] - 0s 4ms/step - loss: 10.6170 - mae: 10.6170\n",
            "Epoch 321/500\n",
            "2/2 [==============================] - 0s 4ms/step - loss: 7.0147 - mae: 7.0147\n",
            "Epoch 322/500\n",
            "2/2 [==============================] - 0s 4ms/step - loss: 8.6881 - mae: 8.6881\n",
            "Epoch 323/500\n",
            "2/2 [==============================] - 0s 4ms/step - loss: 18.3628 - mae: 18.3628\n",
            "Epoch 324/500\n",
            "2/2 [==============================] - 0s 5ms/step - loss: 6.3016 - mae: 6.3016\n",
            "Epoch 325/500\n",
            "2/2 [==============================] - 0s 4ms/step - loss: 14.5649 - mae: 14.5649\n",
            "Epoch 326/500\n",
            "2/2 [==============================] - 0s 4ms/step - loss: 6.9825 - mae: 6.9825\n",
            "Epoch 327/500\n",
            "2/2 [==============================] - 0s 4ms/step - loss: 17.5476 - mae: 17.5476\n",
            "Epoch 328/500\n",
            "2/2 [==============================] - 0s 5ms/step - loss: 14.3952 - mae: 14.3952\n",
            "Epoch 329/500\n",
            "2/2 [==============================] - 0s 6ms/step - loss: 17.7180 - mae: 17.7180\n",
            "Epoch 330/500\n",
            "2/2 [==============================] - 0s 5ms/step - loss: 6.7776 - mae: 6.7776\n",
            "Epoch 331/500\n",
            "2/2 [==============================] - 0s 8ms/step - loss: 19.6596 - mae: 19.6596\n",
            "Epoch 332/500\n",
            "2/2 [==============================] - 0s 10ms/step - loss: 10.5207 - mae: 10.5207\n",
            "Epoch 333/500\n",
            "2/2 [==============================] - 0s 8ms/step - loss: 16.2621 - mae: 16.2621\n",
            "Epoch 334/500\n",
            "2/2 [==============================] - 0s 8ms/step - loss: 9.7510 - mae: 9.7510\n",
            "Epoch 335/500\n",
            "2/2 [==============================] - 0s 4ms/step - loss: 13.0661 - mae: 13.0661\n",
            "Epoch 336/500\n",
            "2/2 [==============================] - 0s 5ms/step - loss: 32.5117 - mae: 32.5117\n",
            "Epoch 337/500\n",
            "2/2 [==============================] - 0s 5ms/step - loss: 11.0580 - mae: 11.0580\n",
            "Epoch 338/500\n",
            "2/2 [==============================] - 0s 5ms/step - loss: 19.9965 - mae: 19.9965\n",
            "Epoch 339/500\n",
            "2/2 [==============================] - 0s 5ms/step - loss: 34.1975 - mae: 34.1975\n",
            "Epoch 340/500\n",
            "2/2 [==============================] - 0s 5ms/step - loss: 8.7044 - mae: 8.7044\n",
            "Epoch 341/500\n",
            "2/2 [==============================] - 0s 5ms/step - loss: 21.8509 - mae: 21.8509\n",
            "Epoch 342/500\n",
            "2/2 [==============================] - 0s 9ms/step - loss: 13.8785 - mae: 13.8785\n",
            "Epoch 343/500\n",
            "2/2 [==============================] - 0s 6ms/step - loss: 11.7299 - mae: 11.7299\n",
            "Epoch 344/500\n",
            "2/2 [==============================] - 0s 5ms/step - loss: 10.6996 - mae: 10.6996\n",
            "Epoch 345/500\n",
            "2/2 [==============================] - 0s 7ms/step - loss: 30.9282 - mae: 30.9282\n",
            "Epoch 346/500\n",
            "2/2 [==============================] - 0s 7ms/step - loss: 10.6565 - mae: 10.6565\n",
            "Epoch 347/500\n",
            "2/2 [==============================] - 0s 5ms/step - loss: 25.5993 - mae: 25.5993\n",
            "Epoch 348/500\n",
            "2/2 [==============================] - 0s 5ms/step - loss: 13.2038 - mae: 13.2038\n",
            "Epoch 349/500\n",
            "2/2 [==============================] - 0s 5ms/step - loss: 13.0670 - mae: 13.0670\n",
            "Epoch 350/500\n",
            "2/2 [==============================] - 0s 4ms/step - loss: 15.4128 - mae: 15.4128\n",
            "Epoch 351/500\n",
            "2/2 [==============================] - 0s 4ms/step - loss: 32.8950 - mae: 32.8950\n",
            "Epoch 352/500\n",
            "2/2 [==============================] - 0s 7ms/step - loss: 14.1146 - mae: 14.1146\n",
            "Epoch 353/500\n",
            "2/2 [==============================] - 0s 5ms/step - loss: 15.8492 - mae: 15.8492\n",
            "Epoch 354/500\n",
            "2/2 [==============================] - 0s 6ms/step - loss: 18.9364 - mae: 18.9364\n",
            "Epoch 355/500\n",
            "2/2 [==============================] - 0s 5ms/step - loss: 34.5503 - mae: 34.5503\n",
            "Epoch 356/500\n",
            "2/2 [==============================] - 0s 5ms/step - loss: 8.3615 - mae: 8.3615\n",
            "Epoch 357/500\n",
            "2/2 [==============================] - 0s 5ms/step - loss: 21.9838 - mae: 21.9838\n",
            "Epoch 358/500\n",
            "2/2 [==============================] - 0s 5ms/step - loss: 20.1440 - mae: 20.1440\n",
            "Epoch 359/500\n",
            "2/2 [==============================] - 0s 5ms/step - loss: 11.0396 - mae: 11.0396\n",
            "Epoch 360/500\n",
            "2/2 [==============================] - 0s 5ms/step - loss: 20.2401 - mae: 20.2401\n",
            "Epoch 361/500\n",
            "2/2 [==============================] - 0s 6ms/step - loss: 11.0790 - mae: 11.0790\n",
            "Epoch 362/500\n",
            "2/2 [==============================] - 0s 4ms/step - loss: 6.8516 - mae: 6.8516\n",
            "Epoch 363/500\n",
            "2/2 [==============================] - 0s 5ms/step - loss: 24.0617 - mae: 24.0617\n",
            "Epoch 364/500\n",
            "2/2 [==============================] - 0s 5ms/step - loss: 29.8516 - mae: 29.8516\n",
            "Epoch 365/500\n",
            "2/2 [==============================] - 0s 4ms/step - loss: 8.4019 - mae: 8.4019\n",
            "Epoch 366/500\n",
            "2/2 [==============================] - 0s 5ms/step - loss: 6.1174 - mae: 6.1174\n",
            "Epoch 367/500\n",
            "2/2 [==============================] - 0s 5ms/step - loss: 34.9702 - mae: 34.9702\n",
            "Epoch 368/500\n",
            "2/2 [==============================] - 0s 4ms/step - loss: 7.4459 - mae: 7.4459\n",
            "Epoch 369/500\n",
            "2/2 [==============================] - 0s 5ms/step - loss: 9.2609 - mae: 9.2609\n",
            "Epoch 370/500\n",
            "2/2 [==============================] - 0s 5ms/step - loss: 10.9620 - mae: 10.9620\n",
            "Epoch 371/500\n",
            "2/2 [==============================] - 0s 5ms/step - loss: 9.0232 - mae: 9.0232\n",
            "Epoch 372/500\n",
            "2/2 [==============================] - 0s 5ms/step - loss: 7.7121 - mae: 7.7121\n",
            "Epoch 373/500\n",
            "2/2 [==============================] - 0s 5ms/step - loss: 25.0511 - mae: 25.0511\n",
            "Epoch 374/500\n",
            "2/2 [==============================] - 0s 5ms/step - loss: 13.2432 - mae: 13.2432\n",
            "Epoch 375/500\n",
            "2/2 [==============================] - 0s 5ms/step - loss: 11.8529 - mae: 11.8529\n",
            "Epoch 376/500\n",
            "2/2 [==============================] - 0s 9ms/step - loss: 14.1258 - mae: 14.1258\n",
            "Epoch 377/500\n",
            "2/2 [==============================] - 0s 11ms/step - loss: 15.7207 - mae: 15.7207\n",
            "Epoch 378/500\n",
            "2/2 [==============================] - 0s 10ms/step - loss: 17.0428 - mae: 17.0428\n",
            "Epoch 379/500\n",
            "2/2 [==============================] - 0s 6ms/step - loss: 19.3971 - mae: 19.3971\n",
            "Epoch 380/500\n",
            "2/2 [==============================] - 0s 4ms/step - loss: 15.7572 - mae: 15.7572\n",
            "Epoch 381/500\n",
            "2/2 [==============================] - 0s 4ms/step - loss: 11.4648 - mae: 11.4648\n",
            "Epoch 382/500\n",
            "2/2 [==============================] - 0s 4ms/step - loss: 16.3456 - mae: 16.3456\n",
            "Epoch 383/500\n",
            "2/2 [==============================] - 0s 4ms/step - loss: 22.1030 - mae: 22.1030\n",
            "Epoch 384/500\n",
            "2/2 [==============================] - 0s 4ms/step - loss: 7.7680 - mae: 7.7680\n",
            "Epoch 385/500\n",
            "2/2 [==============================] - 0s 4ms/step - loss: 10.6257 - mae: 10.6257\n",
            "Epoch 386/500\n",
            "2/2 [==============================] - 0s 4ms/step - loss: 19.1095 - mae: 19.1095\n",
            "Epoch 387/500\n",
            "2/2 [==============================] - 0s 4ms/step - loss: 26.4566 - mae: 26.4566\n",
            "Epoch 388/500\n",
            "2/2 [==============================] - 0s 4ms/step - loss: 10.0986 - mae: 10.0986\n",
            "Epoch 389/500\n",
            "2/2 [==============================] - 0s 4ms/step - loss: 5.1863 - mae: 5.1863\n",
            "Epoch 390/500\n",
            "2/2 [==============================] - 0s 4ms/step - loss: 18.7846 - mae: 18.7846\n",
            "Epoch 391/500\n",
            "2/2 [==============================] - 0s 4ms/step - loss: 9.3516 - mae: 9.3516\n",
            "Epoch 392/500\n",
            "2/2 [==============================] - 0s 7ms/step - loss: 14.4168 - mae: 14.4168\n",
            "Epoch 393/500\n",
            "2/2 [==============================] - 0s 7ms/step - loss: 15.4277 - mae: 15.4277\n",
            "Epoch 394/500\n",
            "2/2 [==============================] - 0s 4ms/step - loss: 14.7619 - mae: 14.7619\n",
            "Epoch 395/500\n",
            "2/2 [==============================] - 0s 4ms/step - loss: 25.0001 - mae: 25.0001\n",
            "Epoch 396/500\n",
            "2/2 [==============================] - 0s 6ms/step - loss: 19.0837 - mae: 19.0837\n",
            "Epoch 397/500\n",
            "2/2 [==============================] - 0s 7ms/step - loss: 11.6059 - mae: 11.6059\n",
            "Epoch 398/500\n",
            "2/2 [==============================] - 0s 4ms/step - loss: 19.2678 - mae: 19.2678\n",
            "Epoch 399/500\n",
            "2/2 [==============================] - 0s 4ms/step - loss: 25.8368 - mae: 25.8368\n",
            "Epoch 400/500\n",
            "2/2 [==============================] - 0s 4ms/step - loss: 15.5122 - mae: 15.5122\n",
            "Epoch 401/500\n",
            "2/2 [==============================] - 0s 4ms/step - loss: 14.6903 - mae: 14.6903\n",
            "Epoch 402/500\n",
            "2/2 [==============================] - 0s 4ms/step - loss: 24.3195 - mae: 24.3195\n",
            "Epoch 403/500\n",
            "2/2 [==============================] - 0s 4ms/step - loss: 16.1869 - mae: 16.1869\n",
            "Epoch 404/500\n",
            "2/2 [==============================] - 0s 4ms/step - loss: 10.3890 - mae: 10.3890\n",
            "Epoch 405/500\n",
            "2/2 [==============================] - 0s 4ms/step - loss: 6.4008 - mae: 6.4008\n",
            "Epoch 406/500\n",
            "2/2 [==============================] - 0s 4ms/step - loss: 17.6373 - mae: 17.6373\n",
            "Epoch 407/500\n",
            "2/2 [==============================] - 0s 4ms/step - loss: 11.0638 - mae: 11.0638\n",
            "Epoch 408/500\n",
            "2/2 [==============================] - 0s 4ms/step - loss: 21.1440 - mae: 21.1440\n",
            "Epoch 409/500\n",
            "2/2 [==============================] - 0s 4ms/step - loss: 30.0995 - mae: 30.0995\n",
            "Epoch 410/500\n",
            "2/2 [==============================] - 0s 4ms/step - loss: 9.8957 - mae: 9.8957\n",
            "Epoch 411/500\n",
            "2/2 [==============================] - 0s 4ms/step - loss: 14.7552 - mae: 14.7552\n",
            "Epoch 412/500\n",
            "2/2 [==============================] - 0s 4ms/step - loss: 21.5264 - mae: 21.5264\n",
            "Epoch 413/500\n",
            "2/2 [==============================] - 0s 4ms/step - loss: 13.1973 - mae: 13.1973\n",
            "Epoch 414/500\n",
            "2/2 [==============================] - 0s 5ms/step - loss: 8.2747 - mae: 8.2747\n",
            "Epoch 415/500\n",
            "2/2 [==============================] - 0s 4ms/step - loss: 11.6912 - mae: 11.6912\n",
            "Epoch 416/500\n",
            "2/2 [==============================] - 0s 4ms/step - loss: 25.5979 - mae: 25.5979\n",
            "Epoch 417/500\n",
            "2/2 [==============================] - 0s 4ms/step - loss: 15.8016 - mae: 15.8016\n",
            "Epoch 418/500\n",
            "2/2 [==============================] - 0s 4ms/step - loss: 12.5695 - mae: 12.5695\n",
            "Epoch 419/500\n",
            "2/2 [==============================] - 0s 5ms/step - loss: 15.7302 - mae: 15.7302\n",
            "Epoch 420/500\n",
            "2/2 [==============================] - 0s 4ms/step - loss: 24.4191 - mae: 24.4191\n",
            "Epoch 421/500\n",
            "2/2 [==============================] - 0s 4ms/step - loss: 18.3025 - mae: 18.3025\n",
            "Epoch 422/500\n",
            "2/2 [==============================] - 0s 4ms/step - loss: 8.6780 - mae: 8.6780\n",
            "Epoch 423/500\n",
            "2/2 [==============================] - 0s 4ms/step - loss: 24.6387 - mae: 24.6387\n",
            "Epoch 424/500\n",
            "2/2 [==============================] - 0s 4ms/step - loss: 16.8717 - mae: 16.8717\n",
            "Epoch 425/500\n",
            "2/2 [==============================] - 0s 5ms/step - loss: 7.3813 - mae: 7.3813\n",
            "Epoch 426/500\n",
            "2/2 [==============================] - 0s 4ms/step - loss: 21.0558 - mae: 21.0558\n",
            "Epoch 427/500\n",
            "2/2 [==============================] - 0s 4ms/step - loss: 6.5511 - mae: 6.5511\n",
            "Epoch 428/500\n",
            "2/2 [==============================] - 0s 4ms/step - loss: 13.4703 - mae: 13.4703\n",
            "Epoch 429/500\n",
            "2/2 [==============================] - 0s 4ms/step - loss: 11.1968 - mae: 11.1968\n",
            "Epoch 430/500\n",
            "2/2 [==============================] - 0s 4ms/step - loss: 12.0936 - mae: 12.0936\n",
            "Epoch 431/500\n",
            "2/2 [==============================] - 0s 4ms/step - loss: 8.6543 - mae: 8.6543\n",
            "Epoch 432/500\n",
            "2/2 [==============================] - 0s 4ms/step - loss: 18.8902 - mae: 18.8902\n",
            "Epoch 433/500\n",
            "2/2 [==============================] - 0s 5ms/step - loss: 9.4916 - mae: 9.4916\n",
            "Epoch 434/500\n",
            "2/2 [==============================] - 0s 6ms/step - loss: 30.9974 - mae: 30.9974\n",
            "Epoch 435/500\n",
            "2/2 [==============================] - 0s 4ms/step - loss: 11.8707 - mae: 11.8707\n",
            "Epoch 436/500\n",
            "2/2 [==============================] - 0s 6ms/step - loss: 28.7974 - mae: 28.7974\n",
            "Epoch 437/500\n",
            "2/2 [==============================] - 0s 5ms/step - loss: 8.1019 - mae: 8.1019\n",
            "Epoch 438/500\n",
            "2/2 [==============================] - 0s 5ms/step - loss: 12.8355 - mae: 12.8355\n",
            "Epoch 439/500\n",
            "2/2 [==============================] - 0s 5ms/step - loss: 33.9255 - mae: 33.9255\n",
            "Epoch 440/500\n",
            "2/2 [==============================] - 0s 4ms/step - loss: 15.4811 - mae: 15.4811\n",
            "Epoch 441/500\n",
            "2/2 [==============================] - 0s 4ms/step - loss: 17.8432 - mae: 17.8432\n",
            "Epoch 442/500\n",
            "2/2 [==============================] - 0s 4ms/step - loss: 17.5547 - mae: 17.5547\n",
            "Epoch 443/500\n",
            "2/2 [==============================] - 0s 4ms/step - loss: 7.6790 - mae: 7.6790\n",
            "Epoch 444/500\n",
            "2/2 [==============================] - 0s 4ms/step - loss: 22.8554 - mae: 22.8554\n",
            "Epoch 445/500\n",
            "2/2 [==============================] - 0s 4ms/step - loss: 12.1190 - mae: 12.1190\n",
            "Epoch 446/500\n",
            "2/2 [==============================] - 0s 4ms/step - loss: 10.4905 - mae: 10.4905\n",
            "Epoch 447/500\n",
            "2/2 [==============================] - 0s 4ms/step - loss: 16.9540 - mae: 16.9540\n",
            "Epoch 448/500\n",
            "2/2 [==============================] - 0s 4ms/step - loss: 11.6624 - mae: 11.6624\n",
            "Epoch 449/500\n",
            "2/2 [==============================] - 0s 4ms/step - loss: 14.8526 - mae: 14.8526\n",
            "Epoch 450/500\n",
            "2/2 [==============================] - 0s 4ms/step - loss: 17.6071 - mae: 17.6071\n",
            "Epoch 451/500\n",
            "2/2 [==============================] - 0s 7ms/step - loss: 14.6480 - mae: 14.6480\n",
            "Epoch 452/500\n",
            "2/2 [==============================] - 0s 5ms/step - loss: 31.3168 - mae: 31.3168\n",
            "Epoch 453/500\n",
            "2/2 [==============================] - 0s 6ms/step - loss: 10.6002 - mae: 10.6002\n",
            "Epoch 454/500\n",
            "2/2 [==============================] - 0s 5ms/step - loss: 26.9224 - mae: 26.9224\n",
            "Epoch 455/500\n",
            "2/2 [==============================] - 0s 6ms/step - loss: 12.1385 - mae: 12.1385\n",
            "Epoch 456/500\n",
            "2/2 [==============================] - 0s 4ms/step - loss: 15.3941 - mae: 15.3941\n",
            "Epoch 457/500\n",
            "2/2 [==============================] - 0s 4ms/step - loss: 19.1427 - mae: 19.1427\n",
            "Epoch 458/500\n",
            "2/2 [==============================] - 0s 4ms/step - loss: 23.2986 - mae: 23.2986\n",
            "Epoch 459/500\n",
            "2/2 [==============================] - 0s 3ms/step - loss: 16.6666 - mae: 16.6666\n",
            "Epoch 460/500\n",
            "2/2 [==============================] - 0s 4ms/step - loss: 3.9865 - mae: 3.9865\n",
            "Epoch 461/500\n",
            "2/2 [==============================] - 0s 4ms/step - loss: 18.4062 - mae: 18.4062\n",
            "Epoch 462/500\n",
            "2/2 [==============================] - 0s 5ms/step - loss: 11.1890 - mae: 11.1890\n",
            "Epoch 463/500\n",
            "2/2 [==============================] - 0s 6ms/step - loss: 26.9554 - mae: 26.9554\n",
            "Epoch 464/500\n",
            "2/2 [==============================] - 0s 5ms/step - loss: 12.1156 - mae: 12.1156\n",
            "Epoch 465/500\n",
            "2/2 [==============================] - 0s 6ms/step - loss: 7.6437 - mae: 7.6437\n",
            "Epoch 466/500\n",
            "2/2 [==============================] - 0s 5ms/step - loss: 12.6476 - mae: 12.6476\n",
            "Epoch 467/500\n",
            "2/2 [==============================] - 0s 5ms/step - loss: 6.1492 - mae: 6.1492\n",
            "Epoch 468/500\n",
            "2/2 [==============================] - 0s 6ms/step - loss: 13.8728 - mae: 13.8728\n",
            "Epoch 469/500\n",
            "2/2 [==============================] - 0s 5ms/step - loss: 14.0388 - mae: 14.0388\n",
            "Epoch 470/500\n",
            "2/2 [==============================] - 0s 6ms/step - loss: 3.6522 - mae: 3.6522\n",
            "Epoch 471/500\n",
            "2/2 [==============================] - 0s 4ms/step - loss: 15.5096 - mae: 15.5096\n",
            "Epoch 472/500\n",
            "2/2 [==============================] - 0s 4ms/step - loss: 12.3106 - mae: 12.3106\n",
            "Epoch 473/500\n",
            "2/2 [==============================] - 0s 4ms/step - loss: 14.6928 - mae: 14.6928\n",
            "Epoch 474/500\n",
            "2/2 [==============================] - 0s 6ms/step - loss: 18.5628 - mae: 18.5628\n",
            "Epoch 475/500\n",
            "2/2 [==============================] - 0s 6ms/step - loss: 12.6572 - mae: 12.6572\n",
            "Epoch 476/500\n",
            "2/2 [==============================] - 0s 6ms/step - loss: 13.6852 - mae: 13.6852\n",
            "Epoch 477/500\n",
            "2/2 [==============================] - 0s 5ms/step - loss: 30.2735 - mae: 30.2735\n",
            "Epoch 478/500\n",
            "2/2 [==============================] - 0s 5ms/step - loss: 6.9467 - mae: 6.9467\n",
            "Epoch 479/500\n",
            "2/2 [==============================] - 0s 5ms/step - loss: 11.6167 - mae: 11.6167\n",
            "Epoch 480/500\n",
            "2/2 [==============================] - 0s 6ms/step - loss: 18.2921 - mae: 18.2921\n",
            "Epoch 481/500\n",
            "2/2 [==============================] - 0s 5ms/step - loss: 16.1474 - mae: 16.1474\n",
            "Epoch 482/500\n",
            "2/2 [==============================] - 0s 7ms/step - loss: 14.9574 - mae: 14.9574\n",
            "Epoch 483/500\n",
            "2/2 [==============================] - 0s 5ms/step - loss: 20.3362 - mae: 20.3362\n",
            "Epoch 484/500\n",
            "2/2 [==============================] - 0s 6ms/step - loss: 35.6831 - mae: 35.6831\n",
            "Epoch 485/500\n",
            "2/2 [==============================] - 0s 5ms/step - loss: 14.1540 - mae: 14.1540\n",
            "Epoch 486/500\n",
            "2/2 [==============================] - 0s 5ms/step - loss: 6.8698 - mae: 6.8698\n",
            "Epoch 487/500\n",
            "2/2 [==============================] - 0s 5ms/step - loss: 6.3543 - mae: 6.3543\n",
            "Epoch 488/500\n",
            "2/2 [==============================] - 0s 6ms/step - loss: 30.0959 - mae: 30.0959\n",
            "Epoch 489/500\n",
            "2/2 [==============================] - 0s 5ms/step - loss: 12.5961 - mae: 12.5961\n",
            "Epoch 490/500\n",
            "2/2 [==============================] - 0s 5ms/step - loss: 13.0757 - mae: 13.0757\n",
            "Epoch 491/500\n",
            "2/2 [==============================] - 0s 5ms/step - loss: 24.2974 - mae: 24.2974\n",
            "Epoch 492/500\n",
            "2/2 [==============================] - 0s 5ms/step - loss: 18.7799 - mae: 18.7799\n",
            "Epoch 493/500\n",
            "2/2 [==============================] - 0s 8ms/step - loss: 4.8485 - mae: 4.8485\n",
            "Epoch 494/500\n",
            "2/2 [==============================] - 0s 5ms/step - loss: 12.1161 - mae: 12.1161\n",
            "Epoch 495/500\n",
            "2/2 [==============================] - 0s 4ms/step - loss: 13.6763 - mae: 13.6763\n",
            "Epoch 496/500\n",
            "2/2 [==============================] - 0s 5ms/step - loss: 12.8835 - mae: 12.8835\n",
            "Epoch 497/500\n",
            "2/2 [==============================] - 0s 7ms/step - loss: 18.0010 - mae: 18.0010\n",
            "Epoch 498/500\n",
            "2/2 [==============================] - 0s 6ms/step - loss: 22.7175 - mae: 22.7175\n",
            "Epoch 499/500\n",
            "2/2 [==============================] - 0s 5ms/step - loss: 8.4823 - mae: 8.4823\n",
            "Epoch 500/500\n",
            "2/2 [==============================] - 0s 5ms/step - loss: 14.0250 - mae: 14.0250\n"
          ]
        },
        {
          "output_type": "execute_result",
          "data": {
            "text/plain": [
              "<keras.src.callbacks.History at 0x7bbd217eb970>"
            ]
          },
          "metadata": {},
          "execution_count": 48
        }
      ]
    },
    {
      "cell_type": "code",
      "source": [
        "# plot perdictions\n",
        "y_preds_3 = model_3.predict(X_test)\n",
        "plot_predictions(predictions=y_preds_3)"
      ],
      "metadata": {
        "id": "xI6ec9y1oDwZ",
        "outputId": "0e13f2e4-38d7-42e7-ecf3-7ad29f9d1264",
        "colab": {
          "base_uri": "https://localhost:8080/",
          "height": 616
        }
      },
      "execution_count": 49,
      "outputs": [
        {
          "output_type": "stream",
          "name": "stdout",
          "text": [
            "1/1 [==============================] - 0s 164ms/step\n"
          ]
        },
        {
          "output_type": "display_data",
          "data": {
            "text/plain": [
              "<Figure size 1000x700 with 1 Axes>"
            ],
            "image/png": "[encoded data removed]"
          },
          "metadata": {}
        }
      ]
    },
    {
      "cell_type": "code",
      "source": [
        "# Calculate model_3 evaluation metrics\n",
        "mae_3 = mae(Y_test, y_preds_3)\n",
        "mse_3 = mse(Y_test, y_preds_3)\n",
        "# 6:50"
      ],
      "metadata": {
        "id": "Y9UzPf2xoX0k"
      },
      "execution_count": 50,
      "outputs": []
    }
  ]
}