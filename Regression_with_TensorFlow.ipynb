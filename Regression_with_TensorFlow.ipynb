{
  "nbformat": 4,
  "nbformat_minor": 0,
  "metadata": {
    "colab": {
      "provenance": [],
      "authorship_tag": "ABX9TyMFrSC5edePvDLyQjzRmBQd",
      "include_colab_link": true
    },
    "kernelspec": {
      "name": "python3",
      "display_name": "Python 3"
    },
    "language_info": {
      "name": "python"
    }
  },
  "cells": [
    {
      "cell_type": "markdown",
      "metadata": {
        "id": "view-in-github",
        "colab_type": "text"
      },
      "source": [
        "<a href=\"https://colab.research.google.com/github/moaoa/tensorflow-fundamentals/blob/main/Regression_with_TensorFlow.ipynb\" target=\"_parent\"><img src=\"https://colab.research.google.com/assets/colab-badge.svg\" alt=\"Open In Colab\"/></a>"
      ]
    },
    {
      "cell_type": "code",
      "execution_count": 1,
      "metadata": {
        "colab": {
          "base_uri": "https://localhost:8080/"
        },
        "id": "3us573ljLIi-",
        "outputId": "34fca7e8-d082-4f2f-8936-4b9c5e946344"
      },
      "outputs": [
        {
          "output_type": "stream",
          "name": "stdout",
          "text": [
            "2.15.0\n"
          ]
        }
      ],
      "source": [
        "import tensorflow as tf\n",
        "print(tf.__version__)"
      ]
    },
    {
      "cell_type": "code",
      "source": [
        "import numpy as np\n",
        "import matplotlib.pyplot as plt\n",
        "\n",
        "# Create features\n",
        "X = np.array([-7.0, -4.0, -1.0, 2.0, 5.0, 8.0, 11.0, 14.0])\n",
        "\n",
        "# Create labels\n",
        "Y = np.array([3.0, 6.0, 9.0, 12.0, 15.0, 18.0, 21.0, 24.0])\n",
        "\n",
        "plt.scatter(X, Y)"
      ],
      "metadata": {
        "colab": {
          "base_uri": "https://localhost:8080/",
          "height": 452
        },
        "id": "nRvH_2lPLyza",
        "outputId": "000c52a8-a36b-495c-f190-18105df65dc2"
      },
      "execution_count": 2,
      "outputs": [
        {
          "output_type": "execute_result",
          "data": {
            "text/plain": [
              "<matplotlib.collections.PathCollection at 0x7f9134331a20>"
            ]
          },
          "metadata": {},
          "execution_count": 2
        },
        {
          "output_type": "display_data",
          "data": {
            "text/plain": [
              "<Figure size 640x480 with 1 Axes>"
            ],
            "image/png": "[encoded data removed]"
          },
          "metadata": {}
        }
      ]
    },
    {
      "cell_type": "code",
      "source": [
        "# Example input and output shapes of a regression model\n",
        "house_info = tf.constant([\"bedroom\", \"bathroom\", \"garage\"])\n",
        "house_price = tf.constant([939700])\n",
        "house_info, house_price"
      ],
      "metadata": {
        "colab": {
          "base_uri": "https://localhost:8080/"
        },
        "id": "J45prqdLMnYN",
        "outputId": "6f61c910-baa7-49ad-b894-d47248f85f96"
      },
      "execution_count": 3,
      "outputs": [
        {
          "output_type": "execute_result",
          "data": {
            "text/plain": [
              "(<tf.Tensor: shape=(3,), dtype=string, numpy=array([b'bedroom', b'bathroom', b'garage'], dtype=object)>,\n",
              " <tf.Tensor: shape=(1,), dtype=int32, numpy=array([939700], dtype=int32)>)"
            ]
          },
          "metadata": {},
          "execution_count": 3
        }
      ]
    },
    {
      "cell_type": "code",
      "source": [
        "house_info.shape"
      ],
      "metadata": {
        "colab": {
          "base_uri": "https://localhost:8080/"
        },
        "id": "0ebWKYBgMq_S",
        "outputId": "9a791f81-be62-4b96-ad4c-c46e4193060a"
      },
      "execution_count": 4,
      "outputs": [
        {
          "output_type": "execute_result",
          "data": {
            "text/plain": [
              "TensorShape([3])"
            ]
          },
          "metadata": {},
          "execution_count": 4
        }
      ]
    },
    {
      "cell_type": "code",
      "source": [
        "X = tf.constant([-7.0, -4.0, -1.0, 2.0, 5.0, 8.0, 11.0, 14.0])\n",
        "\n",
        "Y = tf.constant([3.0, 6.0, 9.0, 12.0, 15.0, 18.0, 21.0, 24.0])\n",
        "\n",
        "plt.scatter(X, Y)"
      ],
      "metadata": {
        "colab": {
          "base_uri": "https://localhost:8080/",
          "height": 452
        },
        "id": "yv9ChJ7RMswg",
        "outputId": "6d2c13c5-a068-4989-827f-610bcf27a0b7"
      },
      "execution_count": 5,
      "outputs": [
        {
          "output_type": "execute_result",
          "data": {
            "text/plain": [
              "<matplotlib.collections.PathCollection at 0x7f9132264e80>"
            ]
          },
          "metadata": {},
          "execution_count": 5
        },
        {
          "output_type": "display_data",
          "data": {
            "text/plain": [
              "<Figure size 640x480 with 1 Axes>"
            ],
            "image/png": "[encoded data removed]"
          },
          "metadata": {}
        }
      ]
    },
    {
      "cell_type": "code",
      "source": [
        "input_shape = X[0].shape\n",
        "\n",
        "output_shape = Y[0].shape\n",
        "\n",
        "input_shape, output_shape"
      ],
      "metadata": {
        "colab": {
          "base_uri": "https://localhost:8080/"
        },
        "id": "dgguzEVlM8RT",
        "outputId": "6bc5da1e-502f-42a1-8288-4a198e0d7b35"
      },
      "execution_count": 6,
      "outputs": [
        {
          "output_type": "execute_result",
          "data": {
            "text/plain": [
              "(TensorShape([]), TensorShape([]))"
            ]
          },
          "metadata": {},
          "execution_count": 6
        }
      ]
    },
    {
      "cell_type": "markdown",
      "source": [
        "**Creating a model** - piece together the layers of a neural network yourself (using the Functional or Sequential API) or import a previously built model (known as transfer learning).\n",
        "\n",
        "**Compiling a model** - defining how a models performance should be measured (loss/metrics) as well as defining how it should improve (optimizer).\n",
        "\n",
        "**Fitting a model** - letting the model try to find patterns in the data (how does X get to y)."
      ],
      "metadata": {
        "id": "vsfE-0ezNZts"
      }
    },
    {
      "cell_type": "code",
      "source": [
        "tf.random.set_seed(42)\n",
        "\n",
        "model = tf.keras.Sequential([\n",
        "    tf.keras.layers.Dense(1)\n",
        "])\n",
        "\n",
        "model.compile(\n",
        "    loss=tf.keras.losses.mae, # mean absolute error\n",
        "    optimizer=tf.keras.optimizers.SGD(), # Stochastic Gradient Descent\n",
        "    metrics=[\"mae\"]\n",
        ")\n",
        "\n",
        "# Fit the model\n",
        "\n",
        "model.fit(tf.expand_dims(X, axis=-1), Y, epochs=5)"
      ],
      "metadata": {
        "colab": {
          "base_uri": "https://localhost:8080/"
        },
        "id": "fqAoJi9-NpPx",
        "outputId": "ee2f93a1-9e59-4294-aa40-b5205fbf7053"
      },
      "execution_count": 7,
      "outputs": [
        {
          "output_type": "stream",
          "name": "stdout",
          "text": [
            "Epoch 1/5\n",
            "1/1 [==============================] - 1s 1s/step - loss: 11.0837 - mae: 11.0837\n",
            "Epoch 2/5\n",
            "1/1 [==============================] - 0s 24ms/step - loss: 10.9512 - mae: 10.9512\n",
            "Epoch 3/5\n",
            "1/1 [==============================] - 0s 22ms/step - loss: 10.8187 - mae: 10.8187\n",
            "Epoch 4/5\n",
            "1/1 [==============================] - 0s 13ms/step - loss: 10.6862 - mae: 10.6862\n",
            "Epoch 5/5\n",
            "1/1 [==============================] - 0s 12ms/step - loss: 10.5537 - mae: 10.5537\n"
          ]
        },
        {
          "output_type": "execute_result",
          "data": {
            "text/plain": [
              "<keras.src.callbacks.History at 0x7f9122f91300>"
            ]
          },
          "metadata": {},
          "execution_count": 7
        }
      ]
    },
    {
      "cell_type": "code",
      "source": [
        "model.predict([17.0])"
      ],
      "metadata": {
        "colab": {
          "base_uri": "https://localhost:8080/"
        },
        "id": "JxtAvWUlOkUN",
        "outputId": "efe12f15-bc18-4859-b793-4e648644188b"
      },
      "execution_count": 8,
      "outputs": [
        {
          "output_type": "stream",
          "name": "stdout",
          "text": [
            "1/1 [==============================] - 0s 304ms/step\n"
          ]
        },
        {
          "output_type": "execute_result",
          "data": {
            "text/plain": [
              "array([[14.761329]], dtype=float32)"
            ]
          },
          "metadata": {},
          "execution_count": 8
        }
      ]
    },
    {
      "cell_type": "markdown",
      "source": [
        "### Improving our model\n",
        "\n",
        "We can improve our model, by altering the steps we took to create a model.\n",
        "\n",
        "1. **Creating a model** - here we might add more layers, increase the number of hidden units (all called neurons) within each of the hidden layers, change the activation function of each layer.\n",
        "\n",
        "2. **Compiling a model** - here we might change the optimization function or perhaps the **learning rate** of the optimization function.\n",
        "\n",
        "3. **Fitting a model** - here we might fit a model for more **epochs** (leave it training for longer) or no more data (give the model more examples to learn from).\n"
      ],
      "metadata": {
        "id": "f4vrul_dPoxV"
      }
    },
    {
      "cell_type": "code",
      "source": [
        "tf.random.set_seed(42)\n",
        "\n",
        "\n",
        "model = tf.keras.Sequential([\n",
        "    tf.keras.layers.Dense(100, activation=\"relu\"),\n",
        "    tf.keras.layers.Dense(1),\n",
        "])\n",
        "\n",
        "model.compile(\n",
        "    loss=tf.keras.losses.mae,\n",
        "    optimizer=tf.keras.optimizers.SGD(),\n",
        "    metrics=[\"mae\"]\n",
        ")\n",
        "\n",
        "model.fit(tf.expand_dims(X, axis=-1), Y, epochs=10)"
      ],
      "metadata": {
        "colab": {
          "base_uri": "https://localhost:8080/"
        },
        "id": "3HI5WvAP0TNl",
        "outputId": "ed0e025d-1400-4027-d255-79cf6af55e73"
      },
      "execution_count": 9,
      "outputs": [
        {
          "output_type": "stream",
          "name": "stdout",
          "text": [
            "Epoch 1/10\n",
            "1/1 [==============================] - 1s 948ms/step - loss: 12.8516 - mae: 12.8516\n",
            "Epoch 2/10\n",
            "1/1 [==============================] - 0s 37ms/step - loss: 12.2962 - mae: 12.2962\n",
            "Epoch 3/10\n",
            "1/1 [==============================] - 0s 25ms/step - loss: 11.7306 - mae: 11.7306\n",
            "Epoch 4/10\n",
            "1/1 [==============================] - 0s 17ms/step - loss: 11.1523 - mae: 11.1523\n",
            "Epoch 5/10\n",
            "1/1 [==============================] - 0s 20ms/step - loss: 10.5554 - mae: 10.5554\n",
            "Epoch 6/10\n",
            "1/1 [==============================] - 0s 19ms/step - loss: 9.9332 - mae: 9.9332\n",
            "Epoch 7/10\n",
            "1/1 [==============================] - 0s 20ms/step - loss: 9.2810 - mae: 9.2810\n",
            "Epoch 8/10\n",
            "1/1 [==============================] - 0s 19ms/step - loss: 8.5916 - mae: 8.5916\n",
            "Epoch 9/10\n",
            "1/1 [==============================] - 0s 16ms/step - loss: 7.8655 - mae: 7.8655\n",
            "Epoch 10/10\n",
            "1/1 [==============================] - 0s 16ms/step - loss: 7.0896 - mae: 7.0896\n"
          ]
        },
        {
          "output_type": "execute_result",
          "data": {
            "text/plain": [
              "<keras.src.callbacks.History at 0x7f912262d870>"
            ]
          },
          "metadata": {},
          "execution_count": 9
        }
      ]
    },
    {
      "cell_type": "code",
      "source": [
        "X, Y"
      ],
      "metadata": {
        "colab": {
          "base_uri": "https://localhost:8080/"
        },
        "id": "BPJWo17W1YWY",
        "outputId": "9f0cd2dc-d92a-4986-dfc9-84cf6dbef15e"
      },
      "execution_count": 10,
      "outputs": [
        {
          "output_type": "execute_result",
          "data": {
            "text/plain": [
              "(<tf.Tensor: shape=(8,), dtype=float32, numpy=array([-7., -4., -1.,  2.,  5.,  8., 11., 14.], dtype=float32)>,\n",
              " <tf.Tensor: shape=(8,), dtype=float32, numpy=array([ 3.,  6.,  9., 12., 15., 18., 21., 24.], dtype=float32)>)"
            ]
          },
          "metadata": {},
          "execution_count": 10
        }
      ]
    },
    {
      "cell_type": "code",
      "source": [
        "model.predict([17.0])"
      ],
      "metadata": {
        "colab": {
          "base_uri": "https://localhost:8080/"
        },
        "id": "bAGucEYm1Z16",
        "outputId": "e8cb2972-25b4-4cb0-ceaf-dbb6e1d40016"
      },
      "execution_count": 11,
      "outputs": [
        {
          "output_type": "stream",
          "name": "stdout",
          "text": [
            "1/1 [==============================] - 0s 274ms/step\n"
          ]
        },
        {
          "output_type": "execute_result",
          "data": {
            "text/plain": [
              "array([[23.151482]], dtype=float32)"
            ]
          },
          "metadata": {},
          "execution_count": 11
        }
      ]
    },
    {
      "cell_type": "code",
      "source": [
        "tf.random.set_seed(42)\n",
        "\n",
        "\n",
        "model = tf.keras.Sequential([\n",
        "    tf.keras.layers.Dense(50),\n",
        "    tf.keras.layers.Dense(1),\n",
        "])\n",
        "\n",
        "model.compile(\n",
        "    loss=tf.keras.losses.mae,\n",
        "    # optimizer=tf.keras.optimizers.SGD(),\n",
        "    optimizer=tf.keras.optimizers.Adam(learning_rate=0.01),\n",
        "    metrics=[\"mae\"]\n",
        ")\n",
        "\n",
        "model.fit(tf.expand_dims(X, axis=-1), Y, epochs=100)"
      ],
      "metadata": {
        "colab": {
          "base_uri": "https://localhost:8080/"
        },
        "id": "HXJk_4km1h__",
        "outputId": "06c8719d-79f0-47e3-b029-b664b704d235"
      },
      "execution_count": 12,
      "outputs": [
        {
          "output_type": "stream",
          "name": "stdout",
          "text": [
            "Epoch 1/100\n",
            "1/1 [==============================] - 2s 2s/step - loss: 14.3096 - mae: 14.3096\n",
            "Epoch 2/100\n",
            "1/1 [==============================] - 0s 34ms/step - loss: 13.6386 - mae: 13.6386\n",
            "Epoch 3/100\n",
            "1/1 [==============================] - 0s 36ms/step - loss: 12.9667 - mae: 12.9667\n",
            "Epoch 4/100\n",
            "1/1 [==============================] - 0s 26ms/step - loss: 12.2914 - mae: 12.2914\n",
            "Epoch 5/100\n",
            "1/1 [==============================] - 0s 45ms/step - loss: 11.6106 - mae: 11.6106\n",
            "Epoch 6/100\n",
            "1/1 [==============================] - 0s 50ms/step - loss: 10.9225 - mae: 10.9225\n",
            "Epoch 7/100\n",
            "1/1 [==============================] - 0s 28ms/step - loss: 10.2251 - mae: 10.2251\n",
            "Epoch 8/100\n",
            "1/1 [==============================] - 0s 28ms/step - loss: 9.5163 - mae: 9.5163\n",
            "Epoch 9/100\n",
            "1/1 [==============================] - 0s 31ms/step - loss: 8.7940 - mae: 8.7940\n",
            "Epoch 10/100\n",
            "1/1 [==============================] - 0s 26ms/step - loss: 8.0558 - mae: 8.0558\n",
            "Epoch 11/100\n",
            "1/1 [==============================] - 0s 30ms/step - loss: 7.2990 - mae: 7.2990\n",
            "Epoch 12/100\n",
            "1/1 [==============================] - 0s 26ms/step - loss: 6.6117 - mae: 6.6117\n",
            "Epoch 13/100\n",
            "1/1 [==============================] - 0s 49ms/step - loss: 6.6194 - mae: 6.6194\n",
            "Epoch 14/100\n",
            "1/1 [==============================] - 0s 37ms/step - loss: 6.9059 - mae: 6.9059\n",
            "Epoch 15/100\n",
            "1/1 [==============================] - 0s 40ms/step - loss: 7.0847 - mae: 7.0847\n",
            "Epoch 16/100\n",
            "1/1 [==============================] - 0s 24ms/step - loss: 7.2702 - mae: 7.2702\n",
            "Epoch 17/100\n",
            "1/1 [==============================] - 0s 22ms/step - loss: 7.2599 - mae: 7.2599\n",
            "Epoch 18/100\n",
            "1/1 [==============================] - 0s 29ms/step - loss: 7.0802 - mae: 7.0802\n",
            "Epoch 19/100\n",
            "1/1 [==============================] - 0s 22ms/step - loss: 6.7916 - mae: 6.7916\n",
            "Epoch 20/100\n",
            "1/1 [==============================] - 0s 20ms/step - loss: 6.5613 - mae: 6.5613\n",
            "Epoch 21/100\n",
            "1/1 [==============================] - 0s 11ms/step - loss: 6.3099 - mae: 6.3099\n",
            "Epoch 22/100\n",
            "1/1 [==============================] - 0s 23ms/step - loss: 6.0421 - mae: 6.0421\n",
            "Epoch 23/100\n",
            "1/1 [==============================] - 0s 26ms/step - loss: 5.8679 - mae: 5.8679\n",
            "Epoch 24/100\n",
            "1/1 [==============================] - 0s 37ms/step - loss: 5.8186 - mae: 5.8186\n",
            "Epoch 25/100\n",
            "1/1 [==============================] - 0s 50ms/step - loss: 5.8555 - mae: 5.8555\n",
            "Epoch 26/100\n",
            "1/1 [==============================] - 0s 14ms/step - loss: 5.9058 - mae: 5.9058\n",
            "Epoch 27/100\n",
            "1/1 [==============================] - 0s 41ms/step - loss: 5.8515 - mae: 5.8515\n",
            "Epoch 28/100\n",
            "1/1 [==============================] - 0s 33ms/step - loss: 5.7055 - mae: 5.7055\n",
            "Epoch 29/100\n",
            "1/1 [==============================] - 0s 33ms/step - loss: 5.4767 - mae: 5.4767\n",
            "Epoch 30/100\n",
            "1/1 [==============================] - 0s 38ms/step - loss: 5.3142 - mae: 5.3142\n",
            "Epoch 31/100\n",
            "1/1 [==============================] - 0s 39ms/step - loss: 5.1989 - mae: 5.1989\n",
            "Epoch 32/100\n",
            "1/1 [==============================] - 0s 20ms/step - loss: 5.1197 - mae: 5.1197\n",
            "Epoch 33/100\n",
            "1/1 [==============================] - 0s 37ms/step - loss: 5.1059 - mae: 5.1059\n",
            "Epoch 34/100\n",
            "1/1 [==============================] - 0s 24ms/step - loss: 5.0485 - mae: 5.0485\n",
            "Epoch 35/100\n",
            "1/1 [==============================] - 0s 38ms/step - loss: 4.9508 - mae: 4.9508\n",
            "Epoch 36/100\n",
            "1/1 [==============================] - 0s 34ms/step - loss: 4.8161 - mae: 4.8161\n",
            "Epoch 37/100\n",
            "1/1 [==============================] - 0s 34ms/step - loss: 4.6477 - mae: 4.6477\n",
            "Epoch 38/100\n",
            "1/1 [==============================] - 0s 44ms/step - loss: 4.4646 - mae: 4.4646\n",
            "Epoch 39/100\n",
            "1/1 [==============================] - 0s 27ms/step - loss: 4.3638 - mae: 4.3638\n",
            "Epoch 40/100\n",
            "1/1 [==============================] - 0s 40ms/step - loss: 4.2553 - mae: 4.2553\n",
            "Epoch 41/100\n",
            "1/1 [==============================] - 0s 26ms/step - loss: 4.1388 - mae: 4.1388\n",
            "Epoch 42/100\n",
            "1/1 [==============================] - 0s 34ms/step - loss: 4.0145 - mae: 4.0145\n",
            "Epoch 43/100\n",
            "1/1 [==============================] - 0s 41ms/step - loss: 3.9029 - mae: 3.9029\n",
            "Epoch 44/100\n",
            "1/1 [==============================] - 0s 25ms/step - loss: 3.7299 - mae: 3.7299\n",
            "Epoch 45/100\n",
            "1/1 [==============================] - 0s 31ms/step - loss: 3.5702 - mae: 3.5702\n",
            "Epoch 46/100\n",
            "1/1 [==============================] - 0s 22ms/step - loss: 3.4025 - mae: 3.4025\n",
            "Epoch 47/100\n",
            "1/1 [==============================] - 0s 21ms/step - loss: 3.2266 - mae: 3.2266\n",
            "Epoch 48/100\n",
            "1/1 [==============================] - 0s 34ms/step - loss: 3.0993 - mae: 3.0993\n",
            "Epoch 49/100\n",
            "1/1 [==============================] - 0s 22ms/step - loss: 2.9409 - mae: 2.9409\n",
            "Epoch 50/100\n",
            "1/1 [==============================] - 0s 16ms/step - loss: 2.7286 - mae: 2.7286\n",
            "Epoch 51/100\n",
            "1/1 [==============================] - 0s 27ms/step - loss: 2.5098 - mae: 2.5098\n",
            "Epoch 52/100\n",
            "1/1 [==============================] - 0s 36ms/step - loss: 2.3229 - mae: 2.3229\n",
            "Epoch 53/100\n",
            "1/1 [==============================] - 0s 58ms/step - loss: 2.1461 - mae: 2.1461\n",
            "Epoch 54/100\n",
            "1/1 [==============================] - 0s 23ms/step - loss: 1.8995 - mae: 1.8995\n",
            "Epoch 55/100\n",
            "1/1 [==============================] - 0s 74ms/step - loss: 1.6638 - mae: 1.6638\n",
            "Epoch 56/100\n",
            "1/1 [==============================] - 0s 37ms/step - loss: 1.4495 - mae: 1.4495\n",
            "Epoch 57/100\n",
            "1/1 [==============================] - 0s 30ms/step - loss: 1.2057 - mae: 1.2057\n",
            "Epoch 58/100\n",
            "1/1 [==============================] - 0s 44ms/step - loss: 0.9289 - mae: 0.9289\n",
            "Epoch 59/100\n",
            "1/1 [==============================] - 0s 50ms/step - loss: 0.7220 - mae: 0.7220\n",
            "Epoch 60/100\n",
            "1/1 [==============================] - 0s 46ms/step - loss: 0.3859 - mae: 0.3859\n",
            "Epoch 61/100\n",
            "1/1 [==============================] - 0s 43ms/step - loss: 0.2414 - mae: 0.2414\n",
            "Epoch 62/100\n",
            "1/1 [==============================] - 0s 41ms/step - loss: 0.1976 - mae: 0.1976\n",
            "Epoch 63/100\n",
            "1/1 [==============================] - 0s 36ms/step - loss: 0.4336 - mae: 0.4336\n",
            "Epoch 64/100\n",
            "1/1 [==============================] - 0s 32ms/step - loss: 0.5721 - mae: 0.5721\n",
            "Epoch 65/100\n",
            "1/1 [==============================] - 0s 21ms/step - loss: 0.6999 - mae: 0.6999\n",
            "Epoch 66/100\n",
            "1/1 [==============================] - 0s 30ms/step - loss: 0.7672 - mae: 0.7672\n",
            "Epoch 67/100\n",
            "1/1 [==============================] - 0s 29ms/step - loss: 0.7938 - mae: 0.7938\n",
            "Epoch 68/100\n",
            "1/1 [==============================] - 0s 21ms/step - loss: 0.7196 - mae: 0.7196\n",
            "Epoch 69/100\n",
            "1/1 [==============================] - 0s 45ms/step - loss: 0.6636 - mae: 0.6636\n",
            "Epoch 70/100\n",
            "1/1 [==============================] - 0s 37ms/step - loss: 0.5866 - mae: 0.5866\n",
            "Epoch 71/100\n",
            "1/1 [==============================] - 0s 31ms/step - loss: 0.5036 - mae: 0.5036\n",
            "Epoch 72/100\n",
            "1/1 [==============================] - 0s 23ms/step - loss: 0.3392 - mae: 0.3392\n",
            "Epoch 73/100\n",
            "1/1 [==============================] - 0s 21ms/step - loss: 0.2249 - mae: 0.2249\n",
            "Epoch 74/100\n",
            "1/1 [==============================] - 0s 24ms/step - loss: 0.0447 - mae: 0.0447\n",
            "Epoch 75/100\n",
            "1/1 [==============================] - 0s 38ms/step - loss: 0.4214 - mae: 0.4214\n",
            "Epoch 76/100\n",
            "1/1 [==============================] - 0s 26ms/step - loss: 0.5522 - mae: 0.5522\n",
            "Epoch 77/100\n",
            "1/1 [==============================] - 0s 46ms/step - loss: 0.5101 - mae: 0.5101\n",
            "Epoch 78/100\n",
            "1/1 [==============================] - 0s 33ms/step - loss: 0.3525 - mae: 0.3525\n",
            "Epoch 79/100\n",
            "1/1 [==============================] - 0s 27ms/step - loss: 0.4679 - mae: 0.4679\n",
            "Epoch 80/100\n",
            "1/1 [==============================] - 0s 24ms/step - loss: 0.4093 - mae: 0.4093\n",
            "Epoch 81/100\n",
            "1/1 [==============================] - 0s 33ms/step - loss: 0.2997 - mae: 0.2997\n",
            "Epoch 82/100\n",
            "1/1 [==============================] - 0s 44ms/step - loss: 0.2468 - mae: 0.2468\n",
            "Epoch 83/100\n",
            "1/1 [==============================] - 0s 31ms/step - loss: 0.1457 - mae: 0.1457\n",
            "Epoch 84/100\n",
            "1/1 [==============================] - 0s 29ms/step - loss: 0.0412 - mae: 0.0412\n",
            "Epoch 85/100\n",
            "1/1 [==============================] - 0s 21ms/step - loss: 0.1845 - mae: 0.1845\n",
            "Epoch 86/100\n",
            "1/1 [==============================] - 0s 33ms/step - loss: 0.1882 - mae: 0.1882\n",
            "Epoch 87/100\n",
            "1/1 [==============================] - 0s 29ms/step - loss: 0.2336 - mae: 0.2336\n",
            "Epoch 88/100\n",
            "1/1 [==============================] - 0s 54ms/step - loss: 0.1687 - mae: 0.1687\n",
            "Epoch 89/100\n",
            "1/1 [==============================] - 0s 54ms/step - loss: 0.1822 - mae: 0.1822\n",
            "Epoch 90/100\n",
            "1/1 [==============================] - 0s 71ms/step - loss: 0.2029 - mae: 0.2029\n",
            "Epoch 91/100\n",
            "1/1 [==============================] - 0s 66ms/step - loss: 0.1013 - mae: 0.1013\n",
            "Epoch 92/100\n",
            "1/1 [==============================] - 0s 40ms/step - loss: 0.1579 - mae: 0.1579\n",
            "Epoch 93/100\n",
            "1/1 [==============================] - 0s 40ms/step - loss: 0.0775 - mae: 0.0775\n",
            "Epoch 94/100\n",
            "1/1 [==============================] - 0s 33ms/step - loss: 0.0757 - mae: 0.0757\n",
            "Epoch 95/100\n",
            "1/1 [==============================] - 0s 48ms/step - loss: 0.1891 - mae: 0.1891\n",
            "Epoch 96/100\n",
            "1/1 [==============================] - 0s 32ms/step - loss: 0.1194 - mae: 0.1194\n",
            "Epoch 97/100\n",
            "1/1 [==============================] - 0s 44ms/step - loss: 0.2402 - mae: 0.2402\n",
            "Epoch 98/100\n",
            "1/1 [==============================] - 0s 24ms/step - loss: 0.2514 - mae: 0.2514\n",
            "Epoch 99/100\n",
            "1/1 [==============================] - 0s 39ms/step - loss: 0.0637 - mae: 0.0637\n",
            "Epoch 100/100\n",
            "1/1 [==============================] - 0s 39ms/step - loss: 0.2591 - mae: 0.2591\n"
          ]
        },
        {
          "output_type": "execute_result",
          "data": {
            "text/plain": [
              "<keras.src.callbacks.History at 0x7f91237e82b0>"
            ]
          },
          "metadata": {},
          "execution_count": 12
        }
      ]
    },
    {
      "cell_type": "code",
      "source": [
        "model.predict([17.0])"
      ],
      "metadata": {
        "colab": {
          "base_uri": "https://localhost:8080/"
        },
        "id": "mRbnTBV11lOb",
        "outputId": "f95e31e6-23d8-4aa6-8090-5ee53b5d96ad"
      },
      "execution_count": 13,
      "outputs": [
        {
          "output_type": "stream",
          "name": "stdout",
          "text": [
            "1/1 [==============================] - 0s 199ms/step\n"
          ]
        },
        {
          "output_type": "execute_result",
          "data": {
            "text/plain": [
              "array([[26.504078]], dtype=float32)"
            ]
          },
          "metadata": {},
          "execution_count": 13
        }
      ]
    },
    {
      "cell_type": "markdown",
      "source": [
        "### **The learning rate is very important**"
      ],
      "metadata": {
        "id": "miU5YRCP1oYu"
      }
    },
    {
      "cell_type": "markdown",
      "source": [
        "### **Evaluating a model**\n",
        "> Visualize\n",
        "\n",
        "It's a good idea to visualize:\n",
        "\n",
        "\n",
        "*   The  data - what data are we workign\n",
        "  with?\n",
        "*   The model itself - what does our model look like?\n",
        "*   The training of a model - how does a model perform while it learns?\n",
        "*   The predictions of the model - how do the predictios of a model line up against what is should be"
      ],
      "metadata": {
        "id": "wIIO7rnN2jgI"
      }
    },
    {
      "cell_type": "code",
      "source": [
        "# Make a bigger dataset\n",
        "X = tf.range(-100, 100, 4)\n",
        "X"
      ],
      "metadata": {
        "colab": {
          "base_uri": "https://localhost:8080/"
        },
        "id": "Sej1NfpP3S1d",
        "outputId": "902cf1d7-80aa-4509-e25b-2d0f1243dbd8"
      },
      "execution_count": 14,
      "outputs": [
        {
          "output_type": "execute_result",
          "data": {
            "text/plain": [
              "<tf.Tensor: shape=(50,), dtype=int32, numpy=\n",
              "array([-100,  -96,  -92,  -88,  -84,  -80,  -76,  -72,  -68,  -64,  -60,\n",
              "        -56,  -52,  -48,  -44,  -40,  -36,  -32,  -28,  -24,  -20,  -16,\n",
              "        -12,   -8,   -4,    0,    4,    8,   12,   16,   20,   24,   28,\n",
              "         32,   36,   40,   44,   48,   52,   56,   60,   64,   68,   72,\n",
              "         76,   80,   84,   88,   92,   96], dtype=int32)>"
            ]
          },
          "metadata": {},
          "execution_count": 14
        }
      ]
    },
    {
      "cell_type": "code",
      "source": [
        "# Make labesl for the dataset\n",
        "Y = X + 10\n",
        "Y"
      ],
      "metadata": {
        "colab": {
          "base_uri": "https://localhost:8080/"
        },
        "id": "JceH03wL4p4v",
        "outputId": "8dff7862-65e8-4157-dab7-bf3c0c584017"
      },
      "execution_count": 15,
      "outputs": [
        {
          "output_type": "execute_result",
          "data": {
            "text/plain": [
              "<tf.Tensor: shape=(50,), dtype=int32, numpy=\n",
              "array([-90, -86, -82, -78, -74, -70, -66, -62, -58, -54, -50, -46, -42,\n",
              "       -38, -34, -30, -26, -22, -18, -14, -10,  -6,  -2,   2,   6,  10,\n",
              "        14,  18,  22,  26,  30,  34,  38,  42,  46,  50,  54,  58,  62,\n",
              "        66,  70,  74,  78,  82,  86,  90,  94,  98, 102, 106], dtype=int32)>"
            ]
          },
          "metadata": {},
          "execution_count": 15
        }
      ]
    },
    {
      "cell_type": "code",
      "source": [
        "# Visualize the data\n",
        "import matplotlib.pyplot as plt\n",
        "plt.scatter(X, Y)"
      ],
      "metadata": {
        "colab": {
          "base_uri": "https://localhost:8080/",
          "height": 447
        },
        "id": "TgDwjlVJ4uN-",
        "outputId": "dc0c8efe-4999-4c6d-e0cf-4a024365cb4e"
      },
      "execution_count": 16,
      "outputs": [
        {
          "output_type": "execute_result",
          "data": {
            "text/plain": [
              "<matplotlib.collections.PathCollection at 0x7f9123013c40>"
            ]
          },
          "metadata": {},
          "execution_count": 16
        },
        {
          "output_type": "display_data",
          "data": {
            "text/plain": [
              "<Figure size 640x480 with 1 Axes>"
            ],
            "image/png": "[encoded data removed]"
          },
          "metadata": {}
        }
      ]
    },
    {
      "cell_type": "markdown",
      "source": [
        "### The 3 sets...\n",
        "*   Trainnig set 70-80%\n",
        "*   Validatio set (10-15%) - the model gets tuned on this data\n",
        "*   Test set - the model gets evaluated on this data to test what is has learned, this set is typically 10-15% ot total data."
      ],
      "metadata": {
        "id": "HV8I2B0L5E9E"
      }
    },
    {
      "cell_type": "code",
      "source": [
        "# Check the length of how many samples we have\n",
        "len(X)"
      ],
      "metadata": {
        "colab": {
          "base_uri": "https://localhost:8080/"
        },
        "id": "_3yZ4kEU6C7x",
        "outputId": "a475a090-f4f0-4869-d108-b1ef1d133d33"
      },
      "execution_count": 17,
      "outputs": [
        {
          "output_type": "execute_result",
          "data": {
            "text/plain": [
              "50"
            ]
          },
          "metadata": {},
          "execution_count": 17
        }
      ]
    },
    {
      "cell_type": "code",
      "source": [
        "# Split the data into train and test sets\n",
        "X_train = X[:40] # first 40 (80%)\n",
        "Y_train = Y[:40]\n",
        "\n",
        "Y_test = Y[40:]\n",
        "X_test = X[40:] # first 40 (20%)"
      ],
      "metadata": {
        "id": "3rFQtobv6KQP"
      },
      "execution_count": 18,
      "outputs": []
    },
    {
      "cell_type": "code",
      "source": [
        "plt.figure(figsize=(10, 7))\n",
        "\n",
        "# plot training data in blue\n",
        "plt.scatter(X_train, Y_train, c=\"b\", label=\"Training data\")\n",
        "\n",
        "# plot test data in green\n",
        "plt.scatter(X_test, Y_test, c=\"g\", label=\"Testing data\")\n",
        "# Show  a legend\n",
        "plt.legend()\n"
      ],
      "metadata": {
        "colab": {
          "base_uri": "https://localhost:8080/",
          "height": 474
        },
        "id": "ZezyYjnR7ANm",
        "outputId": "15922a1d-f0b9-444d-83fc-7ddd5855fcea"
      },
      "execution_count": 19,
      "outputs": [
        {
          "output_type": "execute_result",
          "data": {
            "text/plain": [
              "<matplotlib.legend.Legend at 0x7f91230add50>"
            ]
          },
          "metadata": {},
          "execution_count": 19
        },
        {
          "output_type": "display_data",
          "data": {
            "text/plain": [
              "<Figure size 1000x700 with 1 Axes>"
            ],
            "image/png": "[encoded data removed]"
          },
          "metadata": {}
        }
      ]
    },
    {
      "cell_type": "code",
      "source": [
        "# Create a model\n",
        "model = tf.keras.Sequential([\n",
        "    tf.keras.layers.Dense(1)\n",
        "])\n",
        "\n",
        "# Compile the model\n",
        "model.compile(\n",
        "    loss=tf.keras.losses.mae,\n",
        "    optimizer=tf.keras.optimizers.SGD(),\n",
        "    metrics=[\"mae\"]\n",
        ")\n",
        "\n",
        "# Fit the model\n",
        "model.fit(tf.expand_dims(X_train, axis=-1), Y_train, epochs=100)"
      ],
      "metadata": {
        "id": "9npgONv6YrrO",
        "outputId": "0986dfb2-190a-4e5d-9561-49bf85a72b0b",
        "colab": {
          "base_uri": "https://localhost:8080/"
        }
      },
      "execution_count": 20,
      "outputs": [
        {
          "output_type": "stream",
          "name": "stdout",
          "text": [
            "Epoch 1/100\n",
            "2/2 [==============================] - 1s 21ms/step - loss: 21.9641 - mae: 21.9641\n",
            "Epoch 2/100\n",
            "2/2 [==============================] - 0s 26ms/step - loss: 9.4447 - mae: 9.4447\n",
            "Epoch 3/100\n",
            "2/2 [==============================] - 0s 13ms/step - loss: 11.9699 - mae: 11.9699\n",
            "Epoch 4/100\n",
            "2/2 [==============================] - 0s 16ms/step - loss: 9.1681 - mae: 9.1681\n",
            "Epoch 5/100\n",
            "2/2 [==============================] - 0s 15ms/step - loss: 10.0178 - mae: 10.0178\n",
            "Epoch 6/100\n",
            "2/2 [==============================] - 0s 11ms/step - loss: 9.2977 - mae: 9.2977\n",
            "Epoch 7/100\n",
            "2/2 [==============================] - 0s 24ms/step - loss: 8.4588 - mae: 8.4588\n",
            "Epoch 8/100\n",
            "2/2 [==============================] - 0s 14ms/step - loss: 9.0299 - mae: 9.0299\n",
            "Epoch 9/100\n",
            "2/2 [==============================] - 0s 10ms/step - loss: 18.4819 - mae: 18.4819\n",
            "Epoch 10/100\n",
            "2/2 [==============================] - 0s 11ms/step - loss: 9.9605 - mae: 9.9605\n",
            "Epoch 11/100\n",
            "2/2 [==============================] - 0s 10ms/step - loss: 8.3351 - mae: 8.3351\n",
            "Epoch 12/100\n",
            "2/2 [==============================] - 0s 23ms/step - loss: 10.5399 - mae: 10.5399\n",
            "Epoch 13/100\n",
            "2/2 [==============================] - 0s 14ms/step - loss: 9.7451 - mae: 9.7451\n",
            "Epoch 14/100\n",
            "2/2 [==============================] - 0s 10ms/step - loss: 15.7236 - mae: 15.7236\n",
            "Epoch 15/100\n",
            "2/2 [==============================] - 0s 22ms/step - loss: 11.6253 - mae: 11.6253\n",
            "Epoch 16/100\n",
            "2/2 [==============================] - 0s 17ms/step - loss: 8.4682 - mae: 8.4682\n",
            "Epoch 17/100\n",
            "2/2 [==============================] - 0s 15ms/step - loss: 13.4759 - mae: 13.4759\n",
            "Epoch 18/100\n",
            "2/2 [==============================] - 0s 15ms/step - loss: 11.2658 - mae: 11.2658\n",
            "Epoch 19/100\n",
            "2/2 [==============================] - 0s 14ms/step - loss: 18.2376 - mae: 18.2376\n",
            "Epoch 20/100\n",
            "2/2 [==============================] - 0s 14ms/step - loss: 14.9457 - mae: 14.9457\n",
            "Epoch 21/100\n",
            "2/2 [==============================] - 0s 14ms/step - loss: 10.8288 - mae: 10.8288\n",
            "Epoch 22/100\n",
            "2/2 [==============================] - 0s 12ms/step - loss: 8.5781 - mae: 8.5781\n",
            "Epoch 23/100\n",
            "2/2 [==============================] - 0s 14ms/step - loss: 9.7141 - mae: 9.7141\n",
            "Epoch 24/100\n",
            "2/2 [==============================] - 0s 21ms/step - loss: 10.9405 - mae: 10.9405\n",
            "Epoch 25/100\n",
            "2/2 [==============================] - 0s 13ms/step - loss: 9.1497 - mae: 9.1497\n",
            "Epoch 26/100\n",
            "2/2 [==============================] - 0s 17ms/step - loss: 13.1778 - mae: 13.1778\n",
            "Epoch 27/100\n",
            "2/2 [==============================] - 0s 36ms/step - loss: 10.6518 - mae: 10.6518\n",
            "Epoch 28/100\n",
            "2/2 [==============================] - 0s 20ms/step - loss: 12.8683 - mae: 12.8683\n",
            "Epoch 29/100\n",
            "2/2 [==============================] - 0s 16ms/step - loss: 9.5010 - mae: 9.5010\n",
            "Epoch 30/100\n",
            "2/2 [==============================] - 0s 23ms/step - loss: 16.3876 - mae: 16.3876\n",
            "Epoch 31/100\n",
            "2/2 [==============================] - 0s 14ms/step - loss: 23.5955 - mae: 23.5955\n",
            "Epoch 32/100\n",
            "2/2 [==============================] - 0s 13ms/step - loss: 7.6057 - mae: 7.6057\n",
            "Epoch 33/100\n",
            "2/2 [==============================] - 0s 14ms/step - loss: 9.3041 - mae: 9.3041\n",
            "Epoch 34/100\n",
            "2/2 [==============================] - 0s 19ms/step - loss: 13.6900 - mae: 13.6900\n",
            "Epoch 35/100\n",
            "2/2 [==============================] - 0s 16ms/step - loss: 11.1401 - mae: 11.1401\n",
            "Epoch 36/100\n",
            "2/2 [==============================] - 0s 9ms/step - loss: 13.3563 - mae: 13.3563\n",
            "Epoch 37/100\n",
            "2/2 [==============================] - 0s 19ms/step - loss: 9.4527 - mae: 9.4527\n",
            "Epoch 38/100\n",
            "2/2 [==============================] - 0s 13ms/step - loss: 10.1073 - mae: 10.1073\n",
            "Epoch 39/100\n",
            "2/2 [==============================] - 0s 17ms/step - loss: 10.1920 - mae: 10.1920\n",
            "Epoch 40/100\n",
            "2/2 [==============================] - 0s 11ms/step - loss: 10.9347 - mae: 10.9347\n",
            "Epoch 41/100\n",
            "2/2 [==============================] - 0s 16ms/step - loss: 7.9203 - mae: 7.9203\n",
            "Epoch 42/100\n",
            "2/2 [==============================] - 0s 9ms/step - loss: 10.0643 - mae: 10.0643\n",
            "Epoch 43/100\n",
            "2/2 [==============================] - 0s 10ms/step - loss: 8.6846 - mae: 8.6846\n",
            "Epoch 44/100\n",
            "2/2 [==============================] - 0s 12ms/step - loss: 12.1632 - mae: 12.1632\n",
            "Epoch 45/100\n",
            "2/2 [==============================] - 0s 13ms/step - loss: 13.8248 - mae: 13.8248\n",
            "Epoch 46/100\n",
            "2/2 [==============================] - 0s 11ms/step - loss: 8.4838 - mae: 8.4838\n",
            "Epoch 47/100\n",
            "2/2 [==============================] - 0s 18ms/step - loss: 9.1090 - mae: 9.1090\n",
            "Epoch 48/100\n",
            "2/2 [==============================] - 0s 14ms/step - loss: 10.5868 - mae: 10.5868\n",
            "Epoch 49/100\n",
            "2/2 [==============================] - 0s 10ms/step - loss: 7.7287 - mae: 7.7287\n",
            "Epoch 50/100\n",
            "2/2 [==============================] - 0s 22ms/step - loss: 9.5109 - mae: 9.5109\n",
            "Epoch 51/100\n",
            "2/2 [==============================] - 0s 11ms/step - loss: 9.1455 - mae: 9.1455\n",
            "Epoch 52/100\n",
            "2/2 [==============================] - 0s 9ms/step - loss: 16.3133 - mae: 16.3133\n",
            "Epoch 53/100\n",
            "2/2 [==============================] - 0s 11ms/step - loss: 14.1443 - mae: 14.1443\n",
            "Epoch 54/100\n",
            "2/2 [==============================] - 0s 10ms/step - loss: 21.1728 - mae: 21.1728\n",
            "Epoch 55/100\n",
            "2/2 [==============================] - 0s 27ms/step - loss: 16.3493 - mae: 16.3493\n",
            "Epoch 56/100\n",
            "2/2 [==============================] - 0s 28ms/step - loss: 10.0077 - mae: 10.0077\n",
            "Epoch 57/100\n",
            "2/2 [==============================] - 0s 15ms/step - loss: 9.9326 - mae: 9.9326\n",
            "Epoch 58/100\n",
            "2/2 [==============================] - 0s 14ms/step - loss: 9.1954 - mae: 9.1954\n",
            "Epoch 59/100\n",
            "2/2 [==============================] - 0s 37ms/step - loss: 8.3996 - mae: 8.3996\n",
            "Epoch 60/100\n",
            "2/2 [==============================] - 0s 15ms/step - loss: 9.4654 - mae: 9.4654\n",
            "Epoch 61/100\n",
            "2/2 [==============================] - 0s 32ms/step - loss: 11.3989 - mae: 11.3989\n",
            "Epoch 62/100\n",
            "2/2 [==============================] - 0s 13ms/step - loss: 11.7148 - mae: 11.7148\n",
            "Epoch 63/100\n",
            "2/2 [==============================] - 0s 11ms/step - loss: 7.0652 - mae: 7.0652\n",
            "Epoch 64/100\n",
            "2/2 [==============================] - 0s 16ms/step - loss: 16.9969 - mae: 16.9969\n",
            "Epoch 65/100\n",
            "2/2 [==============================] - 0s 13ms/step - loss: 12.4789 - mae: 12.4789\n",
            "Epoch 66/100\n",
            "2/2 [==============================] - 0s 13ms/step - loss: 13.0457 - mae: 13.0457\n",
            "Epoch 67/100\n",
            "2/2 [==============================] - 0s 23ms/step - loss: 8.0645 - mae: 8.0645\n",
            "Epoch 68/100\n",
            "2/2 [==============================] - 0s 15ms/step - loss: 10.2023 - mae: 10.2023\n",
            "Epoch 69/100\n",
            "2/2 [==============================] - 0s 17ms/step - loss: 12.3927 - mae: 12.3927\n",
            "Epoch 70/100\n",
            "2/2 [==============================] - 0s 18ms/step - loss: 9.0265 - mae: 9.0265\n",
            "Epoch 71/100\n",
            "2/2 [==============================] - 0s 12ms/step - loss: 10.0110 - mae: 10.0110\n",
            "Epoch 72/100\n",
            "2/2 [==============================] - 0s 10ms/step - loss: 10.0293 - mae: 10.0293\n",
            "Epoch 73/100\n",
            "2/2 [==============================] - 0s 11ms/step - loss: 12.5762 - mae: 12.5762\n",
            "Epoch 74/100\n",
            "2/2 [==============================] - 0s 14ms/step - loss: 10.4100 - mae: 10.4100\n",
            "Epoch 75/100\n",
            "2/2 [==============================] - 0s 14ms/step - loss: 9.6987 - mae: 9.6987\n",
            "Epoch 76/100\n",
            "2/2 [==============================] - 0s 14ms/step - loss: 11.1939 - mae: 11.1939\n",
            "Epoch 77/100\n",
            "2/2 [==============================] - 0s 43ms/step - loss: 8.3417 - mae: 8.3417\n",
            "Epoch 78/100\n",
            "2/2 [==============================] - 0s 19ms/step - loss: 9.0909 - mae: 9.0909\n",
            "Epoch 79/100\n",
            "2/2 [==============================] - 0s 14ms/step - loss: 19.5491 - mae: 19.5491\n",
            "Epoch 80/100\n",
            "2/2 [==============================] - 0s 22ms/step - loss: 14.8500 - mae: 14.8500\n",
            "Epoch 81/100\n",
            "2/2 [==============================] - 0s 16ms/step - loss: 9.0364 - mae: 9.0364\n",
            "Epoch 82/100\n",
            "2/2 [==============================] - 0s 11ms/step - loss: 12.9821 - mae: 12.9821\n",
            "Epoch 83/100\n",
            "2/2 [==============================] - 0s 12ms/step - loss: 10.4340 - mae: 10.4340\n",
            "Epoch 84/100\n",
            "2/2 [==============================] - 0s 13ms/step - loss: 10.4755 - mae: 10.4755\n",
            "Epoch 85/100\n",
            "2/2 [==============================] - 0s 11ms/step - loss: 9.2115 - mae: 9.2115\n",
            "Epoch 86/100\n",
            "2/2 [==============================] - 0s 11ms/step - loss: 9.0898 - mae: 9.0898\n",
            "Epoch 87/100\n",
            "2/2 [==============================] - 0s 13ms/step - loss: 11.7586 - mae: 11.7586\n",
            "Epoch 88/100\n",
            "2/2 [==============================] - 0s 16ms/step - loss: 10.3624 - mae: 10.3624\n",
            "Epoch 89/100\n",
            "2/2 [==============================] - 0s 11ms/step - loss: 6.9802 - mae: 6.9802\n",
            "Epoch 90/100\n",
            "2/2 [==============================] - 0s 11ms/step - loss: 13.6697 - mae: 13.6697\n",
            "Epoch 91/100\n",
            "2/2 [==============================] - 0s 10ms/step - loss: 7.8030 - mae: 7.8030\n",
            "Epoch 92/100\n",
            "2/2 [==============================] - 0s 14ms/step - loss: 7.9672 - mae: 7.9672\n",
            "Epoch 93/100\n",
            "2/2 [==============================] - 0s 14ms/step - loss: 9.4741 - mae: 9.4741\n",
            "Epoch 94/100\n",
            "2/2 [==============================] - 0s 13ms/step - loss: 8.7844 - mae: 8.7844\n",
            "Epoch 95/100\n",
            "2/2 [==============================] - 0s 14ms/step - loss: 9.9331 - mae: 9.9331\n",
            "Epoch 96/100\n",
            "2/2 [==============================] - 0s 13ms/step - loss: 7.2966 - mae: 7.2966\n",
            "Epoch 97/100\n",
            "2/2 [==============================] - 0s 11ms/step - loss: 6.7434 - mae: 6.7434\n",
            "Epoch 98/100\n",
            "2/2 [==============================] - 0s 11ms/step - loss: 8.3995 - mae: 8.3995\n",
            "Epoch 99/100\n",
            "2/2 [==============================] - 0s 15ms/step - loss: 8.4888 - mae: 8.4888\n",
            "Epoch 100/100\n",
            "2/2 [==============================] - 0s 11ms/step - loss: 14.4100 - mae: 14.4100\n"
          ]
        },
        {
          "output_type": "execute_result",
          "data": {
            "text/plain": [
              "<keras.src.callbacks.History at 0x7f9122b9c370>"
            ]
          },
          "metadata": {},
          "execution_count": 20
        }
      ]
    },
    {
      "cell_type": "code",
      "source": [
        "# Visualize the model\n",
        "model.summary()\n",
        "# video: 05:38"
      ],
      "metadata": {
        "id": "BP1NAUWaZqv-",
        "outputId": "d8d71838-4b07-4a3e-8534-753e79fbf5d2",
        "colab": {
          "base_uri": "https://localhost:8080/"
        }
      },
      "execution_count": 21,
      "outputs": [
        {
          "output_type": "stream",
          "name": "stdout",
          "text": [
            "Model: \"sequential_3\"\n",
            "_________________________________________________________________\n",
            " Layer (type)                Output Shape              Param #   \n",
            "=================================================================\n",
            " dense_5 (Dense)             (None, 1)                 2         \n",
            "                                                                 \n",
            "=================================================================\n",
            "Total params: 2 (8.00 Byte)\n",
            "Trainable params: 2 (8.00 Byte)\n",
            "Non-trainable params: 0 (0.00 Byte)\n",
            "_________________________________________________________________\n"
          ]
        }
      ]
    },
    {
      "cell_type": "code",
      "source": [
        "# Create a model\n",
        "model = tf.keras.Sequential([\n",
        "    # (let's try and play with the dense units)\n",
        "    tf.keras.layers.Dense(10),\n",
        "    tf.keras.layers.Dense(1, name=\"output_layer\")\n",
        "\n",
        "], name=\"model-1\")\n",
        "\n",
        "# Compile the model\n",
        "model.compile(\n",
        "    loss=tf.keras.losses.mae,\n",
        "    optimizer=tf.keras.optimizers.Adam(learning_rate=0.01),\n",
        "    metrics=[\"mae\"]\n",
        ")\n",
        "\n",
        "# Fit the model\n",
        "model.fit(tf.expand_dims(X_train, axis=-1), Y_train, epochs=200, verbose=0)"
      ],
      "metadata": {
        "colab": {
          "base_uri": "https://localhost:8080/"
        },
        "id": "Grdtv5LTzCC0",
        "outputId": "612baa0b-b622-4f16-a316-8c6379d5ea16"
      },
      "execution_count": 70,
      "outputs": [
        {
          "output_type": "execute_result",
          "data": {
            "text/plain": [
              "<keras.src.callbacks.History at 0x7f911d24c580>"
            ]
          },
          "metadata": {},
          "execution_count": 70
        }
      ]
    },
    {
      "cell_type": "code",
      "source": [
        "#5:50"
      ],
      "metadata": {
        "id": "1ScoET_N6dGQ"
      },
      "execution_count": 23,
      "outputs": []
    },
    {
      "cell_type": "code",
      "source": [
        "model.summary()"
      ],
      "metadata": {
        "id": "KxpP-Lpit0mS",
        "outputId": "00902b62-d673-451b-bc43-46b7843ca75c",
        "colab": {
          "base_uri": "https://localhost:8080/"
        }
      },
      "execution_count": 48,
      "outputs": [
        {
          "output_type": "stream",
          "name": "stdout",
          "text": [
            "Model: \"model-1\"\n",
            "_________________________________________________________________\n",
            " Layer (type)                Output Shape              Param #   \n",
            "=================================================================\n",
            " dense_16 (Dense)            (None, 20)                40        \n",
            "                                                                 \n",
            " output_layer (Dense)        (None, 1)                 21        \n",
            "                                                                 \n",
            "=================================================================\n",
            "Total params: 61 (244.00 Byte)\n",
            "Trainable params: 61 (244.00 Byte)\n",
            "Non-trainable params: 0 (0.00 Byte)\n",
            "_________________________________________________________________\n"
          ]
        }
      ]
    },
    {
      "cell_type": "code",
      "source": [
        "from tensorflow.keras.utils import plot_model\n",
        "plot_model(model=model, show_shapes=True)"
      ],
      "metadata": {
        "id": "ZsNX4XIov0C-",
        "outputId": "bcc77382-9339-475a-a007-16bf721d7ed5",
        "colab": {
          "base_uri": "https://localhost:8080/",
          "height": 312
        }
      },
      "execution_count": 49,
      "outputs": [
        {
          "output_type": "execute_result",
          "data": {
            "image/png": "[encoded data removed]",
            "text/plain": [
              "<IPython.core.display.Image object>"
            ]
          },
          "metadata": {},
          "execution_count": 49
        }
      ]
    },
    {
      "cell_type": "markdown",
      "source": [
        "### Visualizing our model predictions\n",
        "\n",
        "To visualize predictiosn, it's a good idea to plot them against the gorund truth labels.\n",
        "\n",
        "Often you'ill see this in the form of y_test or y_true versus y_pred (ground truth versus  your model's predicitons)\n"
      ],
      "metadata": {
        "id": "_GjBvdG0v3M9"
      }
    },
    {
      "cell_type": "code",
      "source": [
        "# Make somoe predictions\n",
        "y_pred = model.predict(X_test)\n",
        "y_pred"
      ],
      "metadata": {
        "id": "WhCjICch0qdw",
        "outputId": "58ea3fd6-4bd8-4677-df9c-786aee8f041c",
        "colab": {
          "base_uri": "https://localhost:8080/"
        }
      },
      "execution_count": 51,
      "outputs": [
        {
          "output_type": "stream",
          "name": "stdout",
          "text": [
            "1/1 [==============================] - 0s 45ms/step\n"
          ]
        },
        {
          "output_type": "execute_result",
          "data": {
            "text/plain": [
              "array([[ 91.30606 ],\n",
              "       [ 97.268234],\n",
              "       [103.230446],\n",
              "       [109.192635],\n",
              "       [115.154816],\n",
              "       [121.117004],\n",
              "       [127.07921 ],\n",
              "       [133.0414  ],\n",
              "       [139.00359 ],\n",
              "       [144.96579 ]], dtype=float32)"
            ]
          },
          "metadata": {},
          "execution_count": 51
        }
      ]
    },
    {
      "cell_type": "code",
      "source": [
        "Y_test"
      ],
      "metadata": {
        "id": "ibtgBDhl-iSv",
        "outputId": "4f750cc7-da94-4ad7-927c-50717bc6e3f2",
        "colab": {
          "base_uri": "https://localhost:8080/"
        }
      },
      "execution_count": 53,
      "outputs": [
        {
          "output_type": "execute_result",
          "data": {
            "text/plain": [
              "<tf.Tensor: shape=(10,), dtype=int32, numpy=array([ 70,  74,  78,  82,  86,  90,  94,  98, 102, 106], dtype=int32)>"
            ]
          },
          "metadata": {},
          "execution_count": 53
        }
      ]
    },
    {
      "cell_type": "code",
      "source": [
        "# Let's create a plotting function\n",
        "def plot_predictions(\n",
        "                     train_data=X_train,\n",
        "                     train_labels=Y_train,\n",
        "                     test_data=X_test,\n",
        "                     test_labels=Y_test,\n",
        "                     predictions=y_pred\n",
        "                     ):\n",
        "  plt.figure(figsize=(10, 7))\n",
        "  # plot training data in blue\n",
        "  plt.scatter(train_data, train_labels, c=\"b\", label=\"Training data\")\n",
        "  plt.scatter(test_data, test_labels, c=\"g\", label=\"Testing data\")\n",
        "  plt.scatter(test_data, predictions, c=\"r\", label=\"Predictions\")\n",
        "  plt.legend()"
      ],
      "metadata": {
        "id": "JXK24Nm0-lcO"
      },
      "execution_count": 62,
      "outputs": []
    },
    {
      "cell_type": "code",
      "source": [
        "plot_predictions()"
      ],
      "metadata": {
        "id": "a7QWfoXrJBVi",
        "outputId": "86df14f5-f57f-4e31-d0c3-a45dcf77f026",
        "colab": {
          "base_uri": "https://localhost:8080/",
          "height": 452
        }
      },
      "execution_count": 71,
      "outputs": [
        {
          "output_type": "display_data",
          "data": {
            "text/plain": [
              "<Figure size 1000x700 with 1 Axes>"
            ],
            "image/png": "[encoded data removed]"
          },
          "metadata": {}
        }
      ]
    },
    {
      "cell_type": "markdown",
      "source": [
        "### Evaluating our model's predictions with regression evaluation metrics"
      ],
      "metadata": {
        "id": "VKSmpfMXJxoc"
      }
    },
    {
      "cell_type": "markdown",
      "source": [
        "Depending on the problem you're working on, there will be different evaluation metrics to evaluate your model's performance.\n",
        "\n",
        "Since we're working on a regression, two of the main metrics:\n",
        "* MAE - MEAN ABSOLUTE ERROR, \"on average, how wrong is each of my model's predictions\"\n",
        "* MSE - mean square root: square the average error"
      ],
      "metadata": {
        "id": "BZTVY3PVJ4Wm"
      }
    },
    {
      "cell_type": "code",
      "source": [
        "# Evaluate the model on the test\n",
        "model.evaluate(X_test, Y_test)"
      ],
      "metadata": {
        "id": "bRJec61vMggA",
        "outputId": "e4dc728c-a329-40f8-828f-9030c8f162db",
        "colab": {
          "base_uri": "https://localhost:8080/"
        }
      },
      "execution_count": 72,
      "outputs": [
        {
          "output_type": "stream",
          "name": "stdout",
          "text": [
            "1/1 [==============================] - 0s 225ms/step - loss: 0.1272 - mae: 0.1272\n"
          ]
        },
        {
          "output_type": "execute_result",
          "data": {
            "text/plain": [
              "[0.1271965056657791, 0.1271965056657791]"
            ]
          },
          "metadata": {},
          "execution_count": 72
        }
      ]
    },
    {
      "cell_type": "code",
      "source": [
        "# Calculate the mean absolute error\n",
        "tf.metrics.mean_absolute_error(y_pred=tf.constant(y_pred), y_true=Y_test)"
      ],
      "metadata": {
        "id": "E2J2YuYIM_Pg",
        "outputId": "cf848dbc-dc36-46d2-9e4c-6d4d797d3211",
        "colab": {
          "base_uri": "https://localhost:8080/"
        }
      },
      "execution_count": 77,
      "outputs": [
        {
          "output_type": "execute_result",
          "data": {
            "text/plain": [
              "<tf.Tensor: shape=(10,), dtype=float32, numpy=\n",
              "array([10.261212, 12.107294, 15.784357, 21.192635, 27.154816, 33.117004,\n",
              "       39.07921 , 45.041397, 51.003586, 56.96579 ], dtype=float32)>"
            ]
          },
          "metadata": {},
          "execution_count": 77
        }
      ]
    },
    {
      "cell_type": "code",
      "source": [
        "# they don't have the same shape\n",
        "tf.constant(y_pred), Y_test"
      ],
      "metadata": {
        "id": "tbv13OIoO4ni",
        "outputId": "f819f63a-4e3a-4351-83ab-66b38c910eee",
        "colab": {
          "base_uri": "https://localhost:8080/"
        }
      },
      "execution_count": 79,
      "outputs": [
        {
          "output_type": "execute_result",
          "data": {
            "text/plain": [
              "(<tf.Tensor: shape=(10, 1), dtype=float32, numpy=\n",
              " array([[ 91.30606 ],\n",
              "        [ 97.268234],\n",
              "        [103.230446],\n",
              "        [109.192635],\n",
              "        [115.154816],\n",
              "        [121.117004],\n",
              "        [127.07921 ],\n",
              "        [133.0414  ],\n",
              "        [139.00359 ],\n",
              "        [144.96579 ]], dtype=float32)>,\n",
              " <tf.Tensor: shape=(10,), dtype=int32, numpy=array([ 70,  74,  78,  82,  86,  90,  94,  98, 102, 106], dtype=int32)>)"
            ]
          },
          "metadata": {},
          "execution_count": 79
        }
      ]
    },
    {
      "cell_type": "code",
      "source": [
        "tf.squeeze(y_pred)"
      ],
      "metadata": {
        "id": "ScoC52RlPO7I",
        "outputId": "aaacdcc8-7889-4612-9eba-88a9ce917df3",
        "colab": {
          "base_uri": "https://localhost:8080/"
        }
      },
      "execution_count": 80,
      "outputs": [
        {
          "output_type": "execute_result",
          "data": {
            "text/plain": [
              "<tf.Tensor: shape=(10,), dtype=float32, numpy=\n",
              "array([ 91.30606 ,  97.268234, 103.230446, 109.192635, 115.154816,\n",
              "       121.117004, 127.07921 , 133.0414  , 139.00359 , 144.96579 ],\n",
              "      dtype=float32)>"
            ]
          },
          "metadata": {},
          "execution_count": 80
        }
      ]
    },
    {
      "cell_type": "code",
      "source": [
        "# Calculate the mean absolute error\n",
        "mae = tf.metrics.mean_absolute_error(\n",
        "    y_true=Y_test,\n",
        "    y_pred=tf.squeeze(y_pred) # we have to squeeze the y_pred to remove the last dim\n",
        "  )\n",
        "mae"
      ],
      "metadata": {
        "id": "XQE9WVa5PcJM",
        "outputId": "2d3bae44-aebe-43d2-a3fb-2b78dbe3f499",
        "colab": {
          "base_uri": "https://localhost:8080/"
        }
      },
      "execution_count": 87,
      "outputs": [
        {
          "output_type": "execute_result",
          "data": {
            "text/plain": [
              "<tf.Tensor: shape=(), dtype=float32, numpy=30.13592>"
            ]
          },
          "metadata": {},
          "execution_count": 87
        }
      ]
    },
    {
      "cell_type": "code",
      "source": [
        "# Calculate the mean square error\n",
        "mse = tf.metrics.mean_squared_error(\n",
        "      y_true=Y_test,\n",
        "      y_pred=tf.squeeze(y_pred)\n",
        "    )\n",
        "mse"
      ],
      "metadata": {
        "id": "GHq9R5hBQy27",
        "outputId": "516c17b7-6459-46d6-a46d-d28ba9c38894",
        "colab": {
          "base_uri": "https://localhost:8080/"
        }
      },
      "execution_count": 90,
      "outputs": [
        {
          "output_type": "execute_result",
          "data": {
            "text/plain": [
              "<tf.Tensor: shape=(), dtype=float32, numpy=939.9377>"
            ]
          },
          "metadata": {},
          "execution_count": 90
        }
      ]
    },
    {
      "cell_type": "code",
      "source": [
        "def mae(y_true, y_pred):\n",
        "  return tf.metrics.mean_absolute_error(y_true=y_true, y_pred=tf.squeeze(y_pred))\n",
        "\n",
        "def mse(y_true, y_pred):\n",
        "  return tf.metrics.mean_squared_error(y_true=y_true, y_pred=tf.squeeze(y_pred))"
      ],
      "metadata": {
        "id": "c33A2qCdRUJ6"
      },
      "execution_count": 103,
      "outputs": []
    },
    {
      "cell_type": "markdown",
      "source": [
        "### Running experiments to improve our model\n",
        "~~~\n",
        "Build a mdoel -> fit it -> evaluate it -> teak it -> fit it -> evaluate it -> tweak it ...\n"
      ],
      "metadata": {
        "id": "UonqQFk2SFZ1"
      }
    },
    {
      "cell_type": "markdown",
      "source": [
        "1. Get more data\n",
        "2. Make you rmodel larger (more layers, more hidden units for each layer)\n",
        "3. Train for longer give your model more of a chance to find patterens in the data"
      ],
      "metadata": {
        "id": "GXFegZC7SVYL"
      }
    },
    {
      "cell_type": "code",
      "source": [
        "# Set random seed\n",
        "tf.random.set_seed(42)\n",
        "\n",
        "# 1. Create the mdoel\n",
        "model_1 = tf.keras.Sequential([\n",
        "    tf.keras.layers.Dense(1)\n",
        "])\n",
        "\n",
        "# 2. Compile the model\n",
        "model_1.compile(loss=tf.keras.losses.mae,\n",
        "                optimizer=tf.keras.optimizers.SGD(),\n",
        "                metrics=[\"mae\"])\n",
        "# 3. Fit the model\n",
        "model_1.fit(tf.expand_dims(X_train, axis=-1), Y_train, epochs=100)"
      ],
      "metadata": {
        "id": "y02s-djgS70G",
        "outputId": "dc9343af-a64a-4ca5-d826-b4a05bb3505a",
        "colab": {
          "base_uri": "https://localhost:8080/"
        }
      },
      "execution_count": 96,
      "outputs": [
        {
          "output_type": "stream",
          "name": "stdout",
          "text": [
            "Epoch 1/100\n",
            "2/2 [==============================] - 1s 28ms/step - loss: 51.4325 - mae: 51.4325\n",
            "Epoch 2/100\n",
            "2/2 [==============================] - 0s 16ms/step - loss: 18.2802 - mae: 18.2802\n",
            "Epoch 3/100\n",
            "2/2 [==============================] - 0s 21ms/step - loss: 10.0563 - mae: 10.0563\n",
            "Epoch 4/100\n",
            "2/2 [==============================] - 0s 9ms/step - loss: 9.5658 - mae: 9.5658\n",
            "Epoch 5/100\n",
            "2/2 [==============================] - 0s 9ms/step - loss: 10.4730 - mae: 10.4730\n",
            "Epoch 6/100\n",
            "2/2 [==============================] - 0s 19ms/step - loss: 9.7006 - mae: 9.7006\n",
            "Epoch 7/100\n",
            "2/2 [==============================] - 0s 19ms/step - loss: 8.7978 - mae: 8.7978\n",
            "Epoch 8/100\n",
            "2/2 [==============================] - 0s 15ms/step - loss: 9.0739 - mae: 9.0739\n",
            "Epoch 9/100\n",
            "2/2 [==============================] - 0s 19ms/step - loss: 19.3005 - mae: 19.3005\n",
            "Epoch 10/100\n",
            "2/2 [==============================] - 0s 14ms/step - loss: 10.4274 - mae: 10.4274\n",
            "Epoch 11/100\n",
            "2/2 [==============================] - 0s 22ms/step - loss: 8.5266 - mae: 8.5266\n",
            "Epoch 12/100\n",
            "2/2 [==============================] - 0s 26ms/step - loss: 10.9200 - mae: 10.9200\n",
            "Epoch 13/100\n",
            "2/2 [==============================] - 0s 15ms/step - loss: 7.5720 - mae: 7.5720\n",
            "Epoch 14/100\n",
            "2/2 [==============================] - 0s 14ms/step - loss: 10.0043 - mae: 10.0043\n",
            "Epoch 15/100\n",
            "2/2 [==============================] - 0s 17ms/step - loss: 9.4078 - mae: 9.4078\n",
            "Epoch 16/100\n",
            "2/2 [==============================] - 0s 13ms/step - loss: 8.5664 - mae: 8.5664\n",
            "Epoch 17/100\n",
            "2/2 [==============================] - 0s 18ms/step - loss: 13.6891 - mae: 13.6891\n",
            "Epoch 18/100\n",
            "2/2 [==============================] - 0s 13ms/step - loss: 11.5288 - mae: 11.5288\n",
            "Epoch 19/100\n",
            "2/2 [==============================] - 0s 20ms/step - loss: 17.8501 - mae: 17.8501\n",
            "Epoch 20/100\n",
            "2/2 [==============================] - 0s 29ms/step - loss: 14.9853 - mae: 14.9853\n",
            "Epoch 21/100\n",
            "2/2 [==============================] - 0s 19ms/step - loss: 10.8634 - mae: 10.8634\n",
            "Epoch 22/100\n",
            "2/2 [==============================] - 0s 15ms/step - loss: 8.6160 - mae: 8.6160\n",
            "Epoch 23/100\n",
            "2/2 [==============================] - 0s 30ms/step - loss: 9.7060 - mae: 9.7060\n",
            "Epoch 24/100\n",
            "2/2 [==============================] - 0s 39ms/step - loss: 8.5917 - mae: 8.5917\n",
            "Epoch 25/100\n",
            "2/2 [==============================] - 0s 19ms/step - loss: 11.6159 - mae: 11.6159\n",
            "Epoch 26/100\n",
            "2/2 [==============================] - 0s 16ms/step - loss: 15.1220 - mae: 15.1220\n",
            "Epoch 27/100\n",
            "2/2 [==============================] - 0s 14ms/step - loss: 11.8729 - mae: 11.8729\n",
            "Epoch 28/100\n",
            "2/2 [==============================] - 0s 16ms/step - loss: 13.9119 - mae: 13.9119\n",
            "Epoch 29/100\n",
            "2/2 [==============================] - 0s 17ms/step - loss: 9.6097 - mae: 9.6097\n",
            "Epoch 30/100\n",
            "2/2 [==============================] - 0s 11ms/step - loss: 17.1603 - mae: 17.1603\n",
            "Epoch 31/100\n",
            "2/2 [==============================] - 0s 13ms/step - loss: 22.9034 - mae: 22.9034\n",
            "Epoch 32/100\n",
            "2/2 [==============================] - 0s 15ms/step - loss: 7.9213 - mae: 7.9213\n",
            "Epoch 33/100\n",
            "2/2 [==============================] - 0s 21ms/step - loss: 14.1202 - mae: 14.1202\n",
            "Epoch 34/100\n",
            "2/2 [==============================] - 0s 15ms/step - loss: 12.3617 - mae: 12.3617\n",
            "Epoch 35/100\n",
            "2/2 [==============================] - 0s 19ms/step - loss: 8.2726 - mae: 8.2726\n",
            "Epoch 36/100\n",
            "2/2 [==============================] - 0s 15ms/step - loss: 10.4976 - mae: 10.4976\n",
            "Epoch 37/100\n",
            "2/2 [==============================] - 0s 19ms/step - loss: 10.1406 - mae: 10.1406\n",
            "Epoch 38/100\n",
            "2/2 [==============================] - 0s 29ms/step - loss: 11.3413 - mae: 11.3413\n",
            "Epoch 39/100\n",
            "2/2 [==============================] - 0s 22ms/step - loss: 14.7432 - mae: 14.7432\n",
            "Epoch 40/100\n",
            "2/2 [==============================] - 0s 16ms/step - loss: 12.8736 - mae: 12.8736\n",
            "Epoch 41/100\n",
            "2/2 [==============================] - 0s 15ms/step - loss: 9.2616 - mae: 9.2616\n",
            "Epoch 42/100\n",
            "2/2 [==============================] - 0s 29ms/step - loss: 11.0198 - mae: 11.0198\n",
            "Epoch 43/100\n",
            "2/2 [==============================] - 0s 27ms/step - loss: 8.3406 - mae: 8.3406\n",
            "Epoch 44/100\n",
            "2/2 [==============================] - 0s 14ms/step - loss: 13.0703 - mae: 13.0703\n",
            "Epoch 45/100\n",
            "2/2 [==============================] - 0s 23ms/step - loss: 13.6619 - mae: 13.6619\n",
            "Epoch 46/100\n",
            "2/2 [==============================] - 0s 18ms/step - loss: 8.2807 - mae: 8.2807\n",
            "Epoch 47/100\n",
            "2/2 [==============================] - 0s 21ms/step - loss: 8.7371 - mae: 8.7371\n",
            "Epoch 48/100\n",
            "2/2 [==============================] - 0s 9ms/step - loss: 10.0398 - mae: 10.0398\n",
            "Epoch 49/100\n",
            "2/2 [==============================] - 0s 12ms/step - loss: 8.5222 - mae: 8.5222\n",
            "Epoch 50/100\n",
            "2/2 [==============================] - 0s 18ms/step - loss: 9.0290 - mae: 9.0290\n",
            "Epoch 51/100\n",
            "2/2 [==============================] - 0s 28ms/step - loss: 9.3820 - mae: 9.3820\n",
            "Epoch 52/100\n",
            "2/2 [==============================] - 0s 18ms/step - loss: 14.0312 - mae: 14.0312\n",
            "Epoch 53/100\n",
            "2/2 [==============================] - 0s 16ms/step - loss: 15.4197 - mae: 15.4197\n",
            "Epoch 54/100\n",
            "2/2 [==============================] - 0s 38ms/step - loss: 10.9204 - mae: 10.9204\n",
            "Epoch 55/100\n",
            "2/2 [==============================] - 0s 21ms/step - loss: 15.4536 - mae: 15.4536\n",
            "Epoch 56/100\n",
            "2/2 [==============================] - 0s 25ms/step - loss: 9.1441 - mae: 9.1441\n",
            "Epoch 57/100\n",
            "2/2 [==============================] - 0s 23ms/step - loss: 9.6924 - mae: 9.6924\n",
            "Epoch 58/100\n",
            "2/2 [==============================] - 0s 17ms/step - loss: 9.0016 - mae: 9.0016\n",
            "Epoch 59/100\n",
            "2/2 [==============================] - 0s 17ms/step - loss: 10.2296 - mae: 10.2296\n",
            "Epoch 60/100\n",
            "2/2 [==============================] - 0s 19ms/step - loss: 8.1819 - mae: 8.1819\n",
            "Epoch 61/100\n",
            "2/2 [==============================] - 0s 15ms/step - loss: 10.0582 - mae: 10.0582\n",
            "Epoch 62/100\n",
            "2/2 [==============================] - 0s 16ms/step - loss: 7.0399 - mae: 7.0399\n",
            "Epoch 63/100\n",
            "2/2 [==============================] - 0s 16ms/step - loss: 12.6961 - mae: 12.6961\n",
            "Epoch 64/100\n",
            "2/2 [==============================] - 0s 17ms/step - loss: 12.6426 - mae: 12.6426\n",
            "Epoch 65/100\n",
            "2/2 [==============================] - 0s 9ms/step - loss: 9.4577 - mae: 9.4577\n",
            "Epoch 66/100\n",
            "2/2 [==============================] - 0s 12ms/step - loss: 11.5326 - mae: 11.5326\n",
            "Epoch 67/100\n",
            "2/2 [==============================] - 0s 15ms/step - loss: 8.0355 - mae: 8.0355\n",
            "Epoch 68/100\n",
            "2/2 [==============================] - 0s 13ms/step - loss: 8.5666 - mae: 8.5666\n",
            "Epoch 69/100\n",
            "2/2 [==============================] - 0s 15ms/step - loss: 12.2455 - mae: 12.2455\n",
            "Epoch 70/100\n",
            "2/2 [==============================] - 0s 16ms/step - loss: 8.9540 - mae: 8.9540\n",
            "Epoch 71/100\n",
            "2/2 [==============================] - 0s 20ms/step - loss: 9.9283 - mae: 9.9283\n",
            "Epoch 72/100\n",
            "2/2 [==============================] - 0s 19ms/step - loss: 9.9691 - mae: 9.9691\n",
            "Epoch 73/100\n",
            "2/2 [==============================] - 0s 15ms/step - loss: 12.4291 - mae: 12.4291\n",
            "Epoch 74/100\n",
            "2/2 [==============================] - 0s 14ms/step - loss: 10.5926 - mae: 10.5926\n",
            "Epoch 75/100\n",
            "2/2 [==============================] - 0s 22ms/step - loss: 9.6269 - mae: 9.6269\n",
            "Epoch 76/100\n",
            "2/2 [==============================] - 0s 15ms/step - loss: 11.0901 - mae: 11.0901\n",
            "Epoch 77/100\n",
            "2/2 [==============================] - 0s 18ms/step - loss: 8.2758 - mae: 8.2758\n",
            "Epoch 78/100\n",
            "2/2 [==============================] - 0s 18ms/step - loss: 8.9608 - mae: 8.9608\n",
            "Epoch 79/100\n",
            "2/2 [==============================] - 0s 9ms/step - loss: 19.8122 - mae: 19.8122\n",
            "Epoch 80/100\n",
            "2/2 [==============================] - 0s 8ms/step - loss: 17.8024 - mae: 17.8024\n",
            "Epoch 81/100\n",
            "2/2 [==============================] - 0s 14ms/step - loss: 7.0909 - mae: 7.0909\n",
            "Epoch 82/100\n",
            "2/2 [==============================] - 0s 8ms/step - loss: 10.4033 - mae: 10.4033\n",
            "Epoch 83/100\n",
            "2/2 [==============================] - 0s 8ms/step - loss: 9.8246 - mae: 9.8246\n",
            "Epoch 84/100\n",
            "2/2 [==============================] - 0s 8ms/step - loss: 7.9465 - mae: 7.9465\n",
            "Epoch 85/100\n",
            "2/2 [==============================] - 0s 9ms/step - loss: 9.4586 - mae: 9.4586\n",
            "Epoch 86/100\n",
            "2/2 [==============================] - 0s 9ms/step - loss: 9.5019 - mae: 9.5019\n",
            "Epoch 87/100\n",
            "2/2 [==============================] - 0s 9ms/step - loss: 11.4497 - mae: 11.4497\n",
            "Epoch 88/100\n",
            "2/2 [==============================] - 0s 8ms/step - loss: 9.9484 - mae: 9.9484\n",
            "Epoch 89/100\n",
            "2/2 [==============================] - 0s 9ms/step - loss: 7.2571 - mae: 7.2571\n",
            "Epoch 90/100\n",
            "2/2 [==============================] - 0s 10ms/step - loss: 12.7102 - mae: 12.7102\n",
            "Epoch 91/100\n",
            "2/2 [==============================] - 0s 10ms/step - loss: 7.3199 - mae: 7.3199\n",
            "Epoch 92/100\n",
            "2/2 [==============================] - 0s 9ms/step - loss: 7.6843 - mae: 7.6843\n",
            "Epoch 93/100\n",
            "2/2 [==============================] - 0s 12ms/step - loss: 7.1220 - mae: 7.1220\n",
            "Epoch 94/100\n",
            "2/2 [==============================] - 0s 8ms/step - loss: 12.5569 - mae: 12.5569\n",
            "Epoch 95/100\n",
            "2/2 [==============================] - 0s 9ms/step - loss: 9.9327 - mae: 9.9327\n",
            "Epoch 96/100\n",
            "2/2 [==============================] - 0s 9ms/step - loss: 9.1401 - mae: 9.1401\n",
            "Epoch 97/100\n",
            "2/2 [==============================] - 0s 9ms/step - loss: 12.0792 - mae: 12.0792\n",
            "Epoch 98/100\n",
            "2/2 [==============================] - 0s 10ms/step - loss: 9.0786 - mae: 9.0786\n",
            "Epoch 99/100\n",
            "2/2 [==============================] - 0s 10ms/step - loss: 8.4989 - mae: 8.4989\n",
            "Epoch 100/100\n",
            "2/2 [==============================] - 0s 9ms/step - loss: 14.4504 - mae: 14.4504\n"
          ]
        },
        {
          "output_type": "execute_result",
          "data": {
            "text/plain": [
              "<keras.src.callbacks.History at 0x7f911d337280>"
            ]
          },
          "metadata": {},
          "execution_count": 96
        }
      ]
    },
    {
      "cell_type": "code",
      "source": [
        "# Make and plot predictions\n",
        "y_preds_1 = model_1.predict(X_test)\n",
        "plot_predictions(predictions=y_preds_1)"
      ],
      "metadata": {
        "id": "t2vtajMMUiDE",
        "outputId": "2784cafd-f022-4426-fe87-ae965346f4d6",
        "colab": {
          "base_uri": "https://localhost:8080/",
          "height": 511
        }
      },
      "execution_count": 97,
      "outputs": [
        {
          "output_type": "stream",
          "name": "stderr",
          "text": [
            "WARNING:tensorflow:5 out of the last 6 calls to <function Model.make_predict_function.<locals>.predict_function at 0x7f9119af51b0> triggered tf.function retracing. Tracing is expensive and the excessive number of tracings could be due to (1) creating @tf.function repeatedly in a loop, (2) passing tensors with different shapes, (3) passing Python objects instead of tensors. For (1), please define your @tf.function outside of the loop. For (2), @tf.function has reduce_retracing=True option that can avoid unnecessary retracing. For (3), please refer to https://www.tensorflow.org/guide/function#controlling_retracing and https://www.tensorflow.org/api_docs/python/tf/function for  more details.\n"
          ]
        },
        {
          "output_type": "stream",
          "name": "stdout",
          "text": [
            "1/1 [==============================] - 0s 121ms/step\n"
          ]
        },
        {
          "output_type": "display_data",
          "data": {
            "text/plain": [
              "<Figure size 1000x700 with 1 Axes>"
            ],
            "image/png": "[encoded data removed]"
          },
          "metadata": {}
        }
      ]
    },
    {
      "cell_type": "code",
      "source": [
        "mae_1 = mae(Y_test, y_preds_1)\n",
        "mse_1 = mse(Y_test, y_preds_1)\n",
        "mae_1, mse_1"
      ],
      "metadata": {
        "id": "eBmhUD1BU7Vl",
        "outputId": "99e28a90-3f08-4054-8a33-96d5f0cb503d",
        "colab": {
          "base_uri": "https://localhost:8080/"
        }
      },
      "execution_count": 105,
      "outputs": [
        {
          "output_type": "execute_result",
          "data": {
            "text/plain": [
              "(<tf.Tensor: shape=(), dtype=float32, numpy=30.637592>,\n",
              " <tf.Tensor: shape=(), dtype=float32, numpy=949.09827>)"
            ]
          },
          "metadata": {},
          "execution_count": 105
        }
      ]
    },
    {
      "cell_type": "code",
      "source": [
        "# 6:39"
      ],
      "metadata": {
        "id": "_o-j6SKwXNhs"
      },
      "execution_count": null,
      "outputs": []
    }
  ]
}