{
  "nbformat": 4,
  "nbformat_minor": 0,
  "metadata": {
    "colab": {
      "provenance": [],
      "authorship_tag": "ABX9TyPj7KysotfaX9AuAj7RaltO",
      "include_colab_link": true
    },
    "kernelspec": {
      "name": "python3",
      "display_name": "Python 3"
    },
    "language_info": {
      "name": "python"
    }
  },
  "cells": [
    {
      "cell_type": "markdown",
      "metadata": {
        "id": "view-in-github",
        "colab_type": "text"
      },
      "source": [
        "<a href=\"https://colab.research.google.com/github/moaoa/tensorflow-fundamentals/blob/main/Regression_with_TensorFlow.ipynb\" target=\"_parent\"><img src=\"https://colab.research.google.com/assets/colab-badge.svg\" alt=\"Open In Colab\"/></a>"
      ]
    },
    {
      "cell_type": "code",
      "execution_count": 56,
      "metadata": {
        "colab": {
          "base_uri": "https://localhost:8080/"
        },
        "id": "3us573ljLIi-",
        "outputId": "943f227c-ca46-48be-e804-5c1dcd37ed90"
      },
      "outputs": [
        {
          "output_type": "stream",
          "name": "stdout",
          "text": [
            "2.15.0\n"
          ]
        }
      ],
      "source": [
        "import tensorflow as tf\n",
        "print(tf.__version__)"
      ]
    },
    {
      "cell_type": "code",
      "source": [
        "import numpy as np\n",
        "import matplotlib.pyplot as plt\n",
        "\n",
        "# Create features\n",
        "X = np.array([-7.0, -4.0, -1.0, 2.0, 5.0, 8.0, 11.0, 14.0])\n",
        "\n",
        "# Create labels\n",
        "Y = np.array([3.0, 6.0, 9.0, 12.0, 15.0, 18.0, 21.0, 24.0])\n",
        "\n",
        "plt.scatter(X, Y)"
      ],
      "metadata": {
        "colab": {
          "base_uri": "https://localhost:8080/",
          "height": 452
        },
        "id": "nRvH_2lPLyza",
        "outputId": "3ea29b1d-d6bc-4af1-e4c1-cea0f6eb3476"
      },
      "execution_count": 57,
      "outputs": [
        {
          "output_type": "execute_result",
          "data": {
            "text/plain": [
              "<matplotlib.collections.PathCollection at 0x7ce79df61570>"
            ]
          },
          "metadata": {},
          "execution_count": 57
        },
        {
          "output_type": "display_data",
          "data": {
            "text/plain": [
              "<Figure size 640x480 with 1 Axes>"
            ],
            "image/png": "[encoded data removed]"
          },
          "metadata": {}
        }
      ]
    },
    {
      "cell_type": "code",
      "source": [
        "# Example input and output shapes of a regression model\n",
        "house_info = tf.constant([\"bedroom\", \"bathroom\", \"garage\"])\n",
        "house_price = tf.constant([939700])\n",
        "house_info, house_price"
      ],
      "metadata": {
        "colab": {
          "base_uri": "https://localhost:8080/"
        },
        "id": "J45prqdLMnYN",
        "outputId": "4b4b468b-1267-411e-a6a9-c0b0230ff651"
      },
      "execution_count": 58,
      "outputs": [
        {
          "output_type": "execute_result",
          "data": {
            "text/plain": [
              "(<tf.Tensor: shape=(3,), dtype=string, numpy=array([b'bedroom', b'bathroom', b'garage'], dtype=object)>,\n",
              " <tf.Tensor: shape=(1,), dtype=int32, numpy=array([939700], dtype=int32)>)"
            ]
          },
          "metadata": {},
          "execution_count": 58
        }
      ]
    },
    {
      "cell_type": "code",
      "source": [
        "house_info.shape"
      ],
      "metadata": {
        "colab": {
          "base_uri": "https://localhost:8080/"
        },
        "id": "0ebWKYBgMq_S",
        "outputId": "0cf437b8-fa96-42f4-eb5f-77e553bfb3b9"
      },
      "execution_count": 59,
      "outputs": [
        {
          "output_type": "execute_result",
          "data": {
            "text/plain": [
              "TensorShape([3])"
            ]
          },
          "metadata": {},
          "execution_count": 59
        }
      ]
    },
    {
      "cell_type": "code",
      "source": [
        "X = tf.constant([-7.0, -4.0, -1.0, 2.0, 5.0, 8.0, 11.0, 14.0])\n",
        "\n",
        "Y = tf.constant([3.0, 6.0, 9.0, 12.0, 15.0, 18.0, 21.0, 24.0])\n",
        "\n",
        "plt.scatter(X, Y)"
      ],
      "metadata": {
        "colab": {
          "base_uri": "https://localhost:8080/",
          "height": 452
        },
        "id": "yv9ChJ7RMswg",
        "outputId": "765560d3-99ff-4248-db08-fd1c5fb0ad06"
      },
      "execution_count": 60,
      "outputs": [
        {
          "output_type": "execute_result",
          "data": {
            "text/plain": [
              "<matplotlib.collections.PathCollection at 0x7ce797182170>"
            ]
          },
          "metadata": {},
          "execution_count": 60
        },
        {
          "output_type": "display_data",
          "data": {
            "text/plain": [
              "<Figure size 640x480 with 1 Axes>"
            ],
            "image/png": "[encoded data removed]"
          },
          "metadata": {}
        }
      ]
    },
    {
      "cell_type": "code",
      "source": [
        "input_shape = X[0].shape\n",
        "\n",
        "output_shape = Y[0].shape\n",
        "\n",
        "input_shape, output_shape"
      ],
      "metadata": {
        "colab": {
          "base_uri": "https://localhost:8080/"
        },
        "id": "dgguzEVlM8RT",
        "outputId": "1b926c5f-2b10-4500-e1b2-f016947fddc5"
      },
      "execution_count": 61,
      "outputs": [
        {
          "output_type": "execute_result",
          "data": {
            "text/plain": [
              "(TensorShape([]), TensorShape([]))"
            ]
          },
          "metadata": {},
          "execution_count": 61
        }
      ]
    },
    {
      "cell_type": "markdown",
      "source": [
        "**Creating a model** - piece together the layers of a neural network yourself (using the Functional or Sequential API) or import a previously built model (known as transfer learning).\n",
        "\n",
        "**Compiling a model** - defining how a models performance should be measured (loss/metrics) as well as defining how it should improve (optimizer).\n",
        "\n",
        "**Fitting a model** - letting the model try to find patterns in the data (how does X get to y)."
      ],
      "metadata": {
        "id": "vsfE-0ezNZts"
      }
    },
    {
      "cell_type": "code",
      "source": [
        "tf.random.set_seed(42)\n",
        "\n",
        "model = tf.keras.Sequential([\n",
        "    tf.keras.layers.Dense(1)\n",
        "])\n",
        "\n",
        "model.compile(\n",
        "    loss=tf.keras.losses.mae, # mean absolute error\n",
        "    optimizer=tf.keras.optimizers.SGD(), # Stochastic Gradient Descent\n",
        "    metrics=[\"mae\"]\n",
        ")\n",
        "\n",
        "# Fit the model\n",
        "\n",
        "model.fit(tf.expand_dims(X, axis=-1), Y, epochs=5)"
      ],
      "metadata": {
        "colab": {
          "base_uri": "https://localhost:8080/"
        },
        "id": "fqAoJi9-NpPx",
        "outputId": "f6ad5b3f-1765-4804-af32-fa755203198e"
      },
      "execution_count": 62,
      "outputs": [
        {
          "output_type": "stream",
          "name": "stdout",
          "text": [
            "Epoch 1/5\n",
            "1/1 [==============================] - 0s 334ms/step - loss: 8.8539 - mae: 8.8539\n",
            "Epoch 2/5\n",
            "1/1 [==============================] - 0s 12ms/step - loss: 8.7214 - mae: 8.7214\n",
            "Epoch 3/5\n",
            "1/1 [==============================] - 0s 11ms/step - loss: 8.5889 - mae: 8.5889\n",
            "Epoch 4/5\n",
            "1/1 [==============================] - 0s 11ms/step - loss: 8.4564 - mae: 8.4564\n",
            "Epoch 5/5\n",
            "1/1 [==============================] - 0s 10ms/step - loss: 8.3239 - mae: 8.3239\n"
          ]
        },
        {
          "output_type": "execute_result",
          "data": {
            "text/plain": [
              "<keras.src.callbacks.History at 0x7ce7971e5fc0>"
            ]
          },
          "metadata": {},
          "execution_count": 62
        }
      ]
    },
    {
      "cell_type": "code",
      "source": [
        "model.predict([17.0])"
      ],
      "metadata": {
        "colab": {
          "base_uri": "https://localhost:8080/"
        },
        "id": "JxtAvWUlOkUN",
        "outputId": "08dd9356-e4a2-4820-adb7-d1099564ab6a"
      },
      "execution_count": 63,
      "outputs": [
        {
          "output_type": "stream",
          "name": "stdout",
          "text": [
            "1/1 [==============================] - 0s 62ms/step\n"
          ]
        },
        {
          "output_type": "execute_result",
          "data": {
            "text/plain": [
              "array([[25.591612]], dtype=float32)"
            ]
          },
          "metadata": {},
          "execution_count": 63
        }
      ]
    },
    {
      "cell_type": "markdown",
      "source": [
        "### Improving our model\n",
        "\n",
        "We can improve our model, by altering the steps we took to create a model.\n",
        "\n",
        "1. **Creating a model** - here we might add more layers, increase the number of hidden units (all called neurons) within each of the hidden layers, change the activation function of each layer.\n",
        "\n",
        "2. **Compiling a model** - here we might change the optimization function or perhaps the **learning rate** of the optimization function.\n",
        "\n",
        "3. **Fitting a model** - here we might fit a model for more **epochs** (leave it training for longer) or no more data (give the model more examples to learn from).\n"
      ],
      "metadata": {
        "id": "f4vrul_dPoxV"
      }
    },
    {
      "cell_type": "code",
      "source": [
        "tf.random.set_seed(42)\n",
        "\n",
        "\n",
        "model = tf.keras.Sequential([\n",
        "    tf.keras.layers.Dense(100, activation=\"relu\"),\n",
        "    tf.keras.layers.Dense(1),\n",
        "])\n",
        "\n",
        "model.compile(\n",
        "    loss=tf.keras.losses.mae,\n",
        "    optimizer=tf.keras.optimizers.SGD(),\n",
        "    metrics=[\"mae\"]\n",
        ")\n",
        "\n",
        "model.fit(tf.expand_dims(X, axis=-1), Y, epochs=10)"
      ],
      "metadata": {
        "colab": {
          "base_uri": "https://localhost:8080/"
        },
        "id": "3HI5WvAP0TNl",
        "outputId": "c21d5b13-5e15-4d70-c212-89754afc1327"
      },
      "execution_count": 64,
      "outputs": [
        {
          "output_type": "stream",
          "name": "stdout",
          "text": [
            "Epoch 1/10\n",
            "1/1 [==============================] - 0s 395ms/step - loss: 14.5070 - mae: 14.5070\n",
            "Epoch 2/10\n",
            "1/1 [==============================] - 0s 10ms/step - loss: 14.0140 - mae: 14.0140\n",
            "Epoch 3/10\n",
            "1/1 [==============================] - 0s 10ms/step - loss: 13.5290 - mae: 13.5290\n",
            "Epoch 4/10\n",
            "1/1 [==============================] - 0s 14ms/step - loss: 13.0477 - mae: 13.0477\n",
            "Epoch 5/10\n",
            "1/1 [==============================] - 0s 10ms/step - loss: 12.5689 - mae: 12.5689\n",
            "Epoch 6/10\n",
            "1/1 [==============================] - 0s 10ms/step - loss: 12.0913 - mae: 12.0913\n",
            "Epoch 7/10\n",
            "1/1 [==============================] - 0s 11ms/step - loss: 11.6041 - mae: 11.6041\n",
            "Epoch 8/10\n",
            "1/1 [==============================] - 0s 10ms/step - loss: 11.1038 - mae: 11.1038\n",
            "Epoch 9/10\n",
            "1/1 [==============================] - 0s 10ms/step - loss: 10.5955 - mae: 10.5955\n",
            "Epoch 10/10\n",
            "1/1 [==============================] - 0s 10ms/step - loss: 10.0671 - mae: 10.0671\n"
          ]
        },
        {
          "output_type": "execute_result",
          "data": {
            "text/plain": [
              "<keras.src.callbacks.History at 0x7ce79758b700>"
            ]
          },
          "metadata": {},
          "execution_count": 64
        }
      ]
    },
    {
      "cell_type": "code",
      "source": [
        "X, Y"
      ],
      "metadata": {
        "colab": {
          "base_uri": "https://localhost:8080/"
        },
        "id": "BPJWo17W1YWY",
        "outputId": "f5050d84-b9ef-42d9-8c2b-eb8d6217db01"
      },
      "execution_count": 65,
      "outputs": [
        {
          "output_type": "execute_result",
          "data": {
            "text/plain": [
              "(<tf.Tensor: shape=(8,), dtype=float32, numpy=array([-7., -4., -1.,  2.,  5.,  8., 11., 14.], dtype=float32)>,\n",
              " <tf.Tensor: shape=(8,), dtype=float32, numpy=array([ 3.,  6.,  9., 12., 15., 18., 21., 24.], dtype=float32)>)"
            ]
          },
          "metadata": {},
          "execution_count": 65
        }
      ]
    },
    {
      "cell_type": "code",
      "source": [
        "model.predict([17.0])"
      ],
      "metadata": {
        "colab": {
          "base_uri": "https://localhost:8080/"
        },
        "id": "bAGucEYm1Z16",
        "outputId": "985e9d2d-b997-4374-effc-10f6e9a36b2a"
      },
      "execution_count": 66,
      "outputs": [
        {
          "output_type": "stream",
          "name": "stdout",
          "text": [
            "1/1 [==============================] - 0s 68ms/step\n"
          ]
        },
        {
          "output_type": "execute_result",
          "data": {
            "text/plain": [
              "array([[11.405122]], dtype=float32)"
            ]
          },
          "metadata": {},
          "execution_count": 66
        }
      ]
    },
    {
      "cell_type": "code",
      "source": [
        "tf.random.set_seed(42)\n",
        "\n",
        "\n",
        "model = tf.keras.Sequential([\n",
        "    tf.keras.layers.Dense(50),\n",
        "    tf.keras.layers.Dense(1),\n",
        "])\n",
        "\n",
        "model.compile(\n",
        "    loss=tf.keras.losses.mae,\n",
        "    # optimizer=tf.keras.optimizers.SGD(),\n",
        "    optimizer=tf.keras.optimizers.Adam(learning_rate=0.01),\n",
        "    metrics=[\"mae\"]\n",
        ")\n",
        "\n",
        "model.fit(tf.expand_dims(X, axis=-1), Y, epochs=100)"
      ],
      "metadata": {
        "colab": {
          "base_uri": "https://localhost:8080/"
        },
        "id": "HXJk_4km1h__",
        "outputId": "a55a75a8-e0fb-4c8e-a257-9a8f43cff9e1"
      },
      "execution_count": 67,
      "outputs": [
        {
          "output_type": "stream",
          "name": "stdout",
          "text": [
            "Epoch 1/100\n",
            "1/1 [==============================] - 1s 552ms/step - loss: 13.4074 - mae: 13.4074\n",
            "Epoch 2/100\n",
            "1/1 [==============================] - 0s 11ms/step - loss: 12.7229 - mae: 12.7229\n",
            "Epoch 3/100\n",
            "1/1 [==============================] - 0s 10ms/step - loss: 12.0465 - mae: 12.0465\n",
            "Epoch 4/100\n",
            "1/1 [==============================] - 0s 9ms/step - loss: 11.3750 - mae: 11.3750\n",
            "Epoch 5/100\n",
            "1/1 [==============================] - 0s 9ms/step - loss: 10.7051 - mae: 10.7051\n",
            "Epoch 6/100\n",
            "1/1 [==============================] - 0s 8ms/step - loss: 10.0334 - mae: 10.0334\n",
            "Epoch 7/100\n",
            "1/1 [==============================] - 0s 8ms/step - loss: 9.3569 - mae: 9.3569\n",
            "Epoch 8/100\n",
            "1/1 [==============================] - 0s 9ms/step - loss: 8.6728 - mae: 8.6728\n",
            "Epoch 9/100\n",
            "1/1 [==============================] - 0s 9ms/step - loss: 7.9781 - mae: 7.9781\n",
            "Epoch 10/100\n",
            "1/1 [==============================] - 0s 9ms/step - loss: 7.2697 - mae: 7.2697\n",
            "Epoch 11/100\n",
            "1/1 [==============================] - 0s 11ms/step - loss: 6.8031 - mae: 6.8031\n",
            "Epoch 12/100\n",
            "1/1 [==============================] - 0s 9ms/step - loss: 6.9133 - mae: 6.9133\n",
            "Epoch 13/100\n",
            "1/1 [==============================] - 0s 10ms/step - loss: 7.1870 - mae: 7.1870\n",
            "Epoch 14/100\n",
            "1/1 [==============================] - 0s 9ms/step - loss: 7.3566 - mae: 7.3566\n",
            "Epoch 15/100\n",
            "1/1 [==============================] - 0s 9ms/step - loss: 7.5247 - mae: 7.5247\n",
            "Epoch 16/100\n",
            "1/1 [==============================] - 0s 9ms/step - loss: 7.5048 - mae: 7.5048\n",
            "Epoch 17/100\n",
            "1/1 [==============================] - 0s 9ms/step - loss: 7.3255 - mae: 7.3255\n",
            "Epoch 18/100\n",
            "1/1 [==============================] - 0s 9ms/step - loss: 7.0756 - mae: 7.0756\n",
            "Epoch 19/100\n",
            "1/1 [==============================] - 0s 9ms/step - loss: 6.8584 - mae: 6.8584\n",
            "Epoch 20/100\n",
            "1/1 [==============================] - 0s 10ms/step - loss: 6.6224 - mae: 6.6224\n",
            "Epoch 21/100\n",
            "1/1 [==============================] - 0s 8ms/step - loss: 6.3721 - mae: 6.3721\n",
            "Epoch 22/100\n",
            "1/1 [==============================] - 0s 10ms/step - loss: 6.1978 - mae: 6.1978\n",
            "Epoch 23/100\n",
            "1/1 [==============================] - 0s 9ms/step - loss: 6.1583 - mae: 6.1583\n",
            "Epoch 24/100\n",
            "1/1 [==============================] - 0s 10ms/step - loss: 6.1283 - mae: 6.1283\n",
            "Epoch 25/100\n",
            "1/1 [==============================] - 0s 9ms/step - loss: 6.1874 - mae: 6.1874\n",
            "Epoch 26/100\n",
            "1/1 [==============================] - 0s 11ms/step - loss: 6.1502 - mae: 6.1502\n",
            "Epoch 27/100\n",
            "1/1 [==============================] - 0s 9ms/step - loss: 6.0290 - mae: 6.0290\n",
            "Epoch 28/100\n",
            "1/1 [==============================] - 0s 9ms/step - loss: 5.8322 - mae: 5.8322\n",
            "Epoch 29/100\n",
            "1/1 [==============================] - 0s 9ms/step - loss: 5.7294 - mae: 5.7294\n",
            "Epoch 30/100\n",
            "1/1 [==============================] - 0s 9ms/step - loss: 5.6294 - mae: 5.6294\n",
            "Epoch 31/100\n",
            "1/1 [==============================] - 0s 9ms/step - loss: 5.5259 - mae: 5.5259\n",
            "Epoch 32/100\n",
            "1/1 [==============================] - 0s 10ms/step - loss: 5.5389 - mae: 5.5389\n",
            "Epoch 33/100\n",
            "1/1 [==============================] - 0s 9ms/step - loss: 5.5188 - mae: 5.5188\n",
            "Epoch 34/100\n",
            "1/1 [==============================] - 0s 9ms/step - loss: 5.4574 - mae: 5.4574\n",
            "Epoch 35/100\n",
            "1/1 [==============================] - 0s 9ms/step - loss: 5.3578 - mae: 5.3578\n",
            "Epoch 36/100\n",
            "1/1 [==============================] - 0s 8ms/step - loss: 5.2230 - mae: 5.2230\n",
            "Epoch 37/100\n",
            "1/1 [==============================] - 0s 9ms/step - loss: 5.0558 - mae: 5.0558\n",
            "Epoch 38/100\n",
            "1/1 [==============================] - 0s 9ms/step - loss: 4.8588 - mae: 4.8588\n",
            "Epoch 39/100\n",
            "1/1 [==============================] - 0s 9ms/step - loss: 4.7678 - mae: 4.7678\n",
            "Epoch 40/100\n",
            "1/1 [==============================] - 0s 12ms/step - loss: 4.6739 - mae: 4.6739\n",
            "Epoch 41/100\n",
            "1/1 [==============================] - 0s 11ms/step - loss: 4.6042 - mae: 4.6042\n",
            "Epoch 42/100\n",
            "1/1 [==============================] - 0s 14ms/step - loss: 4.5181 - mae: 4.5181\n",
            "Epoch 43/100\n",
            "1/1 [==============================] - 0s 9ms/step - loss: 4.3219 - mae: 4.3219\n",
            "Epoch 44/100\n",
            "1/1 [==============================] - 0s 9ms/step - loss: 4.1587 - mae: 4.1587\n",
            "Epoch 45/100\n",
            "1/1 [==============================] - 0s 9ms/step - loss: 3.9973 - mae: 3.9973\n",
            "Epoch 46/100\n",
            "1/1 [==============================] - 0s 10ms/step - loss: 3.8926 - mae: 3.8926\n",
            "Epoch 47/100\n",
            "1/1 [==============================] - 0s 10ms/step - loss: 3.7977 - mae: 3.7977\n",
            "Epoch 48/100\n",
            "1/1 [==============================] - 0s 9ms/step - loss: 3.6509 - mae: 3.6509\n",
            "Epoch 49/100\n",
            "1/1 [==============================] - 0s 10ms/step - loss: 3.4542 - mae: 3.4542\n",
            "Epoch 50/100\n",
            "1/1 [==============================] - 0s 9ms/step - loss: 3.2099 - mae: 3.2099\n",
            "Epoch 51/100\n",
            "1/1 [==============================] - 0s 10ms/step - loss: 3.0141 - mae: 3.0141\n",
            "Epoch 52/100\n",
            "1/1 [==============================] - 0s 10ms/step - loss: 2.8417 - mae: 2.8417\n",
            "Epoch 53/100\n",
            "1/1 [==============================] - 0s 10ms/step - loss: 2.6675 - mae: 2.6675\n",
            "Epoch 54/100\n",
            "1/1 [==============================] - 0s 11ms/step - loss: 2.4225 - mae: 2.4225\n",
            "Epoch 55/100\n",
            "1/1 [==============================] - 0s 9ms/step - loss: 2.1917 - mae: 2.1917\n",
            "Epoch 56/100\n",
            "1/1 [==============================] - 0s 10ms/step - loss: 2.0352 - mae: 2.0352\n",
            "Epoch 57/100\n",
            "1/1 [==============================] - 0s 9ms/step - loss: 1.8256 - mae: 1.8256\n",
            "Epoch 58/100\n",
            "1/1 [==============================] - 0s 10ms/step - loss: 1.5479 - mae: 1.5479\n",
            "Epoch 59/100\n",
            "1/1 [==============================] - 0s 9ms/step - loss: 1.2247 - mae: 1.2247\n",
            "Epoch 60/100\n",
            "1/1 [==============================] - 0s 11ms/step - loss: 1.0110 - mae: 1.0110\n",
            "Epoch 61/100\n",
            "1/1 [==============================] - 0s 10ms/step - loss: 0.6959 - mae: 0.6959\n",
            "Epoch 62/100\n",
            "1/1 [==============================] - 0s 10ms/step - loss: 0.5210 - mae: 0.5210\n",
            "Epoch 63/100\n",
            "1/1 [==============================] - 0s 9ms/step - loss: 0.3152 - mae: 0.3152\n",
            "Epoch 64/100\n",
            "1/1 [==============================] - 0s 10ms/step - loss: 0.2319 - mae: 0.2319\n",
            "Epoch 65/100\n",
            "1/1 [==============================] - 0s 11ms/step - loss: 0.4621 - mae: 0.4621\n",
            "Epoch 66/100\n",
            "1/1 [==============================] - 0s 9ms/step - loss: 0.6036 - mae: 0.6036\n",
            "Epoch 67/100\n",
            "1/1 [==============================] - 0s 9ms/step - loss: 0.7359 - mae: 0.7359\n",
            "Epoch 68/100\n",
            "1/1 [==============================] - 0s 8ms/step - loss: 0.7859 - mae: 0.7859\n",
            "Epoch 69/100\n",
            "1/1 [==============================] - 0s 11ms/step - loss: 0.8027 - mae: 0.8027\n",
            "Epoch 70/100\n",
            "1/1 [==============================] - 0s 13ms/step - loss: 0.7491 - mae: 0.7491\n",
            "Epoch 71/100\n",
            "1/1 [==============================] - 0s 13ms/step - loss: 0.7092 - mae: 0.7092\n",
            "Epoch 72/100\n",
            "1/1 [==============================] - 0s 12ms/step - loss: 0.5882 - mae: 0.5882\n",
            "Epoch 73/100\n",
            "1/1 [==============================] - 0s 10ms/step - loss: 0.4697 - mae: 0.4697\n",
            "Epoch 74/100\n",
            "1/1 [==============================] - 0s 10ms/step - loss: 0.3123 - mae: 0.3123\n",
            "Epoch 75/100\n",
            "1/1 [==============================] - 0s 9ms/step - loss: 0.1750 - mae: 0.1750\n",
            "Epoch 76/100\n",
            "1/1 [==============================] - 0s 9ms/step - loss: 0.0766 - mae: 0.0766\n",
            "Epoch 77/100\n",
            "1/1 [==============================] - 0s 9ms/step - loss: 0.2692 - mae: 0.2692\n",
            "Epoch 78/100\n",
            "1/1 [==============================] - 0s 9ms/step - loss: 0.3266 - mae: 0.3266\n",
            "Epoch 79/100\n",
            "1/1 [==============================] - 0s 9ms/step - loss: 0.3634 - mae: 0.3634\n",
            "Epoch 80/100\n",
            "1/1 [==============================] - 0s 9ms/step - loss: 0.3704 - mae: 0.3704\n",
            "Epoch 81/100\n",
            "1/1 [==============================] - 0s 9ms/step - loss: 0.3589 - mae: 0.3589\n",
            "Epoch 82/100\n",
            "1/1 [==============================] - 0s 9ms/step - loss: 0.3144 - mae: 0.3144\n",
            "Epoch 83/100\n",
            "1/1 [==============================] - 0s 9ms/step - loss: 0.2470 - mae: 0.2470\n",
            "Epoch 84/100\n",
            "1/1 [==============================] - 0s 9ms/step - loss: 0.1454 - mae: 0.1454\n",
            "Epoch 85/100\n",
            "1/1 [==============================] - 0s 14ms/step - loss: 0.1739 - mae: 0.1739\n",
            "Epoch 86/100\n",
            "1/1 [==============================] - 0s 9ms/step - loss: 0.1303 - mae: 0.1303\n",
            "Epoch 87/100\n",
            "1/1 [==============================] - 0s 10ms/step - loss: 0.2973 - mae: 0.2973\n",
            "Epoch 88/100\n",
            "1/1 [==============================] - 0s 9ms/step - loss: 0.3548 - mae: 0.3548\n",
            "Epoch 89/100\n",
            "1/1 [==============================] - 0s 11ms/step - loss: 0.2418 - mae: 0.2418\n",
            "Epoch 90/100\n",
            "1/1 [==============================] - 0s 11ms/step - loss: 0.2044 - mae: 0.2044\n",
            "Epoch 91/100\n",
            "1/1 [==============================] - 0s 9ms/step - loss: 0.1858 - mae: 0.1858\n",
            "Epoch 92/100\n",
            "1/1 [==============================] - 0s 9ms/step - loss: 0.1327 - mae: 0.1327\n",
            "Epoch 93/100\n",
            "1/1 [==============================] - 0s 9ms/step - loss: 0.1514 - mae: 0.1514\n",
            "Epoch 94/100\n",
            "1/1 [==============================] - 0s 9ms/step - loss: 0.2227 - mae: 0.2227\n",
            "Epoch 95/100\n",
            "1/1 [==============================] - 0s 9ms/step - loss: 0.2463 - mae: 0.2463\n",
            "Epoch 96/100\n",
            "1/1 [==============================] - 0s 10ms/step - loss: 0.1188 - mae: 0.1188\n",
            "Epoch 97/100\n",
            "1/1 [==============================] - 0s 10ms/step - loss: 0.2156 - mae: 0.2156\n",
            "Epoch 98/100\n",
            "1/1 [==============================] - 0s 9ms/step - loss: 0.2098 - mae: 0.2098\n",
            "Epoch 99/100\n",
            "1/1 [==============================] - 0s 9ms/step - loss: 0.1284 - mae: 0.1284\n",
            "Epoch 100/100\n",
            "1/1 [==============================] - 0s 9ms/step - loss: 0.1637 - mae: 0.1637\n"
          ]
        },
        {
          "output_type": "execute_result",
          "data": {
            "text/plain": [
              "<keras.src.callbacks.History at 0x7ce79724d630>"
            ]
          },
          "metadata": {},
          "execution_count": 67
        }
      ]
    },
    {
      "cell_type": "code",
      "source": [
        "model.predict([17.0])"
      ],
      "metadata": {
        "colab": {
          "base_uri": "https://localhost:8080/"
        },
        "id": "mRbnTBV11lOb",
        "outputId": "a4f008ec-6704-44c4-f68a-87e0857fd885"
      },
      "execution_count": 68,
      "outputs": [
        {
          "output_type": "stream",
          "name": "stdout",
          "text": [
            "1/1 [==============================] - 0s 70ms/step\n"
          ]
        },
        {
          "output_type": "execute_result",
          "data": {
            "text/plain": [
              "array([[27.112228]], dtype=float32)"
            ]
          },
          "metadata": {},
          "execution_count": 68
        }
      ]
    },
    {
      "cell_type": "markdown",
      "source": [
        "### **The learning rate is very important**"
      ],
      "metadata": {
        "id": "miU5YRCP1oYu"
      }
    },
    {
      "cell_type": "markdown",
      "source": [
        "### **Evaluating a model**\n",
        "> Visualize\n",
        "\n",
        "It's a good idea to visualize:\n",
        "\n",
        "\n",
        "*   The  data - what data are we workign\n",
        "  with?\n",
        "*   The model itself - what does our model look like?\n",
        "*   The training of a model - how does a model perform while it learns?\n",
        "*   The predictions of the model - how do the predictios of a model line up against what is should be"
      ],
      "metadata": {
        "id": "wIIO7rnN2jgI"
      }
    },
    {
      "cell_type": "code",
      "source": [
        "# Make a bigger dataset\n",
        "X = tf.range(-100, 100, 4)\n",
        "X"
      ],
      "metadata": {
        "colab": {
          "base_uri": "https://localhost:8080/"
        },
        "id": "Sej1NfpP3S1d",
        "outputId": "fd05c892-992b-4e90-c474-66d26e45b05f"
      },
      "execution_count": 69,
      "outputs": [
        {
          "output_type": "execute_result",
          "data": {
            "text/plain": [
              "<tf.Tensor: shape=(50,), dtype=int32, numpy=\n",
              "array([-100,  -96,  -92,  -88,  -84,  -80,  -76,  -72,  -68,  -64,  -60,\n",
              "        -56,  -52,  -48,  -44,  -40,  -36,  -32,  -28,  -24,  -20,  -16,\n",
              "        -12,   -8,   -4,    0,    4,    8,   12,   16,   20,   24,   28,\n",
              "         32,   36,   40,   44,   48,   52,   56,   60,   64,   68,   72,\n",
              "         76,   80,   84,   88,   92,   96], dtype=int32)>"
            ]
          },
          "metadata": {},
          "execution_count": 69
        }
      ]
    },
    {
      "cell_type": "code",
      "source": [
        "# Make labesl for the dataset\n",
        "Y = X + 10\n",
        "Y"
      ],
      "metadata": {
        "colab": {
          "base_uri": "https://localhost:8080/"
        },
        "id": "JceH03wL4p4v",
        "outputId": "37266f07-1517-4d27-d5cd-38579e32a0cb"
      },
      "execution_count": 70,
      "outputs": [
        {
          "output_type": "execute_result",
          "data": {
            "text/plain": [
              "<tf.Tensor: shape=(50,), dtype=int32, numpy=\n",
              "array([-90, -86, -82, -78, -74, -70, -66, -62, -58, -54, -50, -46, -42,\n",
              "       -38, -34, -30, -26, -22, -18, -14, -10,  -6,  -2,   2,   6,  10,\n",
              "        14,  18,  22,  26,  30,  34,  38,  42,  46,  50,  54,  58,  62,\n",
              "        66,  70,  74,  78,  82,  86,  90,  94,  98, 102, 106], dtype=int32)>"
            ]
          },
          "metadata": {},
          "execution_count": 70
        }
      ]
    },
    {
      "cell_type": "code",
      "source": [
        "# Visualize the data\n",
        "import matplotlib.pyplot as plt\n",
        "plt.scatter(X, Y)"
      ],
      "metadata": {
        "colab": {
          "base_uri": "https://localhost:8080/",
          "height": 447
        },
        "id": "TgDwjlVJ4uN-",
        "outputId": "858b9f53-5915-43a5-df49-a3d2131e2304"
      },
      "execution_count": 71,
      "outputs": [
        {
          "output_type": "execute_result",
          "data": {
            "text/plain": [
              "<matplotlib.collections.PathCollection at 0x7ce7973a8f70>"
            ]
          },
          "metadata": {},
          "execution_count": 71
        },
        {
          "output_type": "display_data",
          "data": {
            "text/plain": [
              "<Figure size 640x480 with 1 Axes>"
            ],
            "image/png": "[encoded data removed]"
          },
          "metadata": {}
        }
      ]
    },
    {
      "cell_type": "markdown",
      "source": [
        "### The 3 sets...\n",
        "*   Trainnig set 70-80%\n",
        "*   Validatio set (10-15%) - the model gets tuned on this data\n",
        "*   Test set - the model gets evaluated on this data to test what is has learned, this set is typically 10-15% ot total data."
      ],
      "metadata": {
        "id": "HV8I2B0L5E9E"
      }
    },
    {
      "cell_type": "code",
      "source": [
        "# Check the length of how many samples we have\n",
        "len(X)"
      ],
      "metadata": {
        "colab": {
          "base_uri": "https://localhost:8080/"
        },
        "id": "_3yZ4kEU6C7x",
        "outputId": "ae0804a3-8556-4b25-b90a-e1beb56d54b3"
      },
      "execution_count": 72,
      "outputs": [
        {
          "output_type": "execute_result",
          "data": {
            "text/plain": [
              "50"
            ]
          },
          "metadata": {},
          "execution_count": 72
        }
      ]
    },
    {
      "cell_type": "code",
      "source": [
        "# Split the data into train and test sets\n",
        "X_train = X[:40] # first 40 (80%)\n",
        "Y_train = Y[:40]\n",
        "\n",
        "Y_test = Y[40:]\n",
        "X_test = X[40:] # first 40 (20%)"
      ],
      "metadata": {
        "id": "3rFQtobv6KQP"
      },
      "execution_count": 73,
      "outputs": []
    },
    {
      "cell_type": "code",
      "source": [
        "plt.figure(figsize=(10, 7))\n",
        "\n",
        "# plot training data in blue\n",
        "plt.scatter(X_train, Y_train, c=\"b\", label=\"Training data\")\n",
        "\n",
        "# plot test data in green\n",
        "plt.scatter(X_test, Y_test, c=\"g\", label=\"Testing data\")\n",
        "# Show  a legend\n",
        "plt.legend()\n"
      ],
      "metadata": {
        "colab": {
          "base_uri": "https://localhost:8080/",
          "height": 474
        },
        "id": "ZezyYjnR7ANm",
        "outputId": "6a172355-022e-469e-9ff5-9c9ca5c0f502"
      },
      "execution_count": 74,
      "outputs": [
        {
          "output_type": "execute_result",
          "data": {
            "text/plain": [
              "<matplotlib.legend.Legend at 0x7ce7973becb0>"
            ]
          },
          "metadata": {},
          "execution_count": 74
        },
        {
          "output_type": "display_data",
          "data": {
            "text/plain": [
              "<Figure size 1000x700 with 1 Axes>"
            ],
            "image/png": "[encoded data removed]"
          },
          "metadata": {}
        }
      ]
    },
    {
      "cell_type": "code",
      "source": [
        "# Create a model\n",
        "model = tf.keras.Sequential([\n",
        "    tf.keras.layers.Dense(1)\n",
        "])\n",
        "\n",
        "# Compile the model\n",
        "model.compile(\n",
        "    loss=tf.keras.losses.mae,\n",
        "    optimizer=tf.keras.optimizers.SGD(),\n",
        "    metrics=[\"mae\"]\n",
        ")\n",
        "\n",
        "# Fit the model\n",
        "model.fit(tf.expand_dims(X_train, axis=-1), Y_train, epochs=100)"
      ],
      "metadata": {
        "id": "9npgONv6YrrO",
        "outputId": "87fe6753-a4e4-4555-f930-81dfc7378905",
        "colab": {
          "base_uri": "https://localhost:8080/"
        }
      },
      "execution_count": 75,
      "outputs": [
        {
          "output_type": "stream",
          "name": "stdout",
          "text": [
            "Epoch 1/100\n",
            "2/2 [==============================] - 0s 14ms/step - loss: 91.3810 - mae: 91.3810\n",
            "Epoch 2/100\n",
            "2/2 [==============================] - 0s 7ms/step - loss: 55.9255 - mae: 55.9255\n",
            "Epoch 3/100\n",
            "2/2 [==============================] - 0s 7ms/step - loss: 19.4897 - mae: 19.4897\n",
            "Epoch 4/100\n",
            "2/2 [==============================] - 0s 7ms/step - loss: 9.8609 - mae: 9.8609\n",
            "Epoch 5/100\n",
            "2/2 [==============================] - 0s 7ms/step - loss: 10.8101 - mae: 10.8101\n",
            "Epoch 6/100\n",
            "2/2 [==============================] - 0s 8ms/step - loss: 9.9995 - mae: 9.9995\n",
            "Epoch 7/100\n",
            "2/2 [==============================] - 0s 11ms/step - loss: 9.0497 - mae: 9.0497\n",
            "Epoch 8/100\n",
            "2/2 [==============================] - 0s 7ms/step - loss: 9.1094 - mae: 9.1094\n",
            "Epoch 9/100\n",
            "2/2 [==============================] - 0s 9ms/step - loss: 19.9032 - mae: 19.9032\n",
            "Epoch 10/100\n",
            "2/2 [==============================] - 0s 11ms/step - loss: 10.7732 - mae: 10.7732\n",
            "Epoch 11/100\n",
            "2/2 [==============================] - 0s 8ms/step - loss: 8.6797 - mae: 8.6797\n",
            "Epoch 12/100\n",
            "2/2 [==============================] - 0s 7ms/step - loss: 9.6646 - mae: 9.6646\n",
            "Epoch 13/100\n",
            "2/2 [==============================] - 0s 7ms/step - loss: 12.9947 - mae: 12.9947\n",
            "Epoch 14/100\n",
            "2/2 [==============================] - 0s 8ms/step - loss: 14.2262 - mae: 14.2262\n",
            "Epoch 15/100\n",
            "2/2 [==============================] - 0s 8ms/step - loss: 11.6324 - mae: 11.6324\n",
            "Epoch 16/100\n",
            "2/2 [==============================] - 0s 10ms/step - loss: 8.5043 - mae: 8.5043\n",
            "Epoch 17/100\n",
            "2/2 [==============================] - 0s 11ms/step - loss: 13.5238 - mae: 13.5238\n",
            "Epoch 18/100\n",
            "2/2 [==============================] - 0s 10ms/step - loss: 11.3170 - mae: 11.3170\n",
            "Epoch 19/100\n",
            "2/2 [==============================] - 0s 8ms/step - loss: 18.1449 - mae: 18.1449\n",
            "Epoch 20/100\n",
            "2/2 [==============================] - 0s 8ms/step - loss: 15.2779 - mae: 15.2779\n",
            "Epoch 21/100\n",
            "2/2 [==============================] - 0s 11ms/step - loss: 11.2190 - mae: 11.2190\n",
            "Epoch 22/100\n",
            "2/2 [==============================] - 0s 10ms/step - loss: 8.3646 - mae: 8.3646\n",
            "Epoch 23/100\n",
            "2/2 [==============================] - 0s 7ms/step - loss: 9.9626 - mae: 9.9626\n",
            "Epoch 24/100\n",
            "2/2 [==============================] - 0s 9ms/step - loss: 15.7999 - mae: 15.7999\n",
            "Epoch 25/100\n",
            "2/2 [==============================] - 0s 9ms/step - loss: 12.2287 - mae: 12.2287\n",
            "Epoch 26/100\n",
            "2/2 [==============================] - 0s 9ms/step - loss: 13.3693 - mae: 13.3693\n",
            "Epoch 27/100\n",
            "2/2 [==============================] - 0s 12ms/step - loss: 10.7949 - mae: 10.7949\n",
            "Epoch 28/100\n",
            "2/2 [==============================] - 0s 9ms/step - loss: 13.0723 - mae: 13.0723\n",
            "Epoch 29/100\n",
            "2/2 [==============================] - 0s 15ms/step - loss: 9.5695 - mae: 9.5695\n",
            "Epoch 30/100\n",
            "2/2 [==============================] - 0s 10ms/step - loss: 16.6822 - mae: 16.6822\n",
            "Epoch 31/100\n",
            "2/2 [==============================] - 0s 7ms/step - loss: 23.3545 - mae: 23.3545\n",
            "Epoch 32/100\n",
            "2/2 [==============================] - 0s 7ms/step - loss: 7.3889 - mae: 7.3889\n",
            "Epoch 33/100\n",
            "2/2 [==============================] - 0s 9ms/step - loss: 9.7930 - mae: 9.7930\n",
            "Epoch 34/100\n",
            "2/2 [==============================] - 0s 7ms/step - loss: 12.2026 - mae: 12.2026\n",
            "Epoch 35/100\n",
            "2/2 [==============================] - 0s 10ms/step - loss: 11.2401 - mae: 11.2401\n",
            "Epoch 36/100\n",
            "2/2 [==============================] - 0s 8ms/step - loss: 13.5148 - mae: 13.5148\n",
            "Epoch 37/100\n",
            "2/2 [==============================] - 0s 7ms/step - loss: 9.4335 - mae: 9.4335\n",
            "Epoch 38/100\n",
            "2/2 [==============================] - 0s 7ms/step - loss: 10.0820 - mae: 10.0820\n",
            "Epoch 39/100\n",
            "2/2 [==============================] - 0s 9ms/step - loss: 8.9633 - mae: 8.9633\n",
            "Epoch 40/100\n",
            "2/2 [==============================] - 0s 7ms/step - loss: 9.5875 - mae: 9.5875\n",
            "Epoch 41/100\n",
            "2/2 [==============================] - 0s 7ms/step - loss: 10.5408 - mae: 10.5408\n",
            "Epoch 42/100\n",
            "2/2 [==============================] - 0s 7ms/step - loss: 10.5869 - mae: 10.5869\n",
            "Epoch 43/100\n",
            "2/2 [==============================] - 0s 8ms/step - loss: 7.5740 - mae: 7.5740\n",
            "Epoch 44/100\n",
            "2/2 [==============================] - 0s 10ms/step - loss: 18.6770 - mae: 18.6770\n",
            "Epoch 45/100\n",
            "2/2 [==============================] - 0s 9ms/step - loss: 14.5134 - mae: 14.5134\n",
            "Epoch 46/100\n",
            "2/2 [==============================] - 0s 8ms/step - loss: 9.2171 - mae: 9.2171\n",
            "Epoch 47/100\n",
            "2/2 [==============================] - 0s 7ms/step - loss: 9.6764 - mae: 9.6764\n",
            "Epoch 48/100\n",
            "2/2 [==============================] - 0s 8ms/step - loss: 11.4236 - mae: 11.4236\n",
            "Epoch 49/100\n",
            "2/2 [==============================] - 0s 9ms/step - loss: 8.2254 - mae: 8.2254\n",
            "Epoch 50/100\n",
            "2/2 [==============================] - 0s 7ms/step - loss: 10.2772 - mae: 10.2772\n",
            "Epoch 51/100\n",
            "2/2 [==============================] - 0s 9ms/step - loss: 9.3650 - mae: 9.3650\n",
            "Epoch 52/100\n",
            "2/2 [==============================] - 0s 11ms/step - loss: 13.9994 - mae: 13.9994\n",
            "Epoch 53/100\n",
            "2/2 [==============================] - 0s 9ms/step - loss: 15.0915 - mae: 15.0915\n",
            "Epoch 54/100\n",
            "2/2 [==============================] - 0s 8ms/step - loss: 14.6797 - mae: 14.6797\n",
            "Epoch 55/100\n",
            "2/2 [==============================] - 0s 10ms/step - loss: 19.5278 - mae: 19.5278\n",
            "Epoch 56/100\n",
            "2/2 [==============================] - 0s 8ms/step - loss: 10.9402 - mae: 10.9402\n",
            "Epoch 57/100\n",
            "2/2 [==============================] - 0s 7ms/step - loss: 12.6658 - mae: 12.6658\n",
            "Epoch 58/100\n",
            "2/2 [==============================] - 0s 10ms/step - loss: 8.1044 - mae: 8.1044\n",
            "Epoch 59/100\n",
            "2/2 [==============================] - 0s 7ms/step - loss: 12.0633 - mae: 12.0633\n",
            "Epoch 60/100\n",
            "2/2 [==============================] - 0s 9ms/step - loss: 8.9314 - mae: 8.9314\n",
            "Epoch 61/100\n",
            "2/2 [==============================] - 0s 8ms/step - loss: 10.3386 - mae: 10.3386\n",
            "Epoch 62/100\n",
            "2/2 [==============================] - 0s 8ms/step - loss: 9.4735 - mae: 9.4735\n",
            "Epoch 63/100\n",
            "2/2 [==============================] - 0s 8ms/step - loss: 8.2145 - mae: 8.2145\n",
            "Epoch 64/100\n",
            "2/2 [==============================] - 0s 8ms/step - loss: 12.6229 - mae: 12.6229\n",
            "Epoch 65/100\n",
            "2/2 [==============================] - 0s 10ms/step - loss: 10.7141 - mae: 10.7141\n",
            "Epoch 66/100\n",
            "2/2 [==============================] - 0s 7ms/step - loss: 15.3834 - mae: 15.3834\n",
            "Epoch 67/100\n",
            "2/2 [==============================] - 0s 7ms/step - loss: 9.8525 - mae: 9.8525\n",
            "Epoch 68/100\n",
            "2/2 [==============================] - 0s 7ms/step - loss: 8.6633 - mae: 8.6633\n",
            "Epoch 69/100\n",
            "2/2 [==============================] - 0s 8ms/step - loss: 13.2568 - mae: 13.2568\n",
            "Epoch 70/100\n",
            "2/2 [==============================] - 0s 7ms/step - loss: 7.8834 - mae: 7.8834\n",
            "Epoch 71/100\n",
            "2/2 [==============================] - 0s 8ms/step - loss: 11.4220 - mae: 11.4220\n",
            "Epoch 72/100\n",
            "2/2 [==============================] - 0s 7ms/step - loss: 9.5975 - mae: 9.5975\n",
            "Epoch 73/100\n",
            "2/2 [==============================] - 0s 8ms/step - loss: 11.7289 - mae: 11.7289\n",
            "Epoch 74/100\n",
            "2/2 [==============================] - 0s 7ms/step - loss: 10.6932 - mae: 10.6932\n",
            "Epoch 75/100\n",
            "2/2 [==============================] - 0s 7ms/step - loss: 9.5998 - mae: 9.5998\n",
            "Epoch 76/100\n",
            "2/2 [==============================] - 0s 7ms/step - loss: 11.0522 - mae: 11.0522\n",
            "Epoch 77/100\n",
            "2/2 [==============================] - 0s 7ms/step - loss: 11.1385 - mae: 11.1385\n",
            "Epoch 78/100\n",
            "2/2 [==============================] - 0s 7ms/step - loss: 11.5628 - mae: 11.5628\n",
            "Epoch 79/100\n",
            "2/2 [==============================] - 0s 7ms/step - loss: 15.5693 - mae: 15.5693\n",
            "Epoch 80/100\n",
            "2/2 [==============================] - 0s 6ms/step - loss: 11.6364 - mae: 11.6364\n",
            "Epoch 81/100\n",
            "2/2 [==============================] - 0s 7ms/step - loss: 9.4330 - mae: 9.4330\n",
            "Epoch 82/100\n",
            "2/2 [==============================] - 0s 7ms/step - loss: 12.6254 - mae: 12.6254\n",
            "Epoch 83/100\n",
            "2/2 [==============================] - 0s 8ms/step - loss: 8.2155 - mae: 8.2155\n",
            "Epoch 84/100\n",
            "2/2 [==============================] - 0s 7ms/step - loss: 7.5450 - mae: 7.5450\n",
            "Epoch 85/100\n",
            "2/2 [==============================] - 0s 7ms/step - loss: 9.7096 - mae: 9.7096\n",
            "Epoch 86/100\n",
            "2/2 [==============================] - 0s 6ms/step - loss: 8.7874 - mae: 8.7874\n",
            "Epoch 87/100\n",
            "2/2 [==============================] - 0s 6ms/step - loss: 12.3272 - mae: 12.3272\n",
            "Epoch 88/100\n",
            "2/2 [==============================] - 0s 6ms/step - loss: 10.9615 - mae: 10.9615\n",
            "Epoch 89/100\n",
            "2/2 [==============================] - 0s 7ms/step - loss: 7.8333 - mae: 7.8333\n",
            "Epoch 90/100\n",
            "2/2 [==============================] - 0s 8ms/step - loss: 10.9782 - mae: 10.9782\n",
            "Epoch 91/100\n",
            "2/2 [==============================] - 0s 7ms/step - loss: 6.7679 - mae: 6.7679\n",
            "Epoch 92/100\n",
            "2/2 [==============================] - 0s 7ms/step - loss: 10.1715 - mae: 10.1715\n",
            "Epoch 93/100\n",
            "2/2 [==============================] - 0s 7ms/step - loss: 7.6105 - mae: 7.6105\n",
            "Epoch 94/100\n",
            "2/2 [==============================] - 0s 7ms/step - loss: 9.2421 - mae: 9.2421\n",
            "Epoch 95/100\n",
            "2/2 [==============================] - 0s 7ms/step - loss: 10.8166 - mae: 10.8166\n",
            "Epoch 96/100\n",
            "2/2 [==============================] - 0s 9ms/step - loss: 10.3428 - mae: 10.3428\n",
            "Epoch 97/100\n",
            "2/2 [==============================] - 0s 7ms/step - loss: 7.6765 - mae: 7.6765\n",
            "Epoch 98/100\n",
            "2/2 [==============================] - 0s 7ms/step - loss: 8.6155 - mae: 8.6155\n",
            "Epoch 99/100\n",
            "2/2 [==============================] - 0s 7ms/step - loss: 9.3915 - mae: 9.3915\n",
            "Epoch 100/100\n",
            "2/2 [==============================] - 0s 6ms/step - loss: 8.8444 - mae: 8.8444\n"
          ]
        },
        {
          "output_type": "execute_result",
          "data": {
            "text/plain": [
              "<keras.src.callbacks.History at 0x7ce79ea01ea0>"
            ]
          },
          "metadata": {},
          "execution_count": 75
        }
      ]
    },
    {
      "cell_type": "code",
      "source": [
        "# Visualize the model\n",
        "model.summary()\n",
        "# video: 05:38"
      ],
      "metadata": {
        "id": "BP1NAUWaZqv-",
        "outputId": "f66ce314-5e7a-4726-dbe4-f25a5486521b",
        "colab": {
          "base_uri": "https://localhost:8080/"
        }
      },
      "execution_count": 76,
      "outputs": [
        {
          "output_type": "stream",
          "name": "stdout",
          "text": [
            "Model: \"sequential_11\"\n",
            "_________________________________________________________________\n",
            " Layer (type)                Output Shape              Param #   \n",
            "=================================================================\n",
            " dense_18 (Dense)            (None, 1)                 2         \n",
            "                                                                 \n",
            "=================================================================\n",
            "Total params: 2 (8.00 Byte)\n",
            "Trainable params: 2 (8.00 Byte)\n",
            "Non-trainable params: 0 (0.00 Byte)\n",
            "_________________________________________________________________\n"
          ]
        }
      ]
    },
    {
      "cell_type": "code",
      "source": [
        "# Create a model\n",
        "model = tf.keras.Sequential([\n",
        "    # (let's try and play with the dense units)\n",
        "    tf.keras.layers.Dense(10),\n",
        "    tf.keras.layers.Dense(1, name=\"output_layer\")\n",
        "\n",
        "], name=\"model-1\")\n",
        "\n",
        "# Compile the model\n",
        "model.compile(\n",
        "    loss=tf.keras.losses.mae,\n",
        "    optimizer=tf.keras.optimizers.Adam(learning_rate=0.01),\n",
        "    metrics=[\"mae\"]\n",
        ")\n",
        "\n",
        "# Fit the model\n",
        "model.fit(tf.expand_dims(X_train, axis=-1), Y_train, epochs=200, verbose=0)"
      ],
      "metadata": {
        "colab": {
          "base_uri": "https://localhost:8080/"
        },
        "id": "Grdtv5LTzCC0",
        "outputId": "b772239a-c668-485f-9411-0e79651cef1a"
      },
      "execution_count": 77,
      "outputs": [
        {
          "output_type": "execute_result",
          "data": {
            "text/plain": [
              "<keras.src.callbacks.History at 0x7ce79e773b20>"
            ]
          },
          "metadata": {},
          "execution_count": 77
        }
      ]
    },
    {
      "cell_type": "code",
      "source": [
        "#5:50"
      ],
      "metadata": {
        "id": "1ScoET_N6dGQ"
      },
      "execution_count": 78,
      "outputs": []
    },
    {
      "cell_type": "code",
      "source": [
        "model.summary()"
      ],
      "metadata": {
        "id": "KxpP-Lpit0mS",
        "outputId": "7c50deb3-f343-4059-ac93-487ab151c9d4",
        "colab": {
          "base_uri": "https://localhost:8080/"
        }
      },
      "execution_count": 79,
      "outputs": [
        {
          "output_type": "stream",
          "name": "stdout",
          "text": [
            "Model: \"model-1\"\n",
            "_________________________________________________________________\n",
            " Layer (type)                Output Shape              Param #   \n",
            "=================================================================\n",
            " dense_19 (Dense)            (None, 10)                20        \n",
            "                                                                 \n",
            " output_layer (Dense)        (None, 1)                 11        \n",
            "                                                                 \n",
            "=================================================================\n",
            "Total params: 31 (124.00 Byte)\n",
            "Trainable params: 31 (124.00 Byte)\n",
            "Non-trainable params: 0 (0.00 Byte)\n",
            "_________________________________________________________________\n"
          ]
        }
      ]
    },
    {
      "cell_type": "code",
      "source": [
        "from tensorflow.keras.utils import plot_model\n",
        "plot_model(model=model, show_shapes=True)"
      ],
      "metadata": {
        "id": "ZsNX4XIov0C-",
        "outputId": "ac4c4bf8-0f63-4e8e-e516-ab1919ccf003",
        "colab": {
          "base_uri": "https://localhost:8080/",
          "height": 312
        }
      },
      "execution_count": 80,
      "outputs": [
        {
          "output_type": "execute_result",
          "data": {
            "image/png": "[encoded data removed]",
            "text/plain": [
              "<IPython.core.display.Image object>"
            ]
          },
          "metadata": {},
          "execution_count": 80
        }
      ]
    },
    {
      "cell_type": "markdown",
      "source": [
        "### Visualizing our model predictions\n",
        "\n",
        "To visualize predictiosn, it's a good idea to plot them against the gorund truth labels.\n",
        "\n",
        "Often you'ill see this in the form of y_test or y_true versus y_pred (ground truth versus  your model's predicitons)\n"
      ],
      "metadata": {
        "id": "_GjBvdG0v3M9"
      }
    },
    {
      "cell_type": "code",
      "source": [
        "# Make somoe predictions\n",
        "y_pred = model.predict(X_test)\n",
        "y_pred"
      ],
      "metadata": {
        "id": "WhCjICch0qdw",
        "outputId": "aab31520-1df1-427a-cfd3-389e2957eccf",
        "colab": {
          "base_uri": "https://localhost:8080/"
        }
      },
      "execution_count": 81,
      "outputs": [
        {
          "output_type": "stream",
          "name": "stdout",
          "text": [
            "1/1 [==============================] - 0s 53ms/step\n"
          ]
        },
        {
          "output_type": "execute_result",
          "data": {
            "text/plain": [
              "array([[ 70.36702],\n",
              "       [ 74.38804],\n",
              "       [ 78.40906],\n",
              "       [ 82.43008],\n",
              "       [ 86.4511 ],\n",
              "       [ 90.47212],\n",
              "       [ 94.49315],\n",
              "       [ 98.51417],\n",
              "       [102.53518],\n",
              "       [106.55619]], dtype=float32)"
            ]
          },
          "metadata": {},
          "execution_count": 81
        }
      ]
    },
    {
      "cell_type": "code",
      "source": [
        "Y_test"
      ],
      "metadata": {
        "id": "ibtgBDhl-iSv",
        "outputId": "43804d61-93e4-4b68-de4f-e86aae984a69",
        "colab": {
          "base_uri": "https://localhost:8080/"
        }
      },
      "execution_count": 82,
      "outputs": [
        {
          "output_type": "execute_result",
          "data": {
            "text/plain": [
              "<tf.Tensor: shape=(10,), dtype=int32, numpy=array([ 70,  74,  78,  82,  86,  90,  94,  98, 102, 106], dtype=int32)>"
            ]
          },
          "metadata": {},
          "execution_count": 82
        }
      ]
    },
    {
      "cell_type": "code",
      "source": [
        "# Let's create a plotting function\n",
        "def plot_predictions(\n",
        "                     train_data=X_train,\n",
        "                     train_labels=Y_train,\n",
        "                     test_data=X_test,\n",
        "                     test_labels=Y_test,\n",
        "                     predictions=y_pred\n",
        "                     ):\n",
        "  plt.figure(figsize=(10, 7))\n",
        "  # plot training data in blue\n",
        "  plt.scatter(train_data, train_labels, c=\"b\", label=\"Training data\")\n",
        "  plt.scatter(test_data, test_labels, c=\"g\", label=\"Testing data\")\n",
        "  plt.scatter(test_data, predictions, c=\"r\", label=\"Predictions\")\n",
        "  plt.legend()"
      ],
      "metadata": {
        "id": "JXK24Nm0-lcO"
      },
      "execution_count": 83,
      "outputs": []
    },
    {
      "cell_type": "code",
      "source": [
        "plot_predictions()"
      ],
      "metadata": {
        "id": "a7QWfoXrJBVi",
        "outputId": "ed242bf5-463e-4b29-d91b-bde45852131c",
        "colab": {
          "base_uri": "https://localhost:8080/",
          "height": 456
        }
      },
      "execution_count": 84,
      "outputs": [
        {
          "output_type": "display_data",
          "data": {
            "text/plain": [
              "<Figure size 1000x700 with 1 Axes>"
            ],
            "image/png": "[encoded data removed]"
          },
          "metadata": {}
        }
      ]
    },
    {
      "cell_type": "markdown",
      "source": [
        "### Evaluating our model's predictions with regression evaluation metrics"
      ],
      "metadata": {
        "id": "VKSmpfMXJxoc"
      }
    },
    {
      "cell_type": "markdown",
      "source": [
        "Depending on the problem you're working on, there will be different evaluation metrics to evaluate your model's performance.\n",
        "\n",
        "Since we're working on a regression, two of the main metrics:\n",
        "* MAE - MEAN ABSOLUTE ERROR, \"on average, how wrong is each of my model's predictions\"\n",
        "* MSE - mean square root: square the average error"
      ],
      "metadata": {
        "id": "BZTVY3PVJ4Wm"
      }
    },
    {
      "cell_type": "code",
      "source": [
        "# Evaluate the model on the test\n",
        "model.evaluate(X_test, Y_test)"
      ],
      "metadata": {
        "id": "bRJec61vMggA",
        "outputId": "609b3905-be79-4e9f-94c7-589c287159b6",
        "colab": {
          "base_uri": "https://localhost:8080/"
        }
      },
      "execution_count": 85,
      "outputs": [
        {
          "output_type": "stream",
          "name": "stdout",
          "text": [
            "1/1 [==============================] - 0s 113ms/step - loss: 0.4616 - mae: 0.4616\n"
          ]
        },
        {
          "output_type": "execute_result",
          "data": {
            "text/plain": [
              "[0.4616096615791321, 0.4616096615791321]"
            ]
          },
          "metadata": {},
          "execution_count": 85
        }
      ]
    },
    {
      "cell_type": "code",
      "source": [
        "# Calculate the mean absolute error\n",
        "tf.metrics.mean_absolute_error(y_pred=tf.constant(y_pred), y_true=Y_test)"
      ],
      "metadata": {
        "id": "E2J2YuYIM_Pg",
        "outputId": "a08669e7-0754-419a-b643-1d11d0874a90",
        "colab": {
          "base_uri": "https://localhost:8080/"
        }
      },
      "execution_count": 86,
      "outputs": [
        {
          "output_type": "execute_result",
          "data": {
            "text/plain": [
              "<tf.Tensor: shape=(10,), dtype=float32, numpy=\n",
              "array([17.706385 , 14.567177 , 12.236377 , 10.7139845, 10.       ,\n",
              "       10.094424 , 10.997259 , 12.708501 , 15.228144 , 18.55619  ],\n",
              "      dtype=float32)>"
            ]
          },
          "metadata": {},
          "execution_count": 86
        }
      ]
    },
    {
      "cell_type": "code",
      "source": [
        "# they don't have the same shape\n",
        "tf.constant(y_pred), Y_test"
      ],
      "metadata": {
        "id": "tbv13OIoO4ni",
        "outputId": "a1131775-6961-400a-e923-c4117b92010b",
        "colab": {
          "base_uri": "https://localhost:8080/"
        }
      },
      "execution_count": 87,
      "outputs": [
        {
          "output_type": "execute_result",
          "data": {
            "text/plain": [
              "(<tf.Tensor: shape=(10, 1), dtype=float32, numpy=\n",
              " array([[ 70.36702],\n",
              "        [ 74.38804],\n",
              "        [ 78.40906],\n",
              "        [ 82.43008],\n",
              "        [ 86.4511 ],\n",
              "        [ 90.47212],\n",
              "        [ 94.49315],\n",
              "        [ 98.51417],\n",
              "        [102.53518],\n",
              "        [106.55619]], dtype=float32)>,\n",
              " <tf.Tensor: shape=(10,), dtype=int32, numpy=array([ 70,  74,  78,  82,  86,  90,  94,  98, 102, 106], dtype=int32)>)"
            ]
          },
          "metadata": {},
          "execution_count": 87
        }
      ]
    },
    {
      "cell_type": "code",
      "source": [
        "tf.squeeze(y_pred)"
      ],
      "metadata": {
        "id": "ScoC52RlPO7I",
        "outputId": "8b6038f3-1fed-4a67-8cf6-bf9537179b96",
        "colab": {
          "base_uri": "https://localhost:8080/"
        }
      },
      "execution_count": 88,
      "outputs": [
        {
          "output_type": "execute_result",
          "data": {
            "text/plain": [
              "<tf.Tensor: shape=(10,), dtype=float32, numpy=\n",
              "array([ 70.36702,  74.38804,  78.40906,  82.43008,  86.4511 ,  90.47212,\n",
              "        94.49315,  98.51417, 102.53518, 106.55619], dtype=float32)>"
            ]
          },
          "metadata": {},
          "execution_count": 88
        }
      ]
    },
    {
      "cell_type": "code",
      "source": [
        "# Calculate the mean absolute error\n",
        "mae = tf.metrics.mean_absolute_error(\n",
        "    y_true=Y_test,\n",
        "    y_pred=tf.squeeze(y_pred) # we have to squeeze the y_pred to remove the last dim\n",
        "  )\n",
        "mae"
      ],
      "metadata": {
        "id": "XQE9WVa5PcJM",
        "outputId": "35cfd1c4-19b5-4a48-a74b-2f27c96bd493",
        "colab": {
          "base_uri": "https://localhost:8080/"
        }
      },
      "execution_count": 89,
      "outputs": [
        {
          "output_type": "execute_result",
          "data": {
            "text/plain": [
              "<tf.Tensor: shape=(), dtype=float32, numpy=0.4616104>"
            ]
          },
          "metadata": {},
          "execution_count": 89
        }
      ]
    },
    {
      "cell_type": "code",
      "source": [
        "# Calculate the mean square error\n",
        "mse = tf.metrics.mean_squared_error(\n",
        "      y_true=Y_test,\n",
        "      y_pred=tf.squeeze(y_pred)\n",
        "    )\n",
        "mse"
      ],
      "metadata": {
        "id": "GHq9R5hBQy27",
        "outputId": "0470f969-df3f-4e3d-a568-b2919dca7416",
        "colab": {
          "base_uri": "https://localhost:8080/"
        }
      },
      "execution_count": 90,
      "outputs": [
        {
          "output_type": "execute_result",
          "data": {
            "text/plain": [
              "<tf.Tensor: shape=(), dtype=float32, numpy=0.21672937>"
            ]
          },
          "metadata": {},
          "execution_count": 90
        }
      ]
    },
    {
      "cell_type": "code",
      "source": [
        "def mae(y_true, y_pred):\n",
        "  return tf.metrics.mean_absolute_error(y_true=y_true, y_pred=tf.squeeze(y_pred))\n",
        "\n",
        "def mse(y_true, y_pred):\n",
        "  return tf.metrics.mean_squared_error(y_true=y_true, y_pred=tf.squeeze(y_pred))"
      ],
      "metadata": {
        "id": "c33A2qCdRUJ6"
      },
      "execution_count": 91,
      "outputs": []
    },
    {
      "cell_type": "markdown",
      "source": [
        "### Running experiments to improve our model\n",
        "~~~\n",
        "Build a mdoel -> fit it -> evaluate it -> teak it -> fit it -> evaluate it -> tweak it ...\n"
      ],
      "metadata": {
        "id": "UonqQFk2SFZ1"
      }
    },
    {
      "cell_type": "markdown",
      "source": [
        "1. Get more data\n",
        "2. Make you rmodel larger (more layers, more hidden units for each layer)\n",
        "3. Train for longer give your model more of a chance to find patterens in the data"
      ],
      "metadata": {
        "id": "GXFegZC7SVYL"
      }
    },
    {
      "cell_type": "code",
      "source": [
        "# Set random seed\n",
        "tf.random.set_seed(42)\n",
        "\n",
        "# 1. Create the mdoel\n",
        "model_1 = tf.keras.Sequential([\n",
        "    tf.keras.layers.Dense(1)\n",
        "])\n",
        "\n",
        "# 2. Compile the model\n",
        "model_1.compile(loss=tf.keras.losses.mae,\n",
        "                optimizer=tf.keras.optimizers.SGD(),\n",
        "                metrics=[\"mae\"])\n",
        "# 3. Fit the model\n",
        "model_1.fit(tf.expand_dims(X_train, axis=-1), Y_train, epochs=100)"
      ],
      "metadata": {
        "id": "y02s-djgS70G",
        "outputId": "d80fe6a6-fc5f-41a3-957a-0960dc0234b8",
        "colab": {
          "base_uri": "https://localhost:8080/"
        }
      },
      "execution_count": 92,
      "outputs": [
        {
          "output_type": "stream",
          "name": "stdout",
          "text": [
            "Epoch 1/100\n",
            "2/2 [==============================] - 0s 12ms/step - loss: 15.1769 - mae: 15.1769\n",
            "Epoch 2/100\n",
            "2/2 [==============================] - 0s 8ms/step - loss: 10.9382 - mae: 10.9382\n",
            "Epoch 3/100\n",
            "2/2 [==============================] - 0s 7ms/step - loss: 11.6750 - mae: 11.6750\n",
            "Epoch 4/100\n",
            "2/2 [==============================] - 0s 7ms/step - loss: 9.3414 - mae: 9.3414\n",
            "Epoch 5/100\n",
            "2/2 [==============================] - 0s 6ms/step - loss: 10.2166 - mae: 10.2166\n",
            "Epoch 6/100\n",
            "2/2 [==============================] - 0s 7ms/step - loss: 9.4732 - mae: 9.4732\n",
            "Epoch 7/100\n",
            "2/2 [==============================] - 0s 8ms/step - loss: 8.6062 - mae: 8.6062\n",
            "Epoch 8/100\n",
            "2/2 [==============================] - 0s 7ms/step - loss: 9.0467 - mae: 9.0467\n",
            "Epoch 9/100\n",
            "2/2 [==============================] - 0s 8ms/step - loss: 18.8424 - mae: 18.8424\n",
            "Epoch 10/100\n",
            "2/2 [==============================] - 0s 7ms/step - loss: 10.1643 - mae: 10.1643\n",
            "Epoch 11/100\n",
            "2/2 [==============================] - 0s 6ms/step - loss: 8.4172 - mae: 8.4172\n",
            "Epoch 12/100\n",
            "2/2 [==============================] - 0s 7ms/step - loss: 10.7038 - mae: 10.7038\n",
            "Epoch 13/100\n",
            "2/2 [==============================] - 0s 6ms/step - loss: 9.8133 - mae: 9.8133\n",
            "Epoch 14/100\n",
            "2/2 [==============================] - 0s 7ms/step - loss: 16.1069 - mae: 16.1069\n",
            "Epoch 15/100\n",
            "2/2 [==============================] - 0s 7ms/step - loss: 11.3304 - mae: 11.3304\n",
            "Epoch 16/100\n",
            "2/2 [==============================] - 0s 7ms/step - loss: 8.5615 - mae: 8.5615\n",
            "Epoch 17/100\n",
            "2/2 [==============================] - 0s 8ms/step - loss: 13.6866 - mae: 13.6866\n",
            "Epoch 18/100\n",
            "2/2 [==============================] - 0s 11ms/step - loss: 11.5278 - mae: 11.5278\n",
            "Epoch 19/100\n",
            "2/2 [==============================] - 0s 9ms/step - loss: 17.8354 - mae: 17.8354\n",
            "Epoch 20/100\n",
            "2/2 [==============================] - 0s 6ms/step - loss: 14.9707 - mae: 14.9707\n",
            "Epoch 21/100\n",
            "2/2 [==============================] - 0s 6ms/step - loss: 10.8495 - mae: 10.8495\n",
            "Epoch 22/100\n",
            "2/2 [==============================] - 0s 6ms/step - loss: 8.6010 - mae: 8.6010\n",
            "Epoch 23/100\n",
            "2/2 [==============================] - 0s 6ms/step - loss: 9.7037 - mae: 9.7037\n",
            "Epoch 24/100\n",
            "2/2 [==============================] - 0s 6ms/step - loss: 10.9630 - mae: 10.9630\n",
            "Epoch 25/100\n",
            "2/2 [==============================] - 0s 7ms/step - loss: 9.1619 - mae: 9.1619\n",
            "Epoch 26/100\n",
            "2/2 [==============================] - 0s 6ms/step - loss: 13.2017 - mae: 13.2017\n",
            "Epoch 27/100\n",
            "2/2 [==============================] - 0s 6ms/step - loss: 10.6697 - mae: 10.6697\n",
            "Epoch 28/100\n",
            "2/2 [==============================] - 0s 8ms/step - loss: 12.8937 - mae: 12.8937\n",
            "Epoch 29/100\n",
            "2/2 [==============================] - 0s 7ms/step - loss: 9.5097 - mae: 9.5097\n",
            "Epoch 30/100\n",
            "2/2 [==============================] - 0s 6ms/step - loss: 16.4241 - mae: 16.4241\n",
            "Epoch 31/100\n",
            "2/2 [==============================] - 0s 7ms/step - loss: 23.5658 - mae: 23.5658\n",
            "Epoch 32/100\n",
            "2/2 [==============================] - 0s 7ms/step - loss: 7.6057 - mae: 7.6057\n",
            "Epoch 33/100\n",
            "2/2 [==============================] - 0s 6ms/step - loss: 9.3022 - mae: 9.3022\n",
            "Epoch 34/100\n",
            "2/2 [==============================] - 0s 7ms/step - loss: 13.6712 - mae: 13.6712\n",
            "Epoch 35/100\n",
            "2/2 [==============================] - 0s 6ms/step - loss: 11.1580 - mae: 11.1580\n",
            "Epoch 36/100\n",
            "2/2 [==============================] - 0s 6ms/step - loss: 13.3860 - mae: 13.3860\n",
            "Epoch 37/100\n",
            "2/2 [==============================] - 0s 7ms/step - loss: 9.4472 - mae: 9.4472\n",
            "Epoch 38/100\n",
            "2/2 [==============================] - 0s 7ms/step - loss: 10.0976 - mae: 10.0976\n",
            "Epoch 39/100\n",
            "2/2 [==============================] - 0s 6ms/step - loss: 8.9739 - mae: 8.9739\n",
            "Epoch 40/100\n",
            "2/2 [==============================] - 0s 6ms/step - loss: 9.6024 - mae: 9.6024\n",
            "Epoch 41/100\n",
            "2/2 [==============================] - 0s 6ms/step - loss: 10.5642 - mae: 10.5642\n",
            "Epoch 42/100\n",
            "2/2 [==============================] - 0s 6ms/step - loss: 10.6184 - mae: 10.6184\n",
            "Epoch 43/100\n",
            "2/2 [==============================] - 0s 6ms/step - loss: 7.2050 - mae: 7.2050\n",
            "Epoch 44/100\n",
            "2/2 [==============================] - 0s 6ms/step - loss: 8.0154 - mae: 8.0154\n",
            "Epoch 45/100\n",
            "2/2 [==============================] - 0s 7ms/step - loss: 9.8187 - mae: 9.8187\n",
            "Epoch 46/100\n",
            "2/2 [==============================] - 0s 7ms/step - loss: 8.8996 - mae: 8.8996\n",
            "Epoch 47/100\n",
            "2/2 [==============================] - 0s 7ms/step - loss: 7.5590 - mae: 7.5590\n",
            "Epoch 48/100\n",
            "2/2 [==============================] - 0s 7ms/step - loss: 8.5198 - mae: 8.5198\n",
            "Epoch 49/100\n",
            "2/2 [==============================] - 0s 7ms/step - loss: 10.0312 - mae: 10.0312\n",
            "Epoch 50/100\n",
            "2/2 [==============================] - 0s 6ms/step - loss: 8.9653 - mae: 8.9653\n",
            "Epoch 51/100\n",
            "2/2 [==============================] - 0s 11ms/step - loss: 10.7092 - mae: 10.7092\n",
            "Epoch 52/100\n",
            "2/2 [==============================] - 0s 8ms/step - loss: 15.2479 - mae: 15.2479\n",
            "Epoch 53/100\n",
            "2/2 [==============================] - 0s 7ms/step - loss: 14.2807 - mae: 14.2807\n",
            "Epoch 54/100\n",
            "2/2 [==============================] - 0s 7ms/step - loss: 21.5247 - mae: 21.5247\n",
            "Epoch 55/100\n",
            "2/2 [==============================] - 0s 6ms/step - loss: 16.0588 - mae: 16.0588\n",
            "Epoch 56/100\n",
            "2/2 [==============================] - 0s 7ms/step - loss: 10.2306 - mae: 10.2306\n",
            "Epoch 57/100\n",
            "2/2 [==============================] - 0s 7ms/step - loss: 9.7954 - mae: 9.7954\n",
            "Epoch 58/100\n",
            "2/2 [==============================] - 0s 7ms/step - loss: 9.0766 - mae: 9.0766\n",
            "Epoch 59/100\n",
            "2/2 [==============================] - 0s 7ms/step - loss: 8.2817 - mae: 8.2817\n",
            "Epoch 60/100\n",
            "2/2 [==============================] - 0s 6ms/step - loss: 9.3722 - mae: 9.3722\n",
            "Epoch 61/100\n",
            "2/2 [==============================] - 0s 7ms/step - loss: 11.2054 - mae: 11.2054\n",
            "Epoch 62/100\n",
            "2/2 [==============================] - 0s 9ms/step - loss: 12.0168 - mae: 12.0168\n",
            "Epoch 63/100\n",
            "2/2 [==============================] - 0s 7ms/step - loss: 7.7740 - mae: 7.7740\n",
            "Epoch 64/100\n",
            "2/2 [==============================] - 0s 6ms/step - loss: 11.1962 - mae: 11.1962\n",
            "Epoch 65/100\n",
            "2/2 [==============================] - 0s 7ms/step - loss: 12.2886 - mae: 12.2886\n",
            "Epoch 66/100\n",
            "2/2 [==============================] - 0s 7ms/step - loss: 12.7980 - mae: 12.7980\n",
            "Epoch 67/100\n",
            "2/2 [==============================] - 0s 7ms/step - loss: 7.7720 - mae: 7.7720\n",
            "Epoch 68/100\n",
            "2/2 [==============================] - 0s 7ms/step - loss: 10.9550 - mae: 10.9550\n",
            "Epoch 69/100\n",
            "2/2 [==============================] - 0s 6ms/step - loss: 12.5605 - mae: 12.5605\n",
            "Epoch 70/100\n",
            "2/2 [==============================] - 0s 7ms/step - loss: 8.9437 - mae: 8.9437\n",
            "Epoch 71/100\n",
            "2/2 [==============================] - 0s 7ms/step - loss: 9.9187 - mae: 9.9187\n",
            "Epoch 72/100\n",
            "2/2 [==============================] - 0s 7ms/step - loss: 9.9587 - mae: 9.9587\n",
            "Epoch 73/100\n",
            "2/2 [==============================] - 0s 7ms/step - loss: 12.4234 - mae: 12.4234\n",
            "Epoch 74/100\n",
            "2/2 [==============================] - 0s 7ms/step - loss: 10.5739 - mae: 10.5739\n",
            "Epoch 75/100\n",
            "2/2 [==============================] - 0s 7ms/step - loss: 9.6174 - mae: 9.6174\n",
            "Epoch 76/100\n",
            "2/2 [==============================] - 0s 7ms/step - loss: 11.0812 - mae: 11.0812\n",
            "Epoch 77/100\n",
            "2/2 [==============================] - 0s 8ms/step - loss: 8.2668 - mae: 8.2668\n",
            "Epoch 78/100\n",
            "2/2 [==============================] - 0s 7ms/step - loss: 8.9530 - mae: 8.9530\n",
            "Epoch 79/100\n",
            "2/2 [==============================] - 0s 7ms/step - loss: 19.7945 - mae: 19.7945\n",
            "Epoch 80/100\n",
            "2/2 [==============================] - 0s 7ms/step - loss: 17.8041 - mae: 17.8041\n",
            "Epoch 81/100\n",
            "2/2 [==============================] - 0s 7ms/step - loss: 7.0736 - mae: 7.0736\n",
            "Epoch 82/100\n",
            "2/2 [==============================] - 0s 7ms/step - loss: 10.3941 - mae: 10.3941\n",
            "Epoch 83/100\n",
            "2/2 [==============================] - 0s 7ms/step - loss: 9.8164 - mae: 9.8164\n",
            "Epoch 84/100\n",
            "2/2 [==============================] - 0s 7ms/step - loss: 7.9312 - mae: 7.9312\n",
            "Epoch 85/100\n",
            "2/2 [==============================] - 0s 10ms/step - loss: 9.4422 - mae: 9.4422\n",
            "Epoch 86/100\n",
            "2/2 [==============================] - 0s 10ms/step - loss: 9.4866 - mae: 9.4866\n",
            "Epoch 87/100\n",
            "2/2 [==============================] - 0s 7ms/step - loss: 11.4345 - mae: 11.4345\n",
            "Epoch 88/100\n",
            "2/2 [==============================] - 0s 8ms/step - loss: 9.9317 - mae: 9.9317\n",
            "Epoch 89/100\n",
            "2/2 [==============================] - 0s 7ms/step - loss: 7.2432 - mae: 7.2432\n",
            "Epoch 90/100\n",
            "2/2 [==============================] - 0s 8ms/step - loss: 12.6932 - mae: 12.6932\n",
            "Epoch 91/100\n",
            "2/2 [==============================] - 0s 7ms/step - loss: 7.3043 - mae: 7.3043\n",
            "Epoch 92/100\n",
            "2/2 [==============================] - 0s 7ms/step - loss: 7.6677 - mae: 7.6677\n",
            "Epoch 93/100\n",
            "2/2 [==============================] - 0s 6ms/step - loss: 7.1082 - mae: 7.1082\n",
            "Epoch 94/100\n",
            "2/2 [==============================] - 0s 7ms/step - loss: 12.5401 - mae: 12.5401\n",
            "Epoch 95/100\n",
            "2/2 [==============================] - 0s 8ms/step - loss: 9.9145 - mae: 9.9145\n",
            "Epoch 96/100\n",
            "2/2 [==============================] - 0s 7ms/step - loss: 9.1291 - mae: 9.1291\n",
            "Epoch 97/100\n",
            "2/2 [==============================] - 0s 7ms/step - loss: 12.0735 - mae: 12.0735\n",
            "Epoch 98/100\n",
            "2/2 [==============================] - 0s 7ms/step - loss: 9.0613 - mae: 9.0613\n",
            "Epoch 99/100\n",
            "2/2 [==============================] - 0s 7ms/step - loss: 8.4879 - mae: 8.4879\n",
            "Epoch 100/100\n",
            "2/2 [==============================] - 0s 9ms/step - loss: 14.4520 - mae: 14.4520\n"
          ]
        },
        {
          "output_type": "execute_result",
          "data": {
            "text/plain": [
              "<keras.src.callbacks.History at 0x7ce79db75cf0>"
            ]
          },
          "metadata": {},
          "execution_count": 92
        }
      ]
    },
    {
      "cell_type": "code",
      "source": [
        "# Make and plot predictions\n",
        "y_preds_1 = model_1.predict(X_test)\n",
        "plot_predictions(predictions=y_preds_1)"
      ],
      "metadata": {
        "id": "t2vtajMMUiDE",
        "outputId": "ef2b9476-0de7-4d42-807e-39b6ff9b7a73",
        "colab": {
          "base_uri": "https://localhost:8080/",
          "height": 474
        }
      },
      "execution_count": 93,
      "outputs": [
        {
          "output_type": "stream",
          "name": "stdout",
          "text": [
            "1/1 [==============================] - 0s 45ms/step\n"
          ]
        },
        {
          "output_type": "display_data",
          "data": {
            "text/plain": [
              "<Figure size 1000x700 with 1 Axes>"
            ],
            "image/png": "[encoded data removed]"
          },
          "metadata": {}
        }
      ]
    },
    {
      "cell_type": "code",
      "source": [
        "mae_1 = mae(Y_test, y_preds_1)\n",
        "mse_1 = mse(Y_test, y_preds_1)\n",
        "mae_1, mse_1"
      ],
      "metadata": {
        "id": "eBmhUD1BU7Vl",
        "outputId": "4975b175-2103-4bb6-ec23-5b7978408e19",
        "colab": {
          "base_uri": "https://localhost:8080/"
        }
      },
      "execution_count": 94,
      "outputs": [
        {
          "output_type": "execute_result",
          "data": {
            "text/plain": [
              "(<tf.Tensor: shape=(), dtype=float32, numpy=30.582983>,\n",
              " <tf.Tensor: shape=(), dtype=float32, numpy=945.7202>)"
            ]
          },
          "metadata": {},
          "execution_count": 94
        }
      ]
    },
    {
      "cell_type": "code",
      "source": [
        "# 6:39"
      ],
      "metadata": {
        "id": "_o-j6SKwXNhs"
      },
      "execution_count": 95,
      "outputs": []
    },
    {
      "cell_type": "markdown",
      "source": [
        "### Build `model_2`"
      ],
      "metadata": {
        "id": "_YapAYQkb7GU"
      }
    },
    {
      "cell_type": "code",
      "source": [
        "# Set the random seed\n",
        "tf.random.set_seed(42)\n",
        "\n",
        "# 1. Create the model\n",
        "model_2 = tf.keras.Sequential([\n",
        "    tf.keras.layers.Dense(10),\n",
        "    tf.keras.layers.Dense(1)\n",
        "])\n",
        "\n",
        "# 2. Compile the model\n",
        "model_2.compile(\n",
        "    loss=tf.keras.losses.mae,\n",
        "    optimizer=tf.keras.optimizers.SGD(),\n",
        "    metrics=[\"mae\"]\n",
        ")\n",
        "\n",
        "\n",
        "\n",
        "# 3. Fit the model\n",
        "model_2.fit(tf.expand_dims(X_train, axis=-1), Y_train, epochs=100)\n"
      ],
      "metadata": {
        "id": "XMm88tS4cAJs",
        "outputId": "1af17a75-befc-4b6b-bff5-ca0321800bc6",
        "colab": {
          "base_uri": "https://localhost:8080/"
        }
      },
      "execution_count": 96,
      "outputs": [
        {
          "output_type": "stream",
          "name": "stdout",
          "text": [
            "Epoch 1/100\n",
            "2/2 [==============================] - 0s 11ms/step - loss: 42.7084 - mae: 42.7084\n",
            "Epoch 2/100\n",
            "2/2 [==============================] - 0s 7ms/step - loss: 32.5359 - mae: 32.5359\n",
            "Epoch 3/100\n",
            "2/2 [==============================] - 0s 7ms/step - loss: 37.4281 - mae: 37.4281\n",
            "Epoch 4/100\n",
            "2/2 [==============================] - 0s 7ms/step - loss: 24.4153 - mae: 24.4153\n",
            "Epoch 5/100\n",
            "2/2 [==============================] - 0s 7ms/step - loss: 14.5146 - mae: 14.5146\n",
            "Epoch 6/100\n",
            "2/2 [==============================] - 0s 7ms/step - loss: 11.5956 - mae: 11.5956\n",
            "Epoch 7/100\n",
            "2/2 [==============================] - 0s 7ms/step - loss: 12.6615 - mae: 12.6615\n",
            "Epoch 8/100\n",
            "2/2 [==============================] - 0s 7ms/step - loss: 11.0563 - mae: 11.0563\n",
            "Epoch 9/100\n",
            "2/2 [==============================] - 0s 9ms/step - loss: 39.8011 - mae: 39.8011\n",
            "Epoch 10/100\n",
            "2/2 [==============================] - 0s 7ms/step - loss: 27.2798 - mae: 27.2798\n",
            "Epoch 11/100\n",
            "2/2 [==============================] - 0s 7ms/step - loss: 11.0342 - mae: 11.0342\n",
            "Epoch 12/100\n",
            "2/2 [==============================] - 0s 8ms/step - loss: 24.4074 - mae: 24.4074\n",
            "Epoch 13/100\n",
            "2/2 [==============================] - 0s 7ms/step - loss: 19.3422 - mae: 19.3422\n",
            "Epoch 14/100\n",
            "2/2 [==============================] - 0s 7ms/step - loss: 23.5923 - mae: 23.5923\n",
            "Epoch 15/100\n",
            "2/2 [==============================] - 0s 7ms/step - loss: 15.6974 - mae: 15.6974\n",
            "Epoch 16/100\n",
            "2/2 [==============================] - 0s 7ms/step - loss: 10.4136 - mae: 10.4136\n",
            "Epoch 17/100\n",
            "2/2 [==============================] - 0s 7ms/step - loss: 19.6115 - mae: 19.6115\n",
            "Epoch 18/100\n",
            "2/2 [==============================] - 0s 7ms/step - loss: 13.2583 - mae: 13.2583\n",
            "Epoch 19/100\n",
            "2/2 [==============================] - 0s 7ms/step - loss: 16.0136 - mae: 16.0136\n",
            "Epoch 20/100\n",
            "2/2 [==============================] - 0s 7ms/step - loss: 10.1914 - mae: 10.1914\n",
            "Epoch 21/100\n",
            "2/2 [==============================] - 0s 7ms/step - loss: 13.7291 - mae: 13.7291\n",
            "Epoch 22/100\n",
            "2/2 [==============================] - 0s 6ms/step - loss: 21.9123 - mae: 21.9123\n",
            "Epoch 23/100\n",
            "2/2 [==============================] - 0s 6ms/step - loss: 10.4653 - mae: 10.4653\n",
            "Epoch 24/100\n",
            "2/2 [==============================] - 0s 7ms/step - loss: 15.7623 - mae: 15.7623\n",
            "Epoch 25/100\n",
            "2/2 [==============================] - 0s 10ms/step - loss: 14.9113 - mae: 14.9113\n",
            "Epoch 26/100\n",
            "2/2 [==============================] - 0s 7ms/step - loss: 19.5462 - mae: 19.5462\n",
            "Epoch 27/100\n",
            "2/2 [==============================] - 0s 9ms/step - loss: 20.4911 - mae: 20.4911\n",
            "Epoch 28/100\n",
            "2/2 [==============================] - 0s 7ms/step - loss: 14.8750 - mae: 14.8750\n",
            "Epoch 29/100\n",
            "2/2 [==============================] - 0s 7ms/step - loss: 9.2672 - mae: 9.2672\n",
            "Epoch 30/100\n",
            "2/2 [==============================] - 0s 6ms/step - loss: 30.2231 - mae: 30.2231\n",
            "Epoch 31/100\n",
            "2/2 [==============================] - 0s 6ms/step - loss: 54.9002 - mae: 54.9002\n",
            "Epoch 32/100\n",
            "2/2 [==============================] - 0s 6ms/step - loss: 9.6748 - mae: 9.6748\n",
            "Epoch 33/100\n",
            "2/2 [==============================] - 0s 6ms/step - loss: 12.2804 - mae: 12.2804\n",
            "Epoch 34/100\n",
            "2/2 [==============================] - 0s 6ms/step - loss: 24.3327 - mae: 24.3327\n",
            "Epoch 35/100\n",
            "2/2 [==============================] - 0s 6ms/step - loss: 11.9770 - mae: 11.9770\n",
            "Epoch 36/100\n",
            "2/2 [==============================] - 0s 7ms/step - loss: 22.2493 - mae: 22.2493\n",
            "Epoch 37/100\n",
            "2/2 [==============================] - 0s 7ms/step - loss: 17.3236 - mae: 17.3236\n",
            "Epoch 38/100\n",
            "2/2 [==============================] - 0s 7ms/step - loss: 10.6521 - mae: 10.6521\n",
            "Epoch 39/100\n",
            "2/2 [==============================] - 0s 8ms/step - loss: 11.1677 - mae: 11.1677\n",
            "Epoch 40/100\n",
            "2/2 [==============================] - 0s 7ms/step - loss: 17.9178 - mae: 17.9178\n",
            "Epoch 41/100\n",
            "2/2 [==============================] - 0s 7ms/step - loss: 10.3770 - mae: 10.3770\n",
            "Epoch 42/100\n",
            "2/2 [==============================] - 0s 6ms/step - loss: 7.2800 - mae: 7.2800\n",
            "Epoch 43/100\n",
            "2/2 [==============================] - 0s 6ms/step - loss: 18.8817 - mae: 18.8817\n",
            "Epoch 44/100\n",
            "2/2 [==============================] - 0s 6ms/step - loss: 20.0203 - mae: 20.0203\n",
            "Epoch 45/100\n",
            "2/2 [==============================] - 0s 6ms/step - loss: 10.0995 - mae: 10.0995\n",
            "Epoch 46/100\n",
            "2/2 [==============================] - 0s 7ms/step - loss: 11.3463 - mae: 11.3463\n",
            "Epoch 47/100\n",
            "2/2 [==============================] - 0s 7ms/step - loss: 9.8395 - mae: 9.8395\n",
            "Epoch 48/100\n",
            "2/2 [==============================] - 0s 9ms/step - loss: 17.6495 - mae: 17.6495\n",
            "Epoch 49/100\n",
            "2/2 [==============================] - 0s 7ms/step - loss: 9.3125 - mae: 9.3125\n",
            "Epoch 50/100\n",
            "2/2 [==============================] - 0s 6ms/step - loss: 13.3399 - mae: 13.3399\n",
            "Epoch 51/100\n",
            "2/2 [==============================] - 0s 6ms/step - loss: 11.4228 - mae: 11.4228\n",
            "Epoch 52/100\n",
            "2/2 [==============================] - 0s 6ms/step - loss: 29.2880 - mae: 29.2880\n",
            "Epoch 53/100\n",
            "2/2 [==============================] - 0s 6ms/step - loss: 16.6873 - mae: 16.6873\n",
            "Epoch 54/100\n",
            "2/2 [==============================] - 0s 6ms/step - loss: 21.6482 - mae: 21.6482\n",
            "Epoch 55/100\n",
            "2/2 [==============================] - 0s 6ms/step - loss: 22.0857 - mae: 22.0857\n",
            "Epoch 56/100\n",
            "2/2 [==============================] - 0s 6ms/step - loss: 11.2160 - mae: 11.2160\n",
            "Epoch 57/100\n",
            "2/2 [==============================] - 0s 10ms/step - loss: 13.1823 - mae: 13.1823\n",
            "Epoch 58/100\n",
            "2/2 [==============================] - 0s 11ms/step - loss: 9.8524 - mae: 9.8524\n",
            "Epoch 59/100\n",
            "2/2 [==============================] - 0s 7ms/step - loss: 13.3651 - mae: 13.3651\n",
            "Epoch 60/100\n",
            "2/2 [==============================] - 0s 7ms/step - loss: 10.9127 - mae: 10.9127\n",
            "Epoch 61/100\n",
            "2/2 [==============================] - 0s 7ms/step - loss: 13.5203 - mae: 13.5203\n",
            "Epoch 62/100\n",
            "2/2 [==============================] - 0s 6ms/step - loss: 17.5655 - mae: 17.5655\n",
            "Epoch 63/100\n",
            "2/2 [==============================] - 0s 6ms/step - loss: 9.1879 - mae: 9.1879\n",
            "Epoch 64/100\n",
            "2/2 [==============================] - 0s 6ms/step - loss: 18.4315 - mae: 18.4315\n",
            "Epoch 65/100\n",
            "2/2 [==============================] - 0s 6ms/step - loss: 10.1423 - mae: 10.1423\n",
            "Epoch 66/100\n",
            "2/2 [==============================] - 0s 6ms/step - loss: 24.2959 - mae: 24.2959\n",
            "Epoch 67/100\n",
            "2/2 [==============================] - 0s 7ms/step - loss: 10.9161 - mae: 10.9161\n",
            "Epoch 68/100\n",
            "2/2 [==============================] - 0s 7ms/step - loss: 10.7937 - mae: 10.7937\n",
            "Epoch 69/100\n",
            "2/2 [==============================] - 0s 7ms/step - loss: 23.2686 - mae: 23.2686\n",
            "Epoch 70/100\n",
            "2/2 [==============================] - 0s 7ms/step - loss: 8.8213 - mae: 8.8213\n",
            "Epoch 71/100\n",
            "2/2 [==============================] - 0s 7ms/step - loss: 15.9847 - mae: 15.9847\n",
            "Epoch 72/100\n",
            "2/2 [==============================] - 0s 7ms/step - loss: 8.1555 - mae: 8.1555\n",
            "Epoch 73/100\n",
            "2/2 [==============================] - 0s 7ms/step - loss: 9.4713 - mae: 9.4713\n",
            "Epoch 74/100\n",
            "2/2 [==============================] - 0s 7ms/step - loss: 28.1587 - mae: 28.1587\n",
            "Epoch 75/100\n",
            "2/2 [==============================] - 0s 6ms/step - loss: 10.2102 - mae: 10.2102\n",
            "Epoch 76/100\n",
            "2/2 [==============================] - 0s 7ms/step - loss: 13.1590 - mae: 13.1590\n",
            "Epoch 77/100\n",
            "2/2 [==============================] - 0s 7ms/step - loss: 18.3766 - mae: 18.3766\n",
            "Epoch 78/100\n",
            "2/2 [==============================] - 0s 7ms/step - loss: 9.0288 - mae: 9.0288\n",
            "Epoch 79/100\n",
            "2/2 [==============================] - 0s 7ms/step - loss: 23.4143 - mae: 23.4143\n",
            "Epoch 80/100\n",
            "2/2 [==============================] - 0s 6ms/step - loss: 26.0808 - mae: 26.0808\n",
            "Epoch 81/100\n",
            "2/2 [==============================] - 0s 7ms/step - loss: 11.3886 - mae: 11.3886\n",
            "Epoch 82/100\n",
            "2/2 [==============================] - 0s 7ms/step - loss: 12.5106 - mae: 12.5106\n",
            "Epoch 83/100\n",
            "2/2 [==============================] - 0s 7ms/step - loss: 17.2062 - mae: 17.2062\n",
            "Epoch 84/100\n",
            "2/2 [==============================] - 0s 6ms/step - loss: 6.6149 - mae: 6.6149\n",
            "Epoch 85/100\n",
            "2/2 [==============================] - 0s 7ms/step - loss: 20.2521 - mae: 20.2521\n",
            "Epoch 86/100\n",
            "2/2 [==============================] - 0s 7ms/step - loss: 10.1739 - mae: 10.1739\n",
            "Epoch 87/100\n",
            "2/2 [==============================] - 0s 7ms/step - loss: 24.2831 - mae: 24.2831\n",
            "Epoch 88/100\n",
            "2/2 [==============================] - 0s 7ms/step - loss: 18.9494 - mae: 18.9494\n",
            "Epoch 89/100\n",
            "2/2 [==============================] - 0s 8ms/step - loss: 7.6798 - mae: 7.6798\n",
            "Epoch 90/100\n",
            "2/2 [==============================] - 0s 6ms/step - loss: 17.3197 - mae: 17.3197\n",
            "Epoch 91/100\n",
            "2/2 [==============================] - 0s 8ms/step - loss: 12.4377 - mae: 12.4377\n",
            "Epoch 92/100\n",
            "2/2 [==============================] - 0s 10ms/step - loss: 24.7949 - mae: 24.7949\n",
            "Epoch 93/100\n",
            "2/2 [==============================] - 0s 7ms/step - loss: 15.4872 - mae: 15.4872\n",
            "Epoch 94/100\n",
            "2/2 [==============================] - 0s 7ms/step - loss: 9.7553 - mae: 9.7553\n",
            "Epoch 95/100\n",
            "2/2 [==============================] - 0s 7ms/step - loss: 18.4063 - mae: 18.4063\n",
            "Epoch 96/100\n",
            "2/2 [==============================] - 0s 7ms/step - loss: 10.4005 - mae: 10.4005\n",
            "Epoch 97/100\n",
            "2/2 [==============================] - 0s 7ms/step - loss: 14.1573 - mae: 14.1573\n",
            "Epoch 98/100\n",
            "2/2 [==============================] - 0s 7ms/step - loss: 9.6389 - mae: 9.6389\n",
            "Epoch 99/100\n",
            "2/2 [==============================] - 0s 7ms/step - loss: 11.3346 - mae: 11.3346\n",
            "Epoch 100/100\n",
            "2/2 [==============================] - 0s 6ms/step - loss: 29.2462 - mae: 29.2462\n"
          ]
        },
        {
          "output_type": "execute_result",
          "data": {
            "text/plain": [
              "<keras.src.callbacks.History at 0x7ce79d945990>"
            ]
          },
          "metadata": {},
          "execution_count": 96
        }
      ]
    },
    {
      "cell_type": "code",
      "source": [
        "# Make and plot predictions of model_2\n",
        "y_preds_2 = model_2.predict(X_test)\n",
        "plot_predictions(predictions=y_preds_2)"
      ],
      "metadata": {
        "id": "kvhVti92r2zs",
        "outputId": "a84b39ae-d2f4-458f-d3b6-8dc324354764",
        "colab": {
          "base_uri": "https://localhost:8080/",
          "height": 469
        }
      },
      "execution_count": 97,
      "outputs": [
        {
          "output_type": "stream",
          "name": "stdout",
          "text": [
            "1/1 [==============================] - 0s 55ms/step\n"
          ]
        },
        {
          "output_type": "display_data",
          "data": {
            "text/plain": [
              "<Figure size 1000x700 with 1 Axes>"
            ],
            "image/png": "[encoded data removed]"
          },
          "metadata": {}
        }
      ]
    },
    {
      "cell_type": "code",
      "source": [
        "# Calculate model_2 evaluation metrics\n",
        "mae_2 = mae(Y_test,  y_preds_2)\n",
        "mse_2 = mse(Y_test, y_preds_2)\n",
        "mae_2, mse_2"
      ],
      "metadata": {
        "id": "tRefS4k7tq0x",
        "outputId": "05098434-fbab-4c14-bcd1-a59d8cb502f1",
        "colab": {
          "base_uri": "https://localhost:8080/"
        }
      },
      "execution_count": 98,
      "outputs": [
        {
          "output_type": "execute_result",
          "data": {
            "text/plain": [
              "(<tf.Tensor: shape=(), dtype=float32, numpy=11.465987>,\n",
              " <tf.Tensor: shape=(), dtype=float32, numpy=139.9606>)"
            ]
          },
          "metadata": {},
          "execution_count": 98
        }
      ]
    },
    {
      "cell_type": "code",
      "source": [
        "### build `model_3`\n",
        "\n",
        "# seed\n",
        "tf.random.set_seed(42)\n",
        "\n",
        "# Create the model\n",
        "model_3 = tf.keras.Sequential([\n",
        "    tf.keras.layers.Dense(10),\n",
        "    tf.keras.layers.Dense(1)\n",
        "])\n",
        "\n",
        "model_3.compile(\n",
        "    loss=tf.keras.losses.mae,\n",
        "    optimizer=tf.keras.optimizers.SGD(),\n",
        "    metrics=[\"mae\"]\n",
        "  )\n",
        "\n",
        "model_3.fit(tf.expand_dims(X_train, axis=-1), Y_train, epochs=500)\n",
        "\n"
      ],
      "metadata": {
        "id": "ddip0IjPlkUt",
        "outputId": "e43565a7-909f-4d64-d72e-8f6f00eb89ba",
        "colab": {
          "base_uri": "https://localhost:8080/"
        }
      },
      "execution_count": 99,
      "outputs": [
        {
          "output_type": "stream",
          "name": "stdout",
          "text": [
            "Epoch 1/500\n",
            "2/2 [==============================] - 1s 15ms/step - loss: 63.4285 - mae: 63.4285\n",
            "Epoch 2/500\n",
            "2/2 [==============================] - 0s 8ms/step - loss: 33.2776 - mae: 33.2776\n",
            "Epoch 3/500\n",
            "2/2 [==============================] - 0s 8ms/step - loss: 36.8279 - mae: 36.8279\n",
            "Epoch 4/500\n",
            "2/2 [==============================] - 0s 10ms/step - loss: 30.3258 - mae: 30.3258\n",
            "Epoch 5/500\n",
            "2/2 [==============================] - 0s 8ms/step - loss: 15.4598 - mae: 15.4598\n",
            "Epoch 6/500\n",
            "2/2 [==============================] - 0s 11ms/step - loss: 12.2793 - mae: 12.2793\n",
            "Epoch 7/500\n",
            "2/2 [==============================] - 0s 13ms/step - loss: 11.5812 - mae: 11.5812\n",
            "Epoch 8/500\n",
            "2/2 [==============================] - 0s 13ms/step - loss: 11.2652 - mae: 11.2652\n",
            "Epoch 9/500\n",
            "2/2 [==============================] - 0s 9ms/step - loss: 42.3676 - mae: 42.3676\n",
            "Epoch 10/500\n",
            "2/2 [==============================] - 0s 14ms/step - loss: 29.5163 - mae: 29.5163\n",
            "Epoch 11/500\n",
            "2/2 [==============================] - 0s 8ms/step - loss: 7.7242 - mae: 7.7242\n",
            "Epoch 12/500\n",
            "2/2 [==============================] - 0s 8ms/step - loss: 28.5723 - mae: 28.5723\n",
            "Epoch 13/500\n",
            "2/2 [==============================] - 0s 8ms/step - loss: 11.5158 - mae: 11.5158\n",
            "Epoch 14/500\n",
            "2/2 [==============================] - 0s 8ms/step - loss: 30.2918 - mae: 30.2918\n",
            "Epoch 15/500\n",
            "2/2 [==============================] - 0s 8ms/step - loss: 20.0462 - mae: 20.0462\n",
            "Epoch 16/500\n",
            "2/2 [==============================] - 0s 9ms/step - loss: 9.9305 - mae: 9.9305\n",
            "Epoch 17/500\n",
            "2/2 [==============================] - 0s 7ms/step - loss: 17.8725 - mae: 17.8725\n",
            "Epoch 18/500\n",
            "2/2 [==============================] - 0s 8ms/step - loss: 14.3445 - mae: 14.3445\n",
            "Epoch 19/500\n",
            "2/2 [==============================] - 0s 7ms/step - loss: 14.4495 - mae: 14.4495\n",
            "Epoch 20/500\n",
            "2/2 [==============================] - 0s 11ms/step - loss: 10.4717 - mae: 10.4717\n",
            "Epoch 21/500\n",
            "2/2 [==============================] - 0s 8ms/step - loss: 15.2255 - mae: 15.2255\n",
            "Epoch 22/500\n",
            "2/2 [==============================] - 0s 12ms/step - loss: 15.5638 - mae: 15.5638\n",
            "Epoch 23/500\n",
            "2/2 [==============================] - 0s 8ms/step - loss: 9.2394 - mae: 9.2394\n",
            "Epoch 24/500\n",
            "2/2 [==============================] - 0s 12ms/step - loss: 17.2509 - mae: 17.2509\n",
            "Epoch 25/500\n",
            "2/2 [==============================] - 0s 11ms/step - loss: 15.9304 - mae: 15.9304\n",
            "Epoch 26/500\n",
            "2/2 [==============================] - 0s 8ms/step - loss: 20.9100 - mae: 20.9100\n",
            "Epoch 27/500\n",
            "2/2 [==============================] - 0s 8ms/step - loss: 26.0112 - mae: 26.0112\n",
            "Epoch 28/500\n",
            "2/2 [==============================] - 0s 6ms/step - loss: 18.5025 - mae: 18.5025\n",
            "Epoch 29/500\n",
            "2/2 [==============================] - 0s 6ms/step - loss: 9.2478 - mae: 9.2478\n",
            "Epoch 30/500\n",
            "2/2 [==============================] - 0s 7ms/step - loss: 29.1161 - mae: 29.1161\n",
            "Epoch 31/500\n",
            "2/2 [==============================] - 0s 7ms/step - loss: 52.7384 - mae: 52.7384\n",
            "Epoch 32/500\n",
            "2/2 [==============================] - 0s 10ms/step - loss: 11.9419 - mae: 11.9419\n",
            "Epoch 33/500\n",
            "2/2 [==============================] - 0s 8ms/step - loss: 15.5392 - mae: 15.5392\n",
            "Epoch 34/500\n",
            "2/2 [==============================] - 0s 10ms/step - loss: 12.6269 - mae: 12.6269\n",
            "Epoch 35/500\n",
            "2/2 [==============================] - 0s 7ms/step - loss: 9.2119 - mae: 9.2119\n",
            "Epoch 36/500\n",
            "2/2 [==============================] - 0s 11ms/step - loss: 16.5210 - mae: 16.5210\n",
            "Epoch 37/500\n",
            "2/2 [==============================] - 0s 8ms/step - loss: 11.0771 - mae: 11.0771\n",
            "Epoch 38/500\n",
            "2/2 [==============================] - 0s 10ms/step - loss: 18.2059 - mae: 18.2059\n",
            "Epoch 39/500\n",
            "2/2 [==============================] - 0s 9ms/step - loss: 19.1400 - mae: 19.1400\n",
            "Epoch 40/500\n",
            "2/2 [==============================] - 0s 9ms/step - loss: 20.5028 - mae: 20.5028\n",
            "Epoch 41/500\n",
            "2/2 [==============================] - 0s 11ms/step - loss: 14.8270 - mae: 14.8270\n",
            "Epoch 42/500\n",
            "2/2 [==============================] - 0s 7ms/step - loss: 12.2173 - mae: 12.2173\n",
            "Epoch 43/500\n",
            "2/2 [==============================] - 0s 8ms/step - loss: 10.7033 - mae: 10.7033\n",
            "Epoch 44/500\n",
            "2/2 [==============================] - 0s 9ms/step - loss: 32.2970 - mae: 32.2970\n",
            "Epoch 45/500\n",
            "2/2 [==============================] - 0s 9ms/step - loss: 12.4807 - mae: 12.4807\n",
            "Epoch 46/500\n",
            "2/2 [==============================] - 0s 9ms/step - loss: 17.5359 - mae: 17.5359\n",
            "Epoch 47/500\n",
            "2/2 [==============================] - 0s 11ms/step - loss: 15.7523 - mae: 15.7523\n",
            "Epoch 48/500\n",
            "2/2 [==============================] - 0s 16ms/step - loss: 8.3753 - mae: 8.3753\n",
            "Epoch 49/500\n",
            "2/2 [==============================] - 0s 6ms/step - loss: 13.9856 - mae: 13.9856\n",
            "Epoch 50/500\n",
            "2/2 [==============================] - 0s 12ms/step - loss: 12.8269 - mae: 12.8269\n",
            "Epoch 51/500\n",
            "2/2 [==============================] - 0s 7ms/step - loss: 14.8385 - mae: 14.8385\n",
            "Epoch 52/500\n",
            "2/2 [==============================] - 0s 11ms/step - loss: 18.7250 - mae: 18.7250\n",
            "Epoch 53/500\n",
            "2/2 [==============================] - 0s 8ms/step - loss: 24.1751 - mae: 24.1751\n",
            "Epoch 54/500\n",
            "2/2 [==============================] - 0s 8ms/step - loss: 23.1663 - mae: 23.1663\n",
            "Epoch 55/500\n",
            "2/2 [==============================] - 0s 9ms/step - loss: 24.0158 - mae: 24.0158\n",
            "Epoch 56/500\n",
            "2/2 [==============================] - 0s 8ms/step - loss: 11.1587 - mae: 11.1587\n",
            "Epoch 57/500\n",
            "2/2 [==============================] - 0s 7ms/step - loss: 13.1090 - mae: 13.1090\n",
            "Epoch 58/500\n",
            "2/2 [==============================] - 0s 8ms/step - loss: 9.8070 - mae: 9.8070\n",
            "Epoch 59/500\n",
            "2/2 [==============================] - 0s 8ms/step - loss: 13.2889 - mae: 13.2889\n",
            "Epoch 60/500\n",
            "2/2 [==============================] - 0s 8ms/step - loss: 10.8620 - mae: 10.8620\n",
            "Epoch 61/500\n",
            "2/2 [==============================] - 0s 8ms/step - loss: 13.4551 - mae: 13.4551\n",
            "Epoch 62/500\n",
            "2/2 [==============================] - 0s 8ms/step - loss: 17.4573 - mae: 17.4573\n",
            "Epoch 63/500\n",
            "2/2 [==============================] - 0s 8ms/step - loss: 9.1536 - mae: 9.1536\n",
            "Epoch 64/500\n",
            "2/2 [==============================] - 0s 10ms/step - loss: 18.3255 - mae: 18.3255\n",
            "Epoch 65/500\n",
            "2/2 [==============================] - 0s 7ms/step - loss: 10.1079 - mae: 10.1079\n",
            "Epoch 66/500\n",
            "2/2 [==============================] - 0s 7ms/step - loss: 24.1687 - mae: 24.1687\n",
            "Epoch 67/500\n",
            "2/2 [==============================] - 0s 9ms/step - loss: 10.8657 - mae: 10.8657\n",
            "Epoch 68/500\n",
            "2/2 [==============================] - 0s 8ms/step - loss: 10.7543 - mae: 10.7543\n",
            "Epoch 69/500\n",
            "2/2 [==============================] - 0s 9ms/step - loss: 23.1345 - mae: 23.1345\n",
            "Epoch 70/500\n",
            "2/2 [==============================] - 0s 10ms/step - loss: 8.8369 - mae: 8.8369\n",
            "Epoch 71/500\n",
            "2/2 [==============================] - 0s 9ms/step - loss: 16.0607 - mae: 16.0607\n",
            "Epoch 72/500\n",
            "2/2 [==============================] - 0s 9ms/step - loss: 7.7557 - mae: 7.7557\n",
            "Epoch 73/500\n",
            "2/2 [==============================] - 0s 8ms/step - loss: 10.1591 - mae: 10.1591\n",
            "Epoch 74/500\n",
            "2/2 [==============================] - 0s 10ms/step - loss: 28.3373 - mae: 28.3373\n",
            "Epoch 75/500\n",
            "2/2 [==============================] - 0s 11ms/step - loss: 10.0079 - mae: 10.0079\n",
            "Epoch 76/500\n",
            "2/2 [==============================] - 0s 11ms/step - loss: 12.9217 - mae: 12.9217\n",
            "Epoch 77/500\n",
            "2/2 [==============================] - 0s 10ms/step - loss: 17.8706 - mae: 17.8706\n",
            "Epoch 78/500\n",
            "2/2 [==============================] - 0s 9ms/step - loss: 8.9646 - mae: 8.9646\n",
            "Epoch 79/500\n",
            "2/2 [==============================] - 0s 10ms/step - loss: 28.6860 - mae: 28.6860\n",
            "Epoch 80/500\n",
            "2/2 [==============================] - 0s 10ms/step - loss: 31.0180 - mae: 31.0180\n",
            "Epoch 81/500\n",
            "2/2 [==============================] - 0s 8ms/step - loss: 13.3956 - mae: 13.3956\n",
            "Epoch 82/500\n",
            "2/2 [==============================] - 0s 10ms/step - loss: 14.5260 - mae: 14.5260\n",
            "Epoch 83/500\n",
            "2/2 [==============================] - 0s 8ms/step - loss: 18.5491 - mae: 18.5491\n",
            "Epoch 84/500\n",
            "2/2 [==============================] - 0s 8ms/step - loss: 8.8188 - mae: 8.8188\n",
            "Epoch 85/500\n",
            "2/2 [==============================] - 0s 8ms/step - loss: 18.4286 - mae: 18.4286\n",
            "Epoch 86/500\n",
            "2/2 [==============================] - 0s 10ms/step - loss: 22.5271 - mae: 22.5271\n",
            "Epoch 87/500\n",
            "2/2 [==============================] - 0s 12ms/step - loss: 11.3666 - mae: 11.3666\n",
            "Epoch 88/500\n",
            "2/2 [==============================] - 0s 7ms/step - loss: 26.5403 - mae: 26.5403\n",
            "Epoch 89/500\n",
            "2/2 [==============================] - 0s 9ms/step - loss: 9.6515 - mae: 9.6515\n",
            "Epoch 90/500\n",
            "2/2 [==============================] - 0s 10ms/step - loss: 18.6953 - mae: 18.6953\n",
            "Epoch 91/500\n",
            "2/2 [==============================] - 0s 8ms/step - loss: 10.4809 - mae: 10.4809\n",
            "Epoch 92/500\n",
            "2/2 [==============================] - 0s 7ms/step - loss: 17.9169 - mae: 17.9169\n",
            "Epoch 93/500\n",
            "2/2 [==============================] - 0s 7ms/step - loss: 6.5928 - mae: 6.5928\n",
            "Epoch 94/500\n",
            "2/2 [==============================] - 0s 7ms/step - loss: 11.1253 - mae: 11.1253\n",
            "Epoch 95/500\n",
            "2/2 [==============================] - 0s 7ms/step - loss: 24.2303 - mae: 24.2303\n",
            "Epoch 96/500\n",
            "2/2 [==============================] - 0s 7ms/step - loss: 10.7270 - mae: 10.7270\n",
            "Epoch 97/500\n",
            "2/2 [==============================] - 0s 8ms/step - loss: 15.2676 - mae: 15.2676\n",
            "Epoch 98/500\n",
            "2/2 [==============================] - 0s 7ms/step - loss: 8.2516 - mae: 8.2516\n",
            "Epoch 99/500\n",
            "2/2 [==============================] - 0s 13ms/step - loss: 16.4228 - mae: 16.4228\n",
            "Epoch 100/500\n",
            "2/2 [==============================] - 0s 10ms/step - loss: 13.8474 - mae: 13.8474\n",
            "Epoch 101/500\n",
            "2/2 [==============================] - 0s 10ms/step - loss: 17.7674 - mae: 17.7674\n",
            "Epoch 102/500\n",
            "2/2 [==============================] - 0s 9ms/step - loss: 10.9953 - mae: 10.9953\n",
            "Epoch 103/500\n",
            "2/2 [==============================] - 0s 10ms/step - loss: 9.2787 - mae: 9.2787\n",
            "Epoch 104/500\n",
            "2/2 [==============================] - 0s 7ms/step - loss: 24.2928 - mae: 24.2928\n",
            "Epoch 105/500\n",
            "2/2 [==============================] - 0s 9ms/step - loss: 11.3753 - mae: 11.3753\n",
            "Epoch 106/500\n",
            "2/2 [==============================] - 0s 9ms/step - loss: 9.9688 - mae: 9.9688\n",
            "Epoch 107/500\n",
            "2/2 [==============================] - 0s 12ms/step - loss: 21.7009 - mae: 21.7009\n",
            "Epoch 108/500\n",
            "2/2 [==============================] - 0s 8ms/step - loss: 7.2667 - mae: 7.2667\n",
            "Epoch 109/500\n",
            "2/2 [==============================] - 0s 9ms/step - loss: 18.9169 - mae: 18.9169\n",
            "Epoch 110/500\n",
            "2/2 [==============================] - 0s 9ms/step - loss: 11.0709 - mae: 11.0709\n",
            "Epoch 111/500\n",
            "2/2 [==============================] - 0s 7ms/step - loss: 17.6296 - mae: 17.6296\n",
            "Epoch 112/500\n",
            "2/2 [==============================] - 0s 11ms/step - loss: 6.6159 - mae: 6.6159\n",
            "Epoch 113/500\n",
            "2/2 [==============================] - 0s 10ms/step - loss: 13.5380 - mae: 13.5380\n",
            "Epoch 114/500\n",
            "2/2 [==============================] - 0s 9ms/step - loss: 20.0468 - mae: 20.0468\n",
            "Epoch 115/500\n",
            "2/2 [==============================] - 0s 7ms/step - loss: 10.8896 - mae: 10.8896\n",
            "Epoch 116/500\n",
            "2/2 [==============================] - 0s 6ms/step - loss: 22.2215 - mae: 22.2215\n",
            "Epoch 117/500\n",
            "2/2 [==============================] - 0s 7ms/step - loss: 9.3176 - mae: 9.3176\n",
            "Epoch 118/500\n",
            "2/2 [==============================] - 0s 9ms/step - loss: 10.3253 - mae: 10.3253\n",
            "Epoch 119/500\n",
            "2/2 [==============================] - 0s 12ms/step - loss: 8.0583 - mae: 8.0583\n",
            "Epoch 120/500\n",
            "2/2 [==============================] - 0s 7ms/step - loss: 37.4351 - mae: 37.4351\n",
            "Epoch 121/500\n",
            "2/2 [==============================] - 0s 9ms/step - loss: 10.6267 - mae: 10.6267\n",
            "Epoch 122/500\n",
            "2/2 [==============================] - 0s 9ms/step - loss: 28.0579 - mae: 28.0579\n",
            "Epoch 123/500\n",
            "2/2 [==============================] - 0s 9ms/step - loss: 32.5849 - mae: 32.5849\n",
            "Epoch 124/500\n",
            "2/2 [==============================] - 0s 11ms/step - loss: 19.4093 - mae: 19.4093\n",
            "Epoch 125/500\n",
            "2/2 [==============================] - 0s 7ms/step - loss: 6.4678 - mae: 6.4678\n",
            "Epoch 126/500\n",
            "2/2 [==============================] - 0s 7ms/step - loss: 26.6262 - mae: 26.6262\n",
            "Epoch 127/500\n",
            "2/2 [==============================] - 0s 7ms/step - loss: 8.6042 - mae: 8.6042\n",
            "Epoch 128/500\n",
            "2/2 [==============================] - 0s 7ms/step - loss: 13.7528 - mae: 13.7528\n",
            "Epoch 129/500\n",
            "2/2 [==============================] - 0s 7ms/step - loss: 10.8861 - mae: 10.8861\n",
            "Epoch 130/500\n",
            "2/2 [==============================] - 0s 7ms/step - loss: 15.3688 - mae: 15.3688\n",
            "Epoch 131/500\n",
            "2/2 [==============================] - 0s 9ms/step - loss: 8.8782 - mae: 8.8782\n",
            "Epoch 132/500\n",
            "2/2 [==============================] - 0s 9ms/step - loss: 14.8521 - mae: 14.8521\n",
            "Epoch 133/500\n",
            "2/2 [==============================] - 0s 11ms/step - loss: 7.9662 - mae: 7.9662\n",
            "Epoch 134/500\n",
            "2/2 [==============================] - 0s 9ms/step - loss: 22.4679 - mae: 22.4679\n",
            "Epoch 135/500\n",
            "2/2 [==============================] - 0s 11ms/step - loss: 19.9625 - mae: 19.9625\n",
            "Epoch 136/500\n",
            "2/2 [==============================] - 0s 9ms/step - loss: 13.8528 - mae: 13.8528\n",
            "Epoch 137/500\n",
            "2/2 [==============================] - 0s 8ms/step - loss: 25.3703 - mae: 25.3703\n",
            "Epoch 138/500\n",
            "2/2 [==============================] - 0s 9ms/step - loss: 10.0320 - mae: 10.0320\n",
            "Epoch 139/500\n",
            "2/2 [==============================] - 0s 8ms/step - loss: 9.4907 - mae: 9.4907\n",
            "Epoch 140/500\n",
            "2/2 [==============================] - 0s 10ms/step - loss: 18.5671 - mae: 18.5671\n",
            "Epoch 141/500\n",
            "2/2 [==============================] - 0s 9ms/step - loss: 8.3347 - mae: 8.3347\n",
            "Epoch 142/500\n",
            "2/2 [==============================] - 0s 7ms/step - loss: 33.2333 - mae: 33.2333\n",
            "Epoch 143/500\n",
            "2/2 [==============================] - 0s 7ms/step - loss: 23.3663 - mae: 23.3663\n",
            "Epoch 144/500\n",
            "2/2 [==============================] - 0s 8ms/step - loss: 10.4947 - mae: 10.4947\n",
            "Epoch 145/500\n",
            "2/2 [==============================] - 0s 6ms/step - loss: 25.8424 - mae: 25.8424\n",
            "Epoch 146/500\n",
            "2/2 [==============================] - 0s 7ms/step - loss: 9.9647 - mae: 9.9647\n",
            "Epoch 147/500\n",
            "2/2 [==============================] - 0s 7ms/step - loss: 14.7474 - mae: 14.7474\n",
            "Epoch 148/500\n",
            "2/2 [==============================] - 0s 7ms/step - loss: 17.8623 - mae: 17.8623\n",
            "Epoch 149/500\n",
            "2/2 [==============================] - 0s 7ms/step - loss: 8.4573 - mae: 8.4573\n",
            "Epoch 150/500\n",
            "2/2 [==============================] - 0s 7ms/step - loss: 7.6328 - mae: 7.6328\n",
            "Epoch 151/500\n",
            "2/2 [==============================] - 0s 7ms/step - loss: 18.8069 - mae: 18.8069\n",
            "Epoch 152/500\n",
            "2/2 [==============================] - 0s 8ms/step - loss: 10.4697 - mae: 10.4697\n",
            "Epoch 153/500\n",
            "2/2 [==============================] - 0s 12ms/step - loss: 30.2973 - mae: 30.2973\n",
            "Epoch 154/500\n",
            "2/2 [==============================] - 0s 9ms/step - loss: 10.0150 - mae: 10.0150\n",
            "Epoch 155/500\n",
            "2/2 [==============================] - 0s 8ms/step - loss: 15.7642 - mae: 15.7642\n",
            "Epoch 156/500\n",
            "2/2 [==============================] - 0s 11ms/step - loss: 17.7012 - mae: 17.7012\n",
            "Epoch 157/500\n",
            "2/2 [==============================] - 0s 9ms/step - loss: 31.0362 - mae: 31.0362\n",
            "Epoch 158/500\n",
            "2/2 [==============================] - 0s 8ms/step - loss: 10.2086 - mae: 10.2086\n",
            "Epoch 159/500\n",
            "2/2 [==============================] - 0s 10ms/step - loss: 8.6941 - mae: 8.6941\n",
            "Epoch 160/500\n",
            "2/2 [==============================] - 0s 10ms/step - loss: 20.6820 - mae: 20.6820\n",
            "Epoch 161/500\n",
            "2/2 [==============================] - 0s 9ms/step - loss: 11.7979 - mae: 11.7979\n",
            "Epoch 162/500\n",
            "2/2 [==============================] - 0s 8ms/step - loss: 21.6550 - mae: 21.6550\n",
            "Epoch 163/500\n",
            "2/2 [==============================] - 0s 7ms/step - loss: 19.3327 - mae: 19.3327\n",
            "Epoch 164/500\n",
            "2/2 [==============================] - 0s 8ms/step - loss: 11.1042 - mae: 11.1042\n",
            "Epoch 165/500\n",
            "2/2 [==============================] - 0s 9ms/step - loss: 9.6364 - mae: 9.6364\n",
            "Epoch 166/500\n",
            "2/2 [==============================] - 0s 8ms/step - loss: 21.5880 - mae: 21.5880\n",
            "Epoch 167/500\n",
            "2/2 [==============================] - 0s 8ms/step - loss: 26.3113 - mae: 26.3113\n",
            "Epoch 168/500\n",
            "2/2 [==============================] - 0s 8ms/step - loss: 9.9153 - mae: 9.9153\n",
            "Epoch 169/500\n",
            "2/2 [==============================] - 0s 8ms/step - loss: 22.5408 - mae: 22.5408\n",
            "Epoch 170/500\n",
            "2/2 [==============================] - 0s 9ms/step - loss: 10.1837 - mae: 10.1837\n",
            "Epoch 171/500\n",
            "2/2 [==============================] - 0s 12ms/step - loss: 18.0747 - mae: 18.0747\n",
            "Epoch 172/500\n",
            "2/2 [==============================] - 0s 8ms/step - loss: 28.7771 - mae: 28.7771\n",
            "Epoch 173/500\n",
            "2/2 [==============================] - 0s 9ms/step - loss: 16.4982 - mae: 16.4982\n",
            "Epoch 174/500\n",
            "2/2 [==============================] - 0s 8ms/step - loss: 11.2437 - mae: 11.2437\n",
            "Epoch 175/500\n",
            "2/2 [==============================] - 0s 8ms/step - loss: 27.6067 - mae: 27.6067\n",
            "Epoch 176/500\n",
            "2/2 [==============================] - 0s 7ms/step - loss: 8.2989 - mae: 8.2989\n",
            "Epoch 177/500\n",
            "2/2 [==============================] - 0s 7ms/step - loss: 9.2954 - mae: 9.2954\n",
            "Epoch 178/500\n",
            "2/2 [==============================] - 0s 8ms/step - loss: 18.0526 - mae: 18.0526\n",
            "Epoch 179/500\n",
            "2/2 [==============================] - 0s 8ms/step - loss: 10.6594 - mae: 10.6594\n",
            "Epoch 180/500\n",
            "2/2 [==============================] - 0s 8ms/step - loss: 7.9330 - mae: 7.9330\n",
            "Epoch 181/500\n",
            "2/2 [==============================] - 0s 7ms/step - loss: 17.2928 - mae: 17.2928\n",
            "Epoch 182/500\n",
            "2/2 [==============================] - 0s 8ms/step - loss: 11.0094 - mae: 11.0094\n",
            "Epoch 183/500\n",
            "2/2 [==============================] - 0s 7ms/step - loss: 11.6579 - mae: 11.6579\n",
            "Epoch 184/500\n",
            "2/2 [==============================] - 0s 8ms/step - loss: 30.1610 - mae: 30.1610\n",
            "Epoch 185/500\n",
            "2/2 [==============================] - 0s 9ms/step - loss: 8.2291 - mae: 8.2291\n",
            "Epoch 186/500\n",
            "2/2 [==============================] - 0s 9ms/step - loss: 18.7340 - mae: 18.7340\n",
            "Epoch 187/500\n",
            "2/2 [==============================] - 0s 8ms/step - loss: 8.8143 - mae: 8.8143\n",
            "Epoch 188/500\n",
            "2/2 [==============================] - 0s 7ms/step - loss: 23.7260 - mae: 23.7260\n",
            "Epoch 189/500\n",
            "2/2 [==============================] - 0s 7ms/step - loss: 9.4007 - mae: 9.4007\n",
            "Epoch 190/500\n",
            "2/2 [==============================] - 0s 8ms/step - loss: 17.0301 - mae: 17.0301\n",
            "Epoch 191/500\n",
            "2/2 [==============================] - 0s 8ms/step - loss: 8.6290 - mae: 8.6290\n",
            "Epoch 192/500\n",
            "2/2 [==============================] - 0s 8ms/step - loss: 15.1998 - mae: 15.1998\n",
            "Epoch 193/500\n",
            "2/2 [==============================] - 0s 8ms/step - loss: 30.0479 - mae: 30.0479\n",
            "Epoch 194/500\n",
            "2/2 [==============================] - 0s 7ms/step - loss: 9.6955 - mae: 9.6955\n",
            "Epoch 195/500\n",
            "2/2 [==============================] - 0s 8ms/step - loss: 12.0496 - mae: 12.0496\n",
            "Epoch 196/500\n",
            "2/2 [==============================] - 0s 8ms/step - loss: 23.4334 - mae: 23.4334\n",
            "Epoch 197/500\n",
            "2/2 [==============================] - 0s 8ms/step - loss: 17.7782 - mae: 17.7782\n",
            "Epoch 198/500\n",
            "2/2 [==============================] - 0s 7ms/step - loss: 12.5839 - mae: 12.5839\n",
            "Epoch 199/500\n",
            "2/2 [==============================] - 0s 8ms/step - loss: 18.0317 - mae: 18.0317\n",
            "Epoch 200/500\n",
            "2/2 [==============================] - 0s 9ms/step - loss: 13.8649 - mae: 13.8649\n",
            "Epoch 201/500\n",
            "2/2 [==============================] - 0s 8ms/step - loss: 6.1105 - mae: 6.1105\n",
            "Epoch 202/500\n",
            "2/2 [==============================] - 0s 8ms/step - loss: 22.8076 - mae: 22.8076\n",
            "Epoch 203/500\n",
            "2/2 [==============================] - 0s 7ms/step - loss: 9.0149 - mae: 9.0149\n",
            "Epoch 204/500\n",
            "2/2 [==============================] - 0s 8ms/step - loss: 18.7589 - mae: 18.7589\n",
            "Epoch 205/500\n",
            "2/2 [==============================] - 0s 8ms/step - loss: 9.3949 - mae: 9.3949\n",
            "Epoch 206/500\n",
            "2/2 [==============================] - 0s 7ms/step - loss: 10.4600 - mae: 10.4600\n",
            "Epoch 207/500\n",
            "2/2 [==============================] - 0s 7ms/step - loss: 20.9394 - mae: 20.9394\n",
            "Epoch 208/500\n",
            "2/2 [==============================] - 0s 9ms/step - loss: 16.3888 - mae: 16.3888\n",
            "Epoch 209/500\n",
            "2/2 [==============================] - 0s 7ms/step - loss: 14.2573 - mae: 14.2573\n",
            "Epoch 210/500\n",
            "2/2 [==============================] - 0s 7ms/step - loss: 17.1939 - mae: 17.1939\n",
            "Epoch 211/500\n",
            "2/2 [==============================] - 0s 7ms/step - loss: 10.2667 - mae: 10.2667\n",
            "Epoch 212/500\n",
            "2/2 [==============================] - 0s 7ms/step - loss: 19.6188 - mae: 19.6188\n",
            "Epoch 213/500\n",
            "2/2 [==============================] - 0s 7ms/step - loss: 14.7299 - mae: 14.7299\n",
            "Epoch 214/500\n",
            "2/2 [==============================] - 0s 7ms/step - loss: 14.3970 - mae: 14.3970\n",
            "Epoch 215/500\n",
            "2/2 [==============================] - 0s 7ms/step - loss: 22.8874 - mae: 22.8874\n",
            "Epoch 216/500\n",
            "2/2 [==============================] - 0s 7ms/step - loss: 14.3788 - mae: 14.3788\n",
            "Epoch 217/500\n",
            "2/2 [==============================] - 0s 6ms/step - loss: 9.1796 - mae: 9.1796\n",
            "Epoch 218/500\n",
            "2/2 [==============================] - 0s 7ms/step - loss: 11.9571 - mae: 11.9571\n",
            "Epoch 219/500\n",
            "2/2 [==============================] - 0s 7ms/step - loss: 6.7943 - mae: 6.7943\n",
            "Epoch 220/500\n",
            "2/2 [==============================] - 0s 7ms/step - loss: 7.1675 - mae: 7.1675\n",
            "Epoch 221/500\n",
            "2/2 [==============================] - 0s 7ms/step - loss: 38.3033 - mae: 38.3033\n",
            "Epoch 222/500\n",
            "2/2 [==============================] - 0s 7ms/step - loss: 38.2786 - mae: 38.2786\n",
            "Epoch 223/500\n",
            "2/2 [==============================] - 0s 6ms/step - loss: 5.5340 - mae: 5.5340\n",
            "Epoch 224/500\n",
            "2/2 [==============================] - 0s 8ms/step - loss: 12.9251 - mae: 12.9251\n",
            "Epoch 225/500\n",
            "2/2 [==============================] - 0s 10ms/step - loss: 32.1486 - mae: 32.1486\n",
            "Epoch 226/500\n",
            "2/2 [==============================] - 0s 9ms/step - loss: 13.2448 - mae: 13.2448\n",
            "Epoch 227/500\n",
            "2/2 [==============================] - 0s 7ms/step - loss: 20.1705 - mae: 20.1705\n",
            "Epoch 228/500\n",
            "2/2 [==============================] - 0s 11ms/step - loss: 19.6405 - mae: 19.6405\n",
            "Epoch 229/500\n",
            "2/2 [==============================] - 0s 9ms/step - loss: 7.6410 - mae: 7.6410\n",
            "Epoch 230/500\n",
            "2/2 [==============================] - 0s 8ms/step - loss: 7.7300 - mae: 7.7300\n",
            "Epoch 231/500\n",
            "2/2 [==============================] - 0s 13ms/step - loss: 26.0046 - mae: 26.0046\n",
            "Epoch 232/500\n",
            "2/2 [==============================] - 0s 9ms/step - loss: 9.0868 - mae: 9.0868\n",
            "Epoch 233/500\n",
            "2/2 [==============================] - 0s 8ms/step - loss: 25.8660 - mae: 25.8660\n",
            "Epoch 234/500\n",
            "2/2 [==============================] - 0s 8ms/step - loss: 9.3817 - mae: 9.3817\n",
            "Epoch 235/500\n",
            "2/2 [==============================] - 0s 7ms/step - loss: 14.7496 - mae: 14.7496\n",
            "Epoch 236/500\n",
            "2/2 [==============================] - 0s 6ms/step - loss: 5.1686 - mae: 5.1686\n",
            "Epoch 237/500\n",
            "2/2 [==============================] - 0s 6ms/step - loss: 13.1216 - mae: 13.1216\n",
            "Epoch 238/500\n",
            "2/2 [==============================] - 0s 7ms/step - loss: 7.3794 - mae: 7.3794\n",
            "Epoch 239/500\n",
            "2/2 [==============================] - 0s 7ms/step - loss: 21.3257 - mae: 21.3257\n",
            "Epoch 240/500\n",
            "2/2 [==============================] - 0s 6ms/step - loss: 24.9897 - mae: 24.9897\n",
            "Epoch 241/500\n",
            "2/2 [==============================] - 0s 6ms/step - loss: 9.6730 - mae: 9.6730\n",
            "Epoch 242/500\n",
            "2/2 [==============================] - 0s 7ms/step - loss: 15.7269 - mae: 15.7269\n",
            "Epoch 243/500\n",
            "2/2 [==============================] - 0s 9ms/step - loss: 11.2594 - mae: 11.2594\n",
            "Epoch 244/500\n",
            "2/2 [==============================] - 0s 8ms/step - loss: 10.5631 - mae: 10.5631\n",
            "Epoch 245/500\n",
            "2/2 [==============================] - 0s 8ms/step - loss: 14.7288 - mae: 14.7288\n",
            "Epoch 246/500\n",
            "2/2 [==============================] - 0s 8ms/step - loss: 15.8764 - mae: 15.8764\n",
            "Epoch 247/500\n",
            "2/2 [==============================] - 0s 8ms/step - loss: 17.7759 - mae: 17.7759\n",
            "Epoch 248/500\n",
            "2/2 [==============================] - 0s 8ms/step - loss: 13.3330 - mae: 13.3330\n",
            "Epoch 249/500\n",
            "2/2 [==============================] - 0s 10ms/step - loss: 14.5908 - mae: 14.5908\n",
            "Epoch 250/500\n",
            "2/2 [==============================] - 0s 11ms/step - loss: 23.3482 - mae: 23.3482\n",
            "Epoch 251/500\n",
            "2/2 [==============================] - 0s 8ms/step - loss: 8.5746 - mae: 8.5746\n",
            "Epoch 252/500\n",
            "2/2 [==============================] - 0s 7ms/step - loss: 41.1879 - mae: 41.1879\n",
            "Epoch 253/500\n",
            "2/2 [==============================] - 0s 6ms/step - loss: 25.4256 - mae: 25.4256\n",
            "Epoch 254/500\n",
            "2/2 [==============================] - 0s 6ms/step - loss: 7.6571 - mae: 7.6571\n",
            "Epoch 255/500\n",
            "2/2 [==============================] - 0s 8ms/step - loss: 26.7929 - mae: 26.7929\n",
            "Epoch 256/500\n",
            "2/2 [==============================] - 0s 7ms/step - loss: 14.6628 - mae: 14.6628\n",
            "Epoch 257/500\n",
            "2/2 [==============================] - 0s 7ms/step - loss: 7.8304 - mae: 7.8304\n",
            "Epoch 258/500\n",
            "2/2 [==============================] - 0s 7ms/step - loss: 11.0124 - mae: 11.0124\n",
            "Epoch 259/500\n",
            "2/2 [==============================] - 0s 7ms/step - loss: 16.1473 - mae: 16.1473\n",
            "Epoch 260/500\n",
            "2/2 [==============================] - 0s 7ms/step - loss: 24.1638 - mae: 24.1638\n",
            "Epoch 261/500\n",
            "2/2 [==============================] - 0s 8ms/step - loss: 8.8842 - mae: 8.8842\n",
            "Epoch 262/500\n",
            "2/2 [==============================] - 0s 9ms/step - loss: 8.0595 - mae: 8.0595\n",
            "Epoch 263/500\n",
            "2/2 [==============================] - 0s 8ms/step - loss: 7.7830 - mae: 7.7830\n",
            "Epoch 264/500\n",
            "2/2 [==============================] - 0s 7ms/step - loss: 16.4612 - mae: 16.4612\n",
            "Epoch 265/500\n",
            "2/2 [==============================] - 0s 7ms/step - loss: 12.7741 - mae: 12.7741\n",
            "Epoch 266/500\n",
            "2/2 [==============================] - 0s 7ms/step - loss: 14.3426 - mae: 14.3426\n",
            "Epoch 267/500\n",
            "2/2 [==============================] - 0s 7ms/step - loss: 11.4422 - mae: 11.4422\n",
            "Epoch 268/500\n",
            "2/2 [==============================] - 0s 7ms/step - loss: 19.9829 - mae: 19.9829\n",
            "Epoch 269/500\n",
            "2/2 [==============================] - 0s 7ms/step - loss: 38.1728 - mae: 38.1728\n",
            "Epoch 270/500\n",
            "2/2 [==============================] - 0s 7ms/step - loss: 11.3500 - mae: 11.3500\n",
            "Epoch 271/500\n",
            "2/2 [==============================] - 0s 7ms/step - loss: 14.0352 - mae: 14.0352\n",
            "Epoch 272/500\n",
            "2/2 [==============================] - 0s 7ms/step - loss: 27.7585 - mae: 27.7585\n",
            "Epoch 273/500\n",
            "2/2 [==============================] - 0s 6ms/step - loss: 8.3426 - mae: 8.3426\n",
            "Epoch 274/500\n",
            "2/2 [==============================] - 0s 7ms/step - loss: 6.5392 - mae: 6.5392\n",
            "Epoch 275/500\n",
            "2/2 [==============================] - 0s 6ms/step - loss: 34.8695 - mae: 34.8695\n",
            "Epoch 276/500\n",
            "2/2 [==============================] - 0s 8ms/step - loss: 8.1443 - mae: 8.1443\n",
            "Epoch 277/500\n",
            "2/2 [==============================] - 0s 8ms/step - loss: 26.0110 - mae: 26.0110\n",
            "Epoch 278/500\n",
            "2/2 [==============================] - 0s 7ms/step - loss: 11.4093 - mae: 11.4093\n",
            "Epoch 279/500\n",
            "2/2 [==============================] - 0s 7ms/step - loss: 16.1714 - mae: 16.1714\n",
            "Epoch 280/500\n",
            "2/2 [==============================] - 0s 7ms/step - loss: 21.3378 - mae: 21.3378\n",
            "Epoch 281/500\n",
            "2/2 [==============================] - 0s 6ms/step - loss: 23.5524 - mae: 23.5524\n",
            "Epoch 282/500\n",
            "2/2 [==============================] - 0s 10ms/step - loss: 8.2744 - mae: 8.2744\n",
            "Epoch 283/500\n",
            "2/2 [==============================] - 0s 7ms/step - loss: 8.4780 - mae: 8.4780\n",
            "Epoch 284/500\n",
            "2/2 [==============================] - 0s 8ms/step - loss: 26.2278 - mae: 26.2278\n",
            "Epoch 285/500\n",
            "2/2 [==============================] - 0s 7ms/step - loss: 14.8484 - mae: 14.8484\n",
            "Epoch 286/500\n",
            "2/2 [==============================] - 0s 6ms/step - loss: 8.7098 - mae: 8.7098\n",
            "Epoch 287/500\n",
            "2/2 [==============================] - 0s 6ms/step - loss: 22.4809 - mae: 22.4809\n",
            "Epoch 288/500\n",
            "2/2 [==============================] - 0s 6ms/step - loss: 22.9108 - mae: 22.9108\n",
            "Epoch 289/500\n",
            "2/2 [==============================] - 0s 7ms/step - loss: 12.2033 - mae: 12.2033\n",
            "Epoch 290/500\n",
            "2/2 [==============================] - 0s 6ms/step - loss: 16.7660 - mae: 16.7660\n",
            "Epoch 291/500\n",
            "2/2 [==============================] - 0s 6ms/step - loss: 17.1040 - mae: 17.1040\n",
            "Epoch 292/500\n",
            "2/2 [==============================] - 0s 6ms/step - loss: 10.2924 - mae: 10.2924\n",
            "Epoch 293/500\n",
            "2/2 [==============================] - 0s 7ms/step - loss: 15.0446 - mae: 15.0446\n",
            "Epoch 294/500\n",
            "2/2 [==============================] - 0s 7ms/step - loss: 22.2139 - mae: 22.2139\n",
            "Epoch 295/500\n",
            "2/2 [==============================] - 0s 7ms/step - loss: 19.0697 - mae: 19.0697\n",
            "Epoch 296/500\n",
            "2/2 [==============================] - 0s 7ms/step - loss: 6.7166 - mae: 6.7166\n",
            "Epoch 297/500\n",
            "2/2 [==============================] - 0s 6ms/step - loss: 9.7738 - mae: 9.7738\n",
            "Epoch 298/500\n",
            "2/2 [==============================] - 0s 11ms/step - loss: 23.9318 - mae: 23.9318\n",
            "Epoch 299/500\n",
            "2/2 [==============================] - 0s 7ms/step - loss: 18.6012 - mae: 18.6012\n",
            "Epoch 300/500\n",
            "2/2 [==============================] - 0s 10ms/step - loss: 7.8039 - mae: 7.8039\n",
            "Epoch 301/500\n",
            "2/2 [==============================] - 0s 7ms/step - loss: 22.2538 - mae: 22.2538\n",
            "Epoch 302/500\n",
            "2/2 [==============================] - 0s 7ms/step - loss: 7.6773 - mae: 7.6773\n",
            "Epoch 303/500\n",
            "2/2 [==============================] - 0s 11ms/step - loss: 18.7939 - mae: 18.7939\n",
            "Epoch 304/500\n",
            "2/2 [==============================] - 0s 8ms/step - loss: 12.5586 - mae: 12.5586\n",
            "Epoch 305/500\n",
            "2/2 [==============================] - 0s 11ms/step - loss: 7.6740 - mae: 7.6740\n",
            "Epoch 306/500\n",
            "2/2 [==============================] - 0s 11ms/step - loss: 21.9206 - mae: 21.9206\n",
            "Epoch 307/500\n",
            "2/2 [==============================] - 0s 8ms/step - loss: 8.2828 - mae: 8.2828\n",
            "Epoch 308/500\n",
            "2/2 [==============================] - 0s 10ms/step - loss: 20.8839 - mae: 20.8839\n",
            "Epoch 309/500\n",
            "2/2 [==============================] - 0s 6ms/step - loss: 19.3884 - mae: 19.3884\n",
            "Epoch 310/500\n",
            "2/2 [==============================] - 0s 7ms/step - loss: 4.7425 - mae: 4.7425\n",
            "Epoch 311/500\n",
            "2/2 [==============================] - 0s 7ms/step - loss: 10.5675 - mae: 10.5675\n",
            "Epoch 312/500\n",
            "2/2 [==============================] - 0s 13ms/step - loss: 29.1589 - mae: 29.1589\n",
            "Epoch 313/500\n",
            "2/2 [==============================] - 0s 10ms/step - loss: 9.2158 - mae: 9.2158\n",
            "Epoch 314/500\n",
            "2/2 [==============================] - 0s 8ms/step - loss: 5.8899 - mae: 5.8899\n",
            "Epoch 315/500\n",
            "2/2 [==============================] - 0s 10ms/step - loss: 24.8929 - mae: 24.8929\n",
            "Epoch 316/500\n",
            "2/2 [==============================] - 0s 10ms/step - loss: 13.9691 - mae: 13.9691\n",
            "Epoch 317/500\n",
            "2/2 [==============================] - 0s 10ms/step - loss: 21.5079 - mae: 21.5079\n",
            "Epoch 318/500\n",
            "2/2 [==============================] - 0s 9ms/step - loss: 8.1360 - mae: 8.1360\n",
            "Epoch 319/500\n",
            "2/2 [==============================] - 0s 10ms/step - loss: 18.3017 - mae: 18.3017\n",
            "Epoch 320/500\n",
            "2/2 [==============================] - 0s 10ms/step - loss: 10.8037 - mae: 10.8037\n",
            "Epoch 321/500\n",
            "2/2 [==============================] - 0s 8ms/step - loss: 7.1705 - mae: 7.1705\n",
            "Epoch 322/500\n",
            "2/2 [==============================] - 0s 9ms/step - loss: 8.6872 - mae: 8.6872\n",
            "Epoch 323/500\n",
            "2/2 [==============================] - 0s 9ms/step - loss: 18.3291 - mae: 18.3291\n",
            "Epoch 324/500\n",
            "2/2 [==============================] - 0s 7ms/step - loss: 16.3873 - mae: 16.3873\n",
            "Epoch 325/500\n",
            "2/2 [==============================] - 0s 7ms/step - loss: 18.4035 - mae: 18.4035\n",
            "Epoch 326/500\n",
            "2/2 [==============================] - 0s 7ms/step - loss: 22.1775 - mae: 22.1775\n",
            "Epoch 327/500\n",
            "2/2 [==============================] - 0s 11ms/step - loss: 8.4884 - mae: 8.4884\n",
            "Epoch 328/500\n",
            "2/2 [==============================] - 0s 7ms/step - loss: 7.0291 - mae: 7.0291\n",
            "Epoch 329/500\n",
            "2/2 [==============================] - 0s 9ms/step - loss: 9.4702 - mae: 9.4702\n",
            "Epoch 330/500\n",
            "2/2 [==============================] - 0s 9ms/step - loss: 7.5671 - mae: 7.5671\n",
            "Epoch 331/500\n",
            "2/2 [==============================] - 0s 7ms/step - loss: 24.1403 - mae: 24.1403\n",
            "Epoch 332/500\n",
            "2/2 [==============================] - 0s 10ms/step - loss: 13.7339 - mae: 13.7339\n",
            "Epoch 333/500\n",
            "2/2 [==============================] - 0s 7ms/step - loss: 10.8028 - mae: 10.8028\n",
            "Epoch 334/500\n",
            "2/2 [==============================] - 0s 7ms/step - loss: 6.9993 - mae: 6.9993\n",
            "Epoch 335/500\n",
            "2/2 [==============================] - 0s 8ms/step - loss: 13.0094 - mae: 13.0094\n",
            "Epoch 336/500\n",
            "2/2 [==============================] - 0s 7ms/step - loss: 32.3473 - mae: 32.3473\n",
            "Epoch 337/500\n",
            "2/2 [==============================] - 0s 7ms/step - loss: 10.5807 - mae: 10.5807\n",
            "Epoch 338/500\n",
            "2/2 [==============================] - 0s 7ms/step - loss: 19.9850 - mae: 19.9850\n",
            "Epoch 339/500\n",
            "2/2 [==============================] - 0s 6ms/step - loss: 34.2388 - mae: 34.2388\n",
            "Epoch 340/500\n",
            "2/2 [==============================] - 0s 7ms/step - loss: 8.7551 - mae: 8.7551\n",
            "Epoch 341/500\n",
            "2/2 [==============================] - 0s 7ms/step - loss: 21.8542 - mae: 21.8542\n",
            "Epoch 342/500\n",
            "2/2 [==============================] - 0s 7ms/step - loss: 13.8822 - mae: 13.8822\n",
            "Epoch 343/500\n",
            "2/2 [==============================] - 0s 7ms/step - loss: 11.7395 - mae: 11.7395\n",
            "Epoch 344/500\n",
            "2/2 [==============================] - 0s 6ms/step - loss: 10.7344 - mae: 10.7344\n",
            "Epoch 345/500\n",
            "2/2 [==============================] - 0s 7ms/step - loss: 30.9370 - mae: 30.9370\n",
            "Epoch 346/500\n",
            "2/2 [==============================] - 0s 9ms/step - loss: 10.6762 - mae: 10.6762\n",
            "Epoch 347/500\n",
            "2/2 [==============================] - 0s 9ms/step - loss: 25.6183 - mae: 25.6183\n",
            "Epoch 348/500\n",
            "2/2 [==============================] - 0s 7ms/step - loss: 13.1774 - mae: 13.1774\n",
            "Epoch 349/500\n",
            "2/2 [==============================] - 0s 8ms/step - loss: 13.1018 - mae: 13.1018\n",
            "Epoch 350/500\n",
            "2/2 [==============================] - 0s 8ms/step - loss: 15.4361 - mae: 15.4361\n",
            "Epoch 351/500\n",
            "2/2 [==============================] - 0s 9ms/step - loss: 32.9093 - mae: 32.9093\n",
            "Epoch 352/500\n",
            "2/2 [==============================] - 0s 9ms/step - loss: 14.0378 - mae: 14.0378\n",
            "Epoch 353/500\n",
            "2/2 [==============================] - 0s 12ms/step - loss: 16.0238 - mae: 16.0238\n",
            "Epoch 354/500\n",
            "2/2 [==============================] - 0s 8ms/step - loss: 13.3762 - mae: 13.3762\n",
            "Epoch 355/500\n",
            "2/2 [==============================] - 0s 7ms/step - loss: 21.5390 - mae: 21.5390\n",
            "Epoch 356/500\n",
            "2/2 [==============================] - 0s 8ms/step - loss: 16.2022 - mae: 16.2022\n",
            "Epoch 357/500\n",
            "2/2 [==============================] - 0s 28ms/step - loss: 11.7806 - mae: 11.7806\n",
            "Epoch 358/500\n",
            "2/2 [==============================] - 0s 15ms/step - loss: 14.8525 - mae: 14.8525\n",
            "Epoch 359/500\n",
            "2/2 [==============================] - 0s 31ms/step - loss: 12.3045 - mae: 12.3045\n",
            "Epoch 360/500\n",
            "2/2 [==============================] - 0s 15ms/step - loss: 20.2725 - mae: 20.2725\n",
            "Epoch 361/500\n",
            "2/2 [==============================] - 0s 15ms/step - loss: 11.0513 - mae: 11.0513\n",
            "Epoch 362/500\n",
            "2/2 [==============================] - 0s 25ms/step - loss: 6.8842 - mae: 6.8842\n",
            "Epoch 363/500\n",
            "2/2 [==============================] - 0s 27ms/step - loss: 23.9776 - mae: 23.9776\n",
            "Epoch 364/500\n",
            "2/2 [==============================] - 0s 20ms/step - loss: 29.7432 - mae: 29.7432\n",
            "Epoch 365/500\n",
            "2/2 [==============================] - 0s 17ms/step - loss: 8.4007 - mae: 8.4007\n",
            "Epoch 366/500\n",
            "2/2 [==============================] - 0s 11ms/step - loss: 6.1546 - mae: 6.1546\n",
            "Epoch 367/500\n",
            "2/2 [==============================] - 0s 12ms/step - loss: 34.7779 - mae: 34.7779\n",
            "Epoch 368/500\n",
            "2/2 [==============================] - 0s 21ms/step - loss: 7.4454 - mae: 7.4454\n",
            "Epoch 369/500\n",
            "2/2 [==============================] - 0s 7ms/step - loss: 8.7875 - mae: 8.7875\n",
            "Epoch 370/500\n",
            "2/2 [==============================] - 0s 9ms/step - loss: 14.3522 - mae: 14.3522\n",
            "Epoch 371/500\n",
            "2/2 [==============================] - 0s 7ms/step - loss: 6.9305 - mae: 6.9305\n",
            "Epoch 372/500\n",
            "2/2 [==============================] - 0s 30ms/step - loss: 6.6098 - mae: 6.6098\n",
            "Epoch 373/500\n",
            "2/2 [==============================] - 0s 15ms/step - loss: 24.2674 - mae: 24.2674\n",
            "Epoch 374/500\n",
            "2/2 [==============================] - 0s 21ms/step - loss: 10.2102 - mae: 10.2102\n",
            "Epoch 375/500\n",
            "2/2 [==============================] - 0s 18ms/step - loss: 12.8334 - mae: 12.8334\n",
            "Epoch 376/500\n",
            "2/2 [==============================] - 0s 12ms/step - loss: 14.7020 - mae: 14.7020\n",
            "Epoch 377/500\n",
            "2/2 [==============================] - 0s 16ms/step - loss: 14.6529 - mae: 14.6529\n",
            "Epoch 378/500\n",
            "2/2 [==============================] - 0s 23ms/step - loss: 16.1816 - mae: 16.1816\n",
            "Epoch 379/500\n",
            "2/2 [==============================] - 0s 20ms/step - loss: 20.5993 - mae: 20.5993\n",
            "Epoch 380/500\n",
            "2/2 [==============================] - 0s 9ms/step - loss: 34.2230 - mae: 34.2230\n",
            "Epoch 381/500\n",
            "2/2 [==============================] - 0s 14ms/step - loss: 8.8971 - mae: 8.8971\n",
            "Epoch 382/500\n",
            "2/2 [==============================] - 0s 11ms/step - loss: 9.6285 - mae: 9.6285\n",
            "Epoch 383/500\n",
            "2/2 [==============================] - 0s 9ms/step - loss: 5.7983 - mae: 5.7983\n",
            "Epoch 384/500\n",
            "2/2 [==============================] - 0s 10ms/step - loss: 8.7318 - mae: 8.7318\n",
            "Epoch 385/500\n",
            "2/2 [==============================] - 0s 16ms/step - loss: 4.9909 - mae: 4.9909\n",
            "Epoch 386/500\n",
            "2/2 [==============================] - 0s 19ms/step - loss: 25.1398 - mae: 25.1398\n",
            "Epoch 387/500\n",
            "2/2 [==============================] - 0s 16ms/step - loss: 15.0870 - mae: 15.0870\n",
            "Epoch 388/500\n",
            "2/2 [==============================] - 0s 13ms/step - loss: 6.6800 - mae: 6.6800\n",
            "Epoch 389/500\n",
            "2/2 [==============================] - 0s 20ms/step - loss: 17.5912 - mae: 17.5912\n",
            "Epoch 390/500\n",
            "2/2 [==============================] - 0s 34ms/step - loss: 23.8890 - mae: 23.8890\n",
            "Epoch 391/500\n",
            "2/2 [==============================] - 0s 22ms/step - loss: 16.4501 - mae: 16.4501\n",
            "Epoch 392/500\n",
            "2/2 [==============================] - 0s 24ms/step - loss: 8.3987 - mae: 8.3987\n",
            "Epoch 393/500\n",
            "2/2 [==============================] - 0s 8ms/step - loss: 18.1751 - mae: 18.1751\n",
            "Epoch 394/500\n",
            "2/2 [==============================] - 0s 8ms/step - loss: 14.2218 - mae: 14.2218\n",
            "Epoch 395/500\n",
            "2/2 [==============================] - 0s 9ms/step - loss: 28.7007 - mae: 28.7007\n",
            "Epoch 396/500\n",
            "2/2 [==============================] - 0s 7ms/step - loss: 8.2231 - mae: 8.2231\n",
            "Epoch 397/500\n",
            "2/2 [==============================] - 0s 18ms/step - loss: 10.1721 - mae: 10.1721\n",
            "Epoch 398/500\n",
            "2/2 [==============================] - 0s 23ms/step - loss: 10.0791 - mae: 10.0791\n",
            "Epoch 399/500\n",
            "2/2 [==============================] - 0s 13ms/step - loss: 6.0940 - mae: 6.0940\n",
            "Epoch 400/500\n",
            "2/2 [==============================] - 0s 13ms/step - loss: 21.7319 - mae: 21.7319\n",
            "Epoch 401/500\n",
            "2/2 [==============================] - 0s 34ms/step - loss: 13.2769 - mae: 13.2769\n",
            "Epoch 402/500\n",
            "2/2 [==============================] - 0s 34ms/step - loss: 22.3016 - mae: 22.3016\n",
            "Epoch 403/500\n",
            "2/2 [==============================] - 0s 17ms/step - loss: 20.7692 - mae: 20.7692\n",
            "Epoch 404/500\n",
            "2/2 [==============================] - 0s 12ms/step - loss: 13.8563 - mae: 13.8563\n",
            "Epoch 405/500\n",
            "2/2 [==============================] - 0s 11ms/step - loss: 6.5179 - mae: 6.5179\n",
            "Epoch 406/500\n",
            "2/2 [==============================] - 0s 25ms/step - loss: 23.9081 - mae: 23.9081\n",
            "Epoch 407/500\n",
            "2/2 [==============================] - 0s 14ms/step - loss: 15.4044 - mae: 15.4044\n",
            "Epoch 408/500\n",
            "2/2 [==============================] - 0s 24ms/step - loss: 5.7033 - mae: 5.7033\n",
            "Epoch 409/500\n",
            "2/2 [==============================] - 0s 30ms/step - loss: 30.7590 - mae: 30.7590\n",
            "Epoch 410/500\n",
            "2/2 [==============================] - 0s 11ms/step - loss: 9.3848 - mae: 9.3848\n",
            "Epoch 411/500\n",
            "2/2 [==============================] - 0s 20ms/step - loss: 14.9675 - mae: 14.9675\n",
            "Epoch 412/500\n",
            "2/2 [==============================] - 0s 9ms/step - loss: 21.8985 - mae: 21.8985\n",
            "Epoch 413/500\n",
            "2/2 [==============================] - 0s 8ms/step - loss: 12.3505 - mae: 12.3505\n",
            "Epoch 414/500\n",
            "2/2 [==============================] - 0s 12ms/step - loss: 6.6743 - mae: 6.6743\n",
            "Epoch 415/500\n",
            "2/2 [==============================] - 0s 11ms/step - loss: 12.7317 - mae: 12.7317\n",
            "Epoch 416/500\n",
            "2/2 [==============================] - 0s 8ms/step - loss: 26.9891 - mae: 26.9891\n",
            "Epoch 417/500\n",
            "2/2 [==============================] - 0s 14ms/step - loss: 11.9203 - mae: 11.9203\n",
            "Epoch 418/500\n",
            "2/2 [==============================] - 0s 10ms/step - loss: 13.1176 - mae: 13.1176\n",
            "Epoch 419/500\n",
            "2/2 [==============================] - 0s 12ms/step - loss: 16.0763 - mae: 16.0763\n",
            "Epoch 420/500\n",
            "2/2 [==============================] - 0s 15ms/step - loss: 25.1430 - mae: 25.1430\n",
            "Epoch 421/500\n",
            "2/2 [==============================] - 0s 15ms/step - loss: 16.4364 - mae: 16.4364\n",
            "Epoch 422/500\n",
            "2/2 [==============================] - 0s 18ms/step - loss: 8.7399 - mae: 8.7399\n",
            "Epoch 423/500\n",
            "2/2 [==============================] - 0s 19ms/step - loss: 24.8811 - mae: 24.8811\n",
            "Epoch 424/500\n",
            "2/2 [==============================] - 0s 11ms/step - loss: 16.2018 - mae: 16.2018\n",
            "Epoch 425/500\n",
            "2/2 [==============================] - 0s 29ms/step - loss: 7.5382 - mae: 7.5382\n",
            "Epoch 426/500\n",
            "2/2 [==============================] - 0s 31ms/step - loss: 21.6265 - mae: 21.6265\n",
            "Epoch 427/500\n",
            "2/2 [==============================] - 0s 31ms/step - loss: 6.7156 - mae: 6.7156\n",
            "Epoch 428/500\n",
            "2/2 [==============================] - 0s 15ms/step - loss: 13.8484 - mae: 13.8484\n",
            "Epoch 429/500\n",
            "2/2 [==============================] - 0s 11ms/step - loss: 11.7934 - mae: 11.7934\n",
            "Epoch 430/500\n",
            "2/2 [==============================] - 0s 14ms/step - loss: 10.5446 - mae: 10.5446\n",
            "Epoch 431/500\n",
            "2/2 [==============================] - 0s 14ms/step - loss: 11.8375 - mae: 11.8375\n",
            "Epoch 432/500\n",
            "2/2 [==============================] - 0s 16ms/step - loss: 10.2728 - mae: 10.2728\n",
            "Epoch 433/500\n",
            "2/2 [==============================] - 0s 15ms/step - loss: 5.9369 - mae: 5.9369\n",
            "Epoch 434/500\n",
            "2/2 [==============================] - 0s 14ms/step - loss: 31.8808 - mae: 31.8808\n",
            "Epoch 435/500\n",
            "2/2 [==============================] - 0s 15ms/step - loss: 11.1481 - mae: 11.1481\n",
            "Epoch 436/500\n",
            "2/2 [==============================] - 0s 12ms/step - loss: 14.3907 - mae: 14.3907\n",
            "Epoch 437/500\n",
            "2/2 [==============================] - 0s 11ms/step - loss: 15.6497 - mae: 15.6497\n",
            "Epoch 438/500\n",
            "2/2 [==============================] - 0s 13ms/step - loss: 13.6680 - mae: 13.6680\n",
            "Epoch 439/500\n",
            "2/2 [==============================] - 0s 14ms/step - loss: 31.6517 - mae: 31.6517\n",
            "Epoch 440/500\n",
            "2/2 [==============================] - 0s 13ms/step - loss: 12.0600 - mae: 12.0600\n",
            "Epoch 441/500\n",
            "2/2 [==============================] - 0s 12ms/step - loss: 15.4161 - mae: 15.4161\n",
            "Epoch 442/500\n",
            "2/2 [==============================] - 0s 12ms/step - loss: 23.2871 - mae: 23.2871\n",
            "Epoch 443/500\n",
            "2/2 [==============================] - 0s 14ms/step - loss: 21.2240 - mae: 21.2240\n",
            "Epoch 444/500\n",
            "2/2 [==============================] - 0s 16ms/step - loss: 8.9447 - mae: 8.9447\n",
            "Epoch 445/500\n",
            "2/2 [==============================] - 0s 14ms/step - loss: 14.0167 - mae: 14.0167\n",
            "Epoch 446/500\n",
            "2/2 [==============================] - 0s 17ms/step - loss: 16.6913 - mae: 16.6913\n",
            "Epoch 447/500\n",
            "2/2 [==============================] - 0s 9ms/step - loss: 6.8878 - mae: 6.8878\n",
            "Epoch 448/500\n",
            "2/2 [==============================] - 0s 12ms/step - loss: 6.1091 - mae: 6.1091\n",
            "Epoch 449/500\n",
            "2/2 [==============================] - 0s 11ms/step - loss: 15.4236 - mae: 15.4236\n",
            "Epoch 450/500\n",
            "2/2 [==============================] - 0s 9ms/step - loss: 16.3853 - mae: 16.3853\n",
            "Epoch 451/500\n",
            "2/2 [==============================] - 0s 12ms/step - loss: 14.1435 - mae: 14.1435\n",
            "Epoch 452/500\n",
            "2/2 [==============================] - 0s 11ms/step - loss: 30.2936 - mae: 30.2936\n",
            "Epoch 453/500\n",
            "2/2 [==============================] - 0s 11ms/step - loss: 3.3083 - mae: 3.3083\n",
            "Epoch 454/500\n",
            "2/2 [==============================] - 0s 10ms/step - loss: 39.4080 - mae: 39.4080\n",
            "Epoch 455/500\n",
            "2/2 [==============================] - 0s 13ms/step - loss: 21.5240 - mae: 21.5240\n",
            "Epoch 456/500\n",
            "2/2 [==============================] - 0s 14ms/step - loss: 13.2301 - mae: 13.2301\n",
            "Epoch 457/500\n",
            "2/2 [==============================] - 0s 15ms/step - loss: 16.5525 - mae: 16.5525\n",
            "Epoch 458/500\n",
            "2/2 [==============================] - 0s 13ms/step - loss: 13.3631 - mae: 13.3631\n",
            "Epoch 459/500\n",
            "2/2 [==============================] - 0s 10ms/step - loss: 24.5850 - mae: 24.5850\n",
            "Epoch 460/500\n",
            "2/2 [==============================] - 0s 19ms/step - loss: 18.4856 - mae: 18.4856\n",
            "Epoch 461/500\n",
            "2/2 [==============================] - 0s 13ms/step - loss: 10.4020 - mae: 10.4020\n",
            "Epoch 462/500\n",
            "2/2 [==============================] - 0s 9ms/step - loss: 12.9347 - mae: 12.9347\n",
            "Epoch 463/500\n",
            "2/2 [==============================] - 0s 7ms/step - loss: 28.7647 - mae: 28.7647\n",
            "Epoch 464/500\n",
            "2/2 [==============================] - 0s 8ms/step - loss: 7.6617 - mae: 7.6617\n",
            "Epoch 465/500\n",
            "2/2 [==============================] - 0s 7ms/step - loss: 15.9293 - mae: 15.9293\n",
            "Epoch 466/500\n",
            "2/2 [==============================] - 0s 7ms/step - loss: 8.7882 - mae: 8.7882\n",
            "Epoch 467/500\n",
            "2/2 [==============================] - 0s 10ms/step - loss: 22.1406 - mae: 22.1406\n",
            "Epoch 468/500\n",
            "2/2 [==============================] - 0s 9ms/step - loss: 22.5588 - mae: 22.5588\n",
            "Epoch 469/500\n",
            "2/2 [==============================] - 0s 7ms/step - loss: 19.9351 - mae: 19.9351\n",
            "Epoch 470/500\n",
            "2/2 [==============================] - 0s 10ms/step - loss: 7.5625 - mae: 7.5625\n",
            "Epoch 471/500\n",
            "2/2 [==============================] - 0s 8ms/step - loss: 27.7400 - mae: 27.7400\n",
            "Epoch 472/500\n",
            "2/2 [==============================] - 0s 8ms/step - loss: 12.1163 - mae: 12.1163\n",
            "Epoch 473/500\n",
            "2/2 [==============================] - 0s 10ms/step - loss: 14.5573 - mae: 14.5573\n",
            "Epoch 474/500\n",
            "2/2 [==============================] - 0s 6ms/step - loss: 18.3051 - mae: 18.3051\n",
            "Epoch 475/500\n",
            "2/2 [==============================] - 0s 6ms/step - loss: 10.5488 - mae: 10.5488\n",
            "Epoch 476/500\n",
            "2/2 [==============================] - 0s 10ms/step - loss: 12.0365 - mae: 12.0365\n",
            "Epoch 477/500\n",
            "2/2 [==============================] - 0s 7ms/step - loss: 28.2206 - mae: 28.2206\n",
            "Epoch 478/500\n",
            "2/2 [==============================] - 0s 6ms/step - loss: 7.2821 - mae: 7.2821\n",
            "Epoch 479/500\n",
            "2/2 [==============================] - 0s 12ms/step - loss: 5.9844 - mae: 5.9844\n",
            "Epoch 480/500\n",
            "2/2 [==============================] - 0s 9ms/step - loss: 19.0583 - mae: 19.0583\n",
            "Epoch 481/500\n",
            "2/2 [==============================] - 0s 7ms/step - loss: 10.3868 - mae: 10.3868\n",
            "Epoch 482/500\n",
            "2/2 [==============================] - 0s 6ms/step - loss: 18.7640 - mae: 18.7640\n",
            "Epoch 483/500\n",
            "2/2 [==============================] - 0s 6ms/step - loss: 25.2476 - mae: 25.2476\n",
            "Epoch 484/500\n",
            "2/2 [==============================] - 0s 6ms/step - loss: 23.8396 - mae: 23.8396\n",
            "Epoch 485/500\n",
            "2/2 [==============================] - 0s 9ms/step - loss: 5.7585 - mae: 5.7585\n",
            "Epoch 486/500\n",
            "2/2 [==============================] - 0s 10ms/step - loss: 19.8267 - mae: 19.8267\n",
            "Epoch 487/500\n",
            "2/2 [==============================] - 0s 7ms/step - loss: 14.0672 - mae: 14.0672\n",
            "Epoch 488/500\n",
            "2/2 [==============================] - 0s 6ms/step - loss: 30.6546 - mae: 30.6546\n",
            "Epoch 489/500\n",
            "2/2 [==============================] - 0s 9ms/step - loss: 12.0066 - mae: 12.0066\n",
            "Epoch 490/500\n",
            "2/2 [==============================] - 0s 10ms/step - loss: 12.7704 - mae: 12.7704\n",
            "Epoch 491/500\n",
            "2/2 [==============================] - 0s 11ms/step - loss: 23.6825 - mae: 23.6825\n",
            "Epoch 492/500\n",
            "2/2 [==============================] - 0s 10ms/step - loss: 20.3720 - mae: 20.3720\n",
            "Epoch 493/500\n",
            "2/2 [==============================] - 0s 7ms/step - loss: 4.9733 - mae: 4.9733\n",
            "Epoch 494/500\n",
            "2/2 [==============================] - 0s 8ms/step - loss: 12.6548 - mae: 12.6548\n",
            "Epoch 495/500\n",
            "2/2 [==============================] - 0s 10ms/step - loss: 13.4465 - mae: 13.4465\n",
            "Epoch 496/500\n",
            "2/2 [==============================] - 0s 12ms/step - loss: 12.7221 - mae: 12.7221\n",
            "Epoch 497/500\n",
            "2/2 [==============================] - 0s 8ms/step - loss: 17.7095 - mae: 17.7095\n",
            "Epoch 498/500\n",
            "2/2 [==============================] - 0s 6ms/step - loss: 23.3671 - mae: 23.3671\n",
            "Epoch 499/500\n",
            "2/2 [==============================] - 0s 6ms/step - loss: 9.1142 - mae: 9.1142\n",
            "Epoch 500/500\n",
            "2/2 [==============================] - 0s 9ms/step - loss: 14.3885 - mae: 14.3885\n"
          ]
        },
        {
          "output_type": "execute_result",
          "data": {
            "text/plain": [
              "<keras.src.callbacks.History at 0x7ce79d0446d0>"
            ]
          },
          "metadata": {},
          "execution_count": 99
        }
      ]
    },
    {
      "cell_type": "code",
      "source": [
        "# plot perdictions\n",
        "y_preds_3 = model_3.predict(X_test)\n",
        "plot_predictions(predictions=y_preds_3)"
      ],
      "metadata": {
        "id": "xI6ec9y1oDwZ",
        "outputId": "16caf791-ac7d-4daf-ceda-af5e961da90e",
        "colab": {
          "base_uri": "https://localhost:8080/",
          "height": 474
        }
      },
      "execution_count": 100,
      "outputs": [
        {
          "output_type": "stream",
          "name": "stdout",
          "text": [
            "1/1 [==============================] - 0s 74ms/step\n"
          ]
        },
        {
          "output_type": "display_data",
          "data": {
            "text/plain": [
              "<Figure size 1000x700 with 1 Axes>"
            ],
            "image/png": "[encoded data removed]"
          },
          "metadata": {}
        }
      ]
    },
    {
      "cell_type": "code",
      "source": [
        "# Calculate model_3 evaluation metrics\n",
        "mae_3 = mae(Y_test, y_preds_3)\n",
        "mse_3 = mse(Y_test, y_preds_3)\n",
        "# 6:50"
      ],
      "metadata": {
        "id": "Y9UzPf2xoX0k"
      },
      "execution_count": 101,
      "outputs": []
    },
    {
      "cell_type": "markdown",
      "source": [
        "### Comparing the results of our experments"
      ],
      "metadata": {
        "id": "E2OPdFIs3rDu"
      }
    },
    {
      "cell_type": "code",
      "source": [
        "# Let's compare our model's results using a pandas DataFrame\n",
        "import pandas as pd\n",
        "\n",
        "model_results = [\n",
        "    [\"model_1\", mae_1.numpy(), mse_1.numpy()],\n",
        "    [\"model_2\", mae_2.numpy(), mse_2.numpy()],\n",
        "    [\"model_3\", mae_3.numpy(), mse_3.numpy()]\n",
        "]\n",
        "\n",
        "all_results = pd.DataFrame(model_results, columns=[\"model\", \"mae\", \"mse\"])\n",
        "all_results\n"
      ],
      "metadata": {
        "colab": {
          "base_uri": "https://localhost:8080/",
          "height": 143
        },
        "id": "n6bPbRmv31WR",
        "outputId": "a04eee8c-d853-4101-8ee6-d77b8ffa4bc1"
      },
      "execution_count": 102,
      "outputs": [
        {
          "output_type": "execute_result",
          "data": {
            "text/plain": [
              "     model        mae          mse\n",
              "0  model_1  30.582983   945.720215\n",
              "1  model_2  11.465987   139.960602\n",
              "2  model_3  67.929993  4698.897461"
            ],
            "text/html": [
              "\n",
              "  <div id=\"df-a18f7070-6030-4be9-acfa-7e795ee9afc1\" class=\"colab-df-container\">\n",
              "    <div>\n",
              "<style scoped>\n",
              "    .dataframe tbody tr th:only-of-type {\n",
              "        vertical-align: middle;\n",
              "    }\n",
              "\n",
              "    .dataframe tbody tr th {\n",
              "        vertical-align: top;\n",
              "    }\n",
              "\n",
              "    .dataframe thead th {\n",
              "        text-align: right;\n",
              "    }\n",
              "</style>\n",
              "<table border=\"1\" class=\"dataframe\">\n",
              "  <thead>\n",
              "    <tr style=\"text-align: right;\">\n",
              "      <th></th>\n",
              "      <th>model</th>\n",
              "      <th>mae</th>\n",
              "      <th>mse</th>\n",
              "    </tr>\n",
              "  </thead>\n",
              "  <tbody>\n",
              "    <tr>\n",
              "      <th>0</th>\n",
              "      <td>model_1</td>\n",
              "      <td>30.582983</td>\n",
              "      <td>945.720215</td>\n",
              "    </tr>\n",
              "    <tr>\n",
              "      <th>1</th>\n",
              "      <td>model_2</td>\n",
              "      <td>11.465987</td>\n",
              "      <td>139.960602</td>\n",
              "    </tr>\n",
              "    <tr>\n",
              "      <th>2</th>\n",
              "      <td>model_3</td>\n",
              "      <td>67.929993</td>\n",
              "      <td>4698.897461</td>\n",
              "    </tr>\n",
              "  </tbody>\n",
              "</table>\n",
              "</div>\n",
              "    <div class=\"colab-df-buttons\">\n",
              "\n",
              "  <div class=\"colab-df-container\">\n",
              "    <button class=\"colab-df-convert\" onclick=\"convertToInteractive('df-a18f7070-6030-4be9-acfa-7e795ee9afc1')\"\n",
              "            title=\"Convert this dataframe to an interactive table.\"\n",
              "            style=\"display:none;\">\n",
              "\n",
              "  <svg xmlns=\"http://www.w3.org/2000/svg\" height=\"24px\" viewBox=\"0 -960 960 960\">\n",
              "    <path d=\"M120-120v-720h720v720H120Zm60-500h600v-160H180v160Zm220 220h160v-160H400v160Zm0 220h160v-160H400v160ZM180-400h160v-160H180v160Zm440 0h160v-160H620v160ZM180-180h160v-160H180v160Zm440 0h160v-160H620v160Z\"/>\n",
              "  </svg>\n",
              "    </button>\n",
              "\n",
              "  <style>\n",
              "    .colab-df-container {\n",
              "      display:flex;\n",
              "      gap: 12px;\n",
              "    }\n",
              "\n",
              "    .colab-df-convert {\n",
              "      background-color: #E8F0FE;\n",
              "      border: none;\n",
              "      border-radius: 50%;\n",
              "      cursor: pointer;\n",
              "      display: none;\n",
              "      fill: #1967D2;\n",
              "      height: 32px;\n",
              "      padding: 0 0 0 0;\n",
              "      width: 32px;\n",
              "    }\n",
              "\n",
              "    .colab-df-convert:hover {\n",
              "      background-color: #E2EBFA;\n",
              "      box-shadow: 0px 1px 2px rgba(60, 64, 67, 0.3), 0px 1px 3px 1px rgba(60, 64, 67, 0.15);\n",
              "      fill: #174EA6;\n",
              "    }\n",
              "\n",
              "    .colab-df-buttons div {\n",
              "      margin-bottom: 4px;\n",
              "    }\n",
              "\n",
              "    [theme=dark] .colab-df-convert {\n",
              "      background-color: #3B4455;\n",
              "      fill: #D2E3FC;\n",
              "    }\n",
              "\n",
              "    [theme=dark] .colab-df-convert:hover {\n",
              "      background-color: #434B5C;\n",
              "      box-shadow: 0px 1px 3px 1px rgba(0, 0, 0, 0.15);\n",
              "      filter: drop-shadow(0px 1px 2px rgba(0, 0, 0, 0.3));\n",
              "      fill: #FFFFFF;\n",
              "    }\n",
              "  </style>\n",
              "\n",
              "    <script>\n",
              "      const buttonEl =\n",
              "        document.querySelector('#df-a18f7070-6030-4be9-acfa-7e795ee9afc1 button.colab-df-convert');\n",
              "      buttonEl.style.display =\n",
              "        google.colab.kernel.accessAllowed ? 'block' : 'none';\n",
              "\n",
              "      async function convertToInteractive(key) {\n",
              "        const element = document.querySelector('#df-a18f7070-6030-4be9-acfa-7e795ee9afc1');\n",
              "        const dataTable =\n",
              "          await google.colab.kernel.invokeFunction('convertToInteractive',\n",
              "                                                    [key], {});\n",
              "        if (!dataTable) return;\n",
              "\n",
              "        const docLinkHtml = 'Like what you see? Visit the ' +\n",
              "          '<a target=\"_blank\" href=https://colab.research.google.com/notebooks/data_table.ipynb>data table notebook</a>'\n",
              "          + ' to learn more about interactive tables.';\n",
              "        element.innerHTML = '';\n",
              "        dataTable['output_type'] = 'display_data';\n",
              "        await google.colab.output.renderOutput(dataTable, element);\n",
              "        const docLink = document.createElement('div');\n",
              "        docLink.innerHTML = docLinkHtml;\n",
              "        element.appendChild(docLink);\n",
              "      }\n",
              "    </script>\n",
              "  </div>\n",
              "\n",
              "\n",
              "<div id=\"df-b75c831b-2041-4ac3-af35-7265c88950cc\">\n",
              "  <button class=\"colab-df-quickchart\" onclick=\"quickchart('df-b75c831b-2041-4ac3-af35-7265c88950cc')\"\n",
              "            title=\"Suggest charts\"\n",
              "            style=\"display:none;\">\n",
              "\n",
              "<svg xmlns=\"http://www.w3.org/2000/svg\" height=\"24px\"viewBox=\"0 0 24 24\"\n",
              "     width=\"24px\">\n",
              "    <g>\n",
              "        <path d=\"M19 3H5c-1.1 0-2 .9-2 2v14c0 1.1.9 2 2 2h14c1.1 0 2-.9 2-2V5c0-1.1-.9-2-2-2zM9 17H7v-7h2v7zm4 0h-2V7h2v10zm4 0h-2v-4h2v4z\"/>\n",
              "    </g>\n",
              "</svg>\n",
              "  </button>\n",
              "\n",
              "<style>\n",
              "  .colab-df-quickchart {\n",
              "      --bg-color: #E8F0FE;\n",
              "      --fill-color: #1967D2;\n",
              "      --hover-bg-color: #E2EBFA;\n",
              "      --hover-fill-color: #174EA6;\n",
              "      --disabled-fill-color: #AAA;\n",
              "      --disabled-bg-color: #DDD;\n",
              "  }\n",
              "\n",
              "  [theme=dark] .colab-df-quickchart {\n",
              "      --bg-color: #3B4455;\n",
              "      --fill-color: #D2E3FC;\n",
              "      --hover-bg-color: #434B5C;\n",
              "      --hover-fill-color: #FFFFFF;\n",
              "      --disabled-bg-color: #3B4455;\n",
              "      --disabled-fill-color: #666;\n",
              "  }\n",
              "\n",
              "  .colab-df-quickchart {\n",
              "    background-color: var(--bg-color);\n",
              "    border: none;\n",
              "    border-radius: 50%;\n",
              "    cursor: pointer;\n",
              "    display: none;\n",
              "    fill: var(--fill-color);\n",
              "    height: 32px;\n",
              "    padding: 0;\n",
              "    width: 32px;\n",
              "  }\n",
              "\n",
              "  .colab-df-quickchart:hover {\n",
              "    background-color: var(--hover-bg-color);\n",
              "    box-shadow: 0 1px 2px rgba(60, 64, 67, 0.3), 0 1px 3px 1px rgba(60, 64, 67, 0.15);\n",
              "    fill: var(--button-hover-fill-color);\n",
              "  }\n",
              "\n",
              "  .colab-df-quickchart-complete:disabled,\n",
              "  .colab-df-quickchart-complete:disabled:hover {\n",
              "    background-color: var(--disabled-bg-color);\n",
              "    fill: var(--disabled-fill-color);\n",
              "    box-shadow: none;\n",
              "  }\n",
              "\n",
              "  .colab-df-spinner {\n",
              "    border: 2px solid var(--fill-color);\n",
              "    border-color: transparent;\n",
              "    border-bottom-color: var(--fill-color);\n",
              "    animation:\n",
              "      spin 1s steps(1) infinite;\n",
              "  }\n",
              "\n",
              "  @keyframes spin {\n",
              "    0% {\n",
              "      border-color: transparent;\n",
              "      border-bottom-color: var(--fill-color);\n",
              "      border-left-color: var(--fill-color);\n",
              "    }\n",
              "    20% {\n",
              "      border-color: transparent;\n",
              "      border-left-color: var(--fill-color);\n",
              "      border-top-color: var(--fill-color);\n",
              "    }\n",
              "    30% {\n",
              "      border-color: transparent;\n",
              "      border-left-color: var(--fill-color);\n",
              "      border-top-color: var(--fill-color);\n",
              "      border-right-color: var(--fill-color);\n",
              "    }\n",
              "    40% {\n",
              "      border-color: transparent;\n",
              "      border-right-color: var(--fill-color);\n",
              "      border-top-color: var(--fill-color);\n",
              "    }\n",
              "    60% {\n",
              "      border-color: transparent;\n",
              "      border-right-color: var(--fill-color);\n",
              "    }\n",
              "    80% {\n",
              "      border-color: transparent;\n",
              "      border-right-color: var(--fill-color);\n",
              "      border-bottom-color: var(--fill-color);\n",
              "    }\n",
              "    90% {\n",
              "      border-color: transparent;\n",
              "      border-bottom-color: var(--fill-color);\n",
              "    }\n",
              "  }\n",
              "</style>\n",
              "\n",
              "  <script>\n",
              "    async function quickchart(key) {\n",
              "      const quickchartButtonEl =\n",
              "        document.querySelector('#' + key + ' button');\n",
              "      quickchartButtonEl.disabled = true;  // To prevent multiple clicks.\n",
              "      quickchartButtonEl.classList.add('colab-df-spinner');\n",
              "      try {\n",
              "        const charts = await google.colab.kernel.invokeFunction(\n",
              "            'suggestCharts', [key], {});\n",
              "      } catch (error) {\n",
              "        console.error('Error during call to suggestCharts:', error);\n",
              "      }\n",
              "      quickchartButtonEl.classList.remove('colab-df-spinner');\n",
              "      quickchartButtonEl.classList.add('colab-df-quickchart-complete');\n",
              "    }\n",
              "    (() => {\n",
              "      let quickchartButtonEl =\n",
              "        document.querySelector('#df-b75c831b-2041-4ac3-af35-7265c88950cc button');\n",
              "      quickchartButtonEl.style.display =\n",
              "        google.colab.kernel.accessAllowed ? 'block' : 'none';\n",
              "    })();\n",
              "  </script>\n",
              "</div>\n",
              "\n",
              "  <div id=\"id_411132a4-abfc-40c4-99f9-5ce2ac0e8058\">\n",
              "    <style>\n",
              "      .colab-df-generate {\n",
              "        background-color: #E8F0FE;\n",
              "        border: none;\n",
              "        border-radius: 50%;\n",
              "        cursor: pointer;\n",
              "        display: none;\n",
              "        fill: #1967D2;\n",
              "        height: 32px;\n",
              "        padding: 0 0 0 0;\n",
              "        width: 32px;\n",
              "      }\n",
              "\n",
              "      .colab-df-generate:hover {\n",
              "        background-color: #E2EBFA;\n",
              "        box-shadow: 0px 1px 2px rgba(60, 64, 67, 0.3), 0px 1px 3px 1px rgba(60, 64, 67, 0.15);\n",
              "        fill: #174EA6;\n",
              "      }\n",
              "\n",
              "      [theme=dark] .colab-df-generate {\n",
              "        background-color: #3B4455;\n",
              "        fill: #D2E3FC;\n",
              "      }\n",
              "\n",
              "      [theme=dark] .colab-df-generate:hover {\n",
              "        background-color: #434B5C;\n",
              "        box-shadow: 0px 1px 3px 1px rgba(0, 0, 0, 0.15);\n",
              "        filter: drop-shadow(0px 1px 2px rgba(0, 0, 0, 0.3));\n",
              "        fill: #FFFFFF;\n",
              "      }\n",
              "    </style>\n",
              "    <button class=\"colab-df-generate\" onclick=\"generateWithVariable('all_results')\"\n",
              "            title=\"Generate code using this dataframe.\"\n",
              "            style=\"display:none;\">\n",
              "\n",
              "  <svg xmlns=\"http://www.w3.org/2000/svg\" height=\"24px\"viewBox=\"0 0 24 24\"\n",
              "       width=\"24px\">\n",
              "    <path d=\"M7,19H8.4L18.45,9,17,7.55,7,17.6ZM5,21V16.75L18.45,3.32a2,2,0,0,1,2.83,0l1.4,1.43a1.91,1.91,0,0,1,.58,1.4,1.91,1.91,0,0,1-.58,1.4L9.25,21ZM18.45,9,17,7.55Zm-12,3A5.31,5.31,0,0,0,4.9,8.1,5.31,5.31,0,0,0,1,6.5,5.31,5.31,0,0,0,4.9,4.9,5.31,5.31,0,0,0,6.5,1,5.31,5.31,0,0,0,8.1,4.9,5.31,5.31,0,0,0,12,6.5,5.46,5.46,0,0,0,6.5,12Z\"/>\n",
              "  </svg>\n",
              "    </button>\n",
              "    <script>\n",
              "      (() => {\n",
              "      const buttonEl =\n",
              "        document.querySelector('#id_411132a4-abfc-40c4-99f9-5ce2ac0e8058 button.colab-df-generate');\n",
              "      buttonEl.style.display =\n",
              "        google.colab.kernel.accessAllowed ? 'block' : 'none';\n",
              "\n",
              "      buttonEl.onclick = () => {\n",
              "        google.colab.notebook.generateWithVariable('all_results');\n",
              "      }\n",
              "      })();\n",
              "    </script>\n",
              "  </div>\n",
              "\n",
              "    </div>\n",
              "  </div>\n"
            ],
            "application/vnd.google.colaboratory.intrinsic+json": {
              "type": "dataframe",
              "variable_name": "all_results",
              "summary": "{\n  \"name\": \"all_results\",\n  \"rows\": 3,\n  \"fields\": [\n    {\n      \"column\": \"model\",\n      \"properties\": {\n        \"dtype\": \"string\",\n        \"num_unique_values\": 3,\n        \"samples\": [\n          \"model_1\",\n          \"model_2\",\n          \"model_3\"\n        ],\n        \"semantic_type\": \"\",\n        \"description\": \"\"\n      }\n    },\n    {\n      \"column\": \"mae\",\n      \"properties\": {\n        \"dtype\": \"float32\",\n        \"num_unique_values\": 3,\n        \"samples\": [\n          30.582983016967773,\n          11.465987205505371,\n          67.92999267578125\n        ],\n        \"semantic_type\": \"\",\n        \"description\": \"\"\n      }\n    },\n    {\n      \"column\": \"mse\",\n      \"properties\": {\n        \"dtype\": \"float32\",\n        \"num_unique_values\": 3,\n        \"samples\": [\n          945.72021484375,\n          139.96060180664062,\n          4698.8974609375\n        ],\n        \"semantic_type\": \"\",\n        \"description\": \"\"\n      }\n    }\n  ]\n}"
            }
          },
          "metadata": {},
          "execution_count": 102
        }
      ]
    },
    {
      "cell_type": "code",
      "source": [
        "model_2.summary()"
      ],
      "metadata": {
        "colab": {
          "base_uri": "https://localhost:8080/"
        },
        "id": "lGBtfNGC46QC",
        "outputId": "051f671d-ca63-45df-8af2-0ebf8da98dd7"
      },
      "execution_count": 104,
      "outputs": [
        {
          "output_type": "stream",
          "name": "stdout",
          "text": [
            "Model: \"sequential_13\"\n",
            "_________________________________________________________________\n",
            " Layer (type)                Output Shape              Param #   \n",
            "=================================================================\n",
            " dense_21 (Dense)            (None, 10)                20        \n",
            "                                                                 \n",
            " dense_22 (Dense)            (None, 1)                 11        \n",
            "                                                                 \n",
            "=================================================================\n",
            "Total params: 31 (124.00 Byte)\n",
            "Trainable params: 31 (124.00 Byte)\n",
            "Non-trainable params: 0 (0.00 Byte)\n",
            "_________________________________________________________________\n"
          ]
        }
      ]
    },
    {
      "cell_type": "markdown",
      "source": [
        "# **Note:** One of our goals is to minimize the time between expermints"
      ],
      "metadata": {
        "id": "uiv2Tl8o5l46"
      }
    },
    {
      "cell_type": "markdown",
      "source": [
        "## Tracking your experiments\n",
        "One really good habit in machine learning modelling is to track the results of your experiments.\n",
        "\n",
        "And when doing so , it can be tedious if you're running lots of experiments.\n",
        "\n",
        "**Resource:**\n",
        "\n",
        "* TensorBoard\n",
        "* Weights & biases"
      ],
      "metadata": {
        "id": "Eg25tEvk6NFa"
      }
    },
    {
      "cell_type": "markdown",
      "source": [
        "# Saving our models"
      ],
      "metadata": {
        "id": "QQ910F9p7Jv2"
      }
    },
    {
      "cell_type": "markdown",
      "source": [
        "There are two formats we can save our models:\n",
        "\n",
        "1. The SavedModel format\n",
        "2. The HDF5 format"
      ],
      "metadata": {
        "id": "uqoPxPRG7M5M"
      }
    },
    {
      "cell_type": "code",
      "source": [
        "# Save model using the Saved format :\n",
        "#(TensorFlow default format we can use and upgrade the model using this format)\n",
        "model_2.save(\"best_model_saved_model_format\")"
      ],
      "metadata": {
        "id": "WCnXsNlT8Ory"
      },
      "execution_count": 106,
      "outputs": []
    },
    {
      "cell_type": "code",
      "source": [
        "# HDF5 format (the HDF5 standard) (just add .h5 at the end)\n",
        "model_2.save(\"best_model_HDF5_format.h5\")"
      ],
      "metadata": {
        "colab": {
          "base_uri": "https://localhost:8080/"
        },
        "id": "dfnt4BDUBkZ6",
        "outputId": "48010be9-1cae-4c8e-a034-d3f2f6586efb"
      },
      "execution_count": 107,
      "outputs": [
        {
          "output_type": "stream",
          "name": "stderr",
          "text": [
            "/usr/local/lib/python3.10/dist-packages/keras/src/engine/training.py:3103: UserWarning: You are saving your model as an HDF5 file via `model.save()`. This file format is considered legacy. We recommend using instead the native Keras format, e.g. `model.save('my_model.keras')`.\n",
            "  saving_api.save_model(\n"
          ]
        }
      ]
    },
    {
      "cell_type": "markdown",
      "source": [
        "### Loading a Model"
      ],
      "metadata": {
        "id": "38afqO-RHg0C"
      }
    },
    {
      "cell_type": "code",
      "source": [
        "## Loading in a saved model\n",
        "loaded_saved_model_format = tf.keras.models.load_model(\"/content/best_model_saved_model_format\")\n",
        "loaded_saved_model_format.summary()"
      ],
      "metadata": {
        "colab": {
          "base_uri": "https://localhost:8080/"
        },
        "id": "dPXUReXzDNml",
        "outputId": "fe9e1a4a-d4eb-4e7d-f887-88a336e5701d"
      },
      "execution_count": 108,
      "outputs": [
        {
          "output_type": "stream",
          "name": "stdout",
          "text": [
            "Model: \"sequential_13\"\n",
            "_________________________________________________________________\n",
            " Layer (type)                Output Shape              Param #   \n",
            "=================================================================\n",
            " dense_21 (Dense)            (None, 10)                20        \n",
            "                                                                 \n",
            " dense_22 (Dense)            (None, 1)                 11        \n",
            "                                                                 \n",
            "=================================================================\n",
            "Total params: 31 (124.00 Byte)\n",
            "Trainable params: 31 (124.00 Byte)\n",
            "Non-trainable params: 0 (0.00 Byte)\n",
            "_________________________________________________________________\n"
          ]
        }
      ]
    },
    {
      "cell_type": "code",
      "source": [
        "model_2.summary()"
      ],
      "metadata": {
        "colab": {
          "base_uri": "https://localhost:8080/"
        },
        "id": "CsIAqmWeD5bs",
        "outputId": "fd80a584-dc3d-4de4-f2ae-0478b88c4670"
      },
      "execution_count": 109,
      "outputs": [
        {
          "output_type": "stream",
          "name": "stdout",
          "text": [
            "Model: \"sequential_13\"\n",
            "_________________________________________________________________\n",
            " Layer (type)                Output Shape              Param #   \n",
            "=================================================================\n",
            " dense_21 (Dense)            (None, 10)                20        \n",
            "                                                                 \n",
            " dense_22 (Dense)            (None, 1)                 11        \n",
            "                                                                 \n",
            "=================================================================\n",
            "Total params: 31 (124.00 Byte)\n",
            "Trainable params: 31 (124.00 Byte)\n",
            "Non-trainable params: 0 (0.00 Byte)\n",
            "_________________________________________________________________\n"
          ]
        }
      ]
    },
    {
      "cell_type": "code",
      "source": [
        "model_2_preds = model_2.predict(X_test)\n",
        "loaded_SavedModel_format_preds = loaded_saved_model_format.predict(X_test)\n",
        "\n",
        "model_2_preds == loaded_SavedModel_format_preds"
      ],
      "metadata": {
        "colab": {
          "base_uri": "https://localhost:8080/"
        },
        "id": "B_51SAoHEMuj",
        "outputId": "e88cc39e-f5e0-48e7-bea2-ce4921f72da8"
      },
      "execution_count": 110,
      "outputs": [
        {
          "output_type": "stream",
          "name": "stdout",
          "text": [
            "1/1 [==============================] - 0s 39ms/step\n",
            "1/1 [==============================] - 0s 57ms/step\n"
          ]
        },
        {
          "output_type": "execute_result",
          "data": {
            "text/plain": [
              "array([[ True],\n",
              "       [ True],\n",
              "       [ True],\n",
              "       [ True],\n",
              "       [ True],\n",
              "       [ True],\n",
              "       [ True],\n",
              "       [ True],\n",
              "       [ True],\n",
              "       [ True]])"
            ]
          },
          "metadata": {},
          "execution_count": 110
        }
      ]
    },
    {
      "cell_type": "code",
      "source": [
        "# load the h5 model\n",
        "loaded_h5_model = tf.keras.models.load_model(\"/content/best_model_HDF5_format.h5\")"
      ],
      "metadata": {
        "id": "6IsdnAeXGt4P"
      },
      "execution_count": 111,
      "outputs": []
    },
    {
      "cell_type": "code",
      "source": [
        "# Check to see if loaded .h5 model is the same as the old model\n",
        "model_2_preds = model_2.predict(X_test)\n",
        "loaded_h5_model_preds = loaded_h5_model.predict(X_test)\n",
        "\n",
        "model_2_preds == loaded_h5_model_preds"
      ],
      "metadata": {
        "colab": {
          "base_uri": "https://localhost:8080/"
        },
        "id": "vMdVC_9CGR_C",
        "outputId": "156a0842-53a6-4387-ec33-7b9a9cc08f2e"
      },
      "execution_count": 113,
      "outputs": [
        {
          "output_type": "stream",
          "name": "stdout",
          "text": [
            "1/1 [==============================] - 0s 82ms/step\n",
            "1/1 [==============================] - 0s 71ms/step\n"
          ]
        },
        {
          "output_type": "execute_result",
          "data": {
            "text/plain": [
              "array([[ True],\n",
              "       [ True],\n",
              "       [ True],\n",
              "       [ True],\n",
              "       [ True],\n",
              "       [ True],\n",
              "       [ True],\n",
              "       [ True],\n",
              "       [ True],\n",
              "       [ True]])"
            ]
          },
          "metadata": {},
          "execution_count": 113
        }
      ]
    },
    {
      "cell_type": "code",
      "source": [],
      "metadata": {
        "id": "cyPcNN2sG9kD"
      },
      "execution_count": null,
      "outputs": []
    },
    {
      "cell_type": "markdown",
      "source": [
        "## Download our model"
      ],
      "metadata": {
        "id": "T9YkEkcLHm8W"
      }
    },
    {
      "cell_type": "markdown",
      "source": [
        "1. \"files\" tab and right click on the filei you're after and click \"download\"\n",
        "2. Use code (see the cell bellow).\n",
        "3. Save it to Google Drive by connecting t Google Drive and saving it there\n",
        "\n"
      ],
      "metadata": {
        "id": "kX5TlzkPHtqY"
      }
    },
    {
      "cell_type": "code",
      "source": [
        "from google.colab import files\n",
        "files.download(\"/content/best_model_HDF5_format.h5\")"
      ],
      "metadata": {
        "colab": {
          "base_uri": "https://localhost:8080/",
          "height": 17
        },
        "id": "jdSUtJRyIEol",
        "outputId": "7728846b-ea63-4508-de84-98ebfd435a31"
      },
      "execution_count": 114,
      "outputs": [
        {
          "output_type": "display_data",
          "data": {
            "text/plain": [
              "<IPython.core.display.Javascript object>"
            ],
            "application/javascript": [
              "\n",
              "    async function download(id, filename, size) {\n",
              "      if (!google.colab.kernel.accessAllowed) {\n",
              "        return;\n",
              "      }\n",
              "      const div = document.createElement('div');\n",
              "      const label = document.createElement('label');\n",
              "      label.textContent = `Downloading \"${filename}\": `;\n",
              "      div.appendChild(label);\n",
              "      const progress = document.createElement('progress');\n",
              "      progress.max = size;\n",
              "      div.appendChild(progress);\n",
              "      document.body.appendChild(div);\n",
              "\n",
              "      const buffers = [];\n",
              "      let downloaded = 0;\n",
              "\n",
              "      const channel = await google.colab.kernel.comms.open(id);\n",
              "      // Send a message to notify the kernel that we're ready.\n",
              "      channel.send({})\n",
              "\n",
              "      for await (const message of channel.messages) {\n",
              "        // Send a message to notify the kernel that we're ready.\n",
              "        channel.send({})\n",
              "        if (message.buffers) {\n",
              "          for (const buffer of message.buffers) {\n",
              "            buffers.push(buffer);\n",
              "            downloaded += buffer.byteLength;\n",
              "            progress.value = downloaded;\n",
              "          }\n",
              "        }\n",
              "      }\n",
              "      const blob = new Blob(buffers, {type: 'application/binary'});\n",
              "      const a = document.createElement('a');\n",
              "      a.href = window.URL.createObjectURL(blob);\n",
              "      a.download = filename;\n",
              "      div.appendChild(a);\n",
              "      a.click();\n",
              "      div.remove();\n",
              "    }\n",
              "  "
            ]
          },
          "metadata": {}
        },
        {
          "output_type": "display_data",
          "data": {
            "text/plain": [
              "<IPython.core.display.Javascript object>"
            ],
            "application/javascript": [
              "download(\"download_7c5e2d3c-5fe8-405e-a1dc-8dd71948ca43\", \"best_model_HDF5_format.h5\", 21952)"
            ]
          },
          "metadata": {}
        }
      ]
    },
    {
      "cell_type": "code",
      "source": [
        "# Save a file from google colab to google Drive (requires mounting Google Drive)\n",
        "!cp colab_path/to/file  Drive_path/to/file\n",
        "# the second param you will see after mounting Google Drive\n",
        "\n",
        "!ls Drive_path/to/file\n",
        "\n",
        "# 7:30"
      ],
      "metadata": {
        "id": "erapnIrjI1jC"
      },
      "execution_count": null,
      "outputs": []
    }
  ]
}